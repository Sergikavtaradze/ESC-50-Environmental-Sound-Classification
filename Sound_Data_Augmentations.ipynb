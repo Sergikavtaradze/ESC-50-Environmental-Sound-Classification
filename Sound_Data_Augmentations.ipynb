{
  "nbformat": 4,
  "nbformat_minor": 0,
  "metadata": {
    "colab": {
      "provenance": [],
      "collapsed_sections": [
        "CxbHsRo6FAQu"
      ]
    },
    "kernelspec": {
      "name": "python3",
      "display_name": "Python 3"
    },
    "language_info": {
      "name": "python"
    }
  },
  "cells": [
    {
      "cell_type": "markdown",
      "source": [
        "# Notebook Summary\n",
        "\n",
        "This notebook was used to generate augmented waveforms which were then transformed into mel spectrograms and fed into CNN3 in `SoundIdentification_Final (V2).ipynb`.\n",
        "\n",
        "_____________\n",
        "_____________"
      ],
      "metadata": {
        "id": "kKToTeVxcT_u"
      }
    },
    {
      "cell_type": "markdown",
      "source": [
        "# Importing Libraries and code from **main.py**"
      ],
      "metadata": {
        "id": "U_d5Vc64SXhH"
      }
    },
    {
      "cell_type": "code",
      "source": [
        "from google.colab import drive\n",
        "drive.mount('/content/drive', force_remount=True)"
      ],
      "metadata": {
        "colab": {
          "base_uri": "https://localhost:8080/"
        },
        "id": "n20pgWLhSN0o",
        "outputId": "4639d7c0-0a90-4fa4-9d97-9c3df9449bb8"
      },
      "execution_count": null,
      "outputs": [
        {
          "output_type": "stream",
          "name": "stdout",
          "text": [
            "Mounted at /content/drive\n"
          ]
        }
      ]
    },
    {
      "cell_type": "code",
      "source": [
        "# Importing Libraries\n",
        "import librosa\n",
        "import numpy as np\n",
        "import matplotlib.pyplot as plt\n",
        "import soundfile as sf\n",
        "import random\n",
        "import pandas as pd\n",
        "import os\n",
        "from tqdm import tqdm\n",
        "from sklearn.preprocessing import normalize"
      ],
      "metadata": {
        "id": "PN3Q9YBXRo5g"
      },
      "execution_count": null,
      "outputs": []
    },
    {
      "cell_type": "code",
      "source": [
        "meta_file_path = '/content/drive/My Drive/UCL/ML_Y3/Project/meta/sounds.csv'\n",
        "signal_file_path = '/content/drive/My Drive/UCL/ML_Y3/Project/'\n",
        "\n",
        "\n",
        "def getMeta():\n",
        "    return pd.read_csv('/content/drive/My Drive/UCL/ML_Y3/Project/meta/sounds.csv')\n",
        "\n",
        "def getSignal(fileName):\n",
        "    # Construct the full file path\n",
        "    file_path = signal_file_path + fileName\n",
        "    # Load the audio file\n",
        "    return librosa.load(file_path, sr=44100)[0]\n",
        "\n",
        "def getSpect(signal):\n",
        "    spec = librosa.feature.melspectrogram(y=signal, sr=44100, n_fft=2205, hop_length=441)\n",
        "    spec = librosa.power_to_db(spec)\n",
        "    return spec\n",
        "\n",
        "def getSignalSpect(meta,number):\n",
        "    recording=meta['filename'][number]\n",
        "    signal = getSignal('audio/'+ recording)\n",
        "    return signal, getSpect(signal)\n",
        "\n",
        "# My function\n",
        "def getSignalSpectSynth(meta, number, ver=1):\n",
        "    \"\"\"\n",
        "    Retrieve the signal and its corresponding spectrogram from a specified version directory.\n",
        "\n",
        "    Parameters:\n",
        "        meta (Series DataFrame): audio metadata --> filenames.\n",
        "        number (int): The index number to access the filename from the 'meta' DataFrame.\n",
        "        ver (int, optional): The version of the audio dataset directory to use. Defaults to 1.\n",
        "        raises an error unless ver = 1,2 or 3\n",
        "\n",
        "\n",
        "    Returns:\n",
        "        tuple: A tuple containing the audio signal and its spectrogram.\n",
        "\n",
        "    \"\"\"\n",
        "    recording=meta['filename'][number]\n",
        "    if ver == 1:\n",
        "      signal = getSignal('audio/synthetic_audio/'+ recording)\n",
        "    elif ver == 2:\n",
        "      signal = getSignal('audio/synthetic_audio_V2/'+ recording)\n",
        "    elif ver == 3:\n",
        "      signal = getSignal('audio/synthetic_audio_V3/'+ recording)\n",
        "    else:\n",
        "        raise ValueError(f\"Unsupported version: {ver}\")\n",
        "    return signal, getSpect(signal)\n",
        "\n",
        "\n",
        "meta_df=getMeta()"
      ],
      "metadata": {
        "id": "4auc5GLLSSNz"
      },
      "execution_count": null,
      "outputs": []
    },
    {
      "cell_type": "markdown",
      "source": [
        "# Generating Synthetic Audio Data - Task 1\n",
        "\n",
        "At this point I realize that maybe we can use synthetic audio data to increase the training set with data that has more variance which should allow for higher accuracy, as more variance can be captured for specific labels."
      ],
      "metadata": {
        "id": "P7JWoOcmCbz2"
      }
    },
    {
      "cell_type": "markdown",
      "source": [
        "## Method 1"
      ],
      "metadata": {
        "id": "1msOikmYCeKI"
      }
    },
    {
      "cell_type": "markdown",
      "source": [
        "Defining functions used to apply augmentations"
      ],
      "metadata": {
        "id": "M7IYgwCabD7K"
      }
    },
    {
      "cell_type": "code",
      "execution_count": null,
      "metadata": {
        "id": "ceHImd8PB_SJ"
      },
      "outputs": [],
      "source": [
        "def random_pitch_shift(y, sr, min_steps=-4, max_steps=4):\n",
        "    \"\"\"\n",
        "    Randomly shifts the pitch of the audio.\n",
        "    \"\"\"\n",
        "    n_steps = random.uniform(min_steps, max_steps)\n",
        "    return librosa.effects.pitch_shift(y, sr=sr, n_steps=n_steps)\n",
        "\n",
        "def random_time_stretch(y, sr, min_rate=0.8, max_rate=1.2):\n",
        "    \"\"\"\n",
        "    Randomly stretches the time of the audio.\n",
        "    \"\"\"\n",
        "    rate = random.uniform(min_rate, max_rate)\n",
        "    return librosa.effects.time_stretch(y, rate=rate)\n",
        "\n",
        "def apply_random_augmentation(audio_path, output_path, sr=44100):\n",
        "    \"\"\"\n",
        "    Applies a random augmentation to the audio file.\n",
        "    \"\"\"\n",
        "    y, sr = librosa.load(audio_path)\n",
        "\n",
        "    # Choose a random augmentation\n",
        "    augmentation_choice = random.choice([random_pitch_shift, random_time_stretch])\n",
        "\n",
        "    # Apply the augmentation\n",
        "    y_augmented = augmentation_choice(y, sr)\n",
        "\n",
        "    # Save the augmented audio\n",
        "    sf.write(output_path, y_augmented, sr)\n",
        "\n",
        "    return y, sr"
      ]
    },
    {
      "cell_type": "markdown",
      "source": [
        "_________________\n",
        "Saving audio files on drive. **DO NOT RE-RUN**"
      ],
      "metadata": {
        "id": "l7eqxJUXa6WU"
      }
    },
    {
      "cell_type": "code",
      "source": [
        "# Path setup\n",
        "audio_files_directory = '/content/drive/My Drive/UCL/ML_Y3/Project/audio'\n",
        "output_directory = '/content/drive/My Drive/UCL/ML_Y3/Project/audio/synthetic audio'\n",
        "audio_files = os.listdir(audio_files_directory)\n",
        "\n",
        "meta = getMeta()\n",
        "\n",
        "for index, row in meta[['filename', 'target']].iterrows():\n",
        "    filename = row['filename']\n",
        "    label = row['target']\n",
        "    # Identifying specific audio file wihch will be augmented\n",
        "    audio_path = os.path.join(audio_files_directory, filename)\n",
        "\n",
        "    # Generate a unique output filename including the original filename\n",
        "    output_filename = f\"aug_{filename}\"\n",
        "    output_path = os.path.join(output_directory, output_filename)\n",
        "\n",
        "    # Calling the pre-defined function and saving the audio files\n",
        "    signal, sr = apply_random_augmentation(audio_path, output_path)\n",
        "\n",
        "    print(f\"{index}: Processed and saved: {output_filename} with label: {label}\")"
      ],
      "metadata": {
        "id": "UQs5MFw1a52Q"
      },
      "execution_count": null,
      "outputs": []
    },
    {
      "cell_type": "code",
      "source": [
        "# Using the data frame below to call the audio files from drive\n",
        "# and turn them into arrays\n",
        "meta_synth = getMeta()\n",
        "meta_synth['filename'] = \"aug_\" + meta_synth['filename']"
      ],
      "metadata": {
        "colab": {
          "base_uri": "https://localhost:8080/",
          "height": 423
        },
        "id": "eN5egsjZDsgW",
        "outputId": "f7f0ddaf-9422-4705-8024-41def95fd2df"
      },
      "execution_count": null,
      "outputs": [
        {
          "output_type": "execute_result",
          "data": {
            "text/plain": [
              "                   filename  fold  target        category  esc10  src_file  \\\n",
              "0      aug_1-100032-A-0.wav     1       0             dog   True    100032   \n",
              "1     aug_1-100038-A-14.wav     1      14  chirping_birds  False    100038   \n",
              "2     aug_1-100210-A-36.wav     1      36  vacuum_cleaner  False    100210   \n",
              "3     aug_1-100210-B-36.wav     1      36  vacuum_cleaner  False    100210   \n",
              "4     aug_1-101296-A-19.wav     1      19    thunderstorm  False    101296   \n",
              "...                     ...   ...     ...             ...    ...       ...   \n",
              "1995   aug_5-263831-B-6.wav     5       6             hen  False    263831   \n",
              "1996  aug_5-263902-A-36.wav     5      36  vacuum_cleaner  False    263902   \n",
              "1997   aug_5-51149-A-25.wav     5      25       footsteps  False     51149   \n",
              "1998    aug_5-61635-A-8.wav     5       8           sheep  False     61635   \n",
              "1999     aug_5-9032-A-0.wav     5       0             dog   True      9032   \n",
              "\n",
              "     take  \n",
              "0       A  \n",
              "1       A  \n",
              "2       A  \n",
              "3       B  \n",
              "4       A  \n",
              "...   ...  \n",
              "1995    B  \n",
              "1996    A  \n",
              "1997    A  \n",
              "1998    A  \n",
              "1999    A  \n",
              "\n",
              "[2000 rows x 7 columns]"
            ],
            "text/html": [
              "\n",
              "  <div id=\"df-ca230b47-f14f-4390-ae17-9e99c4e22969\" class=\"colab-df-container\">\n",
              "    <div>\n",
              "<style scoped>\n",
              "    .dataframe tbody tr th:only-of-type {\n",
              "        vertical-align: middle;\n",
              "    }\n",
              "\n",
              "    .dataframe tbody tr th {\n",
              "        vertical-align: top;\n",
              "    }\n",
              "\n",
              "    .dataframe thead th {\n",
              "        text-align: right;\n",
              "    }\n",
              "</style>\n",
              "<table border=\"1\" class=\"dataframe\">\n",
              "  <thead>\n",
              "    <tr style=\"text-align: right;\">\n",
              "      <th></th>\n",
              "      <th>filename</th>\n",
              "      <th>fold</th>\n",
              "      <th>target</th>\n",
              "      <th>category</th>\n",
              "      <th>esc10</th>\n",
              "      <th>src_file</th>\n",
              "      <th>take</th>\n",
              "    </tr>\n",
              "  </thead>\n",
              "  <tbody>\n",
              "    <tr>\n",
              "      <th>0</th>\n",
              "      <td>aug_1-100032-A-0.wav</td>\n",
              "      <td>1</td>\n",
              "      <td>0</td>\n",
              "      <td>dog</td>\n",
              "      <td>True</td>\n",
              "      <td>100032</td>\n",
              "      <td>A</td>\n",
              "    </tr>\n",
              "    <tr>\n",
              "      <th>1</th>\n",
              "      <td>aug_1-100038-A-14.wav</td>\n",
              "      <td>1</td>\n",
              "      <td>14</td>\n",
              "      <td>chirping_birds</td>\n",
              "      <td>False</td>\n",
              "      <td>100038</td>\n",
              "      <td>A</td>\n",
              "    </tr>\n",
              "    <tr>\n",
              "      <th>2</th>\n",
              "      <td>aug_1-100210-A-36.wav</td>\n",
              "      <td>1</td>\n",
              "      <td>36</td>\n",
              "      <td>vacuum_cleaner</td>\n",
              "      <td>False</td>\n",
              "      <td>100210</td>\n",
              "      <td>A</td>\n",
              "    </tr>\n",
              "    <tr>\n",
              "      <th>3</th>\n",
              "      <td>aug_1-100210-B-36.wav</td>\n",
              "      <td>1</td>\n",
              "      <td>36</td>\n",
              "      <td>vacuum_cleaner</td>\n",
              "      <td>False</td>\n",
              "      <td>100210</td>\n",
              "      <td>B</td>\n",
              "    </tr>\n",
              "    <tr>\n",
              "      <th>4</th>\n",
              "      <td>aug_1-101296-A-19.wav</td>\n",
              "      <td>1</td>\n",
              "      <td>19</td>\n",
              "      <td>thunderstorm</td>\n",
              "      <td>False</td>\n",
              "      <td>101296</td>\n",
              "      <td>A</td>\n",
              "    </tr>\n",
              "    <tr>\n",
              "      <th>...</th>\n",
              "      <td>...</td>\n",
              "      <td>...</td>\n",
              "      <td>...</td>\n",
              "      <td>...</td>\n",
              "      <td>...</td>\n",
              "      <td>...</td>\n",
              "      <td>...</td>\n",
              "    </tr>\n",
              "    <tr>\n",
              "      <th>1995</th>\n",
              "      <td>aug_5-263831-B-6.wav</td>\n",
              "      <td>5</td>\n",
              "      <td>6</td>\n",
              "      <td>hen</td>\n",
              "      <td>False</td>\n",
              "      <td>263831</td>\n",
              "      <td>B</td>\n",
              "    </tr>\n",
              "    <tr>\n",
              "      <th>1996</th>\n",
              "      <td>aug_5-263902-A-36.wav</td>\n",
              "      <td>5</td>\n",
              "      <td>36</td>\n",
              "      <td>vacuum_cleaner</td>\n",
              "      <td>False</td>\n",
              "      <td>263902</td>\n",
              "      <td>A</td>\n",
              "    </tr>\n",
              "    <tr>\n",
              "      <th>1997</th>\n",
              "      <td>aug_5-51149-A-25.wav</td>\n",
              "      <td>5</td>\n",
              "      <td>25</td>\n",
              "      <td>footsteps</td>\n",
              "      <td>False</td>\n",
              "      <td>51149</td>\n",
              "      <td>A</td>\n",
              "    </tr>\n",
              "    <tr>\n",
              "      <th>1998</th>\n",
              "      <td>aug_5-61635-A-8.wav</td>\n",
              "      <td>5</td>\n",
              "      <td>8</td>\n",
              "      <td>sheep</td>\n",
              "      <td>False</td>\n",
              "      <td>61635</td>\n",
              "      <td>A</td>\n",
              "    </tr>\n",
              "    <tr>\n",
              "      <th>1999</th>\n",
              "      <td>aug_5-9032-A-0.wav</td>\n",
              "      <td>5</td>\n",
              "      <td>0</td>\n",
              "      <td>dog</td>\n",
              "      <td>True</td>\n",
              "      <td>9032</td>\n",
              "      <td>A</td>\n",
              "    </tr>\n",
              "  </tbody>\n",
              "</table>\n",
              "<p>2000 rows × 7 columns</p>\n",
              "</div>\n",
              "    <div class=\"colab-df-buttons\">\n",
              "\n",
              "  <div class=\"colab-df-container\">\n",
              "    <button class=\"colab-df-convert\" onclick=\"convertToInteractive('df-ca230b47-f14f-4390-ae17-9e99c4e22969')\"\n",
              "            title=\"Convert this dataframe to an interactive table.\"\n",
              "            style=\"display:none;\">\n",
              "\n",
              "  <svg xmlns=\"http://www.w3.org/2000/svg\" height=\"24px\" viewBox=\"0 -960 960 960\">\n",
              "    <path d=\"M120-120v-720h720v720H120Zm60-500h600v-160H180v160Zm220 220h160v-160H400v160Zm0 220h160v-160H400v160ZM180-400h160v-160H180v160Zm440 0h160v-160H620v160ZM180-180h160v-160H180v160Zm440 0h160v-160H620v160Z\"/>\n",
              "  </svg>\n",
              "    </button>\n",
              "\n",
              "  <style>\n",
              "    .colab-df-container {\n",
              "      display:flex;\n",
              "      gap: 12px;\n",
              "    }\n",
              "\n",
              "    .colab-df-convert {\n",
              "      background-color: #E8F0FE;\n",
              "      border: none;\n",
              "      border-radius: 50%;\n",
              "      cursor: pointer;\n",
              "      display: none;\n",
              "      fill: #1967D2;\n",
              "      height: 32px;\n",
              "      padding: 0 0 0 0;\n",
              "      width: 32px;\n",
              "    }\n",
              "\n",
              "    .colab-df-convert:hover {\n",
              "      background-color: #E2EBFA;\n",
              "      box-shadow: 0px 1px 2px rgba(60, 64, 67, 0.3), 0px 1px 3px 1px rgba(60, 64, 67, 0.15);\n",
              "      fill: #174EA6;\n",
              "    }\n",
              "\n",
              "    .colab-df-buttons div {\n",
              "      margin-bottom: 4px;\n",
              "    }\n",
              "\n",
              "    [theme=dark] .colab-df-convert {\n",
              "      background-color: #3B4455;\n",
              "      fill: #D2E3FC;\n",
              "    }\n",
              "\n",
              "    [theme=dark] .colab-df-convert:hover {\n",
              "      background-color: #434B5C;\n",
              "      box-shadow: 0px 1px 3px 1px rgba(0, 0, 0, 0.15);\n",
              "      filter: drop-shadow(0px 1px 2px rgba(0, 0, 0, 0.3));\n",
              "      fill: #FFFFFF;\n",
              "    }\n",
              "  </style>\n",
              "\n",
              "    <script>\n",
              "      const buttonEl =\n",
              "        document.querySelector('#df-ca230b47-f14f-4390-ae17-9e99c4e22969 button.colab-df-convert');\n",
              "      buttonEl.style.display =\n",
              "        google.colab.kernel.accessAllowed ? 'block' : 'none';\n",
              "\n",
              "      async function convertToInteractive(key) {\n",
              "        const element = document.querySelector('#df-ca230b47-f14f-4390-ae17-9e99c4e22969');\n",
              "        const dataTable =\n",
              "          await google.colab.kernel.invokeFunction('convertToInteractive',\n",
              "                                                    [key], {});\n",
              "        if (!dataTable) return;\n",
              "\n",
              "        const docLinkHtml = 'Like what you see? Visit the ' +\n",
              "          '<a target=\"_blank\" href=https://colab.research.google.com/notebooks/data_table.ipynb>data table notebook</a>'\n",
              "          + ' to learn more about interactive tables.';\n",
              "        element.innerHTML = '';\n",
              "        dataTable['output_type'] = 'display_data';\n",
              "        await google.colab.output.renderOutput(dataTable, element);\n",
              "        const docLink = document.createElement('div');\n",
              "        docLink.innerHTML = docLinkHtml;\n",
              "        element.appendChild(docLink);\n",
              "      }\n",
              "    </script>\n",
              "  </div>\n",
              "\n",
              "\n",
              "<div id=\"df-4de1c303-6fd7-40ec-ae8b-29b2848a4baa\">\n",
              "  <button class=\"colab-df-quickchart\" onclick=\"quickchart('df-4de1c303-6fd7-40ec-ae8b-29b2848a4baa')\"\n",
              "            title=\"Suggest charts\"\n",
              "            style=\"display:none;\">\n",
              "\n",
              "<svg xmlns=\"http://www.w3.org/2000/svg\" height=\"24px\"viewBox=\"0 0 24 24\"\n",
              "     width=\"24px\">\n",
              "    <g>\n",
              "        <path d=\"M19 3H5c-1.1 0-2 .9-2 2v14c0 1.1.9 2 2 2h14c1.1 0 2-.9 2-2V5c0-1.1-.9-2-2-2zM9 17H7v-7h2v7zm4 0h-2V7h2v10zm4 0h-2v-4h2v4z\"/>\n",
              "    </g>\n",
              "</svg>\n",
              "  </button>\n",
              "\n",
              "<style>\n",
              "  .colab-df-quickchart {\n",
              "      --bg-color: #E8F0FE;\n",
              "      --fill-color: #1967D2;\n",
              "      --hover-bg-color: #E2EBFA;\n",
              "      --hover-fill-color: #174EA6;\n",
              "      --disabled-fill-color: #AAA;\n",
              "      --disabled-bg-color: #DDD;\n",
              "  }\n",
              "\n",
              "  [theme=dark] .colab-df-quickchart {\n",
              "      --bg-color: #3B4455;\n",
              "      --fill-color: #D2E3FC;\n",
              "      --hover-bg-color: #434B5C;\n",
              "      --hover-fill-color: #FFFFFF;\n",
              "      --disabled-bg-color: #3B4455;\n",
              "      --disabled-fill-color: #666;\n",
              "  }\n",
              "\n",
              "  .colab-df-quickchart {\n",
              "    background-color: var(--bg-color);\n",
              "    border: none;\n",
              "    border-radius: 50%;\n",
              "    cursor: pointer;\n",
              "    display: none;\n",
              "    fill: var(--fill-color);\n",
              "    height: 32px;\n",
              "    padding: 0;\n",
              "    width: 32px;\n",
              "  }\n",
              "\n",
              "  .colab-df-quickchart:hover {\n",
              "    background-color: var(--hover-bg-color);\n",
              "    box-shadow: 0 1px 2px rgba(60, 64, 67, 0.3), 0 1px 3px 1px rgba(60, 64, 67, 0.15);\n",
              "    fill: var(--button-hover-fill-color);\n",
              "  }\n",
              "\n",
              "  .colab-df-quickchart-complete:disabled,\n",
              "  .colab-df-quickchart-complete:disabled:hover {\n",
              "    background-color: var(--disabled-bg-color);\n",
              "    fill: var(--disabled-fill-color);\n",
              "    box-shadow: none;\n",
              "  }\n",
              "\n",
              "  .colab-df-spinner {\n",
              "    border: 2px solid var(--fill-color);\n",
              "    border-color: transparent;\n",
              "    border-bottom-color: var(--fill-color);\n",
              "    animation:\n",
              "      spin 1s steps(1) infinite;\n",
              "  }\n",
              "\n",
              "  @keyframes spin {\n",
              "    0% {\n",
              "      border-color: transparent;\n",
              "      border-bottom-color: var(--fill-color);\n",
              "      border-left-color: var(--fill-color);\n",
              "    }\n",
              "    20% {\n",
              "      border-color: transparent;\n",
              "      border-left-color: var(--fill-color);\n",
              "      border-top-color: var(--fill-color);\n",
              "    }\n",
              "    30% {\n",
              "      border-color: transparent;\n",
              "      border-left-color: var(--fill-color);\n",
              "      border-top-color: var(--fill-color);\n",
              "      border-right-color: var(--fill-color);\n",
              "    }\n",
              "    40% {\n",
              "      border-color: transparent;\n",
              "      border-right-color: var(--fill-color);\n",
              "      border-top-color: var(--fill-color);\n",
              "    }\n",
              "    60% {\n",
              "      border-color: transparent;\n",
              "      border-right-color: var(--fill-color);\n",
              "    }\n",
              "    80% {\n",
              "      border-color: transparent;\n",
              "      border-right-color: var(--fill-color);\n",
              "      border-bottom-color: var(--fill-color);\n",
              "    }\n",
              "    90% {\n",
              "      border-color: transparent;\n",
              "      border-bottom-color: var(--fill-color);\n",
              "    }\n",
              "  }\n",
              "</style>\n",
              "\n",
              "  <script>\n",
              "    async function quickchart(key) {\n",
              "      const quickchartButtonEl =\n",
              "        document.querySelector('#' + key + ' button');\n",
              "      quickchartButtonEl.disabled = true;  // To prevent multiple clicks.\n",
              "      quickchartButtonEl.classList.add('colab-df-spinner');\n",
              "      try {\n",
              "        const charts = await google.colab.kernel.invokeFunction(\n",
              "            'suggestCharts', [key], {});\n",
              "      } catch (error) {\n",
              "        console.error('Error during call to suggestCharts:', error);\n",
              "      }\n",
              "      quickchartButtonEl.classList.remove('colab-df-spinner');\n",
              "      quickchartButtonEl.classList.add('colab-df-quickchart-complete');\n",
              "    }\n",
              "    (() => {\n",
              "      let quickchartButtonEl =\n",
              "        document.querySelector('#df-4de1c303-6fd7-40ec-ae8b-29b2848a4baa button');\n",
              "      quickchartButtonEl.style.display =\n",
              "        google.colab.kernel.accessAllowed ? 'block' : 'none';\n",
              "    })();\n",
              "  </script>\n",
              "</div>\n",
              "    </div>\n",
              "  </div>\n"
            ],
            "application/vnd.google.colaboratory.intrinsic+json": {
              "type": "dataframe",
              "variable_name": "meta_synth",
              "summary": "{\n  \"name\": \"meta_synth\",\n  \"rows\": 2000,\n  \"fields\": [\n    {\n      \"column\": \"filename\",\n      \"properties\": {\n        \"dtype\": \"string\",\n        \"num_unique_values\": 2000,\n        \"samples\": [\n          \"aug_5-221950-A-22.wav\",\n          \"aug_1-79220-A-17.wav\",\n          \"aug_4-165845-A-45.wav\"\n        ],\n        \"semantic_type\": \"\",\n        \"description\": \"\"\n      }\n    },\n    {\n      \"column\": \"fold\",\n      \"properties\": {\n        \"dtype\": \"number\",\n        \"std\": 1,\n        \"min\": 1,\n        \"max\": 5,\n        \"num_unique_values\": 5,\n        \"samples\": [\n          2,\n          5,\n          3\n        ],\n        \"semantic_type\": \"\",\n        \"description\": \"\"\n      }\n    },\n    {\n      \"column\": \"target\",\n      \"properties\": {\n        \"dtype\": \"number\",\n        \"std\": 14,\n        \"min\": 0,\n        \"max\": 49,\n        \"num_unique_values\": 50,\n        \"samples\": [\n          45,\n          18,\n          26\n        ],\n        \"semantic_type\": \"\",\n        \"description\": \"\"\n      }\n    },\n    {\n      \"column\": \"category\",\n      \"properties\": {\n        \"dtype\": \"category\",\n        \"num_unique_values\": 50,\n        \"samples\": [\n          \"train\",\n          \"toilet_flush\",\n          \"laughing\"\n        ],\n        \"semantic_type\": \"\",\n        \"description\": \"\"\n      }\n    },\n    {\n      \"column\": \"esc10\",\n      \"properties\": {\n        \"dtype\": \"boolean\",\n        \"num_unique_values\": 2,\n        \"samples\": [\n          false,\n          true\n        ],\n        \"semantic_type\": \"\",\n        \"description\": \"\"\n      }\n    },\n    {\n      \"column\": \"src_file\",\n      \"properties\": {\n        \"dtype\": \"number\",\n        \"std\": 64882,\n        \"min\": 137,\n        \"max\": 264453,\n        \"num_unique_values\": 1524,\n        \"samples\": [\n          155130,\n          21935\n        ],\n        \"semantic_type\": \"\",\n        \"description\": \"\"\n      }\n    },\n    {\n      \"column\": \"take\",\n      \"properties\": {\n        \"dtype\": \"category\",\n        \"num_unique_values\": 8,\n        \"samples\": [\n          \"B\",\n          \"F\"\n        ],\n        \"semantic_type\": \"\",\n        \"description\": \"\"\n      }\n    }\n  ]\n}"
            }
          },
          "metadata": {},
          "execution_count": 17
        }
      ]
    },
    {
      "cell_type": "markdown",
      "source": [
        "### Data Synthesis Problem\n",
        "We run into a problem. When augmenting the time sometimes we reduce or increase the x-axis (time axis) of the generated spectogram. So, before generating the spectrogram images we need a function that will normalize the time to 500, by padding or trimming the arrays."
      ],
      "metadata": {
        "id": "bJwaE8D7DvPp"
      }
    },
    {
      "cell_type": "code",
      "source": [
        "def fix_audio_length(y, sr, fixed_length=500):\n",
        "    \"\"\"\n",
        "    Adjusts the audio signal to a fixed length by either padding with zeros or trimming.\n",
        "    \"\"\"\n",
        "    # Calculate the fixed number of samples\n",
        "    #fixed_samples = sr * fixed_length\n",
        "    fixed_samples = fixed_length\n",
        "    if len(y) < fixed_samples:\n",
        "        # If the audio is shorter than the desired fixed length, pad it\n",
        "        y_padded = librosa.util.fix_length(y, size = fixed_samples)\n",
        "        return y_padded\n",
        "    else:\n",
        "        # If the audio is longer, trim it\n",
        "        return y[:fixed_samples]"
      ],
      "metadata": {
        "id": "54I4dES-Dvzz"
      },
      "execution_count": null,
      "outputs": []
    },
    {
      "cell_type": "markdown",
      "source": [
        "**DO NOT RERUN**. Below we save the augmented data in google drive for further use."
      ],
      "metadata": {
        "id": "rRQjWNoMD-zY"
      }
    },
    {
      "cell_type": "code",
      "source": [
        "data_synth = np.zeros((2000,128,500))\n",
        "\n",
        "# sr is the same for the augmented images\n",
        "sr = 44100\n",
        "\n",
        "for i in tqdm(range(0, 2000)):\n",
        "    spec = normalize(getSignalSpectSynth(meta_synth, i)[1])\n",
        "    spec = fix_audio_length(spec, sr) # Keeping the audio length 500\n",
        "    print(spec.shape)\n",
        "    data_synth[i] = spec\n",
        "    print(data_synth.shape)\n",
        "\n",
        "# Saving it on google drive so we don't have to re-run the code\n",
        "save_synth_file_path = '/content/drive/My Drive/UCL/ML_Y3/Project/images/synthetic_spectogram_data_array.npy'\n",
        "np.save(save_synth_file_path, data_synth)"
      ],
      "metadata": {
        "id": "_Dlydx6eD1Lv"
      },
      "execution_count": null,
      "outputs": []
    },
    {
      "cell_type": "markdown",
      "source": [
        "#### Initial saving method (Incorrect)\n"
      ],
      "metadata": {
        "id": "CxbHsRo6FAQu"
      }
    },
    {
      "cell_type": "markdown",
      "source": [
        "\n",
        "```\n",
        "# Path setup\n",
        "audio_files_directory = '/content/drive/My Drive/UCL/ML_Y3/Project/audio'\n",
        "output_directory = '/content/drive/My Drive/UCL/ML_Y3/Project/audio/synthetic audio'\n",
        "audio_files = os.listdir(audio_files_directory)\n",
        "\n",
        "meta = getMeta()\n",
        "\n",
        "for index, row in meta[['filename', 'target']].iterrows():\n",
        "    filename = row['filename']\n",
        "    label = row['target']\n",
        "    audio_path = os.path.join(audio_files_directory, filename)\n",
        "    # Generating a unique output filename that includes the original filename\n",
        "    # This helps maintain the mapping to the original label\n",
        "    output_filename = f\"aug_{filename}\"  # Customize this as needed\n",
        "    output_path = os.path.join(output_directory, output_filename)\n",
        "\n",
        "    signal, sr = apply_random_augmentation(audio_path, output_path)\n",
        "    # No need to manually map the augmented file to its label;\n",
        "    # The filename contains the necessary info to trace back to the original label\n",
        "\n",
        "    print(f\"{index}: Processed and saved: {output_filename} with label: {label}\")\n",
        "```\n",
        "\n"
      ],
      "metadata": {
        "id": "WxcsXZaAFOy8"
      }
    },
    {
      "cell_type": "markdown",
      "source": [
        "## Method 2\n",
        "\n",
        "In method 1 we apply either pitch shift or time shift to our data set. This means that we double it in size. It definetly improves the performance of our models, however, what if we made sure to apply both pitch shift and time stretch (maybe add noise too). This would triple our dataset."
      ],
      "metadata": {
        "id": "ACzZ2P_UEDqW"
      }
    },
    {
      "cell_type": "code",
      "source": [
        "def apply_stretch_shift(audio_path, output_path, filename, sr=44100):\n",
        "    \"\"\"\n",
        "    Applies a random augmentation to the audio file.\n",
        "    \"\"\"\n",
        "    signal, sr = librosa.load(audio_path)\n",
        "\n",
        "    # Apply the augmentations\n",
        "    sig_pitch_shift = random_pitch_shift(signal, sr)\n",
        "    sig_time_stretch = random_time_stretch(signal, sr)\n",
        "    #sig_white_noise = add_white_noise(signal, sr)\n",
        "    #sig_pink_noise = add_pink_noise(signal, sr)\n",
        "\n",
        "\n",
        "    # Setting up the the output paths for the .wav files\n",
        "\n",
        "    # Shift augmentation\n",
        "    shift_filename = f\"shift_{filename}\"\n",
        "    shift_path = os.path.join(output_directory, shift_filename)\n",
        "\n",
        "    # Strech augmentation\n",
        "    stretch_filename = f\"stretch_{filename}\"\n",
        "    stretch_path = os.path.join(output_directory, stretch_filename)\n",
        "\n",
        "    # Save the augmented audio\n",
        "    sf.write(shift_path, sig_pitch_shift, sr)\n",
        "    sf.write(stretch_path, sig_time_stretch, sr)\n",
        "    #sf.write(output_path, sig_white_noise, sr)\n",
        "    #sf.write(output_path, sig_pink_noise, sr)\n",
        "\n",
        "    return signal, sr, shift_filename, stretch_filename"
      ],
      "metadata": {
        "id": "phAZkSeuUu-F"
      },
      "execution_count": null,
      "outputs": []
    },
    {
      "cell_type": "markdown",
      "source": [
        "### Saving Files"
      ],
      "metadata": {
        "id": "XFVe6ULWDS8J"
      }
    },
    {
      "cell_type": "markdown",
      "source": [
        "#### Saving audio files .wav"
      ],
      "metadata": {
        "id": "wB6sMgKGDU8V"
      }
    },
    {
      "cell_type": "code",
      "source": [
        "audio_files_directory = '/content/drive/My Drive/UCL/ML_Y3/Project/audio'\n",
        "output_directory = '/content/drive/My Drive/UCL/ML_Y3/Project/audio/synthetic_audio_V2'\n",
        "audio_files = os.listdir(audio_files_directory)\n",
        "\n",
        "meta = getMeta()\n",
        "\n",
        "for index, row in tqdm(meta[['filename', 'target']].iterrows(), total=len(meta)): # tqdm was not necessary...\n",
        "    filename = row['filename']\n",
        "    label = row['target']\n",
        "    # Identifying a specific sound file which will be augmented\n",
        "    audio_path = os.path.join(audio_files_directory, filename)\n",
        "\n",
        "    # Applying the augmentaitons\n",
        "    signal, sr, shift_filename, stretch_filename = apply_stretch_shift(audio_path, output_directory, filename)\n",
        "\n",
        "    if index % 10 == 9:\n",
        "      print(f\"\\n{index}: Processed and saved: {shift_filename} with label: {label}\")\n",
        "      print(f\"{index}: Processed and saved: {stretch_filename} with label: {label}\")"
      ],
      "metadata": {
        "colab": {
          "base_uri": "https://localhost:8080/"
        },
        "id": "QyOI8BfzdGjF",
        "outputId": "be462c65-dcaa-4773-8821-9ba38c072289"
      },
      "execution_count": null,
      "outputs": [
        {
          "output_type": "stream",
          "name": "stderr",
          "text": [
            "\n",
            "  0%|          | 0/400.0 [00:00<?, ?it/s]\u001b[A\n",
            "  0%|          | 1/400.0 [00:00<00:54,  7.34it/s]\u001b[A\n",
            "  0%|          | 2/400.0 [00:00<01:03,  6.25it/s]\u001b[A\n",
            "  1%|          | 3/400.0 [00:00<01:06,  5.99it/s]\u001b[A\n",
            "  1%|          | 4/400.0 [00:00<01:04,  6.13it/s]\u001b[A\n",
            "  1%|▏         | 5/400.0 [00:00<01:07,  5.89it/s]\u001b[A\n",
            "  2%|▏         | 6/400.0 [00:01<01:15,  5.20it/s]\u001b[A\n",
            "  2%|▏         | 7/400.0 [00:01<01:19,  4.96it/s]\u001b[A\n",
            "  2%|▏         | 8/400.0 [00:01<01:23,  4.69it/s]\u001b[A\n",
            "  2%|▏         | 9/400.0 [00:01<01:27,  4.48it/s]\u001b[A\n",
            "  2%|▎         | 10/400.0 [00:01<01:25,  4.58it/s]\u001b[A"
          ]
        },
        {
          "output_type": "stream",
          "name": "stdout",
          "text": [
            "\n",
            "9: Processed and saved: shift_1-103995-A-30.wav with label: 30\n",
            "9: Processed and saved: stretch_1-103995-A-30.wav with label: 30\n"
          ]
        },
        {
          "output_type": "stream",
          "name": "stderr",
          "text": [
            "\n",
            "  3%|▎         | 11/400.0 [00:02<01:23,  4.68it/s]\u001b[A\n",
            "  3%|▎         | 12/400.0 [00:02<01:21,  4.74it/s]\u001b[A\n",
            "  3%|▎         | 13/400.0 [00:02<01:25,  4.53it/s]\u001b[A\n",
            "  4%|▎         | 14/400.0 [00:02<01:26,  4.45it/s]\u001b[A\n",
            "  4%|▍         | 15/400.0 [00:03<01:21,  4.71it/s]\u001b[A\n",
            "  4%|▍         | 16/400.0 [00:03<01:26,  4.46it/s]\u001b[A\n",
            "  4%|▍         | 17/400.0 [00:03<01:27,  4.36it/s]\u001b[A\n",
            "  4%|▍         | 18/400.0 [00:03<01:30,  4.22it/s]\u001b[A\n",
            "  5%|▍         | 19/400.0 [00:04<01:30,  4.19it/s]\u001b[A\n",
            "  5%|▌         | 20/400.0 [00:04<01:33,  4.07it/s]\u001b[A"
          ]
        },
        {
          "output_type": "stream",
          "name": "stdout",
          "text": [
            "\n",
            "19: Processed and saved: shift_1-115545-C-48.wav with label: 48\n",
            "19: Processed and saved: stretch_1-115545-C-48.wav with label: 48\n"
          ]
        },
        {
          "output_type": "stream",
          "name": "stderr",
          "text": [
            "\n",
            "  5%|▌         | 21/400.0 [00:04<01:34,  4.03it/s]\u001b[A\n",
            "  6%|▌         | 22/400.0 [00:04<01:33,  4.05it/s]\u001b[A\n",
            "  6%|▌         | 23/400.0 [00:05<01:29,  4.20it/s]\u001b[A\n",
            "  6%|▌         | 24/400.0 [00:05<01:22,  4.53it/s]\u001b[A\n",
            "  6%|▋         | 25/400.0 [00:05<01:19,  4.74it/s]\u001b[A\n",
            "  6%|▋         | 26/400.0 [00:05<01:13,  5.07it/s]\u001b[A\n",
            "  7%|▋         | 27/400.0 [00:05<01:11,  5.19it/s]\u001b[A\n",
            "  7%|▋         | 28/400.0 [00:05<01:07,  5.49it/s]\u001b[A\n",
            "  7%|▋         | 29/400.0 [00:06<01:04,  5.72it/s]\u001b[A\n",
            "  8%|▊         | 30/400.0 [00:06<01:06,  5.52it/s]\u001b[A\n",
            "  8%|▊         | 31/400.0 [00:06<01:03,  5.77it/s]\u001b[A"
          ]
        },
        {
          "output_type": "stream",
          "name": "stdout",
          "text": [
            "\n",
            "29: Processed and saved: shift_1-121951-A-8.wav with label: 8\n",
            "29: Processed and saved: stretch_1-121951-A-8.wav with label: 8\n"
          ]
        },
        {
          "output_type": "stream",
          "name": "stderr",
          "text": [
            "\n",
            "  8%|▊         | 32/400.0 [00:06<01:00,  6.05it/s]\u001b[A\n",
            "  8%|▊         | 33/400.0 [00:06<01:00,  6.04it/s]\u001b[A\n",
            "  8%|▊         | 34/400.0 [00:06<00:59,  6.10it/s]\u001b[A\n",
            "  9%|▉         | 35/400.0 [00:07<01:02,  5.87it/s]\u001b[A\n",
            "  9%|▉         | 36/400.0 [00:07<00:58,  6.19it/s]\u001b[A\n",
            "  9%|▉         | 37/400.0 [00:07<00:59,  6.07it/s]\u001b[A\n",
            " 10%|▉         | 38/400.0 [00:07<00:58,  6.21it/s]\u001b[A\n",
            " 10%|▉         | 39/400.0 [00:07<01:04,  5.57it/s]\u001b[A\n",
            " 10%|█         | 40/400.0 [00:07<01:06,  5.44it/s]\u001b[A\n",
            " 10%|█         | 41/400.0 [00:08<01:04,  5.56it/s]\u001b[A"
          ]
        },
        {
          "output_type": "stream",
          "name": "stdout",
          "text": [
            "\n",
            "39: Processed and saved: shift_1-155858-A-25.wav with label: 25\n",
            "39: Processed and saved: stretch_1-155858-A-25.wav with label: 25\n"
          ]
        },
        {
          "output_type": "stream",
          "name": "stderr",
          "text": [
            "\n",
            " 10%|█         | 42/400.0 [00:08<01:05,  5.48it/s]\u001b[A\n",
            " 11%|█         | 43/400.0 [00:08<01:01,  5.77it/s]\u001b[A\n",
            " 11%|█         | 44/400.0 [00:08<00:59,  5.94it/s]\u001b[A\n",
            " 11%|█▏        | 45/400.0 [00:08<01:01,  5.79it/s]\u001b[A\n",
            " 12%|█▏        | 46/400.0 [00:08<00:59,  5.98it/s]\u001b[A\n",
            " 12%|█▏        | 47/400.0 [00:09<01:02,  5.69it/s]\u001b[A\n",
            " 12%|█▏        | 48/400.0 [00:09<00:59,  5.96it/s]\u001b[A\n",
            " 12%|█▏        | 49/400.0 [00:09<00:58,  5.95it/s]\u001b[A\n",
            " 12%|█▎        | 50/400.0 [00:10<02:12,  2.65it/s]\u001b[A\n",
            " 13%|█▎        | 51/400.0 [00:10<01:47,  3.24it/s]\u001b[A"
          ]
        },
        {
          "output_type": "stream",
          "name": "stdout",
          "text": [
            "\n",
            "49: Processed and saved: shift_1-16568-A-3.wav with label: 3\n",
            "49: Processed and saved: stretch_1-16568-A-3.wav with label: 3\n"
          ]
        },
        {
          "output_type": "stream",
          "name": "stderr",
          "text": [
            "\n",
            " 13%|█▎        | 52/400.0 [00:11<03:47,  1.53it/s]\u001b[A\n",
            " 13%|█▎        | 53/400.0 [00:12<02:56,  1.97it/s]\u001b[A\n",
            " 14%|█▎        | 54/400.0 [00:12<02:19,  2.48it/s]\u001b[A\n",
            " 14%|█▍        | 55/400.0 [00:12<01:57,  2.95it/s]\u001b[A\n",
            " 14%|█▍        | 56/400.0 [00:12<01:39,  3.45it/s]\u001b[A\n",
            " 14%|█▍        | 57/400.0 [00:12<01:27,  3.92it/s]\u001b[A\n",
            " 14%|█▍        | 58/400.0 [00:12<01:19,  4.32it/s]\u001b[A\n",
            " 15%|█▍        | 59/400.0 [00:13<01:10,  4.81it/s]\u001b[A\n",
            " 15%|█▌        | 60/400.0 [00:13<01:07,  5.01it/s]\u001b[A\n",
            " 15%|█▌        | 61/400.0 [00:13<01:02,  5.39it/s]\u001b[A"
          ]
        },
        {
          "output_type": "stream",
          "name": "stdout",
          "text": [
            "\n",
            "59: Processed and saved: shift_1-172649-E-40.wav with label: 40\n",
            "59: Processed and saved: stretch_1-172649-E-40.wav with label: 40\n"
          ]
        },
        {
          "output_type": "stream",
          "name": "stderr",
          "text": [
            "\n",
            " 16%|█▌        | 62/400.0 [00:13<00:59,  5.69it/s]\u001b[A\n",
            " 16%|█▌        | 63/400.0 [00:13<00:58,  5.76it/s]\u001b[A\n",
            " 16%|█▌        | 64/400.0 [00:13<01:00,  5.52it/s]\u001b[A\n",
            " 16%|█▋        | 65/400.0 [00:14<01:01,  5.48it/s]\u001b[A\n",
            " 16%|█▋        | 66/400.0 [00:14<01:00,  5.57it/s]\u001b[A\n",
            " 17%|█▋        | 67/400.0 [00:14<00:58,  5.69it/s]\u001b[A\n",
            " 17%|█▋        | 68/400.0 [00:14<01:00,  5.45it/s]\u001b[A\n",
            " 17%|█▋        | 69/400.0 [00:14<00:56,  5.91it/s]\u001b[A\n",
            " 18%|█▊        | 70/400.0 [00:15<01:05,  5.06it/s]\u001b[A"
          ]
        },
        {
          "output_type": "stream",
          "name": "stdout",
          "text": [
            "\n",
            "69: Processed and saved: shift_1-17970-A-4.wav with label: 4\n",
            "69: Processed and saved: stretch_1-17970-A-4.wav with label: 4\n"
          ]
        },
        {
          "output_type": "stream",
          "name": "stderr",
          "text": [
            "\n",
            " 18%|█▊        | 71/400.0 [00:15<01:12,  4.54it/s]\u001b[A\n",
            " 18%|█▊        | 72/400.0 [00:15<01:13,  4.47it/s]\u001b[A\n",
            " 18%|█▊        | 73/400.0 [00:15<01:14,  4.39it/s]\u001b[A\n",
            " 18%|█▊        | 74/400.0 [00:16<01:12,  4.50it/s]\u001b[A\n",
            " 19%|█▉        | 75/400.0 [00:16<01:13,  4.42it/s]\u001b[A\n",
            " 19%|█▉        | 76/400.0 [00:16<01:12,  4.48it/s]\u001b[A\n",
            " 19%|█▉        | 77/400.0 [00:16<01:12,  4.47it/s]\u001b[A\n",
            " 20%|█▉        | 78/400.0 [00:16<01:14,  4.34it/s]\u001b[A\n",
            " 20%|█▉        | 79/400.0 [00:17<01:09,  4.63it/s]\u001b[A\n",
            " 20%|██        | 80/400.0 [00:17<01:07,  4.75it/s]\u001b[A"
          ]
        },
        {
          "output_type": "stream",
          "name": "stdout",
          "text": [
            "\n",
            "79: Processed and saved: shift_1-18755-A-4.wav with label: 4\n",
            "79: Processed and saved: stretch_1-18755-A-4.wav with label: 4\n"
          ]
        },
        {
          "output_type": "stream",
          "name": "stderr",
          "text": [
            "\n",
            " 20%|██        | 81/400.0 [00:17<01:09,  4.61it/s]\u001b[A\n",
            " 20%|██        | 82/400.0 [00:17<01:11,  4.43it/s]\u001b[A\n",
            " 21%|██        | 83/400.0 [00:18<01:15,  4.19it/s]\u001b[A\n",
            " 21%|██        | 84/400.0 [00:18<01:15,  4.20it/s]\u001b[A\n",
            " 21%|██▏       | 85/400.0 [00:18<01:11,  4.44it/s]\u001b[A\n",
            " 22%|██▏       | 86/400.0 [00:18<01:08,  4.59it/s]\u001b[A\n",
            " 22%|██▏       | 87/400.0 [00:18<01:08,  4.56it/s]\u001b[A\n",
            " 22%|██▏       | 88/400.0 [00:19<01:05,  4.73it/s]\u001b[A\n",
            " 22%|██▏       | 89/400.0 [00:19<01:03,  4.90it/s]\u001b[A\n",
            " 22%|██▎       | 90/400.0 [00:19<00:59,  5.18it/s]\u001b[A\n",
            " 23%|██▎       | 91/400.0 [00:19<00:56,  5.45it/s]\u001b[A"
          ]
        },
        {
          "output_type": "stream",
          "name": "stdout",
          "text": [
            "\n",
            "89: Processed and saved: shift_1-19840-A-36.wav with label: 36\n",
            "89: Processed and saved: stretch_1-19840-A-36.wav with label: 36\n"
          ]
        },
        {
          "output_type": "stream",
          "name": "stderr",
          "text": [
            "\n",
            " 23%|██▎       | 92/400.0 [00:19<00:55,  5.60it/s]\u001b[A\n",
            " 23%|██▎       | 93/400.0 [00:21<02:52,  1.78it/s]\u001b[A\n",
            " 24%|██▎       | 94/400.0 [00:21<02:15,  2.26it/s]\u001b[A\n",
            " 24%|██▍       | 95/400.0 [00:21<01:51,  2.74it/s]\u001b[A\n",
            " 24%|██▍       | 96/400.0 [00:21<01:33,  3.26it/s]\u001b[A\n",
            " 24%|██▍       | 97/400.0 [00:21<01:19,  3.84it/s]\u001b[A\n",
            " 24%|██▍       | 98/400.0 [00:22<01:12,  4.19it/s]\u001b[A\n",
            " 25%|██▍       | 99/400.0 [00:22<01:05,  4.58it/s]\u001b[A\n",
            " 25%|██▌       | 100/400.0 [00:22<01:00,  4.99it/s]\u001b[A\n",
            " 25%|██▌       | 101/400.0 [00:22<00:58,  5.10it/s]\u001b[A"
          ]
        },
        {
          "output_type": "stream",
          "name": "stdout",
          "text": [
            "\n",
            "99: Processed and saved: shift_1-208757-A-2.wav with label: 2\n",
            "99: Processed and saved: stretch_1-208757-A-2.wav with label: 2\n"
          ]
        },
        {
          "output_type": "stream",
          "name": "stderr",
          "text": [
            "\n",
            " 26%|██▌       | 102/400.0 [00:22<00:54,  5.51it/s]\u001b[A\n",
            " 26%|██▌       | 103/400.0 [00:22<00:50,  5.83it/s]\u001b[A\n",
            " 26%|██▌       | 104/400.0 [00:23<00:51,  5.72it/s]\u001b[A\n",
            " 26%|██▋       | 105/400.0 [00:23<00:49,  5.97it/s]\u001b[A\n",
            " 26%|██▋       | 106/400.0 [00:23<00:48,  6.00it/s]\u001b[A\n",
            " 27%|██▋       | 107/400.0 [00:23<00:48,  6.01it/s]\u001b[A\n",
            " 27%|██▋       | 108/400.0 [00:24<01:10,  4.12it/s]\u001b[A\n",
            " 27%|██▋       | 109/400.0 [00:24<01:14,  3.92it/s]\u001b[A\n",
            " 28%|██▊       | 110/400.0 [00:24<01:06,  4.35it/s]\u001b[A\n",
            " 28%|██▊       | 111/400.0 [00:24<01:02,  4.65it/s]\u001b[A"
          ]
        },
        {
          "output_type": "stream",
          "name": "stdout",
          "text": [
            "\n",
            "109: Processed and saved: shift_1-21896-A-35.wav with label: 35\n",
            "109: Processed and saved: stretch_1-21896-A-35.wav with label: 35\n"
          ]
        },
        {
          "output_type": "stream",
          "name": "stderr",
          "text": [
            "\n",
            " 28%|██▊       | 112/400.0 [00:24<00:58,  4.94it/s]\u001b[A\n",
            " 28%|██▊       | 113/400.0 [00:25<00:55,  5.19it/s]\u001b[A\n",
            " 28%|██▊       | 114/400.0 [00:25<01:06,  4.31it/s]\u001b[A\n",
            " 29%|██▉       | 115/400.0 [00:25<01:04,  4.39it/s]\u001b[A\n",
            " 29%|██▉       | 116/400.0 [00:25<01:02,  4.58it/s]\u001b[A\n",
            " 29%|██▉       | 117/400.0 [00:25<00:57,  4.94it/s]\u001b[A\n",
            " 30%|██▉       | 118/400.0 [00:26<00:54,  5.13it/s]\u001b[A\n",
            " 30%|██▉       | 119/400.0 [00:26<00:50,  5.54it/s]\u001b[A\n",
            " 30%|███       | 120/400.0 [00:26<00:49,  5.70it/s]\u001b[A\n",
            " 30%|███       | 121/400.0 [00:26<00:47,  5.84it/s]\u001b[A"
          ]
        },
        {
          "output_type": "stream",
          "name": "stdout",
          "text": [
            "\n",
            "119: Processed and saved: shift_1-23222-A-19.wav with label: 19\n",
            "119: Processed and saved: stretch_1-23222-A-19.wav with label: 19\n"
          ]
        },
        {
          "output_type": "stream",
          "name": "stderr",
          "text": [
            "\n",
            " 30%|███       | 122/400.0 [00:26<00:47,  5.91it/s]\u001b[A\n",
            " 31%|███       | 123/400.0 [00:26<00:48,  5.70it/s]\u001b[A\n",
            " 31%|███       | 124/400.0 [00:27<00:47,  5.83it/s]\u001b[A\n",
            " 31%|███▏      | 125/400.0 [00:27<00:47,  5.81it/s]\u001b[A\n",
            " 32%|███▏      | 126/400.0 [00:27<00:46,  5.89it/s]\u001b[A\n",
            " 32%|███▏      | 127/400.0 [00:27<00:47,  5.81it/s]\u001b[A\n",
            " 32%|███▏      | 128/400.0 [00:27<00:50,  5.34it/s]\u001b[A\n",
            " 32%|███▏      | 129/400.0 [00:28<00:50,  5.36it/s]\u001b[A\n",
            " 32%|███▎      | 130/400.0 [00:28<00:48,  5.55it/s]\u001b[A\n",
            " 33%|███▎      | 131/400.0 [00:28<00:47,  5.70it/s]\u001b[A"
          ]
        },
        {
          "output_type": "stream",
          "name": "stdout",
          "text": [
            "\n",
            "129: Processed and saved: shift_1-24796-A-47.wav with label: 47\n",
            "129: Processed and saved: stretch_1-24796-A-47.wav with label: 47\n"
          ]
        },
        {
          "output_type": "stream",
          "name": "stderr",
          "text": [
            "\n",
            " 33%|███▎      | 132/400.0 [00:28<00:45,  5.83it/s]\u001b[A\n",
            " 33%|███▎      | 133/400.0 [00:28<00:44,  6.02it/s]\u001b[A\n",
            " 34%|███▎      | 134/400.0 [00:28<00:45,  5.84it/s]\u001b[A\n",
            " 34%|███▍      | 135/400.0 [00:29<00:46,  5.75it/s]\u001b[A\n",
            " 34%|███▍      | 136/400.0 [00:29<00:49,  5.36it/s]\u001b[A\n",
            " 34%|███▍      | 137/400.0 [00:29<00:50,  5.17it/s]\u001b[A\n",
            " 34%|███▍      | 138/400.0 [00:29<00:50,  5.20it/s]\u001b[A\n",
            " 35%|███▍      | 139/400.0 [00:29<00:55,  4.70it/s]\u001b[A\n",
            " 35%|███▌      | 140/400.0 [00:30<00:54,  4.75it/s]\u001b[A"
          ]
        },
        {
          "output_type": "stream",
          "name": "stdout",
          "text": [
            "\n",
            "139: Processed and saved: shift_1-26188-A-30.wav with label: 30\n",
            "139: Processed and saved: stretch_1-26188-A-30.wav with label: 30\n"
          ]
        },
        {
          "output_type": "stream",
          "name": "stderr",
          "text": [
            "\n",
            " 35%|███▌      | 141/400.0 [00:30<01:00,  4.32it/s]\u001b[A\n",
            " 36%|███▌      | 142/400.0 [00:30<00:58,  4.38it/s]\u001b[A\n",
            " 36%|███▌      | 143/400.0 [00:30<00:59,  4.35it/s]\u001b[A\n",
            " 36%|███▌      | 144/400.0 [00:31<01:01,  4.15it/s]\u001b[A\n",
            " 36%|███▋      | 145/400.0 [00:31<00:59,  4.32it/s]\u001b[A\n",
            " 36%|███▋      | 146/400.0 [00:31<01:00,  4.23it/s]\u001b[A\n",
            " 37%|███▋      | 147/400.0 [00:31<00:59,  4.26it/s]\u001b[A\n",
            " 37%|███▋      | 148/400.0 [00:32<01:00,  4.13it/s]\u001b[A\n",
            " 37%|███▋      | 149/400.0 [00:32<01:00,  4.15it/s]\u001b[A\n",
            " 38%|███▊      | 150/400.0 [00:32<01:00,  4.15it/s]\u001b[A"
          ]
        },
        {
          "output_type": "stream",
          "name": "stdout",
          "text": [
            "\n",
            "149: Processed and saved: shift_1-28135-B-11.wav with label: 11\n",
            "149: Processed and saved: stretch_1-28135-B-11.wav with label: 11\n"
          ]
        },
        {
          "output_type": "stream",
          "name": "stderr",
          "text": [
            "\n",
            " 38%|███▊      | 151/400.0 [00:32<01:04,  3.83it/s]\u001b[A\n",
            " 38%|███▊      | 152/400.0 [00:33<01:05,  3.81it/s]\u001b[A\n",
            " 38%|███▊      | 153/400.0 [00:33<00:58,  4.21it/s]\u001b[A\n",
            " 38%|███▊      | 154/400.0 [00:33<00:50,  4.84it/s]\u001b[A\n",
            " 39%|███▉      | 155/400.0 [00:33<00:49,  4.95it/s]\u001b[A\n",
            " 39%|███▉      | 156/400.0 [00:33<00:47,  5.10it/s]\u001b[A\n",
            " 39%|███▉      | 157/400.0 [00:33<00:44,  5.43it/s]\u001b[A\n",
            " 40%|███▉      | 158/400.0 [00:34<00:44,  5.41it/s]\u001b[A\n",
            " 40%|███▉      | 159/400.0 [00:34<00:44,  5.46it/s]\u001b[A\n",
            " 40%|████      | 160/400.0 [00:34<00:43,  5.56it/s]\u001b[A\n",
            " 40%|████      | 161/400.0 [00:34<00:41,  5.80it/s]\u001b[A"
          ]
        },
        {
          "output_type": "stream",
          "name": "stdout",
          "text": [
            "\n",
            "159: Processed and saved: shift_1-30709-A-23.wav with label: 23\n",
            "159: Processed and saved: stretch_1-30709-A-23.wav with label: 23\n"
          ]
        },
        {
          "output_type": "stream",
          "name": "stderr",
          "text": [
            "\n",
            " 40%|████      | 162/400.0 [00:34<00:39,  6.07it/s]\u001b[A\n",
            " 41%|████      | 163/400.0 [00:34<00:37,  6.33it/s]\u001b[A\n",
            " 41%|████      | 164/400.0 [00:35<00:37,  6.29it/s]\u001b[A\n",
            " 41%|████▏     | 165/400.0 [00:35<00:38,  6.14it/s]\u001b[A\n",
            " 42%|████▏     | 166/400.0 [00:35<00:40,  5.81it/s]\u001b[A\n",
            " 42%|████▏     | 167/400.0 [00:35<00:38,  6.03it/s]\u001b[A\n",
            " 42%|████▏     | 168/400.0 [00:35<00:35,  6.49it/s]\u001b[A\n",
            " 42%|████▏     | 169/400.0 [00:35<00:36,  6.36it/s]\u001b[A\n",
            " 42%|████▎     | 170/400.0 [00:36<00:37,  6.18it/s]\u001b[A\n",
            " 43%|████▎     | 171/400.0 [00:36<00:38,  5.92it/s]\u001b[A"
          ]
        },
        {
          "output_type": "stream",
          "name": "stdout",
          "text": [
            "\n",
            "169: Processed and saved: shift_1-31836-B-4.wav with label: 4\n",
            "169: Processed and saved: stretch_1-31836-B-4.wav with label: 4\n"
          ]
        },
        {
          "output_type": "stream",
          "name": "stderr",
          "text": [
            "\n",
            " 43%|████▎     | 172/400.0 [00:36<00:37,  6.05it/s]\u001b[A\n",
            " 43%|████▎     | 173/400.0 [00:36<00:36,  6.14it/s]\u001b[A\n",
            " 44%|████▎     | 174/400.0 [00:36<00:37,  6.05it/s]\u001b[A\n",
            " 44%|████▍     | 175/400.0 [00:36<00:37,  6.07it/s]\u001b[A\n",
            " 44%|████▍     | 176/400.0 [00:37<00:36,  6.11it/s]\u001b[A\n",
            " 44%|████▍     | 177/400.0 [00:37<00:39,  5.66it/s]\u001b[A\n",
            " 44%|████▍     | 178/400.0 [00:37<00:36,  6.07it/s]\u001b[A\n",
            " 45%|████▍     | 179/400.0 [00:37<00:34,  6.40it/s]\u001b[A\n",
            " 45%|████▌     | 180/400.0 [00:37<00:34,  6.43it/s]\u001b[A\n",
            " 45%|████▌     | 181/400.0 [00:37<00:35,  6.14it/s]\u001b[A"
          ]
        },
        {
          "output_type": "stream",
          "name": "stdout",
          "text": [
            "\n",
            "179: Processed and saved: shift_1-34495-A-14.wav with label: 14\n",
            "179: Processed and saved: stretch_1-34495-A-14.wav with label: 14\n"
          ]
        },
        {
          "output_type": "stream",
          "name": "stderr",
          "text": [
            "\n",
            " 46%|████▌     | 182/400.0 [00:38<00:36,  6.03it/s]\u001b[A\n",
            " 46%|████▌     | 183/400.0 [00:38<00:36,  5.93it/s]\u001b[A\n",
            " 46%|████▌     | 184/400.0 [00:38<00:36,  5.99it/s]\u001b[A\n",
            " 46%|████▋     | 185/400.0 [00:38<00:35,  5.99it/s]\u001b[A\n",
            " 46%|████▋     | 186/400.0 [00:38<00:33,  6.38it/s]\u001b[A\n",
            " 47%|████▋     | 187/400.0 [00:38<00:34,  6.15it/s]\u001b[A\n",
            " 47%|████▋     | 188/400.0 [00:39<00:33,  6.29it/s]\u001b[A\n",
            " 47%|████▋     | 189/400.0 [00:39<00:34,  6.18it/s]\u001b[A\n",
            " 48%|████▊     | 190/400.0 [00:39<00:35,  5.93it/s]\u001b[A\n",
            " 48%|████▊     | 191/400.0 [00:39<00:34,  6.14it/s]\u001b[A"
          ]
        },
        {
          "output_type": "stream",
          "name": "stdout",
          "text": [
            "\n",
            "189: Processed and saved: shift_1-36929-A-47.wav with label: 47\n",
            "189: Processed and saved: stretch_1-36929-A-47.wav with label: 47\n"
          ]
        },
        {
          "output_type": "stream",
          "name": "stderr",
          "text": [
            "\n",
            " 48%|████▊     | 192/400.0 [00:39<00:35,  5.84it/s]\u001b[A\n",
            " 48%|████▊     | 193/400.0 [00:39<00:36,  5.67it/s]\u001b[A\n",
            " 48%|████▊     | 194/400.0 [00:40<00:34,  5.99it/s]\u001b[A\n",
            " 49%|████▉     | 195/400.0 [00:40<00:34,  6.02it/s]\u001b[A\n",
            " 49%|████▉     | 196/400.0 [00:40<00:34,  5.96it/s]\u001b[A\n",
            " 49%|████▉     | 197/400.0 [00:40<00:35,  5.73it/s]\u001b[A\n",
            " 50%|████▉     | 198/400.0 [00:40<00:33,  5.95it/s]\u001b[A\n",
            " 50%|████▉     | 199/400.0 [00:40<00:34,  5.87it/s]\u001b[A\n",
            " 50%|█████     | 200/400.0 [00:41<00:33,  5.91it/s]\u001b[A\n",
            " 50%|█████     | 201/400.0 [00:41<00:33,  5.91it/s]\u001b[A"
          ]
        },
        {
          "output_type": "stream",
          "name": "stdout",
          "text": [
            "\n",
            "199: Processed and saved: shift_1-40154-A-46.wav with label: 46\n",
            "199: Processed and saved: stretch_1-40154-A-46.wav with label: 46\n"
          ]
        },
        {
          "output_type": "stream",
          "name": "stderr",
          "text": [
            "\n",
            " 50%|█████     | 202/400.0 [00:41<00:34,  5.72it/s]\u001b[A\n",
            " 51%|█████     | 203/400.0 [00:41<00:33,  5.94it/s]\u001b[A\n",
            " 51%|█████     | 204/400.0 [00:41<00:30,  6.38it/s]\u001b[A\n",
            " 51%|█████▏    | 205/400.0 [00:41<00:30,  6.35it/s]\u001b[A\n",
            " 52%|█████▏    | 206/400.0 [00:42<00:30,  6.30it/s]\u001b[A\n",
            " 52%|█████▏    | 207/400.0 [00:42<00:30,  6.30it/s]\u001b[A\n",
            " 52%|█████▏    | 208/400.0 [00:42<00:32,  5.88it/s]\u001b[A\n",
            " 52%|█████▏    | 209/400.0 [00:42<00:31,  6.13it/s]\u001b[A\n",
            " 52%|█████▎    | 210/400.0 [00:42<00:32,  5.93it/s]\u001b[A\n",
            " 53%|█████▎    | 211/400.0 [00:42<00:33,  5.68it/s]\u001b[A"
          ]
        },
        {
          "output_type": "stream",
          "name": "stdout",
          "text": [
            "\n",
            "209: Processed and saved: shift_1-43807-A-47.wav with label: 47\n",
            "209: Processed and saved: stretch_1-43807-A-47.wav with label: 47\n"
          ]
        },
        {
          "output_type": "stream",
          "name": "stderr",
          "text": [
            "\n",
            " 53%|█████▎    | 212/400.0 [00:43<00:33,  5.65it/s]\u001b[A\n",
            " 53%|█████▎    | 213/400.0 [00:43<00:36,  5.07it/s]\u001b[A\n",
            " 54%|█████▎    | 214/400.0 [00:43<00:37,  4.99it/s]\u001b[A\n",
            " 54%|█████▍    | 215/400.0 [00:43<00:39,  4.63it/s]\u001b[A\n",
            " 54%|█████▍    | 216/400.0 [00:43<00:38,  4.75it/s]\u001b[A\n",
            " 54%|█████▍    | 217/400.0 [00:44<00:41,  4.46it/s]\u001b[A\n",
            " 55%|█████▍    | 218/400.0 [00:44<00:40,  4.48it/s]\u001b[A\n",
            " 55%|█████▍    | 219/400.0 [00:44<00:40,  4.45it/s]\u001b[A\n",
            " 55%|█████▌    | 220/400.0 [00:44<00:39,  4.52it/s]\u001b[A"
          ]
        },
        {
          "output_type": "stream",
          "name": "stdout",
          "text": [
            "\n",
            "219: Processed and saved: shift_1-46353-A-49.wav with label: 49\n",
            "219: Processed and saved: stretch_1-46353-A-49.wav with label: 49\n"
          ]
        },
        {
          "output_type": "stream",
          "name": "stderr",
          "text": [
            "\n",
            " 55%|█████▌    | 221/400.0 [00:45<00:40,  4.47it/s]\u001b[A\n",
            " 56%|█████▌    | 222/400.0 [00:45<00:37,  4.70it/s]\u001b[A\n",
            " 56%|█████▌    | 223/400.0 [00:45<00:39,  4.52it/s]\u001b[A\n",
            " 56%|█████▌    | 224/400.0 [00:45<00:40,  4.29it/s]\u001b[A\n",
            " 56%|█████▋    | 225/400.0 [00:46<00:44,  3.89it/s]\u001b[A\n",
            " 56%|█████▋    | 226/400.0 [00:46<00:42,  4.07it/s]\u001b[A\n",
            " 57%|█████▋    | 227/400.0 [00:46<00:39,  4.33it/s]\u001b[A\n",
            " 57%|█████▋    | 228/400.0 [00:46<00:40,  4.22it/s]\u001b[A\n",
            " 57%|█████▋    | 229/400.0 [00:47<00:49,  3.42it/s]\u001b[A\n",
            " 57%|█████▊    | 230/400.0 [00:47<00:46,  3.62it/s]\u001b[A\n",
            " 58%|█████▊    | 231/400.0 [00:47<00:40,  4.20it/s]\u001b[A"
          ]
        },
        {
          "output_type": "stream",
          "name": "stdout",
          "text": [
            "\n",
            "229: Processed and saved: shift_1-47819-A-5.wav with label: 5\n",
            "229: Processed and saved: stretch_1-47819-A-5.wav with label: 5\n"
          ]
        },
        {
          "output_type": "stream",
          "name": "stderr",
          "text": [
            "\n",
            " 58%|█████▊    | 232/400.0 [00:47<00:38,  4.42it/s]\u001b[A\n",
            " 58%|█████▊    | 233/400.0 [00:47<00:35,  4.76it/s]\u001b[A\n",
            " 58%|█████▊    | 234/400.0 [00:48<00:32,  5.11it/s]\u001b[A\n",
            " 59%|█████▉    | 235/400.0 [00:48<00:31,  5.25it/s]\u001b[A\n",
            " 59%|█████▉    | 236/400.0 [00:48<00:29,  5.57it/s]\u001b[A\n",
            " 59%|█████▉    | 237/400.0 [00:48<00:27,  5.83it/s]\u001b[A\n",
            " 60%|█████▉    | 238/400.0 [00:48<00:27,  5.93it/s]\u001b[A\n",
            " 60%|█████▉    | 239/400.0 [00:48<00:26,  6.05it/s]\u001b[A\n",
            " 60%|██████    | 240/400.0 [00:49<00:28,  5.60it/s]\u001b[A\n",
            " 60%|██████    | 241/400.0 [00:49<00:26,  6.06it/s]\u001b[A"
          ]
        },
        {
          "output_type": "stream",
          "name": "stdout",
          "text": [
            "\n",
            "239: Processed and saved: shift_1-50454-A-44.wav with label: 44\n",
            "239: Processed and saved: stretch_1-50454-A-44.wav with label: 44\n"
          ]
        },
        {
          "output_type": "stream",
          "name": "stderr",
          "text": [
            "\n",
            " 60%|██████    | 242/400.0 [00:49<00:26,  5.96it/s]\u001b[A\n",
            " 61%|██████    | 243/400.0 [00:49<00:26,  5.88it/s]\u001b[A\n",
            " 61%|██████    | 244/400.0 [00:49<00:27,  5.74it/s]\u001b[A\n",
            " 61%|██████▏   | 245/400.0 [00:50<00:27,  5.64it/s]\u001b[A\n",
            " 62%|██████▏   | 246/400.0 [00:50<00:26,  5.91it/s]\u001b[A\n",
            " 62%|██████▏   | 247/400.0 [00:50<00:25,  6.06it/s]\u001b[A\n",
            " 62%|██████▏   | 248/400.0 [00:50<00:24,  6.15it/s]\u001b[A\n",
            " 62%|██████▏   | 249/400.0 [00:50<00:24,  6.25it/s]\u001b[A\n",
            " 62%|██████▎   | 250/400.0 [00:50<00:24,  6.24it/s]\u001b[A\n",
            " 63%|██████▎   | 251/400.0 [00:50<00:24,  6.19it/s]\u001b[A"
          ]
        },
        {
          "output_type": "stream",
          "name": "stdout",
          "text": [
            "\n",
            "249: Processed and saved: shift_1-51170-A-18.wav with label: 18\n",
            "249: Processed and saved: stretch_1-51170-A-18.wav with label: 18\n"
          ]
        },
        {
          "output_type": "stream",
          "name": "stderr",
          "text": [
            "\n",
            " 63%|██████▎   | 252/400.0 [00:51<00:24,  5.97it/s]\u001b[A\n",
            " 63%|██████▎   | 253/400.0 [00:51<00:24,  5.96it/s]\u001b[A\n",
            " 64%|██████▎   | 254/400.0 [00:51<00:24,  5.99it/s]\u001b[A\n",
            " 64%|██████▍   | 255/400.0 [00:51<00:24,  5.92it/s]\u001b[A\n",
            " 64%|██████▍   | 256/400.0 [00:51<00:25,  5.57it/s]\u001b[A\n",
            " 64%|██████▍   | 257/400.0 [00:52<00:25,  5.64it/s]\u001b[A\n",
            " 64%|██████▍   | 258/400.0 [00:52<00:24,  5.87it/s]\u001b[A\n",
            " 65%|██████▍   | 259/400.0 [00:52<00:23,  6.03it/s]\u001b[A\n",
            " 65%|██████▌   | 260/400.0 [00:52<00:23,  6.08it/s]\u001b[A"
          ]
        },
        {
          "output_type": "stream",
          "name": "stdout",
          "text": [
            "\n",
            "259: Processed and saved: shift_1-51805-H-33.wav with label: 33\n",
            "259: Processed and saved: stretch_1-51805-H-33.wav with label: 33\n"
          ]
        },
        {
          "output_type": "stream",
          "name": "stderr",
          "text": [
            "\n",
            " 65%|██████▌   | 261/400.0 [00:52<00:24,  5.67it/s]\u001b[A\n",
            " 66%|██████▌   | 262/400.0 [00:52<00:24,  5.75it/s]\u001b[A\n",
            " 66%|██████▌   | 263/400.0 [00:53<00:22,  6.00it/s]\u001b[A\n",
            " 66%|██████▌   | 264/400.0 [00:53<00:22,  6.06it/s]\u001b[A\n",
            " 66%|██████▋   | 265/400.0 [00:53<00:22,  6.01it/s]\u001b[A\n",
            " 66%|██████▋   | 266/400.0 [00:53<00:22,  5.91it/s]\u001b[A\n",
            " 67%|██████▋   | 267/400.0 [00:53<00:22,  5.94it/s]\u001b[A\n",
            " 67%|██████▋   | 268/400.0 [00:53<00:23,  5.72it/s]\u001b[A\n",
            " 67%|██████▋   | 269/400.0 [00:54<00:22,  5.81it/s]\u001b[A\n",
            " 68%|██████▊   | 270/400.0 [00:54<00:22,  5.66it/s]\u001b[A\n",
            " 68%|██████▊   | 271/400.0 [00:54<00:22,  5.69it/s]\u001b[A"
          ]
        },
        {
          "output_type": "stream",
          "name": "stdout",
          "text": [
            "\n",
            "269: Processed and saved: shift_1-54065-B-45.wav with label: 45\n",
            "269: Processed and saved: stretch_1-54065-B-45.wav with label: 45\n"
          ]
        },
        {
          "output_type": "stream",
          "name": "stderr",
          "text": [
            "\n",
            " 68%|██████▊   | 272/400.0 [00:54<00:20,  6.10it/s]\u001b[A\n",
            " 68%|██████▊   | 273/400.0 [00:54<00:20,  6.20it/s]\u001b[A\n",
            " 68%|██████▊   | 274/400.0 [00:54<00:22,  5.68it/s]\u001b[A\n",
            " 69%|██████▉   | 275/400.0 [00:55<00:21,  5.95it/s]\u001b[A\n",
            " 69%|██████▉   | 276/400.0 [00:55<00:20,  6.02it/s]\u001b[A\n",
            " 69%|██████▉   | 277/400.0 [00:55<00:20,  6.09it/s]\u001b[A\n",
            " 70%|██████▉   | 278/400.0 [00:55<00:20,  5.99it/s]\u001b[A\n",
            " 70%|██████▉   | 279/400.0 [00:55<00:19,  6.33it/s]\u001b[A\n",
            " 70%|███████   | 280/400.0 [00:55<00:19,  6.11it/s]\u001b[A\n",
            " 70%|███████   | 281/400.0 [00:56<00:19,  6.14it/s]\u001b[A"
          ]
        },
        {
          "output_type": "stream",
          "name": "stdout",
          "text": [
            "\n",
            "279: Processed and saved: shift_1-56269-A-18.wav with label: 18\n",
            "279: Processed and saved: stretch_1-56269-A-18.wav with label: 18\n"
          ]
        },
        {
          "output_type": "stream",
          "name": "stderr",
          "text": [
            "\n",
            " 70%|███████   | 282/400.0 [00:56<00:19,  6.03it/s]\u001b[A\n",
            " 71%|███████   | 283/400.0 [00:56<00:19,  6.16it/s]\u001b[A\n",
            " 71%|███████   | 284/400.0 [00:56<00:18,  6.35it/s]\u001b[A\n",
            " 71%|███████▏  | 285/400.0 [00:56<00:17,  6.41it/s]\u001b[A\n",
            " 72%|███████▏  | 286/400.0 [00:56<00:19,  5.90it/s]\u001b[A\n",
            " 72%|███████▏  | 287/400.0 [00:57<00:19,  5.84it/s]\u001b[A\n",
            " 72%|███████▏  | 288/400.0 [00:57<00:19,  5.87it/s]\u001b[A\n",
            " 72%|███████▏  | 289/400.0 [00:57<00:18,  5.91it/s]\u001b[A\n",
            " 72%|███████▎  | 290/400.0 [00:57<00:19,  5.66it/s]\u001b[A"
          ]
        },
        {
          "output_type": "stream",
          "name": "stdout",
          "text": [
            "\n",
            "289: Processed and saved: shift_1-58277-A-3.wav with label: 3\n",
            "289: Processed and saved: stretch_1-58277-A-3.wav with label: 3\n"
          ]
        },
        {
          "output_type": "stream",
          "name": "stderr",
          "text": [
            "\n",
            " 73%|███████▎  | 291/400.0 [00:57<00:21,  5.00it/s]\u001b[A\n",
            " 73%|███████▎  | 292/400.0 [00:58<00:22,  4.88it/s]\u001b[A\n",
            " 73%|███████▎  | 293/400.0 [00:58<00:22,  4.76it/s]\u001b[A\n",
            " 74%|███████▎  | 294/400.0 [00:58<00:38,  2.78it/s]\u001b[A\n",
            " 74%|███████▍  | 295/400.0 [00:59<00:33,  3.11it/s]\u001b[A\n",
            " 74%|███████▍  | 296/400.0 [00:59<00:29,  3.52it/s]\u001b[A\n",
            " 74%|███████▍  | 297/400.0 [00:59<00:28,  3.56it/s]\u001b[A\n",
            " 74%|███████▍  | 298/400.0 [00:59<00:27,  3.73it/s]\u001b[A\n",
            " 75%|███████▍  | 299/400.0 [01:00<00:25,  3.89it/s]\u001b[A\n",
            " 75%|███████▌  | 300/400.0 [01:00<00:24,  4.02it/s]\u001b[A"
          ]
        },
        {
          "output_type": "stream",
          "name": "stdout",
          "text": [
            "\n",
            "299: Processed and saved: shift_1-60676-A-34.wav with label: 34\n",
            "299: Processed and saved: stretch_1-60676-A-34.wav with label: 34\n"
          ]
        },
        {
          "output_type": "stream",
          "name": "stderr",
          "text": [
            "\n",
            " 75%|███████▌  | 301/400.0 [01:00<00:24,  4.06it/s]\u001b[A\n",
            " 76%|███████▌  | 302/400.0 [01:00<00:23,  4.17it/s]\u001b[A\n",
            " 76%|███████▌  | 303/400.0 [01:01<00:23,  4.12it/s]\u001b[A\n",
            " 76%|███████▌  | 304/400.0 [01:01<00:21,  4.55it/s]\u001b[A\n",
            " 76%|███████▋  | 305/400.0 [01:01<00:19,  4.96it/s]\u001b[A\n",
            " 76%|███████▋  | 306/400.0 [01:01<00:17,  5.23it/s]\u001b[A\n",
            " 77%|███████▋  | 307/400.0 [01:01<00:16,  5.49it/s]\u001b[A\n",
            " 77%|███████▋  | 308/400.0 [01:01<00:16,  5.53it/s]\u001b[A\n",
            " 77%|███████▋  | 309/400.0 [01:02<00:16,  5.67it/s]\u001b[A\n",
            " 78%|███████▊  | 310/400.0 [01:02<00:15,  5.65it/s]\u001b[A\n",
            " 78%|███████▊  | 311/400.0 [01:02<00:15,  5.87it/s]\u001b[A"
          ]
        },
        {
          "output_type": "stream",
          "name": "stdout",
          "text": [
            "\n",
            "309: Processed and saved: shift_1-62594-A-32.wav with label: 32\n",
            "309: Processed and saved: stretch_1-62594-A-32.wav with label: 32\n"
          ]
        },
        {
          "output_type": "stream",
          "name": "stderr",
          "text": [
            "\n",
            " 78%|███████▊  | 312/400.0 [01:02<00:14,  5.98it/s]\u001b[A\n",
            " 78%|███████▊  | 313/400.0 [01:02<00:14,  5.91it/s]\u001b[A\n",
            " 78%|███████▊  | 314/400.0 [01:02<00:14,  5.96it/s]\u001b[A\n",
            " 79%|███████▉  | 315/400.0 [01:03<00:14,  5.99it/s]\u001b[A\n",
            " 79%|███████▉  | 316/400.0 [01:03<00:14,  5.86it/s]\u001b[A\n",
            " 79%|███████▉  | 317/400.0 [01:03<00:13,  6.06it/s]\u001b[A\n",
            " 80%|███████▉  | 318/400.0 [01:03<00:13,  6.19it/s]\u001b[A\n",
            " 80%|███████▉  | 319/400.0 [01:03<00:13,  6.06it/s]\u001b[A\n",
            " 80%|████████  | 320/400.0 [01:03<00:13,  6.15it/s]\u001b[A\n",
            " 80%|████████  | 321/400.0 [01:04<00:12,  6.24it/s]\u001b[A"
          ]
        },
        {
          "output_type": "stream",
          "name": "stdout",
          "text": [
            "\n",
            "319: Processed and saved: shift_1-67152-A-17.wav with label: 17\n",
            "319: Processed and saved: stretch_1-67152-A-17.wav with label: 17\n"
          ]
        },
        {
          "output_type": "stream",
          "name": "stderr",
          "text": [
            "\n",
            " 80%|████████  | 322/400.0 [01:04<00:13,  5.93it/s]\u001b[A\n",
            " 81%|████████  | 323/400.0 [01:04<00:13,  5.90it/s]\u001b[A\n",
            " 81%|████████  | 324/400.0 [01:04<00:12,  5.86it/s]\u001b[A\n",
            " 81%|████████▏ | 325/400.0 [01:04<00:12,  6.17it/s]\u001b[A\n",
            " 82%|████████▏ | 326/400.0 [01:04<00:11,  6.35it/s]\u001b[A\n",
            " 82%|████████▏ | 327/400.0 [01:05<00:11,  6.48it/s]\u001b[A\n",
            " 82%|████████▏ | 328/400.0 [01:05<00:11,  6.22it/s]\u001b[A\n",
            " 82%|████████▏ | 329/400.0 [01:05<00:12,  5.84it/s]\u001b[A\n",
            " 82%|████████▎ | 330/400.0 [01:05<00:12,  5.69it/s]\u001b[A\n"
          ]
        },
        {
          "output_type": "stream",
          "name": "stdout",
          "text": [
            "\n",
            "329: Processed and saved: shift_1-70300-A-45.wav with label: 45\n",
            "329: Processed and saved: stretch_1-70300-A-45.wav with label: 45\n"
          ]
        },
        {
          "output_type": "stream",
          "name": "stderr",
          "text": [
            " 83%|████████▎ | 331/400.0 [01:05<00:12,  5.47it/s]\u001b[A\n",
            " 83%|████████▎ | 332/400.0 [01:05<00:11,  5.69it/s]\u001b[A\n",
            " 83%|████████▎ | 333/400.0 [01:06<00:11,  5.74it/s]\u001b[A\n",
            " 84%|████████▎ | 334/400.0 [01:06<00:11,  5.63it/s]\u001b[A\n",
            " 84%|████████▍ | 335/400.0 [01:06<00:11,  5.61it/s]\u001b[A\n",
            " 84%|████████▍ | 336/400.0 [01:06<00:11,  5.64it/s]\u001b[A\n",
            " 84%|████████▍ | 337/400.0 [01:06<00:11,  5.62it/s]\u001b[A\n",
            " 84%|████████▍ | 338/400.0 [01:06<00:10,  5.68it/s]\u001b[A\n",
            " 85%|████████▍ | 339/400.0 [01:07<00:13,  4.39it/s]\u001b[A\n",
            " 85%|████████▌ | 340/400.0 [01:07<00:12,  4.68it/s]\u001b[A\n",
            " 85%|████████▌ | 341/400.0 [01:07<00:11,  5.03it/s]\u001b[A"
          ]
        },
        {
          "output_type": "stream",
          "name": "stdout",
          "text": [
            "\n",
            "339: Processed and saved: shift_1-74517-A-37.wav with label: 37\n",
            "339: Processed and saved: stretch_1-74517-A-37.wav with label: 37\n"
          ]
        },
        {
          "output_type": "stream",
          "name": "stderr",
          "text": [
            "\n",
            " 86%|████████▌ | 342/400.0 [01:07<00:10,  5.38it/s]\u001b[A\n",
            " 86%|████████▌ | 343/400.0 [01:08<00:10,  5.53it/s]\u001b[A\n",
            " 86%|████████▌ | 344/400.0 [01:08<00:10,  5.40it/s]\u001b[A\n",
            " 86%|████████▋ | 345/400.0 [01:08<00:09,  5.51it/s]\u001b[A\n",
            " 86%|████████▋ | 346/400.0 [01:08<00:09,  5.66it/s]\u001b[A\n",
            " 87%|████████▋ | 347/400.0 [01:08<00:08,  5.90it/s]\u001b[A\n",
            " 87%|████████▋ | 348/400.0 [01:08<00:08,  5.95it/s]\u001b[A\n",
            " 87%|████████▋ | 349/400.0 [01:09<00:08,  5.81it/s]\u001b[A\n",
            " 88%|████████▊ | 350/400.0 [01:09<00:08,  5.86it/s]\u001b[A\n",
            " 88%|████████▊ | 351/400.0 [01:09<00:08,  5.95it/s]\u001b[A"
          ]
        },
        {
          "output_type": "stream",
          "name": "stdout",
          "text": [
            "\n",
            "349: Processed and saved: shift_1-77160-A-3.wav with label: 3\n",
            "349: Processed and saved: stretch_1-77160-A-3.wav with label: 3\n"
          ]
        },
        {
          "output_type": "stream",
          "name": "stderr",
          "text": [
            "\n",
            " 88%|████████▊ | 352/400.0 [01:09<00:08,  5.87it/s]\u001b[A\n",
            " 88%|████████▊ | 353/400.0 [01:09<00:07,  6.14it/s]\u001b[A\n",
            " 88%|████████▊ | 354/400.0 [01:09<00:07,  5.82it/s]\u001b[A\n",
            " 89%|████████▉ | 355/400.0 [01:10<00:07,  6.01it/s]\u001b[A\n",
            " 89%|████████▉ | 356/400.0 [01:10<00:07,  6.01it/s]\u001b[A\n",
            " 89%|████████▉ | 357/400.0 [01:10<00:07,  6.09it/s]\u001b[A\n",
            " 90%|████████▉ | 358/400.0 [01:10<00:07,  5.73it/s]\u001b[A\n",
            " 90%|████████▉ | 359/400.0 [01:10<00:07,  5.82it/s]\u001b[A\n",
            " 90%|█████████ | 360/400.0 [01:10<00:06,  5.86it/s]\u001b[A"
          ]
        },
        {
          "output_type": "stream",
          "name": "stdout",
          "text": [
            "\n",
            "359: Processed and saved: shift_1-80785-A-7.wav with label: 7\n",
            "359: Processed and saved: stretch_1-80785-A-7.wav with label: 7\n"
          ]
        },
        {
          "output_type": "stream",
          "name": "stderr",
          "text": [
            "\n",
            " 90%|█████████ | 361/400.0 [01:11<00:07,  5.40it/s]\u001b[A\n",
            " 90%|█████████ | 362/400.0 [01:11<00:07,  5.16it/s]\u001b[A\n",
            " 91%|█████████ | 363/400.0 [01:11<00:07,  4.94it/s]\u001b[A\n",
            " 91%|█████████ | 364/400.0 [01:11<00:07,  4.65it/s]\u001b[A\n",
            " 91%|█████████▏| 365/400.0 [01:12<00:08,  4.35it/s]\u001b[A\n",
            " 92%|█████████▏| 366/400.0 [01:12<00:08,  4.13it/s]\u001b[A\n",
            " 92%|█████████▏| 367/400.0 [01:12<00:07,  4.28it/s]\u001b[A\n",
            " 92%|█████████▏| 368/400.0 [01:12<00:07,  4.27it/s]\u001b[A\n",
            " 92%|█████████▏| 369/400.0 [01:13<00:07,  4.28it/s]\u001b[A\n",
            " 92%|█████████▎| 370/400.0 [01:13<00:06,  4.36it/s]\u001b[A"
          ]
        },
        {
          "output_type": "stream",
          "name": "stdout",
          "text": [
            "\n",
            "369: Processed and saved: shift_1-84536-A-39.wav with label: 39\n",
            "369: Processed and saved: stretch_1-84536-A-39.wav with label: 39\n"
          ]
        },
        {
          "output_type": "stream",
          "name": "stderr",
          "text": [
            "\n",
            " 93%|█████████▎| 371/400.0 [01:13<00:06,  4.41it/s]\u001b[A\n",
            " 93%|█████████▎| 372/400.0 [01:13<00:06,  4.40it/s]\u001b[A\n",
            " 93%|█████████▎| 373/400.0 [01:13<00:06,  4.22it/s]\u001b[A\n",
            " 94%|█████████▎| 374/400.0 [01:14<00:06,  4.27it/s]\u001b[A\n",
            " 94%|█████████▍| 375/400.0 [01:14<00:05,  4.54it/s]\u001b[A\n",
            " 94%|█████████▍| 376/400.0 [01:14<00:05,  4.39it/s]\u001b[A\n",
            " 94%|█████████▍| 377/400.0 [01:14<00:05,  4.04it/s]\u001b[A\n",
            " 94%|█████████▍| 378/400.0 [01:15<00:05,  3.95it/s]\u001b[A\n",
            " 95%|█████████▍| 379/400.0 [01:15<00:04,  4.41it/s]\u001b[A\n",
            " 95%|█████████▌| 380/400.0 [01:15<00:04,  4.78it/s]\u001b[A"
          ]
        },
        {
          "output_type": "stream",
          "name": "stdout",
          "text": [
            "\n",
            "379: Processed and saved: shift_1-88409-B-45.wav with label: 45\n",
            "379: Processed and saved: stretch_1-88409-B-45.wav with label: 45\n"
          ]
        },
        {
          "output_type": "stream",
          "name": "stderr",
          "text": [
            "\n",
            " 95%|█████████▌| 381/400.0 [01:15<00:04,  4.30it/s]\u001b[A\n",
            " 96%|█████████▌| 382/400.0 [01:15<00:03,  4.76it/s]\u001b[A\n",
            " 96%|█████████▌| 383/400.0 [01:16<00:03,  5.26it/s]\u001b[A\n",
            " 96%|█████████▌| 384/400.0 [01:16<00:02,  5.58it/s]\u001b[A\n",
            " 96%|█████████▋| 385/400.0 [01:16<00:02,  5.57it/s]\u001b[A\n",
            " 96%|█████████▋| 386/400.0 [01:16<00:02,  5.79it/s]\u001b[A\n",
            " 97%|█████████▋| 387/400.0 [01:16<00:02,  5.96it/s]\u001b[A\n",
            " 97%|█████████▋| 388/400.0 [01:16<00:02,  5.88it/s]\u001b[A\n",
            " 97%|█████████▋| 389/400.0 [01:17<00:01,  5.95it/s]\u001b[A\n",
            " 98%|█████████▊| 390/400.0 [01:17<00:01,  5.76it/s]\u001b[A\n",
            " 98%|█████████▊| 391/400.0 [01:17<00:01,  5.86it/s]\u001b[A"
          ]
        },
        {
          "output_type": "stream",
          "name": "stdout",
          "text": [
            "\n",
            "389: Processed and saved: shift_1-96890-A-37.wav with label: 37\n",
            "389: Processed and saved: stretch_1-96890-A-37.wav with label: 37\n"
          ]
        },
        {
          "output_type": "stream",
          "name": "stderr",
          "text": [
            "\n",
            " 98%|█████████▊| 392/400.0 [01:17<00:01,  5.92it/s]\u001b[A\n",
            " 98%|█████████▊| 393/400.0 [01:17<00:01,  6.08it/s]\u001b[A\n",
            " 98%|█████████▊| 394/400.0 [01:17<00:00,  6.22it/s]\u001b[A\n",
            " 99%|█████████▉| 395/400.0 [01:18<00:00,  5.77it/s]\u001b[A\n",
            " 99%|█████████▉| 396/400.0 [01:18<00:00,  5.90it/s]\u001b[A\n",
            " 99%|█████████▉| 397/400.0 [01:18<00:00,  5.79it/s]\u001b[A\n",
            "100%|█████████▉| 398/400.0 [01:18<00:00,  5.70it/s]\u001b[A\n",
            "100%|█████████▉| 399/400.0 [01:18<00:00,  5.77it/s]\u001b[A\n",
            "100%|██████████| 400/400.0 [01:18<00:00,  5.65it/s]\u001b[A\n",
            "401it [01:19,  5.62it/s]                           \u001b[A"
          ]
        },
        {
          "output_type": "stream",
          "name": "stdout",
          "text": [
            "\n",
            "399: Processed and saved: shift_1-99958-A-31.wav with label: 31\n",
            "399: Processed and saved: stretch_1-99958-A-31.wav with label: 31\n"
          ]
        },
        {
          "output_type": "stream",
          "name": "stderr",
          "text": [
            "\n",
            "402it [01:19,  5.76it/s]\u001b[A\n",
            "403it [01:19,  5.66it/s]\u001b[A\n",
            "404it [01:19,  5.63it/s]\u001b[A\n",
            "405it [01:19,  5.47it/s]\u001b[A\n",
            "406it [01:20,  5.75it/s]\u001b[A\n",
            "407it [01:20,  5.81it/s]\u001b[A\n",
            "408it [01:20,  5.83it/s]\u001b[A\n",
            "409it [01:20,  5.95it/s]\u001b[A\n",
            "410it [01:20,  5.98it/s]\u001b[A\n",
            "411it [01:20,  6.02it/s]\u001b[A"
          ]
        },
        {
          "output_type": "stream",
          "name": "stdout",
          "text": [
            "\n",
            "409: Processed and saved: shift_2-102414-G-17.wav with label: 17\n",
            "409: Processed and saved: stretch_2-102414-G-17.wav with label: 17\n"
          ]
        },
        {
          "output_type": "stream",
          "name": "stderr",
          "text": [
            "\n",
            "412it [01:21,  3.21it/s]\u001b[A\n",
            "413it [01:21,  3.72it/s]\u001b[A\n",
            "414it [01:21,  4.30it/s]\u001b[A\n",
            "415it [01:21,  4.64it/s]\u001b[A\n",
            "416it [01:22,  4.76it/s]\u001b[A\n",
            "417it [01:22,  5.25it/s]\u001b[A\n",
            "418it [01:22,  5.55it/s]\u001b[A\n",
            "419it [01:22,  5.82it/s]\u001b[A\n",
            "420it [01:22,  6.24it/s]\u001b[A\n",
            "421it [01:22,  6.26it/s]\u001b[A"
          ]
        },
        {
          "output_type": "stream",
          "name": "stdout",
          "text": [
            "\n",
            "419: Processed and saved: shift_2-103423-A-3.wav with label: 3\n",
            "419: Processed and saved: stretch_2-103423-A-3.wav with label: 3\n"
          ]
        },
        {
          "output_type": "stream",
          "name": "stderr",
          "text": [
            "\n",
            "422it [01:23,  6.29it/s]\u001b[A\n",
            "423it [01:23,  6.54it/s]\u001b[A\n",
            "424it [01:23,  6.58it/s]\u001b[A\n",
            "425it [01:23,  6.30it/s]\u001b[A\n",
            "426it [01:23,  6.17it/s]\u001b[A\n",
            "427it [01:23,  6.42it/s]\u001b[A\n",
            "428it [01:24,  6.27it/s]\u001b[A\n",
            "429it [01:24,  6.15it/s]\u001b[A\n",
            "430it [01:24,  6.30it/s]\u001b[A\n",
            "431it [01:24,  6.07it/s]\u001b[A"
          ]
        },
        {
          "output_type": "stream",
          "name": "stdout",
          "text": [
            "\n",
            "429: Processed and saved: shift_2-104877-A-3.wav with label: 3\n",
            "429: Processed and saved: stretch_2-104877-A-3.wav with label: 3\n"
          ]
        },
        {
          "output_type": "stream",
          "name": "stderr",
          "text": [
            "\n",
            "432it [01:24,  6.20it/s]\u001b[A\n",
            "433it [01:24,  6.23it/s]\u001b[A\n",
            "434it [01:25,  6.27it/s]\u001b[A\n",
            "435it [01:25,  6.23it/s]\u001b[A\n",
            "436it [01:25,  5.36it/s]\u001b[A\n",
            "437it [01:25,  5.06it/s]\u001b[A\n",
            "438it [01:25,  4.88it/s]\u001b[A\n",
            "439it [01:26,  4.38it/s]\u001b[A\n",
            "440it [01:26,  4.16it/s]\u001b[A"
          ]
        },
        {
          "output_type": "stream",
          "name": "stdout",
          "text": [
            "\n",
            "439: Processed and saved: shift_2-106486-A-44.wav with label: 44\n",
            "439: Processed and saved: stretch_2-106486-A-44.wav with label: 44\n"
          ]
        },
        {
          "output_type": "stream",
          "name": "stderr",
          "text": [
            "\n",
            "441it [01:26,  4.14it/s]\u001b[A\n",
            "442it [01:26,  4.16it/s]\u001b[A\n",
            "443it [01:27,  4.29it/s]\u001b[A\n",
            "444it [01:27,  4.32it/s]\u001b[A\n",
            "445it [01:27,  4.57it/s]\u001b[A\n",
            "446it [01:27,  4.24it/s]\u001b[A\n",
            "447it [01:28,  4.42it/s]\u001b[A\n",
            "448it [01:28,  4.28it/s]\u001b[A\n",
            "449it [01:28,  3.76it/s]\u001b[A\n",
            "450it [01:28,  4.09it/s]\u001b[A"
          ]
        },
        {
          "output_type": "stream",
          "name": "stdout",
          "text": [
            "\n",
            "449: Processed and saved: shift_2-108760-B-14.wav with label: 14\n",
            "449: Processed and saved: stretch_2-108760-B-14.wav with label: 14\n"
          ]
        },
        {
          "output_type": "stream",
          "name": "stderr",
          "text": [
            "\n",
            "451it [01:29,  4.17it/s]\u001b[A\n",
            "452it [01:29,  3.94it/s]\u001b[A\n",
            "453it [01:29,  4.15it/s]\u001b[A\n",
            "454it [01:29,  4.47it/s]\u001b[A\n",
            "455it [01:29,  4.75it/s]\u001b[A\n",
            "456it [01:30,  5.07it/s]\u001b[A\n",
            "457it [01:30,  5.01it/s]\u001b[A\n",
            "458it [01:30,  5.14it/s]\u001b[A\n",
            "459it [01:30,  5.44it/s]\u001b[A\n",
            "460it [01:30,  5.60it/s]\u001b[A\n",
            "461it [01:30,  5.74it/s]\u001b[A"
          ]
        },
        {
          "output_type": "stream",
          "name": "stdout",
          "text": [
            "\n",
            "459: Processed and saved: shift_2-109316-A-32.wav with label: 32\n",
            "459: Processed and saved: stretch_2-109316-A-32.wav with label: 32\n"
          ]
        },
        {
          "output_type": "stream",
          "name": "stderr",
          "text": [
            "\n",
            "462it [01:31,  5.87it/s]\u001b[A\n",
            "463it [01:31,  6.06it/s]\u001b[A\n",
            "464it [01:31,  5.58it/s]\u001b[A\n",
            "465it [01:31,  5.60it/s]\u001b[A\n",
            "466it [01:31,  6.01it/s]\u001b[A\n",
            "467it [01:31,  5.95it/s]\u001b[A\n",
            "468it [01:32,  6.02it/s]\u001b[A\n",
            "469it [01:32,  5.96it/s]\u001b[A\n",
            "470it [01:32,  5.97it/s]\u001b[A\n",
            "471it [01:32,  6.04it/s]\u001b[A"
          ]
        },
        {
          "output_type": "stream",
          "name": "stdout",
          "text": [
            "\n",
            "469: Processed and saved: shift_2-110011-A-5.wav with label: 5\n",
            "469: Processed and saved: stretch_2-110011-A-5.wav with label: 5\n"
          ]
        },
        {
          "output_type": "stream",
          "name": "stderr",
          "text": [
            "\n",
            "472it [01:32,  5.82it/s]\u001b[A\n",
            "473it [01:32,  5.93it/s]\u001b[A\n",
            "474it [01:33,  5.73it/s]\u001b[A\n",
            "475it [01:33,  5.67it/s]\u001b[A\n",
            "476it [01:33,  5.22it/s]\u001b[A\n",
            "477it [01:33,  5.51it/s]\u001b[A\n",
            "478it [01:33,  5.85it/s]\u001b[A\n",
            "479it [01:34,  5.72it/s]\u001b[A\n",
            "480it [01:34,  5.76it/s]\u001b[A\n",
            "481it [01:34,  5.73it/s]\u001b[A"
          ]
        },
        {
          "output_type": "stream",
          "name": "stdout",
          "text": [
            "\n",
            "479: Processed and saved: shift_2-114587-A-0.wav with label: 0\n",
            "479: Processed and saved: stretch_2-114587-A-0.wav with label: 0\n"
          ]
        },
        {
          "output_type": "stream",
          "name": "stderr",
          "text": [
            "\n",
            "482it [01:34,  5.59it/s]\u001b[A\n",
            "483it [01:34,  5.47it/s]\u001b[A\n",
            "484it [01:34,  5.11it/s]\u001b[A\n",
            "485it [01:35,  4.67it/s]\u001b[A\n",
            "486it [01:35,  4.22it/s]\u001b[A\n",
            "487it [01:35,  4.08it/s]\u001b[A\n",
            "488it [01:35,  4.41it/s]\u001b[A\n",
            "489it [01:36,  4.79it/s]\u001b[A\n",
            "490it [01:36,  4.85it/s]\u001b[A\n",
            "491it [01:36,  5.22it/s]\u001b[A"
          ]
        },
        {
          "output_type": "stream",
          "name": "stdout",
          "text": [
            "\n",
            "489: Processed and saved: shift_2-117615-D-48.wav with label: 48\n",
            "489: Processed and saved: stretch_2-117615-D-48.wav with label: 48\n"
          ]
        },
        {
          "output_type": "stream",
          "name": "stderr",
          "text": [
            "\n",
            "492it [01:36,  5.26it/s]\u001b[A\n",
            "493it [01:36,  5.64it/s]\u001b[A\n",
            "494it [01:36,  5.84it/s]\u001b[A\n",
            "495it [01:37,  5.69it/s]\u001b[A\n",
            "496it [01:37,  5.76it/s]\u001b[A\n",
            "497it [01:37,  6.17it/s]\u001b[A\n",
            "498it [01:37,  5.73it/s]\u001b[A\n",
            "499it [01:37,  5.58it/s]\u001b[A\n",
            "500it [01:38,  5.56it/s]\u001b[A\n",
            "501it [01:38,  5.82it/s]\u001b[A"
          ]
        },
        {
          "output_type": "stream",
          "name": "stdout",
          "text": [
            "\n",
            "499: Processed and saved: shift_2-118459-B-32.wav with label: 32\n",
            "499: Processed and saved: stretch_2-118459-B-32.wav with label: 32\n"
          ]
        },
        {
          "output_type": "stream",
          "name": "stderr",
          "text": [
            "\n",
            "502it [01:38,  6.09it/s]\u001b[A\n",
            "503it [01:38,  6.25it/s]\u001b[A\n",
            "504it [01:38,  5.86it/s]\u001b[A\n",
            "505it [01:38,  5.82it/s]\u001b[A\n",
            "506it [01:39,  6.14it/s]\u001b[A\n",
            "507it [01:39,  5.64it/s]\u001b[A\n",
            "508it [01:39,  5.85it/s]\u001b[A\n",
            "509it [01:39,  5.48it/s]\u001b[A\n",
            "510it [01:39,  4.77it/s]\u001b[A"
          ]
        },
        {
          "output_type": "stream",
          "name": "stdout",
          "text": [
            "\n",
            "509: Processed and saved: shift_2-119748-A-38.wav with label: 38\n",
            "509: Processed and saved: stretch_2-119748-A-38.wav with label: 38\n"
          ]
        },
        {
          "output_type": "stream",
          "name": "stderr",
          "text": [
            "\n",
            "511it [01:40,  4.54it/s]\u001b[A\n",
            "512it [01:40,  4.43it/s]\u001b[A\n",
            "513it [01:40,  4.66it/s]\u001b[A\n",
            "514it [01:40,  4.63it/s]\u001b[A\n",
            "515it [01:41,  4.51it/s]\u001b[A\n",
            "516it [01:41,  2.31it/s]\u001b[A\n",
            "517it [01:42,  2.61it/s]\u001b[A\n",
            "518it [01:42,  2.87it/s]\u001b[A\n",
            "519it [01:42,  3.15it/s]\u001b[A\n",
            "520it [01:42,  3.32it/s]\u001b[A\n",
            "521it [01:43,  3.80it/s]\u001b[A"
          ]
        },
        {
          "output_type": "stream",
          "name": "stdout",
          "text": [
            "\n",
            "519: Processed and saved: shift_2-122067-A-45.wav with label: 45\n",
            "519: Processed and saved: stretch_2-122067-A-45.wav with label: 45\n"
          ]
        },
        {
          "output_type": "stream",
          "name": "stderr",
          "text": [
            "\n",
            "522it [01:43,  4.18it/s]\u001b[A\n",
            "523it [01:43,  4.66it/s]\u001b[A\n",
            "524it [01:43,  4.95it/s]\u001b[A\n",
            "525it [01:43,  5.37it/s]\u001b[A\n",
            "526it [01:43,  5.45it/s]\u001b[A\n",
            "527it [01:44,  5.34it/s]\u001b[A\n",
            "528it [01:44,  5.60it/s]\u001b[A\n",
            "529it [01:44,  5.67it/s]\u001b[A\n",
            "530it [01:44,  5.81it/s]\u001b[A\n",
            "531it [01:44,  6.02it/s]\u001b[A"
          ]
        },
        {
          "output_type": "stream",
          "name": "stdout",
          "text": [
            "\n",
            "529: Processed and saved: shift_2-123896-A-24.wav with label: 24\n",
            "529: Processed and saved: stretch_2-123896-A-24.wav with label: 24\n"
          ]
        },
        {
          "output_type": "stream",
          "name": "stderr",
          "text": [
            "\n",
            "532it [01:45,  3.19it/s]\u001b[A\n",
            "533it [01:45,  3.73it/s]\u001b[A\n",
            "534it [01:45,  4.16it/s]\u001b[A\n",
            "535it [01:46,  4.31it/s]\u001b[A\n",
            "536it [01:46,  4.80it/s]\u001b[A\n",
            "537it [01:46,  4.86it/s]\u001b[A\n",
            "538it [01:46,  5.31it/s]\u001b[A\n",
            "539it [01:46,  5.50it/s]\u001b[A\n",
            "540it [01:46,  5.30it/s]\u001b[A\n",
            "541it [01:47,  5.47it/s]\u001b[A"
          ]
        },
        {
          "output_type": "stream",
          "name": "stdout",
          "text": [
            "\n",
            "539: Processed and saved: shift_2-127109-A-6.wav with label: 6\n",
            "539: Processed and saved: stretch_2-127109-A-6.wav with label: 6\n"
          ]
        },
        {
          "output_type": "stream",
          "name": "stderr",
          "text": [
            "\n",
            "542it [01:47,  5.47it/s]\u001b[A\n",
            "543it [01:47,  5.80it/s]\u001b[A\n",
            "544it [01:47,  5.79it/s]\u001b[A\n",
            "545it [01:47,  6.09it/s]\u001b[A\n",
            "546it [01:47,  6.11it/s]\u001b[A\n",
            "547it [01:48,  5.77it/s]\u001b[A\n",
            "548it [01:48,  3.15it/s]\u001b[A\n",
            "549it [01:48,  3.69it/s]\u001b[A\n",
            "550it [01:49,  4.24it/s]\u001b[A\n"
          ]
        },
        {
          "output_type": "stream",
          "name": "stdout",
          "text": [
            "\n",
            "549: Processed and saved: shift_2-133863-A-11.wav with label: 11\n",
            "549: Processed and saved: stretch_2-133863-A-11.wav with label: 11\n"
          ]
        },
        {
          "output_type": "stream",
          "name": "stderr",
          "text": [
            "551it [01:49,  4.46it/s]\u001b[A\n",
            "552it [01:49,  4.80it/s]\u001b[A\n",
            "553it [01:49,  5.12it/s]\u001b[A\n",
            "554it [01:49,  5.60it/s]\u001b[A\n",
            "555it [01:49,  5.77it/s]\u001b[A\n",
            "556it [01:50,  5.94it/s]\u001b[A\n",
            "557it [01:50,  5.65it/s]\u001b[A\n",
            "558it [01:50,  5.69it/s]\u001b[A\n",
            "559it [01:50,  5.89it/s]\u001b[A\n",
            "560it [01:50,  6.06it/s]\u001b[A\n",
            "561it [01:50,  6.02it/s]\u001b[A"
          ]
        },
        {
          "output_type": "stream",
          "name": "stdout",
          "text": [
            "\n",
            "559: Processed and saved: shift_2-137162-A-11.wav with label: 11\n",
            "559: Processed and saved: stretch_2-137162-A-11.wav with label: 11\n"
          ]
        },
        {
          "output_type": "stream",
          "name": "stderr",
          "text": [
            "\n",
            "562it [01:51,  5.84it/s]\u001b[A\n",
            "563it [01:51,  5.38it/s]\u001b[A\n",
            "564it [01:51,  5.62it/s]\u001b[A\n",
            "565it [01:51,  5.82it/s]\u001b[A\n",
            "566it [01:51,  5.82it/s]\u001b[A\n",
            "567it [01:51,  6.09it/s]\u001b[A\n",
            "568it [01:52,  6.13it/s]\u001b[A\n",
            "569it [01:52,  5.83it/s]\u001b[A\n",
            "570it [01:52,  5.89it/s]\u001b[A\n",
            "571it [01:52,  5.96it/s]\u001b[A"
          ]
        },
        {
          "output_type": "stream",
          "name": "stdout",
          "text": [
            "\n",
            "569: Processed and saved: shift_2-141681-A-36.wav with label: 36\n",
            "569: Processed and saved: stretch_2-141681-A-36.wav with label: 36\n"
          ]
        },
        {
          "output_type": "stream",
          "name": "stderr",
          "text": [
            "\n",
            "572it [01:52,  5.85it/s]\u001b[A\n",
            "573it [01:52,  5.59it/s]\u001b[A\n",
            "574it [01:53,  5.46it/s]\u001b[A\n",
            "575it [01:53,  4.80it/s]\u001b[A\n",
            "576it [01:53,  4.65it/s]\u001b[A\n",
            "577it [01:53,  4.66it/s]\u001b[A\n",
            "578it [01:54,  4.70it/s]\u001b[A\n",
            "579it [01:54,  4.63it/s]\u001b[A\n",
            "580it [01:54,  4.62it/s]\u001b[A\n",
            "581it [01:54,  4.82it/s]\u001b[A"
          ]
        },
        {
          "output_type": "stream",
          "name": "stdout",
          "text": [
            "\n",
            "579: Processed and saved: shift_2-152964-A-31.wav with label: 31\n",
            "579: Processed and saved: stretch_2-152964-A-31.wav with label: 31\n"
          ]
        },
        {
          "output_type": "stream",
          "name": "stderr",
          "text": [
            "\n",
            "582it [01:54,  4.78it/s]\u001b[A\n",
            "583it [01:55,  4.71it/s]\u001b[A\n",
            "584it [01:55,  4.65it/s]\u001b[A\n",
            "585it [01:55,  4.50it/s]\u001b[A\n",
            "586it [01:55,  4.31it/s]\u001b[A\n",
            "587it [01:56,  4.05it/s]\u001b[A\n",
            "588it [01:56,  4.09it/s]\u001b[A\n",
            "589it [01:56,  4.10it/s]\u001b[A\n",
            "590it [01:56,  4.15it/s]\u001b[A"
          ]
        },
        {
          "output_type": "stream",
          "name": "stdout",
          "text": [
            "\n",
            "589: Processed and saved: shift_2-160888-A-47.wav with label: 47\n",
            "589: Processed and saved: stretch_2-160888-A-47.wav with label: 47\n"
          ]
        },
        {
          "output_type": "stream",
          "name": "stderr",
          "text": [
            "\n",
            "591it [01:57,  4.13it/s]\u001b[A\n",
            "592it [01:57,  4.37it/s]\u001b[A\n",
            "593it [01:57,  4.01it/s]\u001b[A\n",
            "594it [01:57,  4.29it/s]\u001b[A\n",
            "595it [01:57,  4.63it/s]\u001b[A\n",
            "596it [01:58,  5.05it/s]\u001b[A\n",
            "597it [01:58,  5.16it/s]\u001b[A\n",
            "598it [01:58,  5.56it/s]\u001b[A\n",
            "599it [01:58,  5.30it/s]\u001b[A\n",
            "600it [01:59,  3.04it/s]\u001b[A\n",
            "601it [01:59,  3.56it/s]\u001b[A"
          ]
        },
        {
          "output_type": "stream",
          "name": "stdout",
          "text": [
            "\n",
            "599: Processed and saved: shift_2-184077-A-49.wav with label: 49\n",
            "599: Processed and saved: stretch_2-184077-A-49.wav with label: 49\n"
          ]
        },
        {
          "output_type": "stream",
          "name": "stderr",
          "text": [
            "\n",
            "602it [01:59,  3.99it/s]\u001b[A\n",
            "603it [01:59,  4.45it/s]\u001b[A\n",
            "604it [02:00,  4.81it/s]\u001b[A\n",
            "605it [02:00,  5.15it/s]\u001b[A\n",
            "606it [02:00,  5.39it/s]\u001b[A\n",
            "607it [02:00,  5.62it/s]\u001b[A\n",
            "608it [02:00,  5.61it/s]\u001b[A\n",
            "609it [02:00,  5.39it/s]\u001b[A\n",
            "610it [02:01,  5.47it/s]\u001b[A\n",
            "611it [02:01,  5.46it/s]\u001b[A"
          ]
        },
        {
          "output_type": "stream",
          "name": "stdout",
          "text": [
            "\n",
            "609: Processed and saved: shift_2-209472-A-25.wav with label: 25\n",
            "609: Processed and saved: stretch_2-209472-A-25.wav with label: 25\n"
          ]
        },
        {
          "output_type": "stream",
          "name": "stderr",
          "text": [
            "\n",
            "612it [02:01,  5.59it/s]\u001b[A\n",
            "613it [02:01,  5.93it/s]\u001b[A\n",
            "614it [02:01,  5.70it/s]\u001b[A\n",
            "615it [02:01,  5.84it/s]\u001b[A\n",
            "616it [02:02,  6.02it/s]\u001b[A\n",
            "617it [02:02,  6.06it/s]\u001b[A\n",
            "618it [02:02,  5.94it/s]\u001b[A\n",
            "619it [02:02,  6.03it/s]\u001b[A\n",
            "620it [02:02,  6.08it/s]\u001b[A\n",
            "621it [02:02,  6.15it/s]\u001b[A"
          ]
        },
        {
          "output_type": "stream",
          "name": "stdout",
          "text": [
            "\n",
            "619: Processed and saved: shift_2-262579-A-45.wav with label: 45\n",
            "619: Processed and saved: stretch_2-262579-A-45.wav with label: 45\n"
          ]
        },
        {
          "output_type": "stream",
          "name": "stderr",
          "text": [
            "\n",
            "622it [02:03,  6.18it/s]\u001b[A\n",
            "623it [02:03,  6.07it/s]\u001b[A\n",
            "624it [02:03,  5.80it/s]\u001b[A\n",
            "625it [02:03,  6.09it/s]\u001b[A\n",
            "626it [02:03,  6.05it/s]\u001b[A\n",
            "627it [02:03,  6.10it/s]\u001b[A\n",
            "628it [02:04,  6.20it/s]\u001b[A\n",
            "629it [02:04,  5.92it/s]\u001b[A\n",
            "630it [02:04,  5.67it/s]\u001b[A\n",
            "631it [02:04,  5.76it/s]\u001b[A"
          ]
        },
        {
          "output_type": "stream",
          "name": "stdout",
          "text": [
            "\n",
            "629: Processed and saved: shift_2-37806-A-40.wav with label: 40\n",
            "629: Processed and saved: stretch_2-37806-A-40.wav with label: 40\n"
          ]
        },
        {
          "output_type": "stream",
          "name": "stderr",
          "text": [
            "\n",
            "632it [02:04,  5.58it/s]\u001b[A\n",
            "633it [02:04,  5.80it/s]\u001b[A\n",
            "634it [02:05,  5.65it/s]\u001b[A\n",
            "635it [02:05,  5.59it/s]\u001b[A\n",
            "636it [02:05,  5.60it/s]\u001b[A\n",
            "637it [02:05,  5.86it/s]\u001b[A\n",
            "638it [02:05,  5.90it/s]\u001b[A\n",
            "639it [02:05,  5.99it/s]\u001b[A\n",
            "640it [02:06,  5.92it/s]\u001b[A\n",
            "641it [02:06,  5.83it/s]\u001b[A"
          ]
        },
        {
          "output_type": "stream",
          "name": "stdout",
          "text": [
            "\n",
            "639: Processed and saved: shift_2-39945-C-19.wav with label: 19\n",
            "639: Processed and saved: stretch_2-39945-C-19.wav with label: 19\n"
          ]
        },
        {
          "output_type": "stream",
          "name": "stderr",
          "text": [
            "\n",
            "642it [02:06,  5.86it/s]\u001b[A\n",
            "643it [02:06,  6.01it/s]\u001b[A\n",
            "644it [02:06,  5.91it/s]\u001b[A\n",
            "645it [02:06,  5.84it/s]\u001b[A\n",
            "646it [02:07,  6.03it/s]\u001b[A\n",
            "647it [02:07,  5.66it/s]\u001b[A\n",
            "648it [02:07,  5.22it/s]\u001b[A\n",
            "649it [02:07,  4.61it/s]\u001b[A\n",
            "650it [02:08,  4.62it/s]\u001b[A"
          ]
        },
        {
          "output_type": "stream",
          "name": "stdout",
          "text": [
            "\n",
            "649: Processed and saved: shift_2-50774-A-23.wav with label: 23\n",
            "649: Processed and saved: stretch_2-50774-A-23.wav with label: 23\n"
          ]
        },
        {
          "output_type": "stream",
          "name": "stderr",
          "text": [
            "\n",
            "651it [02:08,  4.55it/s]\u001b[A\n",
            "652it [02:08,  4.71it/s]\u001b[A\n",
            "653it [02:08,  4.65it/s]\u001b[A\n",
            "654it [02:08,  4.39it/s]\u001b[A\n",
            "655it [02:09,  4.17it/s]\u001b[A\n",
            "656it [02:09,  4.06it/s]\u001b[A\n",
            "657it [02:09,  3.99it/s]\u001b[A\n",
            "658it [02:10,  3.83it/s]\u001b[A\n",
            "659it [02:10,  4.03it/s]\u001b[A\n",
            "660it [02:10,  4.30it/s]\u001b[A"
          ]
        },
        {
          "output_type": "stream",
          "name": "stdout",
          "text": [
            "\n",
            "659: Processed and saved: shift_2-54961-A-23.wav with label: 23\n",
            "659: Processed and saved: stretch_2-54961-A-23.wav with label: 23\n"
          ]
        },
        {
          "output_type": "stream",
          "name": "stderr",
          "text": [
            "\n",
            "661it [02:10,  4.39it/s]\u001b[A\n",
            "662it [02:10,  3.90it/s]\u001b[A\n",
            "663it [02:11,  3.91it/s]\u001b[A\n",
            "664it [02:11,  4.05it/s]\u001b[A\n",
            "665it [02:11,  4.53it/s]\u001b[A\n",
            "666it [02:11,  4.99it/s]\u001b[A\n",
            "667it [02:11,  4.90it/s]\u001b[A\n",
            "668it [02:12,  5.20it/s]\u001b[A\n",
            "669it [02:12,  5.42it/s]\u001b[A\n",
            "670it [02:12,  5.59it/s]\u001b[A\n",
            "671it [02:12,  5.86it/s]\u001b[A"
          ]
        },
        {
          "output_type": "stream",
          "name": "stdout",
          "text": [
            "\n",
            "669: Processed and saved: shift_2-60180-B-49.wav with label: 49\n",
            "669: Processed and saved: stretch_2-60180-B-49.wav with label: 49\n"
          ]
        },
        {
          "output_type": "stream",
          "name": "stderr",
          "text": [
            "\n",
            "672it [02:12,  6.03it/s]\u001b[A\n",
            "673it [02:12,  5.88it/s]\u001b[A\n",
            "674it [02:13,  6.02it/s]\u001b[A\n",
            "675it [02:13,  6.06it/s]\u001b[A\n",
            "676it [02:13,  6.16it/s]\u001b[A\n",
            "677it [02:13,  5.61it/s]\u001b[A\n",
            "678it [02:13,  5.88it/s]\u001b[A\n",
            "679it [02:13,  5.91it/s]\u001b[A\n",
            "680it [02:14,  5.96it/s]\u001b[A\n",
            "681it [02:14,  6.12it/s]\u001b[A"
          ]
        },
        {
          "output_type": "stream",
          "name": "stdout",
          "text": [
            "\n",
            "679: Processed and saved: shift_2-64963-A-15.wav with label: 15\n",
            "679: Processed and saved: stretch_2-64963-A-15.wav with label: 15\n"
          ]
        },
        {
          "output_type": "stream",
          "name": "stderr",
          "text": [
            "\n",
            "682it [02:14,  5.78it/s]\u001b[A\n",
            "683it [02:14,  5.93it/s]\u001b[A\n",
            "684it [02:14,  6.09it/s]\u001b[A\n",
            "685it [02:15,  5.60it/s]\u001b[A\n",
            "686it [02:15,  5.72it/s]\u001b[A\n",
            "687it [02:15,  5.67it/s]\u001b[A\n",
            "688it [02:15,  5.55it/s]\u001b[A\n",
            "689it [02:15,  5.89it/s]\u001b[A\n",
            "690it [02:15,  5.61it/s]\u001b[A\n",
            "691it [02:16,  5.54it/s]\u001b[A"
          ]
        },
        {
          "output_type": "stream",
          "name": "stdout",
          "text": [
            "\n",
            "689: Processed and saved: shift_2-68595-A-15.wav with label: 15\n",
            "689: Processed and saved: stretch_2-68595-A-15.wav with label: 15\n"
          ]
        },
        {
          "output_type": "stream",
          "name": "stderr",
          "text": [
            "\n",
            "692it [02:16,  5.17it/s]\u001b[A\n",
            "693it [02:16,  5.37it/s]\u001b[A\n",
            "694it [02:16,  5.54it/s]\u001b[A\n",
            "695it [02:16,  5.52it/s]\u001b[A\n",
            "696it [02:17,  5.60it/s]\u001b[A\n",
            "697it [02:17,  5.73it/s]\u001b[A\n",
            "698it [02:17,  5.93it/s]\u001b[A\n",
            "699it [02:17,  6.13it/s]\u001b[A\n",
            "700it [02:17,  5.91it/s]\u001b[A\n",
            "701it [02:17,  6.04it/s]\u001b[A"
          ]
        },
        {
          "output_type": "stream",
          "name": "stdout",
          "text": [
            "\n",
            "699: Processed and saved: shift_2-70936-A-42.wav with label: 42\n",
            "699: Processed and saved: stretch_2-70936-A-42.wav with label: 42\n"
          ]
        },
        {
          "output_type": "stream",
          "name": "stderr",
          "text": [
            "\n",
            "702it [02:17,  5.92it/s]\u001b[A\n",
            "703it [02:18,  5.97it/s]\u001b[A\n",
            "704it [02:18,  6.13it/s]\u001b[A\n",
            "705it [02:18,  6.09it/s]\u001b[A\n",
            "706it [02:18,  5.52it/s]\u001b[A\n",
            "707it [02:18,  5.46it/s]\u001b[A\n",
            "708it [02:19,  5.49it/s]\u001b[A\n",
            "709it [02:19,  5.55it/s]\u001b[A\n",
            "710it [02:19,  5.56it/s]\u001b[A\n",
            "711it [02:19,  5.63it/s]\u001b[A"
          ]
        },
        {
          "output_type": "stream",
          "name": "stdout",
          "text": [
            "\n",
            "709: Processed and saved: shift_2-72688-A-42.wav with label: 42\n",
            "709: Processed and saved: stretch_2-72688-A-42.wav with label: 42\n"
          ]
        },
        {
          "output_type": "stream",
          "name": "stderr",
          "text": [
            "\n",
            "712it [02:19,  5.61it/s]\u001b[A\n",
            "713it [02:19,  5.67it/s]\u001b[A\n",
            "714it [02:20,  5.85it/s]\u001b[A\n",
            "715it [02:20,  5.76it/s]\u001b[A\n",
            "716it [02:20,  5.85it/s]\u001b[A\n",
            "717it [02:20,  5.91it/s]\u001b[A\n",
            "718it [02:20,  5.98it/s]\u001b[A\n",
            "719it [02:20,  6.17it/s]\u001b[A\n",
            "720it [02:21,  2.97it/s]\u001b[A"
          ]
        },
        {
          "output_type": "stream",
          "name": "stdout",
          "text": [
            "\n",
            "719: Processed and saved: shift_2-76408-B-22.wav with label: 22\n",
            "719: Processed and saved: stretch_2-76408-B-22.wav with label: 22\n"
          ]
        },
        {
          "output_type": "stream",
          "name": "stderr",
          "text": [
            "\n",
            "721it [02:21,  3.19it/s]\u001b[A\n",
            "722it [02:22,  3.20it/s]\u001b[A\n",
            "723it [02:22,  3.49it/s]\u001b[A\n",
            "724it [02:22,  3.74it/s]\u001b[A\n",
            "725it [02:22,  3.99it/s]\u001b[A\n",
            "726it [02:23,  4.18it/s]\u001b[A\n",
            "727it [02:23,  4.25it/s]\u001b[A\n",
            "728it [02:23,  4.27it/s]\u001b[A\n",
            "729it [02:23,  4.34it/s]\u001b[A\n",
            "730it [02:24,  4.27it/s]\u001b[A"
          ]
        },
        {
          "output_type": "stream",
          "name": "stdout",
          "text": [
            "\n",
            "729: Processed and saved: shift_2-78562-B-37.wav with label: 37\n",
            "729: Processed and saved: stretch_2-78562-B-37.wav with label: 37\n"
          ]
        },
        {
          "output_type": "stream",
          "name": "stderr",
          "text": [
            "\n",
            "731it [02:24,  4.24it/s]\u001b[A\n",
            "732it [02:24,  4.38it/s]\u001b[A\n",
            "733it [02:24,  4.35it/s]\u001b[A\n",
            "734it [02:24,  4.20it/s]\u001b[A\n",
            "735it [02:25,  4.21it/s]\u001b[A\n",
            "736it [02:25,  4.15it/s]\u001b[A\n",
            "737it [02:25,  4.18it/s]\u001b[A\n",
            "738it [02:25,  4.58it/s]\u001b[A\n",
            "739it [02:26,  5.12it/s]\u001b[A\n",
            "740it [02:26,  5.44it/s]\u001b[A\n",
            "741it [02:26,  5.74it/s]\u001b[A"
          ]
        },
        {
          "output_type": "stream",
          "name": "stdout",
          "text": [
            "\n",
            "739: Processed and saved: shift_2-81190-A-34.wav with label: 34\n",
            "739: Processed and saved: stretch_2-81190-A-34.wav with label: 34\n"
          ]
        },
        {
          "output_type": "stream",
          "name": "stderr",
          "text": [
            "\n",
            "742it [02:26,  5.91it/s]\u001b[A\n",
            "743it [02:26,  5.90it/s]\u001b[A\n",
            "744it [02:26,  6.15it/s]\u001b[A\n",
            "745it [02:27,  5.42it/s]\u001b[A\n",
            "746it [02:27,  5.63it/s]\u001b[A\n",
            "747it [02:27,  5.64it/s]\u001b[A\n",
            "748it [02:27,  5.83it/s]\u001b[A\n",
            "749it [02:27,  5.91it/s]\u001b[A\n",
            "750it [02:27,  5.86it/s]\u001b[A\n",
            "751it [02:28,  5.88it/s]\u001b[A"
          ]
        },
        {
          "output_type": "stream",
          "name": "stdout",
          "text": [
            "\n",
            "749: Processed and saved: shift_2-82367-A-10.wav with label: 10\n",
            "749: Processed and saved: stretch_2-82367-A-10.wav with label: 10\n"
          ]
        },
        {
          "output_type": "stream",
          "name": "stderr",
          "text": [
            "\n",
            "752it [02:28,  6.22it/s]\u001b[A\n",
            "753it [02:28,  6.08it/s]\u001b[A\n",
            "754it [02:28,  6.23it/s]\u001b[A\n",
            "755it [02:28,  6.00it/s]\u001b[A\n",
            "756it [02:28,  5.94it/s]\u001b[A\n",
            "757it [02:29,  5.98it/s]\u001b[A\n",
            "758it [02:29,  6.01it/s]\u001b[A\n",
            "759it [02:29,  5.56it/s]\u001b[A\n",
            "760it [02:29,  5.64it/s]\u001b[A\n",
            "761it [02:29,  5.68it/s]\u001b[A"
          ]
        },
        {
          "output_type": "stream",
          "name": "stdout",
          "text": [
            "\n",
            "759: Processed and saved: shift_2-84943-A-18.wav with label: 18\n",
            "759: Processed and saved: stretch_2-84943-A-18.wav with label: 18\n"
          ]
        },
        {
          "output_type": "stream",
          "name": "stderr",
          "text": [
            "\n",
            "762it [02:29,  5.82it/s]\u001b[A\n",
            "763it [02:30,  5.89it/s]\u001b[A\n",
            "764it [02:30,  5.86it/s]\u001b[A\n",
            "765it [02:30,  5.92it/s]\u001b[A\n",
            "766it [02:30,  5.51it/s]\u001b[A\n",
            "767it [02:30,  5.26it/s]\u001b[A\n",
            "768it [02:30,  5.33it/s]\u001b[A\n",
            "769it [02:31,  5.51it/s]\u001b[A\n",
            "770it [02:31,  5.66it/s]\u001b[A"
          ]
        },
        {
          "output_type": "stream",
          "name": "stdout",
          "text": [
            "\n",
            "769: Processed and saved: shift_2-87780-A-33.wav with label: 33\n",
            "769: Processed and saved: stretch_2-87780-A-33.wav with label: 33\n"
          ]
        },
        {
          "output_type": "stream",
          "name": "stderr",
          "text": [
            "\n",
            "771it [02:31,  4.88it/s]\u001b[A\n",
            "772it [02:31,  5.24it/s]\u001b[A\n",
            "773it [02:31,  5.30it/s]\u001b[A\n",
            "774it [02:32,  5.57it/s]\u001b[A\n",
            "775it [02:32,  5.73it/s]\u001b[A\n",
            "776it [02:32,  5.60it/s]\u001b[A\n",
            "777it [02:32,  5.87it/s]\u001b[A\n",
            "778it [02:32,  5.92it/s]\u001b[A\n",
            "779it [02:32,  5.85it/s]\u001b[A\n",
            "780it [02:33,  6.21it/s]\u001b[A\n",
            "781it [02:33,  6.06it/s]\u001b[A"
          ]
        },
        {
          "output_type": "stream",
          "name": "stdout",
          "text": [
            "\n",
            "779: Processed and saved: shift_2-92978-A-29.wav with label: 29\n",
            "779: Processed and saved: stretch_2-92978-A-29.wav with label: 29\n"
          ]
        },
        {
          "output_type": "stream",
          "name": "stderr",
          "text": [
            "\n",
            "782it [02:33,  5.84it/s]\u001b[A\n",
            "783it [02:33,  5.81it/s]\u001b[A\n",
            "784it [02:33,  5.93it/s]\u001b[A\n",
            "785it [02:33,  5.82it/s]\u001b[A\n",
            "786it [02:34,  5.96it/s]\u001b[A\n",
            "787it [02:34,  5.80it/s]\u001b[A\n",
            "788it [02:34,  5.83it/s]\u001b[A\n",
            "789it [02:34,  6.05it/s]\u001b[A\n",
            "790it [02:34,  6.24it/s]\u001b[A\n",
            "791it [02:34,  6.10it/s]\u001b[A"
          ]
        },
        {
          "output_type": "stream",
          "name": "stdout",
          "text": [
            "\n",
            "789: Processed and saved: shift_2-96460-A-1.wav with label: 1\n",
            "789: Processed and saved: stretch_2-96460-A-1.wav with label: 1\n"
          ]
        },
        {
          "output_type": "stream",
          "name": "stderr",
          "text": [
            "\n",
            "792it [02:35,  5.93it/s]\u001b[A\n",
            "793it [02:35,  5.89it/s]\u001b[A\n",
            "794it [02:35,  6.02it/s]\u001b[A\n",
            "795it [02:35,  5.51it/s]\u001b[A\n",
            "796it [02:35,  5.05it/s]\u001b[A\n",
            "797it [02:36,  4.47it/s]\u001b[A\n",
            "798it [02:36,  4.60it/s]\u001b[A\n",
            "799it [02:36,  4.30it/s]\u001b[A\n",
            "800it [02:36,  4.28it/s]\u001b[A"
          ]
        },
        {
          "output_type": "stream",
          "name": "stdout",
          "text": [
            "\n",
            "799: Processed and saved: shift_2-99955-C-7.wav with label: 7\n",
            "799: Processed and saved: stretch_2-99955-C-7.wav with label: 7\n"
          ]
        },
        {
          "output_type": "stream",
          "name": "stderr",
          "text": [
            "\n",
            "801it [02:37,  4.26it/s]\u001b[A\n",
            "802it [02:37,  4.24it/s]\u001b[A\n",
            "803it [02:37,  4.17it/s]\u001b[A\n",
            "804it [02:37,  4.22it/s]\u001b[A\n",
            "805it [02:38,  4.35it/s]\u001b[A\n",
            "806it [02:38,  4.38it/s]\u001b[A\n",
            "807it [02:38,  4.35it/s]\u001b[A\n",
            "808it [02:38,  4.14it/s]\u001b[A\n",
            "809it [02:39,  4.26it/s]\u001b[A\n",
            "810it [02:39,  3.86it/s]\u001b[A"
          ]
        },
        {
          "output_type": "stream",
          "name": "stdout",
          "text": [
            "\n",
            "809: Processed and saved: shift_3-103050-A-19.wav with label: 19\n",
            "809: Processed and saved: stretch_3-103050-A-19.wav with label: 19\n"
          ]
        },
        {
          "output_type": "stream",
          "name": "stderr",
          "text": [
            "\n",
            "811it [02:39,  3.89it/s]\u001b[A\n",
            "812it [02:39,  4.02it/s]\u001b[A\n",
            "813it [02:40,  3.84it/s]\u001b[A\n",
            "814it [02:40,  4.16it/s]\u001b[A\n",
            "815it [02:40,  4.59it/s]\u001b[A\n",
            "816it [02:40,  4.95it/s]\u001b[A\n",
            "817it [02:40,  5.26it/s]\u001b[A\n",
            "818it [02:40,  5.46it/s]\u001b[A\n",
            "819it [02:41,  5.69it/s]\u001b[A\n",
            "820it [02:41,  5.81it/s]\u001b[A\n",
            "821it [02:41,  5.67it/s]\u001b[A"
          ]
        },
        {
          "output_type": "stream",
          "name": "stdout",
          "text": [
            "\n",
            "819: Processed and saved: shift_3-103599-A-25.wav with label: 25\n",
            "819: Processed and saved: stretch_3-103599-A-25.wav with label: 25\n"
          ]
        },
        {
          "output_type": "stream",
          "name": "stderr",
          "text": [
            "\n",
            "822it [02:41,  5.75it/s]\u001b[A\n",
            "823it [02:41,  5.60it/s]\u001b[A\n",
            "824it [02:41,  5.78it/s]\u001b[A\n",
            "825it [02:42,  5.80it/s]\u001b[A\n",
            "826it [02:42,  6.07it/s]\u001b[A\n",
            "827it [02:42,  6.22it/s]\u001b[A\n",
            "828it [02:42,  6.27it/s]\u001b[A\n",
            "829it [02:42,  6.48it/s]\u001b[A\n",
            "830it [02:42,  6.53it/s]\u001b[A\n",
            "831it [02:43,  6.43it/s]\u001b[A"
          ]
        },
        {
          "output_type": "stream",
          "name": "stdout",
          "text": [
            "\n",
            "829: Processed and saved: shift_3-108160-A-23.wav with label: 23\n",
            "829: Processed and saved: stretch_3-108160-A-23.wav with label: 23\n"
          ]
        },
        {
          "output_type": "stream",
          "name": "stderr",
          "text": [
            "\n",
            "832it [02:43,  6.37it/s]\u001b[A\n",
            "833it [02:43,  6.15it/s]\u001b[A\n",
            "834it [02:43,  5.87it/s]\u001b[A\n",
            "835it [02:43,  6.09it/s]\u001b[A\n",
            "836it [02:43,  5.94it/s]\u001b[A\n",
            "837it [02:44,  5.92it/s]\u001b[A\n",
            "838it [02:44,  5.83it/s]\u001b[A\n",
            "839it [02:44,  5.71it/s]\u001b[A\n",
            "840it [02:44,  6.03it/s]\u001b[A\n",
            "841it [02:44,  6.16it/s]\u001b[A"
          ]
        },
        {
          "output_type": "stream",
          "name": "stdout",
          "text": [
            "\n",
            "839: Processed and saved: shift_3-111102-A-46.wav with label: 46\n",
            "839: Processed and saved: stretch_3-111102-A-46.wav with label: 46\n"
          ]
        },
        {
          "output_type": "stream",
          "name": "stderr",
          "text": [
            "\n",
            "842it [02:44,  5.22it/s]\u001b[A\n",
            "843it [02:45,  5.30it/s]\u001b[A\n",
            "844it [02:45,  5.44it/s]\u001b[A\n",
            "845it [02:45,  5.31it/s]\u001b[A\n",
            "846it [02:45,  5.61it/s]\u001b[A\n",
            "847it [02:45,  5.87it/s]\u001b[A\n",
            "848it [02:46,  5.74it/s]\u001b[A\n",
            "849it [02:46,  6.01it/s]\u001b[A\n",
            "850it [02:46,  6.10it/s]\u001b[A\n"
          ]
        },
        {
          "output_type": "stream",
          "name": "stdout",
          "text": [
            "\n",
            "849: Processed and saved: shift_3-115387-C-47.wav with label: 47\n",
            "849: Processed and saved: stretch_3-115387-C-47.wav with label: 47\n"
          ]
        },
        {
          "output_type": "stream",
          "name": "stderr",
          "text": [
            "851it [02:46,  5.75it/s]\u001b[A\n",
            "852it [02:46,  5.91it/s]\u001b[A\n",
            "853it [02:46,  5.92it/s]\u001b[A\n",
            "854it [02:47,  6.07it/s]\u001b[A\n",
            "855it [02:47,  6.44it/s]\u001b[A\n",
            "856it [02:47,  5.92it/s]\u001b[A\n",
            "857it [02:47,  5.88it/s]\u001b[A\n",
            "858it [02:47,  5.70it/s]\u001b[A\n",
            "859it [02:47,  5.93it/s]\u001b[A\n",
            "860it [02:48,  6.01it/s]\u001b[A\n",
            "861it [02:48,  6.08it/s]\u001b[A"
          ]
        },
        {
          "output_type": "stream",
          "name": "stdout",
          "text": [
            "\n",
            "859: Processed and saved: shift_3-118194-A-33.wav with label: 33\n",
            "859: Processed and saved: stretch_3-118194-A-33.wav with label: 33\n"
          ]
        },
        {
          "output_type": "stream",
          "name": "stderr",
          "text": [
            "\n",
            "862it [02:48,  6.13it/s]\u001b[A\n",
            "863it [02:48,  5.60it/s]\u001b[A\n",
            "864it [02:48,  5.94it/s]\u001b[A\n",
            "865it [02:48,  5.94it/s]\u001b[A\n",
            "866it [02:49,  5.92it/s]\u001b[A\n",
            "867it [02:49,  5.83it/s]\u001b[A\n",
            "868it [02:49,  5.91it/s]\u001b[A\n",
            "869it [02:49,  5.83it/s]\u001b[A\n",
            "870it [02:49,  6.15it/s]\u001b[A\n",
            "871it [02:49,  6.39it/s]\u001b[A"
          ]
        },
        {
          "output_type": "stream",
          "name": "stdout",
          "text": [
            "\n",
            "869: Processed and saved: shift_3-119120-B-48.wav with label: 48\n",
            "869: Processed and saved: stretch_3-119120-B-48.wav with label: 48\n"
          ]
        },
        {
          "output_type": "stream",
          "name": "stderr",
          "text": [
            "\n",
            "872it [02:50,  6.17it/s]\u001b[A\n",
            "873it [02:50,  5.13it/s]\u001b[A\n",
            "874it [02:50,  4.42it/s]\u001b[A\n",
            "875it [02:50,  4.36it/s]\u001b[A\n",
            "876it [02:51,  4.25it/s]\u001b[A\n",
            "877it [02:51,  4.19it/s]\u001b[A\n",
            "878it [02:51,  4.35it/s]\u001b[A\n",
            "879it [02:51,  3.55it/s]\u001b[A\n",
            "880it [02:52,  3.72it/s]\u001b[A"
          ]
        },
        {
          "output_type": "stream",
          "name": "stdout",
          "text": [
            "\n",
            "879: Processed and saved: shift_3-122110-A-46.wav with label: 46\n",
            "879: Processed and saved: stretch_3-122110-A-46.wav with label: 46\n"
          ]
        },
        {
          "output_type": "stream",
          "name": "stderr",
          "text": [
            "\n",
            "881it [02:52,  3.90it/s]\u001b[A\n",
            "882it [02:52,  3.98it/s]\u001b[A\n",
            "883it [02:52,  3.94it/s]\u001b[A\n",
            "884it [02:53,  4.13it/s]\u001b[A\n",
            "885it [02:53,  4.10it/s]\u001b[A\n",
            "886it [02:53,  4.07it/s]\u001b[A\n",
            "887it [02:53,  4.15it/s]\u001b[A\n",
            "888it [02:54,  4.21it/s]\u001b[A\n",
            "889it [02:54,  4.74it/s]\u001b[A\n",
            "890it [02:54,  5.01it/s]\u001b[A\n",
            "891it [02:54,  5.36it/s]\u001b[A"
          ]
        },
        {
          "output_type": "stream",
          "name": "stdout",
          "text": [
            "\n",
            "889: Processed and saved: shift_3-125548-A-32.wav with label: 32\n",
            "889: Processed and saved: stretch_3-125548-A-32.wav with label: 32\n"
          ]
        },
        {
          "output_type": "stream",
          "name": "stderr",
          "text": [
            "\n",
            "892it [02:54,  5.16it/s]\u001b[A\n",
            "893it [02:54,  5.41it/s]\u001b[A\n",
            "894it [02:55,  5.73it/s]\u001b[A\n",
            "895it [02:55,  5.61it/s]\u001b[A\n",
            "896it [02:55,  5.73it/s]\u001b[A\n",
            "897it [02:55,  5.76it/s]\u001b[A\n",
            "898it [02:55,  5.83it/s]\u001b[A\n",
            "899it [02:55,  5.82it/s]\u001b[A\n",
            "900it [02:56,  5.58it/s]\u001b[A\n",
            "901it [02:56,  5.82it/s]\u001b[A"
          ]
        },
        {
          "output_type": "stream",
          "name": "stdout",
          "text": [
            "\n",
            "899: Processed and saved: shift_3-128160-A-44.wav with label: 44\n",
            "899: Processed and saved: stretch_3-128160-A-44.wav with label: 44\n"
          ]
        },
        {
          "output_type": "stream",
          "name": "stderr",
          "text": [
            "\n",
            "902it [02:56,  5.90it/s]\u001b[A\n",
            "903it [02:56,  5.94it/s]\u001b[A\n",
            "904it [02:56,  6.00it/s]\u001b[A\n",
            "905it [02:56,  5.72it/s]\u001b[A\n",
            "906it [02:57,  6.00it/s]\u001b[A\n",
            "907it [02:57,  6.02it/s]\u001b[A\n",
            "908it [02:57,  6.10it/s]\u001b[A\n",
            "909it [02:57,  6.21it/s]\u001b[A\n",
            "910it [02:57,  6.02it/s]\u001b[A\n",
            "911it [02:57,  6.18it/s]\u001b[A"
          ]
        },
        {
          "output_type": "stream",
          "name": "stdout",
          "text": [
            "\n",
            "909: Processed and saved: shift_3-132340-A-37.wav with label: 37\n",
            "909: Processed and saved: stretch_3-132340-A-37.wav with label: 37\n"
          ]
        },
        {
          "output_type": "stream",
          "name": "stderr",
          "text": [
            "\n",
            "912it [02:58,  6.34it/s]\u001b[A\n",
            "913it [02:58,  5.90it/s]\u001b[A\n",
            "914it [02:58,  5.83it/s]\u001b[A\n",
            "915it [02:58,  6.02it/s]\u001b[A\n",
            "916it [02:58,  6.08it/s]\u001b[A\n",
            "917it [02:58,  5.52it/s]\u001b[A\n",
            "918it [02:59,  5.55it/s]\u001b[A\n",
            "919it [02:59,  5.66it/s]\u001b[A\n",
            "920it [02:59,  5.28it/s]\u001b[A\n",
            "921it [02:59,  5.38it/s]\u001b[A"
          ]
        },
        {
          "output_type": "stream",
          "name": "stdout",
          "text": [
            "\n",
            "919: Processed and saved: shift_3-134802-A-13.wav with label: 13\n",
            "919: Processed and saved: stretch_3-134802-A-13.wav with label: 13\n"
          ]
        },
        {
          "output_type": "stream",
          "name": "stderr",
          "text": [
            "\n",
            "922it [02:59,  5.72it/s]\u001b[A\n",
            "923it [03:00,  5.81it/s]\u001b[A\n",
            "924it [03:00,  5.99it/s]\u001b[A\n",
            "925it [03:00,  5.78it/s]\u001b[A\n",
            "926it [03:00,  5.83it/s]\u001b[A\n",
            "927it [03:00,  6.10it/s]\u001b[A\n",
            "928it [03:00,  6.02it/s]\u001b[A\n",
            "929it [03:01,  5.75it/s]\u001b[A\n",
            "930it [03:01,  5.74it/s]\u001b[A\n",
            "931it [03:01,  5.77it/s]\u001b[A"
          ]
        },
        {
          "output_type": "stream",
          "name": "stdout",
          "text": [
            "\n",
            "929: Processed and saved: shift_3-139109-A-46.wav with label: 46\n",
            "929: Processed and saved: stretch_3-139109-A-46.wav with label: 46\n"
          ]
        },
        {
          "output_type": "stream",
          "name": "stderr",
          "text": [
            "\n",
            "932it [03:01,  5.80it/s]\u001b[A\n",
            "933it [03:01,  5.95it/s]\u001b[A\n",
            "934it [03:01,  5.49it/s]\u001b[A\n",
            "935it [03:02,  5.43it/s]\u001b[A\n",
            "936it [03:02,  5.51it/s]\u001b[A\n",
            "937it [03:02,  5.56it/s]\u001b[A\n",
            "938it [03:02,  5.84it/s]\u001b[A\n",
            "939it [03:02,  5.79it/s]\u001b[A\n",
            "940it [03:03,  5.47it/s]\u001b[A\n",
            "941it [03:03,  5.56it/s]\u001b[A"
          ]
        },
        {
          "output_type": "stream",
          "name": "stdout",
          "text": [
            "\n",
            "939: Processed and saved: shift_3-141240-B-44.wav with label: 44\n",
            "939: Processed and saved: stretch_3-141240-B-44.wav with label: 44\n"
          ]
        },
        {
          "output_type": "stream",
          "name": "stderr",
          "text": [
            "\n",
            "942it [03:03,  5.59it/s]\u001b[A\n",
            "943it [03:04,  3.01it/s]\u001b[A\n",
            "944it [03:04,  3.29it/s]\u001b[A\n",
            "945it [03:04,  3.55it/s]\u001b[A\n",
            "946it [03:04,  3.76it/s]\u001b[A\n",
            "947it [03:04,  4.01it/s]\u001b[A\n",
            "948it [03:05,  3.81it/s]\u001b[A\n",
            "949it [03:05,  3.84it/s]\u001b[A\n",
            "950it [03:05,  4.04it/s]\u001b[A"
          ]
        },
        {
          "output_type": "stream",
          "name": "stdout",
          "text": [
            "\n",
            "949: Processed and saved: shift_3-143119-A-21.wav with label: 21\n",
            "949: Processed and saved: stretch_3-143119-A-21.wav with label: 21\n"
          ]
        },
        {
          "output_type": "stream",
          "name": "stderr",
          "text": [
            "\n",
            "951it [03:05,  4.05it/s]\u001b[A\n",
            "952it [03:06,  4.09it/s]\u001b[A\n",
            "953it [03:06,  4.21it/s]\u001b[A\n",
            "954it [03:06,  3.67it/s]\u001b[A\n",
            "955it [03:07,  3.73it/s]\u001b[A\n",
            "956it [03:07,  3.91it/s]\u001b[A\n",
            "957it [03:07,  4.04it/s]\u001b[A\n",
            "958it [03:07,  3.97it/s]\u001b[A\n",
            "959it [03:08,  3.64it/s]\u001b[A\n",
            "960it [03:08,  3.65it/s]\u001b[A\n",
            "961it [03:08,  4.15it/s]\u001b[A"
          ]
        },
        {
          "output_type": "stream",
          "name": "stdout",
          "text": [
            "\n",
            "959: Processed and saved: shift_3-144253-A-29.wav with label: 29\n",
            "959: Processed and saved: stretch_3-144253-A-29.wav with label: 29\n"
          ]
        },
        {
          "output_type": "stream",
          "name": "stderr",
          "text": [
            "\n",
            "962it [03:08,  4.78it/s]\u001b[A\n",
            "963it [03:08,  4.96it/s]\u001b[A\n",
            "964it [03:09,  5.42it/s]\u001b[A\n",
            "965it [03:09,  5.61it/s]\u001b[A\n",
            "966it [03:09,  5.80it/s]\u001b[A\n",
            "967it [03:09,  5.90it/s]\u001b[A\n",
            "968it [03:09,  5.95it/s]\u001b[A\n",
            "969it [03:09,  6.03it/s]\u001b[A\n",
            "970it [03:09,  6.26it/s]\u001b[A\n",
            "971it [03:10,  6.35it/s]\u001b[A"
          ]
        },
        {
          "output_type": "stream",
          "name": "stdout",
          "text": [
            "\n",
            "969: Processed and saved: shift_3-145487-A-24.wav with label: 24\n",
            "969: Processed and saved: stretch_3-145487-A-24.wav with label: 24\n"
          ]
        },
        {
          "output_type": "stream",
          "name": "stderr",
          "text": [
            "\n",
            "972it [03:10,  6.18it/s]\u001b[A\n",
            "973it [03:10,  5.68it/s]\u001b[A\n",
            "974it [03:10,  5.69it/s]\u001b[A\n",
            "975it [03:10,  5.80it/s]\u001b[A\n",
            "976it [03:10,  5.92it/s]\u001b[A\n",
            "977it [03:11,  6.09it/s]\u001b[A\n",
            "978it [03:11,  5.93it/s]\u001b[A\n",
            "979it [03:11,  5.80it/s]\u001b[A\n",
            "980it [03:11,  5.60it/s]\u001b[A\n",
            "981it [03:11,  6.07it/s]\u001b[A"
          ]
        },
        {
          "output_type": "stream",
          "name": "stdout",
          "text": [
            "\n",
            "979: Processed and saved: shift_3-146972-A-5.wav with label: 5\n",
            "979: Processed and saved: stretch_3-146972-A-5.wav with label: 5\n"
          ]
        },
        {
          "output_type": "stream",
          "name": "stderr",
          "text": [
            "\n",
            "982it [03:11,  6.50it/s]\u001b[A\n",
            "983it [03:12,  4.56it/s]\u001b[A\n",
            "984it [03:12,  4.88it/s]\u001b[A\n",
            "985it [03:12,  5.41it/s]\u001b[A\n",
            "986it [03:12,  5.86it/s]\u001b[A\n",
            "987it [03:12,  6.29it/s]\u001b[A\n",
            "988it [03:13,  6.03it/s]\u001b[A\n",
            "989it [03:13,  5.93it/s]\u001b[A\n",
            "990it [03:13,  5.97it/s]\u001b[A\n",
            "991it [03:13,  6.00it/s]\u001b[A"
          ]
        },
        {
          "output_type": "stream",
          "name": "stdout",
          "text": [
            "\n",
            "989: Processed and saved: shift_3-149465-A-22.wav with label: 22\n",
            "989: Processed and saved: stretch_3-149465-A-22.wav with label: 22\n"
          ]
        },
        {
          "output_type": "stream",
          "name": "stderr",
          "text": [
            "\n",
            "992it [03:13,  6.02it/s]\u001b[A\n",
            "993it [03:13,  5.70it/s]\u001b[A\n",
            "994it [03:14,  5.88it/s]\u001b[A\n",
            "995it [03:14,  5.92it/s]\u001b[A\n",
            "996it [03:14,  6.22it/s]\u001b[A\n",
            "997it [03:14,  6.19it/s]\u001b[A\n",
            "998it [03:14,  6.10it/s]\u001b[A\n",
            "999it [03:14,  6.39it/s]\u001b[A\n",
            "1000it [03:15,  6.36it/s]\u001b[A\n",
            "1001it [03:15,  6.52it/s]\u001b[A"
          ]
        },
        {
          "output_type": "stream",
          "name": "stdout",
          "text": [
            "\n",
            "999: Processed and saved: shift_3-151206-A-23.wav with label: 23\n",
            "999: Processed and saved: stretch_3-151206-A-23.wav with label: 23\n"
          ]
        },
        {
          "output_type": "stream",
          "name": "stderr",
          "text": [
            "\n",
            "1002it [03:15,  6.67it/s]\u001b[A\n",
            "1003it [03:15,  6.53it/s]\u001b[A\n",
            "1004it [03:15,  6.04it/s]\u001b[A\n",
            "1005it [03:15,  6.02it/s]\u001b[A\n",
            "1006it [03:16,  6.16it/s]\u001b[A\n",
            "1007it [03:16,  6.02it/s]\u001b[A\n",
            "1008it [03:16,  5.99it/s]\u001b[A\n",
            "1009it [03:16,  5.95it/s]\u001b[A\n",
            "1010it [03:16,  5.64it/s]\u001b[A\n",
            "1011it [03:16,  5.60it/s]\u001b[A"
          ]
        },
        {
          "output_type": "stream",
          "name": "stdout",
          "text": [
            "\n",
            "1009: Processed and saved: shift_3-152007-C-20.wav with label: 20\n",
            "1009: Processed and saved: stretch_3-152007-C-20.wav with label: 20\n"
          ]
        },
        {
          "output_type": "stream",
          "name": "stderr",
          "text": [
            "\n",
            "1012it [03:17,  5.67it/s]\u001b[A\n",
            "1013it [03:17,  5.51it/s]\u001b[A\n",
            "1014it [03:17,  5.43it/s]\u001b[A\n",
            "1015it [03:17,  5.50it/s]\u001b[A\n",
            "1016it [03:17,  5.81it/s]\u001b[A\n",
            "1017it [03:17,  5.71it/s]\u001b[A\n",
            "1018it [03:18,  6.05it/s]\u001b[A\n",
            "1019it [03:18,  6.00it/s]\u001b[A\n",
            "1020it [03:18,  5.36it/s]\u001b[A"
          ]
        },
        {
          "output_type": "stream",
          "name": "stdout",
          "text": [
            "\n",
            "1019: Processed and saved: shift_3-152997-A-26.wav with label: 26\n",
            "1019: Processed and saved: stretch_3-152997-A-26.wav with label: 26\n"
          ]
        },
        {
          "output_type": "stream",
          "name": "stderr",
          "text": [
            "\n",
            "1021it [03:18,  5.10it/s]\u001b[A\n",
            "1022it [03:18,  5.03it/s]\u001b[A\n",
            "1023it [03:19,  5.05it/s]\u001b[A\n",
            "1024it [03:19,  4.48it/s]\u001b[A\n",
            "1025it [03:19,  4.63it/s]\u001b[A\n",
            "1026it [03:19,  4.64it/s]\u001b[A\n",
            "1027it [03:20,  4.50it/s]\u001b[A\n",
            "1028it [03:20,  4.57it/s]\u001b[A\n",
            "1029it [03:20,  4.67it/s]\u001b[A\n",
            "1030it [03:20,  4.58it/s]\u001b[A"
          ]
        },
        {
          "output_type": "stream",
          "name": "stdout",
          "text": [
            "\n",
            "1029: Processed and saved: shift_3-155130-A-43.wav with label: 43\n",
            "1029: Processed and saved: stretch_3-155130-A-43.wav with label: 43\n"
          ]
        },
        {
          "output_type": "stream",
          "name": "stderr",
          "text": [
            "\n",
            "1031it [03:21,  4.07it/s]\u001b[A\n",
            "1032it [03:21,  4.22it/s]\u001b[A\n",
            "1033it [03:21,  4.50it/s]\u001b[A\n",
            "1034it [03:21,  4.16it/s]\u001b[A\n",
            "1035it [03:21,  4.02it/s]\u001b[A\n",
            "1036it [03:22,  3.81it/s]\u001b[A\n",
            "1037it [03:22,  3.92it/s]\u001b[A\n",
            "1038it [03:22,  4.29it/s]\u001b[A\n",
            "1039it [03:22,  4.68it/s]\u001b[A\n",
            "1040it [03:23,  4.96it/s]\u001b[A\n",
            "1041it [03:23,  5.08it/s]\u001b[A"
          ]
        },
        {
          "output_type": "stream",
          "name": "stdout",
          "text": [
            "\n",
            "1039: Processed and saved: shift_3-155584-A-14.wav with label: 14\n",
            "1039: Processed and saved: stretch_3-155584-A-14.wav with label: 14\n"
          ]
        },
        {
          "output_type": "stream",
          "name": "stderr",
          "text": [
            "\n",
            "1042it [03:23,  5.36it/s]\u001b[A\n",
            "1043it [03:24,  3.13it/s]\u001b[A\n",
            "1044it [03:24,  3.69it/s]\u001b[A\n",
            "1045it [03:24,  4.11it/s]\u001b[A\n",
            "1046it [03:24,  4.22it/s]\u001b[A\n",
            "1047it [03:24,  4.82it/s]\u001b[A\n",
            "1048it [03:24,  5.19it/s]\u001b[A\n",
            "1049it [03:25,  5.26it/s]\u001b[A\n",
            "1050it [03:25,  5.42it/s]\u001b[A\n",
            "1051it [03:25,  5.59it/s]\u001b[A"
          ]
        },
        {
          "output_type": "stream",
          "name": "stdout",
          "text": [
            "\n",
            "1049: Processed and saved: shift_3-156907-A-15.wav with label: 15\n",
            "1049: Processed and saved: stretch_3-156907-A-15.wav with label: 15\n"
          ]
        },
        {
          "output_type": "stream",
          "name": "stderr",
          "text": [
            "\n",
            "1052it [03:25,  5.41it/s]\u001b[A\n",
            "1053it [03:25,  5.77it/s]\u001b[A\n",
            "1054it [03:25,  5.72it/s]\u001b[A\n",
            "1055it [03:26,  5.55it/s]\u001b[A\n",
            "1056it [03:26,  5.23it/s]\u001b[A\n",
            "1057it [03:26,  5.40it/s]\u001b[A\n",
            "1058it [03:26,  5.62it/s]\u001b[A\n",
            "1059it [03:26,  5.04it/s]\u001b[A\n",
            "1060it [03:27,  4.89it/s]\u001b[A\n",
            "1061it [03:27,  5.03it/s]\u001b[A"
          ]
        },
        {
          "output_type": "stream",
          "name": "stdout",
          "text": [
            "\n",
            "1059: Processed and saved: shift_3-159346-A-36.wav with label: 36\n",
            "1059: Processed and saved: stretch_3-159346-A-36.wav with label: 36\n"
          ]
        },
        {
          "output_type": "stream",
          "name": "stderr",
          "text": [
            "\n",
            "1062it [03:27,  5.32it/s]\u001b[A\n",
            "1063it [03:27,  5.54it/s]\u001b[A\n",
            "1064it [03:27,  5.12it/s]\u001b[A\n",
            "1065it [03:28,  5.12it/s]\u001b[A\n",
            "1066it [03:28,  5.49it/s]\u001b[A\n",
            "1067it [03:28,  5.94it/s]\u001b[A\n",
            "1068it [03:28,  6.10it/s]\u001b[A\n",
            "1069it [03:28,  6.17it/s]\u001b[A\n",
            "1070it [03:28,  5.79it/s]\u001b[A\n",
            "1071it [03:29,  5.69it/s]\u001b[A"
          ]
        },
        {
          "output_type": "stream",
          "name": "stdout",
          "text": [
            "\n",
            "1069: Processed and saved: shift_3-161500-A-17.wav with label: 17\n",
            "1069: Processed and saved: stretch_3-161500-A-17.wav with label: 17\n"
          ]
        },
        {
          "output_type": "stream",
          "name": "stderr",
          "text": [
            "\n",
            "1072it [03:29,  5.95it/s]\u001b[A\n",
            "1073it [03:29,  6.11it/s]\u001b[A\n",
            "1074it [03:29,  6.32it/s]\u001b[A\n",
            "1075it [03:29,  6.31it/s]\u001b[A\n",
            "1076it [03:29,  6.08it/s]\u001b[A\n",
            "1077it [03:29,  6.18it/s]\u001b[A\n",
            "1078it [03:30,  5.99it/s]\u001b[A\n",
            "1079it [03:30,  6.10it/s]\u001b[A\n",
            "1080it [03:30,  6.02it/s]\u001b[A\n",
            "1081it [03:30,  6.04it/s]\u001b[A"
          ]
        },
        {
          "output_type": "stream",
          "name": "stdout",
          "text": [
            "\n",
            "1079: Processed and saved: shift_3-164216-C-6.wav with label: 6\n",
            "1079: Processed and saved: stretch_3-164216-C-6.wav with label: 6\n"
          ]
        },
        {
          "output_type": "stream",
          "name": "stderr",
          "text": [
            "\n",
            "1082it [03:30,  6.01it/s]\u001b[A\n",
            "1083it [03:30,  6.26it/s]\u001b[A\n",
            "1084it [03:31,  6.56it/s]\u001b[A\n",
            "1085it [03:31,  6.37it/s]\u001b[A\n",
            "1086it [03:31,  6.13it/s]\u001b[A\n",
            "1087it [03:31,  6.28it/s]\u001b[A\n",
            "1088it [03:31,  5.99it/s]\u001b[A\n",
            "1089it [03:31,  5.86it/s]\u001b[A\n",
            "1090it [03:32,  5.34it/s]\u001b[A\n",
            "1091it [03:32,  5.27it/s]"
          ]
        },
        {
          "output_type": "stream",
          "name": "stdout",
          "text": [
            "\n",
            "1089: Processed and saved: shift_3-166324-A-15.wav with label: 15\n",
            "1089: Processed and saved: stretch_3-166324-A-15.wav with label: 15\n"
          ]
        },
        {
          "output_type": "stream",
          "name": "stderr",
          "text": [
            "\u001b[A\n",
            "1092it [03:32,  5.58it/s]\u001b[A\n",
            "1093it [03:32,  5.02it/s]\u001b[A\n",
            "1094it [03:33,  4.83it/s]\u001b[A\n",
            "1095it [03:33,  4.66it/s]\u001b[A\n",
            "1096it [03:33,  4.72it/s]\u001b[A\n",
            "1097it [03:33,  4.65it/s]\u001b[A\n",
            "1098it [03:33,  4.81it/s]\u001b[A\n",
            "1099it [03:34,  4.65it/s]\u001b[A\n",
            "1100it [03:34,  4.45it/s]\u001b[A"
          ]
        },
        {
          "output_type": "stream",
          "name": "stdout",
          "text": [
            "\n",
            "1099: Processed and saved: shift_3-170377-A-38.wav with label: 38\n",
            "1099: Processed and saved: stretch_3-170377-A-38.wav with label: 38\n"
          ]
        },
        {
          "output_type": "stream",
          "name": "stderr",
          "text": [
            "\n",
            "1101it [03:34,  4.52it/s]\u001b[A\n",
            "1102it [03:34,  4.26it/s]\u001b[A\n",
            "1103it [03:35,  4.37it/s]\u001b[A\n",
            "1104it [03:35,  4.34it/s]\u001b[A\n",
            "1105it [03:35,  4.26it/s]\u001b[A\n",
            "1106it [03:35,  4.43it/s]\u001b[A\n",
            "1107it [03:35,  4.34it/s]\u001b[A\n",
            "1108it [03:36,  4.21it/s]\u001b[A\n",
            "1109it [03:36,  4.09it/s]\u001b[A\n",
            "1110it [03:36,  4.12it/s]\u001b[A\n",
            "1111it [03:36,  4.45it/s]\u001b[A"
          ]
        },
        {
          "output_type": "stream",
          "name": "stdout",
          "text": [
            "\n",
            "1109: Processed and saved: shift_3-172922-A-48.wav with label: 48\n",
            "1109: Processed and saved: stretch_3-172922-A-48.wav with label: 48\n"
          ]
        },
        {
          "output_type": "stream",
          "name": "stderr",
          "text": [
            "\n",
            "1112it [03:37,  4.95it/s]\u001b[A\n",
            "1113it [03:37,  5.24it/s]\u001b[A\n",
            "1114it [03:37,  5.44it/s]\u001b[A\n",
            "1115it [03:37,  5.57it/s]\u001b[A\n",
            "1116it [03:37,  5.72it/s]\u001b[A\n",
            "1117it [03:37,  5.95it/s]\u001b[A\n",
            "1118it [03:38,  5.97it/s]\u001b[A\n",
            "1119it [03:38,  5.76it/s]\u001b[A\n",
            "1120it [03:38,  5.83it/s]\u001b[A\n",
            "1121it [03:38,  6.00it/s]\u001b[A"
          ]
        },
        {
          "output_type": "stream",
          "name": "stdout",
          "text": [
            "\n",
            "1119: Processed and saved: shift_3-181278-A-22.wav with label: 22\n",
            "1119: Processed and saved: stretch_3-181278-A-22.wav with label: 22\n"
          ]
        },
        {
          "output_type": "stream",
          "name": "stderr",
          "text": [
            "\n",
            "1122it [03:38,  6.31it/s]\u001b[A\n",
            "1123it [03:38,  6.35it/s]\u001b[A\n",
            "1124it [03:39,  5.88it/s]\u001b[A\n",
            "1125it [03:39,  5.76it/s]\u001b[A\n",
            "1126it [03:39,  5.77it/s]\u001b[A\n",
            "1127it [03:39,  5.69it/s]\u001b[A\n",
            "1128it [03:39,  5.35it/s]\u001b[A\n",
            "1129it [03:39,  5.47it/s]\u001b[A\n",
            "1130it [03:40,  5.78it/s]\u001b[A\n",
            "1131it [03:40,  5.77it/s]\u001b[A"
          ]
        },
        {
          "output_type": "stream",
          "name": "stdout",
          "text": [
            "\n",
            "1129: Processed and saved: shift_3-188390-A-6.wav with label: 6\n",
            "1129: Processed and saved: stretch_3-188390-A-6.wav with label: 6\n"
          ]
        },
        {
          "output_type": "stream",
          "name": "stderr",
          "text": [
            "\n",
            "1132it [03:40,  5.87it/s]\u001b[A\n",
            "1133it [03:40,  5.66it/s]\u001b[A\n",
            "1134it [03:40,  5.57it/s]\u001b[A\n",
            "1135it [03:40,  5.82it/s]\u001b[A\n",
            "1136it [03:41,  5.98it/s]\u001b[A\n",
            "1137it [03:41,  6.05it/s]\u001b[A\n",
            "1138it [03:41,  6.34it/s]\u001b[A\n",
            "1139it [03:41,  6.41it/s]\u001b[A\n",
            "1140it [03:41,  6.31it/s]\u001b[A"
          ]
        },
        {
          "output_type": "stream",
          "name": "stdout",
          "text": [
            "\n",
            "1139: Processed and saved: shift_3-203374-A-39.wav with label: 39\n",
            "1139: Processed and saved: stretch_3-203374-A-39.wav with label: 39\n"
          ]
        },
        {
          "output_type": "stream",
          "name": "stderr",
          "text": [
            "\n",
            "1141it [03:42,  3.19it/s]\u001b[A\n",
            "1142it [03:42,  3.82it/s]\u001b[A\n",
            "1143it [03:42,  4.25it/s]\u001b[A\n",
            "1144it [03:42,  4.41it/s]\u001b[A\n",
            "1145it [03:43,  5.06it/s]\u001b[A\n",
            "1146it [03:43,  5.47it/s]\u001b[A\n",
            "1147it [03:43,  5.55it/s]\u001b[A\n",
            "1148it [03:43,  5.90it/s]\u001b[A\n",
            "1149it [03:43,  5.56it/s]\u001b[A\n",
            "1150it [03:43,  5.81it/s]\u001b[A\n",
            "1151it [03:44,  5.74it/s]\u001b[A"
          ]
        },
        {
          "output_type": "stream",
          "name": "stdout",
          "text": [
            "\n",
            "1149: Processed and saved: shift_3-246513-A-16.wav with label: 16\n",
            "1149: Processed and saved: stretch_3-246513-A-16.wav with label: 16\n"
          ]
        },
        {
          "output_type": "stream",
          "name": "stderr",
          "text": [
            "\n",
            "1152it [03:44,  5.85it/s]\u001b[A\n",
            "1153it [03:44,  5.98it/s]\u001b[A\n",
            "1154it [03:44,  5.69it/s]\u001b[A\n",
            "1155it [03:44,  5.57it/s]\u001b[A\n",
            "1156it [03:44,  5.79it/s]\u001b[A\n",
            "1157it [03:45,  5.92it/s]\u001b[A\n",
            "1158it [03:45,  5.78it/s]\u001b[A\n",
            "1159it [03:45,  5.65it/s]\u001b[A\n",
            "1160it [03:45,  5.36it/s]\u001b[A\n",
            "1161it [03:45,  5.52it/s]\u001b[A"
          ]
        },
        {
          "output_type": "stream",
          "name": "stdout",
          "text": [
            "\n",
            "1159: Processed and saved: shift_3-257858-A-2.wav with label: 2\n",
            "1159: Processed and saved: stretch_3-257858-A-2.wav with label: 2\n"
          ]
        },
        {
          "output_type": "stream",
          "name": "stderr",
          "text": [
            "\n",
            "1162it [03:46,  5.60it/s]\u001b[A\n",
            "1163it [03:46,  5.57it/s]\u001b[A\n",
            "1164it [03:46,  2.99it/s]\u001b[A\n",
            "1165it [03:47,  3.09it/s]\u001b[A\n",
            "1166it [03:47,  3.35it/s]\u001b[A\n",
            "1167it [03:47,  3.69it/s]\u001b[A\n",
            "1168it [03:47,  3.94it/s]\u001b[A\n",
            "1169it [03:48,  3.74it/s]\u001b[A\n",
            "1170it [03:48,  3.87it/s]\u001b[A"
          ]
        },
        {
          "output_type": "stream",
          "name": "stdout",
          "text": [
            "\n",
            "1169: Processed and saved: shift_3-65748-A-12.wav with label: 12\n",
            "1169: Processed and saved: stretch_3-65748-A-12.wav with label: 12\n"
          ]
        },
        {
          "output_type": "stream",
          "name": "stderr",
          "text": [
            "\n",
            "1171it [03:48,  4.02it/s]\u001b[A\n",
            "1172it [03:48,  3.80it/s]\u001b[A\n",
            "1173it [03:49,  2.49it/s]\u001b[A\n",
            "1174it [03:49,  2.73it/s]\u001b[A\n",
            "1175it [03:50,  2.98it/s]\u001b[A\n",
            "1176it [03:50,  3.22it/s]\u001b[A\n",
            "1177it [03:50,  3.48it/s]\u001b[A\n",
            "1178it [03:50,  4.02it/s]\u001b[A\n",
            "1179it [03:50,  4.50it/s]\u001b[A\n",
            "1180it [03:51,  4.77it/s]\u001b[A\n",
            "1181it [03:51,  5.05it/s]\u001b[A"
          ]
        },
        {
          "output_type": "stream",
          "name": "stdout",
          "text": [
            "\n",
            "1179: Processed and saved: shift_3-83527-A-4.wav with label: 4\n",
            "1179: Processed and saved: stretch_3-83527-A-4.wav with label: 4\n"
          ]
        },
        {
          "output_type": "stream",
          "name": "stderr",
          "text": [
            "\n",
            "1182it [03:51,  5.28it/s]\u001b[A\n",
            "1183it [03:51,  5.47it/s]\u001b[A\n",
            "1184it [03:51,  5.35it/s]\u001b[A\n",
            "1185it [03:52,  5.40it/s]\u001b[A\n",
            "1186it [03:52,  5.71it/s]\u001b[A\n",
            "1187it [03:52,  5.87it/s]\u001b[A\n",
            "1188it [03:52,  5.92it/s]\u001b[A\n",
            "1189it [03:52,  6.08it/s]\u001b[A\n",
            "1190it [03:52,  5.82it/s]\u001b[A\n",
            "1191it [03:53,  5.58it/s]"
          ]
        },
        {
          "output_type": "stream",
          "name": "stdout",
          "text": [
            "\n",
            "1189: Processed and saved: shift_3-95695-A-5.wav with label: 5\n",
            "1189: Processed and saved: stretch_3-95695-A-5.wav with label: 5\n"
          ]
        },
        {
          "output_type": "stream",
          "name": "stderr",
          "text": [
            "\u001b[A\n",
            "1192it [03:53,  5.92it/s]\u001b[A\n",
            "1193it [03:53,  5.93it/s]\u001b[A\n",
            "1194it [03:53,  5.93it/s]\u001b[A\n",
            "1195it [03:53,  4.70it/s]\u001b[A\n",
            "1196it [03:54,  4.96it/s]\u001b[A\n",
            "1197it [03:54,  5.21it/s]\u001b[A\n",
            "1198it [03:54,  5.36it/s]\u001b[A\n",
            "1199it [03:54,  5.60it/s]\u001b[A\n",
            "1200it [03:54,  5.67it/s]\u001b[A\n",
            "1201it [03:54,  5.80it/s]\u001b[A"
          ]
        },
        {
          "output_type": "stream",
          "name": "stdout",
          "text": [
            "\n",
            "1199: Processed and saved: shift_3-98869-A-46.wav with label: 46\n",
            "1199: Processed and saved: stretch_3-98869-A-46.wav with label: 46\n"
          ]
        },
        {
          "output_type": "stream",
          "name": "stderr",
          "text": [
            "\n",
            "1202it [03:55,  5.76it/s]\u001b[A\n",
            "1203it [03:55,  5.82it/s]\u001b[A\n",
            "1204it [03:55,  5.65it/s]\u001b[A\n",
            "1205it [03:55,  5.60it/s]\u001b[A\n",
            "1206it [03:55,  5.90it/s]\u001b[A\n",
            "1207it [03:55,  6.04it/s]\u001b[A\n",
            "1208it [03:56,  5.70it/s]\u001b[A\n",
            "1209it [03:56,  5.63it/s]\u001b[A\n",
            "1210it [03:56,  5.83it/s]\u001b[A\n",
            "1211it [03:56,  5.83it/s]\u001b[A"
          ]
        },
        {
          "output_type": "stream",
          "name": "stdout",
          "text": [
            "\n",
            "1209: Processed and saved: shift_4-111671-B-42.wav with label: 42\n",
            "1209: Processed and saved: stretch_4-111671-B-42.wav with label: 42\n"
          ]
        },
        {
          "output_type": "stream",
          "name": "stderr",
          "text": [
            "\n",
            "1212it [03:56,  5.81it/s]\u001b[A\n",
            "1213it [03:56,  5.95it/s]\u001b[A\n",
            "1214it [03:57,  5.85it/s]\u001b[A\n",
            "1215it [03:57,  5.65it/s]\u001b[A\n",
            "1216it [03:57,  5.83it/s]\u001b[A\n",
            "1217it [03:57,  5.86it/s]\u001b[A\n",
            "1218it [03:57,  5.87it/s]\u001b[A\n",
            "1219it [03:57,  5.81it/s]\u001b[A\n",
            "1220it [03:58,  5.60it/s]\u001b[A"
          ]
        },
        {
          "output_type": "stream",
          "name": "stdout",
          "text": [
            "\n",
            "1219: Processed and saved: shift_4-119648-D-48.wav with label: 48\n",
            "1219: Processed and saved: stretch_4-119648-D-48.wav with label: 48\n"
          ]
        },
        {
          "output_type": "stream",
          "name": "stderr",
          "text": [
            "\n",
            "1221it [03:58,  5.35it/s]\u001b[A\n",
            "1222it [03:58,  5.68it/s]\u001b[A\n",
            "1223it [03:58,  6.01it/s]\u001b[A\n",
            "1224it [03:58,  5.86it/s]\u001b[A\n",
            "1225it [03:59,  5.89it/s]\u001b[A\n",
            "1226it [03:59,  6.04it/s]\u001b[A\n",
            "1227it [03:59,  5.81it/s]\u001b[A\n",
            "1228it [03:59,  5.76it/s]\u001b[A\n",
            "1229it [03:59,  5.75it/s]\u001b[A\n",
            "1230it [03:59,  5.68it/s]\u001b[A\n",
            "1231it [04:00,  5.88it/s]\u001b[A"
          ]
        },
        {
          "output_type": "stream",
          "name": "stdout",
          "text": [
            "\n",
            "1229: Processed and saved: shift_4-125825-B-46.wav with label: 46\n",
            "1229: Processed and saved: stretch_4-125825-B-46.wav with label: 46\n"
          ]
        },
        {
          "output_type": "stream",
          "name": "stderr",
          "text": [
            "\n",
            "1232it [04:00,  5.81it/s]\u001b[A\n",
            "1233it [04:00,  5.83it/s]\u001b[A\n",
            "1234it [04:00,  5.72it/s]\u001b[A\n",
            "1235it [04:00,  4.91it/s]\u001b[A\n",
            "1236it [04:01,  4.66it/s]\u001b[A\n",
            "1237it [04:01,  4.73it/s]\u001b[A\n",
            "1238it [04:01,  4.71it/s]\u001b[A\n",
            "1239it [04:01,  4.58it/s]\u001b[A\n",
            "1240it [04:01,  4.57it/s]\u001b[A"
          ]
        },
        {
          "output_type": "stream",
          "name": "stdout",
          "text": [
            "\n",
            "1239: Processed and saved: shift_4-132810-A-26.wav with label: 26\n",
            "1239: Processed and saved: stretch_4-132810-A-26.wav with label: 26\n"
          ]
        },
        {
          "output_type": "stream",
          "name": "stderr",
          "text": [
            "\n",
            "1241it [04:02,  4.52it/s]\u001b[A\n",
            "1242it [04:02,  4.46it/s]\u001b[A\n",
            "1243it [04:02,  4.49it/s]\u001b[A\n",
            "1244it [04:02,  4.37it/s]\u001b[A\n",
            "1245it [04:03,  4.22it/s]\u001b[A\n",
            "1246it [04:03,  4.25it/s]\u001b[A\n",
            "1247it [04:03,  4.22it/s]\u001b[A\n",
            "1248it [04:03,  4.24it/s]\u001b[A\n",
            "1249it [04:04,  4.29it/s]\u001b[A\n",
            "1250it [04:04,  3.81it/s]\u001b[A"
          ]
        },
        {
          "output_type": "stream",
          "name": "stdout",
          "text": [
            "\n",
            "1249: Processed and saved: shift_4-138344-A-9.wav with label: 9\n",
            "1249: Processed and saved: stretch_4-138344-A-9.wav with label: 9\n"
          ]
        },
        {
          "output_type": "stream",
          "name": "stderr",
          "text": [
            "\n",
            "1251it [04:04,  3.88it/s]\u001b[A\n",
            "1252it [04:04,  3.85it/s]\u001b[A\n",
            "1253it [04:05,  4.37it/s]\u001b[A\n",
            "1254it [04:05,  4.77it/s]\u001b[A\n",
            "1255it [04:05,  4.86it/s]\u001b[A\n",
            "1256it [04:05,  5.19it/s]\u001b[A\n",
            "1257it [04:05,  5.25it/s]\u001b[A\n",
            "1258it [04:05,  5.60it/s]\u001b[A\n",
            "1259it [04:06,  5.74it/s]\u001b[A\n",
            "1260it [04:06,  5.94it/s]\u001b[A\n",
            "1261it [04:06,  5.99it/s]\u001b[A"
          ]
        },
        {
          "output_type": "stream",
          "name": "stdout",
          "text": [
            "\n",
            "1259: Processed and saved: shift_4-144468-B-27.wav with label: 27\n",
            "1259: Processed and saved: stretch_4-144468-B-27.wav with label: 27\n"
          ]
        },
        {
          "output_type": "stream",
          "name": "stderr",
          "text": [
            "\n",
            "1262it [04:06,  5.66it/s]\u001b[A\n",
            "1263it [04:06,  5.86it/s]\u001b[A\n",
            "1264it [04:06,  5.95it/s]\u001b[A\n",
            "1265it [04:07,  5.99it/s]\u001b[A\n",
            "1266it [04:07,  5.71it/s]\u001b[A\n",
            "1267it [04:07,  5.48it/s]\u001b[A\n",
            "1268it [04:07,  5.47it/s]\u001b[A\n",
            "1269it [04:07,  5.57it/s]\u001b[A\n",
            "1270it [04:08,  5.71it/s]\u001b[A\n",
            "1271it [04:08,  5.96it/s]\u001b[A"
          ]
        },
        {
          "output_type": "stream",
          "name": "stdout",
          "text": [
            "\n",
            "1269: Processed and saved: shift_4-149940-A-5.wav with label: 5\n",
            "1269: Processed and saved: stretch_4-149940-A-5.wav with label: 5\n"
          ]
        },
        {
          "output_type": "stream",
          "name": "stderr",
          "text": [
            "\n",
            "1272it [04:08,  5.82it/s]\u001b[A\n",
            "1273it [04:08,  5.77it/s]\u001b[A\n",
            "1274it [04:08,  5.76it/s]\u001b[A\n",
            "1275it [04:08,  5.82it/s]\u001b[A\n",
            "1276it [04:09,  6.17it/s]\u001b[A\n",
            "1277it [04:09,  5.79it/s]\u001b[A\n",
            "1278it [04:09,  5.88it/s]\u001b[A\n",
            "1279it [04:09,  5.30it/s]\u001b[A\n",
            "1280it [04:09,  5.45it/s]\u001b[A\n",
            "1281it [04:09,  5.36it/s]\u001b[A"
          ]
        },
        {
          "output_type": "stream",
          "name": "stdout",
          "text": [
            "\n",
            "1279: Processed and saved: shift_4-154793-A-4.wav with label: 4\n",
            "1279: Processed and saved: stretch_4-154793-A-4.wav with label: 4\n"
          ]
        },
        {
          "output_type": "stream",
          "name": "stderr",
          "text": [
            "\n",
            "1282it [04:10,  5.52it/s]\u001b[A\n",
            "1283it [04:10,  5.75it/s]\u001b[A\n",
            "1284it [04:10,  5.99it/s]\u001b[A\n",
            "1285it [04:10,  6.01it/s]\u001b[A\n",
            "1286it [04:10,  6.07it/s]\u001b[A\n",
            "1287it [04:10,  5.98it/s]\u001b[A\n",
            "1288it [04:11,  6.05it/s]\u001b[A\n",
            "1289it [04:11,  6.13it/s]\u001b[A\n",
            "1290it [04:11,  5.90it/s]\u001b[A\n",
            "1291it [04:11,  5.83it/s]\u001b[A"
          ]
        },
        {
          "output_type": "stream",
          "name": "stdout",
          "text": [
            "\n",
            "1289: Processed and saved: shift_4-157297-A-21.wav with label: 21\n",
            "1289: Processed and saved: stretch_4-157297-A-21.wav with label: 21\n"
          ]
        },
        {
          "output_type": "stream",
          "name": "stderr",
          "text": [
            "\n",
            "1292it [04:11,  5.63it/s]\u001b[A\n",
            "1293it [04:11,  5.83it/s]\u001b[A\n",
            "1294it [04:12,  6.12it/s]\u001b[A\n",
            "1295it [04:12,  6.04it/s]\u001b[A\n",
            "1296it [04:12,  5.96it/s]\u001b[A\n",
            "1297it [04:12,  5.67it/s]\u001b[A\n",
            "1298it [04:12,  5.53it/s]\u001b[A\n",
            "1299it [04:13,  5.74it/s]\u001b[A\n",
            "1300it [04:13,  5.56it/s]\u001b[A\n",
            "1301it [04:13,  5.54it/s]\u001b[A"
          ]
        },
        {
          "output_type": "stream",
          "name": "stdout",
          "text": [
            "\n",
            "1299: Processed and saved: shift_4-161099-A-47.wav with label: 47\n",
            "1299: Processed and saved: stretch_4-161099-A-47.wav with label: 47\n"
          ]
        },
        {
          "output_type": "stream",
          "name": "stderr",
          "text": [
            "\n",
            "1302it [04:13,  5.11it/s]\u001b[A\n",
            "1303it [04:13,  5.45it/s]\u001b[A\n",
            "1304it [04:13,  5.50it/s]\u001b[A\n",
            "1305it [04:14,  5.80it/s]\u001b[A\n",
            "1306it [04:14,  4.47it/s]\u001b[A\n",
            "1307it [04:14,  4.64it/s]\u001b[A\n",
            "1308it [04:14,  5.00it/s]\u001b[A\n",
            "1309it [04:14,  5.06it/s]\u001b[A\n",
            "1310it [04:15,  4.71it/s]\u001b[A"
          ]
        },
        {
          "output_type": "stream",
          "name": "stdout",
          "text": [
            "\n",
            "1309: Processed and saved: shift_4-161579-A-40.wav with label: 40\n",
            "1309: Processed and saved: stretch_4-161579-A-40.wav with label: 40\n"
          ]
        },
        {
          "output_type": "stream",
          "name": "stderr",
          "text": [
            "\n",
            "1311it [04:15,  4.45it/s]\u001b[A\n",
            "1312it [04:15,  4.45it/s]\u001b[A\n",
            "1313it [04:15,  4.23it/s]\u001b[A\n",
            "1314it [04:16,  4.36it/s]\u001b[A\n",
            "1315it [04:16,  4.37it/s]\u001b[A\n",
            "1316it [04:16,  4.40it/s]\u001b[A\n",
            "1317it [04:16,  4.17it/s]\u001b[A\n",
            "1318it [04:17,  4.25it/s]\u001b[A\n",
            "1319it [04:17,  4.42it/s]\u001b[A\n",
            "1320it [04:17,  4.42it/s]\u001b[A"
          ]
        },
        {
          "output_type": "stream",
          "name": "stdout",
          "text": [
            "\n",
            "1319: Processed and saved: shift_4-164064-B-1.wav with label: 1\n",
            "1319: Processed and saved: stretch_4-164064-B-1.wav with label: 1\n"
          ]
        },
        {
          "output_type": "stream",
          "name": "stderr",
          "text": [
            "\n",
            "1321it [04:17,  4.42it/s]\u001b[A\n",
            "1322it [04:18,  4.16it/s]\u001b[A\n",
            "1323it [04:18,  4.13it/s]\u001b[A\n",
            "1324it [04:18,  3.96it/s]\u001b[A\n",
            "1325it [04:18,  4.09it/s]\u001b[A\n",
            "1326it [04:19,  4.29it/s]\u001b[A\n",
            "1327it [04:19,  4.18it/s]\u001b[A\n",
            "1328it [04:19,  4.67it/s]\u001b[A\n",
            "1329it [04:19,  4.89it/s]\u001b[A\n",
            "1330it [04:19,  5.09it/s]\u001b[A\n",
            "1331it [04:19,  5.30it/s]\u001b[A"
          ]
        },
        {
          "output_type": "stream",
          "name": "stdout",
          "text": [
            "\n",
            "1329: Processed and saved: shift_4-165813-A-19.wav with label: 19\n",
            "1329: Processed and saved: stretch_4-165813-A-19.wav with label: 19\n"
          ]
        },
        {
          "output_type": "stream",
          "name": "stderr",
          "text": [
            "\n",
            "1332it [04:20,  5.66it/s]\u001b[A\n",
            "1333it [04:20,  5.82it/s]\u001b[A\n",
            "1334it [04:20,  5.78it/s]\u001b[A\n",
            "1335it [04:20,  5.84it/s]\u001b[A\n",
            "1336it [04:20,  6.06it/s]\u001b[A\n",
            "1337it [04:20,  6.05it/s]\u001b[A\n",
            "1338it [04:21,  6.04it/s]\u001b[A\n",
            "1339it [04:21,  5.58it/s]\u001b[A\n",
            "1340it [04:21,  5.59it/s]\u001b[A\n",
            "1341it [04:21,  5.80it/s]\u001b[A"
          ]
        },
        {
          "output_type": "stream",
          "name": "stdout",
          "text": [
            "\n",
            "1339: Processed and saved: shift_4-167063-C-11.wav with label: 11\n",
            "1339: Processed and saved: stretch_4-167063-C-11.wav with label: 11\n"
          ]
        },
        {
          "output_type": "stream",
          "name": "stderr",
          "text": [
            "\n",
            "1342it [04:21,  5.78it/s]\u001b[A\n",
            "1343it [04:21,  5.84it/s]\u001b[A\n",
            "1344it [04:22,  5.70it/s]\u001b[A\n",
            "1345it [04:22,  5.78it/s]\u001b[A\n",
            "1346it [04:22,  6.09it/s]\u001b[A\n",
            "1347it [04:22,  5.99it/s]\u001b[A\n",
            "1348it [04:22,  5.74it/s]\u001b[A\n",
            "1349it [04:23,  5.75it/s]\u001b[A\n",
            "1350it [04:23,  5.77it/s]\u001b[A\n",
            "1351it [04:23,  5.68it/s]\u001b[A"
          ]
        },
        {
          "output_type": "stream",
          "name": "stdout",
          "text": [
            "\n",
            "1349: Processed and saved: shift_4-169127-A-41.wav with label: 41\n",
            "1349: Processed and saved: stretch_4-169127-A-41.wav with label: 41\n"
          ]
        },
        {
          "output_type": "stream",
          "name": "stderr",
          "text": [
            "\n",
            "1352it [04:23,  5.71it/s]\u001b[A\n",
            "1353it [04:23,  5.83it/s]\u001b[A\n",
            "1354it [04:23,  5.75it/s]\u001b[A\n",
            "1355it [04:24,  5.46it/s]\u001b[A\n",
            "1356it [04:24,  5.58it/s]\u001b[A\n",
            "1357it [04:24,  5.64it/s]\u001b[A\n",
            "1358it [04:24,  5.56it/s]\u001b[A\n",
            "1359it [04:24,  5.52it/s]\u001b[A\n",
            "1360it [04:24,  5.58it/s]\u001b[A\n",
            "1361it [04:25,  5.54it/s]\u001b[A"
          ]
        },
        {
          "output_type": "stream",
          "name": "stdout",
          "text": [
            "\n",
            "1359: Processed and saved: shift_4-171652-A-44.wav with label: 44\n",
            "1359: Processed and saved: stretch_4-171652-A-44.wav with label: 44\n"
          ]
        },
        {
          "output_type": "stream",
          "name": "stderr",
          "text": [
            "\n",
            "1362it [04:25,  5.50it/s]\u001b[A\n",
            "1363it [04:25,  5.68it/s]\u001b[A\n",
            "1364it [04:25,  5.52it/s]\u001b[A\n",
            "1365it [04:25,  5.42it/s]\u001b[A\n",
            "1366it [04:26,  5.62it/s]\u001b[A\n",
            "1367it [04:26,  5.60it/s]\u001b[A\n",
            "1368it [04:26,  2.97it/s]\u001b[A\n",
            "1369it [04:27,  3.38it/s]\u001b[A\n",
            "1370it [04:27,  3.87it/s]\u001b[A"
          ]
        },
        {
          "output_type": "stream",
          "name": "stdout",
          "text": [
            "\n",
            "1369: Processed and saved: shift_4-172500-D-27.wav with label: 27\n",
            "1369: Processed and saved: stretch_4-172500-D-27.wav with label: 27\n"
          ]
        },
        {
          "output_type": "stream",
          "name": "stderr",
          "text": [
            "\n",
            "1371it [04:27,  3.97it/s]\u001b[A\n",
            "1372it [04:27,  4.37it/s]\u001b[A\n",
            "1373it [04:27,  4.70it/s]\u001b[A\n",
            "1374it [04:28,  4.96it/s]\u001b[A\n",
            "1375it [04:28,  5.16it/s]\u001b[A\n",
            "1376it [04:28,  5.20it/s]\u001b[A\n",
            "1377it [04:28,  5.30it/s]\u001b[A\n",
            "1378it [04:28,  5.50it/s]\u001b[A\n",
            "1379it [04:28,  5.60it/s]\u001b[A\n",
            "1380it [04:29,  5.60it/s]\u001b[A\n"
          ]
        },
        {
          "output_type": "stream",
          "name": "stdout",
          "text": [
            "\n",
            "1379: Processed and saved: shift_4-174860-A-3.wav with label: 3\n",
            "1379: Processed and saved: stretch_4-174860-A-3.wav with label: 3\n"
          ]
        },
        {
          "output_type": "stream",
          "name": "stderr",
          "text": [
            "1381it [04:29,  5.45it/s]\u001b[A\n",
            "1382it [04:29,  4.81it/s]\u001b[A\n",
            "1383it [04:29,  4.61it/s]\u001b[A\n",
            "1384it [04:30,  4.31it/s]\u001b[A\n",
            "1385it [04:30,  4.28it/s]\u001b[A\n",
            "1386it [04:30,  4.23it/s]\u001b[A\n",
            "1387it [04:30,  4.00it/s]\u001b[A\n",
            "1388it [04:31,  4.19it/s]\u001b[A\n",
            "1389it [04:31,  4.03it/s]\u001b[A\n",
            "1390it [04:31,  3.95it/s]\u001b[A"
          ]
        },
        {
          "output_type": "stream",
          "name": "stdout",
          "text": [
            "\n",
            "1389: Processed and saved: shift_4-175945-A-38.wav with label: 38\n",
            "1389: Processed and saved: stretch_4-175945-A-38.wav with label: 38\n"
          ]
        },
        {
          "output_type": "stream",
          "name": "stderr",
          "text": [
            "\n",
            "1391it [04:31,  3.61it/s]\u001b[A\n",
            "1392it [04:32,  3.58it/s]\u001b[A\n",
            "1393it [04:32,  3.88it/s]\u001b[A\n",
            "1394it [04:32,  3.98it/s]\u001b[A\n",
            "1395it [04:32,  3.88it/s]\u001b[A\n",
            "1396it [04:33,  4.00it/s]\u001b[A\n",
            "1397it [04:33,  3.93it/s]\u001b[A\n",
            "1398it [04:33,  3.91it/s]\u001b[A\n",
            "1399it [04:33,  4.48it/s]\u001b[A\n",
            "1400it [04:34,  4.88it/s]\u001b[A\n",
            "1401it [04:34,  5.06it/s]\u001b[A"
          ]
        },
        {
          "output_type": "stream",
          "name": "stdout",
          "text": [
            "\n",
            "1399: Processed and saved: shift_4-179984-A-38.wav with label: 38\n",
            "1399: Processed and saved: stretch_4-179984-A-38.wav with label: 38\n"
          ]
        },
        {
          "output_type": "stream",
          "name": "stderr",
          "text": [
            "\n",
            "1402it [04:34,  5.21it/s]\u001b[A\n",
            "1403it [04:34,  5.23it/s]\u001b[A\n",
            "1404it [04:34,  5.30it/s]\u001b[A\n",
            "1405it [04:34,  5.37it/s]\u001b[A\n",
            "1406it [04:35,  4.39it/s]\u001b[A\n",
            "1407it [04:35,  4.76it/s]\u001b[A\n",
            "1408it [04:36,  2.90it/s]\u001b[A\n",
            "1409it [04:36,  3.39it/s]\u001b[A\n",
            "1410it [04:36,  3.86it/s]\u001b[A\n",
            "1411it [04:36,  4.40it/s]\u001b[A"
          ]
        },
        {
          "output_type": "stream",
          "name": "stdout",
          "text": [
            "\n",
            "1409: Processed and saved: shift_4-181707-A-32.wav with label: 32\n",
            "1409: Processed and saved: stretch_4-181707-A-32.wav with label: 32\n"
          ]
        },
        {
          "output_type": "stream",
          "name": "stderr",
          "text": [
            "\n",
            "1412it [04:36,  4.75it/s]\u001b[A\n",
            "1413it [04:36,  5.14it/s]\u001b[A\n",
            "1414it [04:37,  5.41it/s]\u001b[A\n",
            "1415it [04:37,  5.56it/s]\u001b[A\n",
            "1416it [04:37,  5.61it/s]\u001b[A\n",
            "1417it [04:37,  5.53it/s]\u001b[A\n",
            "1418it [04:37,  5.88it/s]\u001b[A\n",
            "1419it [04:37,  5.70it/s]\u001b[A\n",
            "1420it [04:38,  5.52it/s]\u001b[A\n",
            "1421it [04:38,  5.50it/s]\u001b[A"
          ]
        },
        {
          "output_type": "stream",
          "name": "stdout",
          "text": [
            "\n",
            "1419: Processed and saved: shift_4-182314-A-7.wav with label: 7\n",
            "1419: Processed and saved: stretch_4-182314-A-7.wav with label: 7\n"
          ]
        },
        {
          "output_type": "stream",
          "name": "stderr",
          "text": [
            "\n",
            "1422it [04:38,  5.58it/s]\u001b[A\n",
            "1423it [04:38,  5.81it/s]\u001b[A\n",
            "1424it [04:38,  6.21it/s]\u001b[A\n",
            "1425it [04:38,  5.63it/s]\u001b[A\n",
            "1426it [04:39,  5.83it/s]\u001b[A\n",
            "1427it [04:39,  5.87it/s]\u001b[A\n",
            "1428it [04:39,  6.03it/s]\u001b[A\n",
            "1429it [04:39,  5.90it/s]\u001b[A\n",
            "1430it [04:39,  5.68it/s]\u001b[A\n",
            "1431it [04:40,  5.70it/s]\u001b[A"
          ]
        },
        {
          "output_type": "stream",
          "name": "stdout",
          "text": [
            "\n",
            "1429: Processed and saved: shift_4-183882-A-28.wav with label: 28\n",
            "1429: Processed and saved: stretch_4-183882-A-28.wav with label: 28\n"
          ]
        },
        {
          "output_type": "stream",
          "name": "stderr",
          "text": [
            "\n",
            "1432it [04:40,  5.67it/s]\u001b[A\n",
            "1433it [04:40,  5.61it/s]\u001b[A\n",
            "1434it [04:40,  5.64it/s]\u001b[A\n",
            "1435it [04:40,  5.75it/s]\u001b[A\n",
            "1436it [04:40,  5.57it/s]\u001b[A\n",
            "1437it [04:41,  5.76it/s]\u001b[A\n",
            "1438it [04:41,  5.80it/s]\u001b[A\n",
            "1439it [04:41,  5.93it/s]\u001b[A\n",
            "1440it [04:41,  6.17it/s]\u001b[A\n",
            "1441it [04:41,  5.97it/s]\u001b[A"
          ]
        },
        {
          "output_type": "stream",
          "name": "stdout",
          "text": [
            "\n",
            "1439: Processed and saved: shift_4-185575-C-20.wav with label: 20\n",
            "1439: Processed and saved: stretch_4-185575-C-20.wav with label: 20\n"
          ]
        },
        {
          "output_type": "stream",
          "name": "stderr",
          "text": [
            "\n",
            "1442it [04:41,  6.08it/s]\u001b[A\n",
            "1443it [04:42,  5.77it/s]\u001b[A\n",
            "1444it [04:42,  5.80it/s]\u001b[A\n",
            "1445it [04:42,  5.90it/s]\u001b[A\n",
            "1446it [04:42,  5.95it/s]\u001b[A\n",
            "1447it [04:42,  6.13it/s]\u001b[A\n",
            "1448it [04:42,  6.24it/s]\u001b[A\n",
            "1449it [04:43,  6.00it/s]\u001b[A\n",
            "1450it [04:43,  5.86it/s]\u001b[A\n",
            "1451it [04:43,  5.86it/s]\u001b[A"
          ]
        },
        {
          "output_type": "stream",
          "name": "stdout",
          "text": [
            "\n",
            "1449: Processed and saved: shift_4-187284-A-30.wav with label: 30\n",
            "1449: Processed and saved: stretch_4-187284-A-30.wav with label: 30\n"
          ]
        },
        {
          "output_type": "stream",
          "name": "stderr",
          "text": [
            "\n",
            "1452it [04:43,  5.88it/s]\u001b[A\n",
            "1453it [04:43,  5.04it/s]\u001b[A\n",
            "1454it [04:44,  4.75it/s]\u001b[A\n",
            "1455it [04:44,  4.64it/s]\u001b[A\n",
            "1456it [04:44,  4.71it/s]\u001b[A\n",
            "1457it [04:44,  4.61it/s]\u001b[A\n",
            "1458it [04:44,  4.57it/s]\u001b[A\n",
            "1459it [04:45,  4.53it/s]\u001b[A\n",
            "1460it [04:45,  4.40it/s]\u001b[A\n"
          ]
        },
        {
          "output_type": "stream",
          "name": "stdout",
          "text": [
            "\n",
            "1459: Processed and saved: shift_4-188191-C-29.wav with label: 29\n",
            "1459: Processed and saved: stretch_4-188191-C-29.wav with label: 29\n"
          ]
        },
        {
          "output_type": "stream",
          "name": "stderr",
          "text": [
            "1461it [04:45,  4.58it/s]\u001b[A\n",
            "1462it [04:45,  4.60it/s]\u001b[A\n",
            "1463it [04:46,  4.05it/s]\u001b[A\n",
            "1464it [04:46,  4.14it/s]\u001b[A\n",
            "1465it [04:46,  4.14it/s]\u001b[A\n",
            "1466it [04:46,  3.99it/s]\u001b[A\n",
            "1467it [04:47,  4.14it/s]\u001b[A\n",
            "1468it [04:47,  4.07it/s]\u001b[A\n",
            "1469it [04:47,  4.02it/s]\u001b[A\n",
            "1470it [04:47,  4.07it/s]\u001b[A\n",
            "1471it [04:48,  4.45it/s]\u001b[A"
          ]
        },
        {
          "output_type": "stream",
          "name": "stdout",
          "text": [
            "\n",
            "1469: Processed and saved: shift_4-189332-A-37.wav with label: 37\n",
            "1469: Processed and saved: stretch_4-189332-A-37.wav with label: 37\n"
          ]
        },
        {
          "output_type": "stream",
          "name": "stderr",
          "text": [
            "\n",
            "1472it [04:48,  4.63it/s]\u001b[A\n",
            "1473it [04:48,  4.93it/s]\u001b[A\n",
            "1474it [04:48,  5.14it/s]\u001b[A\n",
            "1475it [04:48,  5.37it/s]\u001b[A\n",
            "1476it [04:48,  5.71it/s]\u001b[A\n",
            "1477it [04:49,  5.85it/s]\u001b[A\n",
            "1478it [04:49,  5.98it/s]\u001b[A\n",
            "1479it [04:49,  5.68it/s]\u001b[A\n",
            "1480it [04:49,  5.71it/s]\u001b[A\n",
            "1481it [04:49,  5.73it/s]\u001b[A"
          ]
        },
        {
          "output_type": "stream",
          "name": "stdout",
          "text": [
            "\n",
            "1479: Processed and saved: shift_4-191246-B-7.wav with label: 7\n",
            "1479: Processed and saved: stretch_4-191246-B-7.wav with label: 7\n"
          ]
        },
        {
          "output_type": "stream",
          "name": "stderr",
          "text": [
            "\n",
            "1482it [04:49,  5.59it/s]\u001b[A\n",
            "1483it [04:50,  5.92it/s]\u001b[A\n",
            "1484it [04:50,  5.45it/s]\u001b[A\n",
            "1485it [04:50,  5.56it/s]\u001b[A\n",
            "1486it [04:50,  5.71it/s]\u001b[A\n",
            "1487it [04:50,  5.67it/s]\u001b[A\n",
            "1488it [04:50,  5.88it/s]\u001b[A\n",
            "1489it [04:51,  5.66it/s]\u001b[A\n",
            "1490it [04:51,  5.55it/s]\u001b[A\n",
            "1491it [04:51,  5.53it/s]\u001b[A"
          ]
        },
        {
          "output_type": "stream",
          "name": "stdout",
          "text": [
            "\n",
            "1489: Processed and saved: shift_4-194711-A-38.wav with label: 38\n",
            "1489: Processed and saved: stretch_4-194711-A-38.wav with label: 38\n"
          ]
        },
        {
          "output_type": "stream",
          "name": "stderr",
          "text": [
            "\n",
            "1492it [04:51,  5.67it/s]\u001b[A\n",
            "1493it [04:51,  5.80it/s]\u001b[A\n",
            "1494it [04:52,  5.57it/s]\u001b[A\n",
            "1495it [04:52,  5.32it/s]\u001b[A\n",
            "1496it [04:52,  5.47it/s]\u001b[A\n",
            "1497it [04:52,  5.05it/s]\u001b[A\n",
            "1498it [04:52,  4.97it/s]\u001b[A\n",
            "1499it [04:53,  5.12it/s]\u001b[A\n",
            "1500it [04:53,  5.19it/s]\u001b[A\n"
          ]
        },
        {
          "output_type": "stream",
          "name": "stdout",
          "text": [
            "\n",
            "1499: Processed and saved: shift_4-195805-A-13.wav with label: 13\n",
            "1499: Processed and saved: stretch_4-195805-A-13.wav with label: 13\n"
          ]
        },
        {
          "output_type": "stream",
          "name": "stderr",
          "text": [
            "1501it [04:53,  5.15it/s]\u001b[A\n",
            "1502it [04:53,  5.13it/s]\u001b[A\n",
            "1503it [04:53,  5.24it/s]\u001b[A\n",
            "1504it [04:54,  5.48it/s]\u001b[A\n",
            "1505it [04:54,  5.57it/s]\u001b[A\n",
            "1506it [04:54,  5.31it/s]\u001b[A\n",
            "1507it [04:54,  5.48it/s]\u001b[A\n",
            "1508it [04:54,  5.55it/s]\u001b[A\n",
            "1509it [04:54,  5.83it/s]\u001b[A\n",
            "1510it [04:55,  5.65it/s]\u001b[A\n",
            "1511it [04:55,  5.87it/s]\u001b[A"
          ]
        },
        {
          "output_type": "stream",
          "name": "stdout",
          "text": [
            "\n",
            "1509: Processed and saved: shift_4-198360-B-49.wav with label: 49\n",
            "1509: Processed and saved: stretch_4-198360-B-49.wav with label: 49\n"
          ]
        },
        {
          "output_type": "stream",
          "name": "stderr",
          "text": [
            "\n",
            "1512it [04:55,  5.44it/s]\u001b[A\n",
            "1513it [04:55,  4.49it/s]\u001b[A\n",
            "1514it [04:55,  4.83it/s]\u001b[A\n",
            "1515it [04:56,  5.09it/s]\u001b[A\n",
            "1516it [04:56,  5.20it/s]\u001b[A\n",
            "1517it [04:56,  5.49it/s]\u001b[A\n",
            "1518it [04:56,  5.61it/s]\u001b[A\n",
            "1519it [04:56,  6.13it/s]\u001b[A\n",
            "1520it [04:56,  5.71it/s]\u001b[A\n",
            "1521it [04:57,  5.96it/s]\u001b[A"
          ]
        },
        {
          "output_type": "stream",
          "name": "stdout",
          "text": [
            "\n",
            "1519: Processed and saved: shift_4-201800-A-31.wav with label: 31\n",
            "1519: Processed and saved: stretch_4-201800-A-31.wav with label: 31\n"
          ]
        },
        {
          "output_type": "stream",
          "name": "stderr",
          "text": [
            "\n",
            "1522it [04:57,  5.96it/s]\u001b[A\n",
            "1523it [04:57,  5.85it/s]\u001b[A\n",
            "1524it [04:57,  6.00it/s]\u001b[A\n",
            "1525it [04:57,  6.28it/s]\u001b[A\n",
            "1526it [04:57,  6.34it/s]\u001b[A\n",
            "1527it [04:58,  5.63it/s]\u001b[A\n",
            "1528it [04:58,  4.66it/s]\u001b[A\n",
            "1529it [04:58,  4.65it/s]\u001b[A\n",
            "1530it [04:58,  4.56it/s]\u001b[A\n",
            "1531it [04:59,  4.77it/s]\u001b[A"
          ]
        },
        {
          "output_type": "stream",
          "name": "stdout",
          "text": [
            "\n",
            "1529: Processed and saved: shift_4-204618-A-11.wav with label: 11\n",
            "1529: Processed and saved: stretch_4-204618-A-11.wav with label: 11\n"
          ]
        },
        {
          "output_type": "stream",
          "name": "stderr",
          "text": [
            "\n",
            "1532it [04:59,  4.64it/s]\u001b[A\n",
            "1533it [04:59,  4.64it/s]\u001b[A\n",
            "1534it [04:59,  4.38it/s]\u001b[A\n",
            "1535it [05:00,  4.29it/s]\u001b[A\n",
            "1536it [05:00,  4.29it/s]\u001b[A\n",
            "1537it [05:00,  4.33it/s]\u001b[A\n",
            "1538it [05:00,  4.33it/s]\u001b[A\n",
            "1539it [05:00,  4.26it/s]\u001b[A\n",
            "1540it [05:01,  4.10it/s]\u001b[A"
          ]
        },
        {
          "output_type": "stream",
          "name": "stdout",
          "text": [
            "\n",
            "1539: Processed and saved: shift_4-207116-A-23.wav with label: 23\n",
            "1539: Processed and saved: stretch_4-207116-A-23.wav with label: 23\n"
          ]
        },
        {
          "output_type": "stream",
          "name": "stderr",
          "text": [
            "\n",
            "1541it [05:01,  4.12it/s]\u001b[A\n",
            "1542it [05:01,  4.15it/s]\u001b[A\n",
            "1543it [05:01,  4.05it/s]\u001b[A\n",
            "1544it [05:02,  4.20it/s]\u001b[A\n",
            "1545it [05:02,  4.39it/s]\u001b[A\n",
            "1546it [05:02,  4.83it/s]\u001b[A\n",
            "1547it [05:02,  5.23it/s]\u001b[A\n",
            "1548it [05:02,  5.27it/s]\u001b[A\n",
            "1549it [05:03,  5.57it/s]\u001b[A\n",
            "1550it [05:03,  5.46it/s]\u001b[A\n",
            "1551it [05:03,  5.51it/s]\u001b[A"
          ]
        },
        {
          "output_type": "stream",
          "name": "stdout",
          "text": [
            "\n",
            "1549: Processed and saved: shift_4-212604-A-15.wav with label: 15\n",
            "1549: Processed and saved: stretch_4-212604-A-15.wav with label: 15\n"
          ]
        },
        {
          "output_type": "stream",
          "name": "stderr",
          "text": [
            "\n",
            "1552it [05:03,  5.65it/s]\u001b[A\n",
            "1553it [05:03,  5.89it/s]\u001b[A\n",
            "1554it [05:03,  6.03it/s]\u001b[A\n",
            "1555it [05:04,  5.68it/s]\u001b[A\n",
            "1556it [05:04,  5.78it/s]\u001b[A\n",
            "1557it [05:04,  5.66it/s]\u001b[A\n",
            "1558it [05:04,  5.88it/s]\u001b[A\n",
            "1559it [05:04,  6.10it/s]\u001b[A\n",
            "1560it [05:04,  5.23it/s]\u001b[A\n",
            "1561it [05:05,  5.59it/s]\u001b[A"
          ]
        },
        {
          "output_type": "stream",
          "name": "stdout",
          "text": [
            "\n",
            "1559: Processed and saved: shift_4-216211-A-14.wav with label: 14\n",
            "1559: Processed and saved: stretch_4-216211-A-14.wav with label: 14\n"
          ]
        },
        {
          "output_type": "stream",
          "name": "stderr",
          "text": [
            "\n",
            "1562it [05:05,  5.65it/s]\u001b[A\n",
            "1563it [05:05,  5.67it/s]\u001b[A\n",
            "1564it [05:05,  5.95it/s]\u001b[A\n",
            "1565it [05:05,  5.99it/s]\u001b[A\n",
            "1566it [05:05,  5.78it/s]\u001b[A\n",
            "1567it [05:06,  5.87it/s]\u001b[A\n",
            "1568it [05:06,  6.05it/s]\u001b[A\n",
            "1569it [05:06,  5.95it/s]\u001b[A\n",
            "1570it [05:06,  6.01it/s]\u001b[A\n",
            "1571it [05:06,  5.78it/s]\u001b[A"
          ]
        },
        {
          "output_type": "stream",
          "name": "stdout",
          "text": [
            "\n",
            "1569: Processed and saved: shift_4-218304-A-25.wav with label: 25\n",
            "1569: Processed and saved: stretch_4-218304-A-25.wav with label: 25\n"
          ]
        },
        {
          "output_type": "stream",
          "name": "stderr",
          "text": [
            "\n",
            "1572it [05:07,  5.60it/s]\u001b[A\n",
            "1573it [05:07,  5.77it/s]\u001b[A\n",
            "1574it [05:07,  5.53it/s]\u001b[A\n",
            "1575it [05:07,  5.19it/s]\u001b[A\n",
            "1576it [05:07,  4.71it/s]\u001b[A\n",
            "1577it [05:08,  4.30it/s]\u001b[A\n",
            "1578it [05:08,  4.06it/s]\u001b[A\n",
            "1579it [05:08,  4.07it/s]\u001b[A\n",
            "1580it [05:08,  4.13it/s]\u001b[A"
          ]
        },
        {
          "output_type": "stream",
          "name": "stdout",
          "text": [
            "\n",
            "1579: Processed and saved: shift_4-250869-B-2.wav with label: 2\n",
            "1579: Processed and saved: stretch_4-250869-B-2.wav with label: 2\n"
          ]
        },
        {
          "output_type": "stream",
          "name": "stderr",
          "text": [
            "\n",
            "1581it [05:09,  3.96it/s]\u001b[A\n",
            "1582it [05:09,  3.97it/s]\u001b[A\n",
            "1583it [05:09,  4.22it/s]\u001b[A\n",
            "1584it [05:09,  4.00it/s]\u001b[A\n",
            "1585it [05:10,  3.99it/s]\u001b[A\n",
            "1586it [05:10,  3.54it/s]\u001b[A\n",
            "1587it [05:10,  3.56it/s]\u001b[A\n",
            "1588it [05:11,  3.49it/s]\u001b[A\n",
            "1589it [05:11,  2.87it/s]\u001b[A\n",
            "1590it [05:11,  3.12it/s]\u001b[A"
          ]
        },
        {
          "output_type": "stream",
          "name": "stdout",
          "text": [
            "\n",
            "1589: Processed and saved: shift_4-59579-B-20.wav with label: 20\n",
            "1589: Processed and saved: stretch_4-59579-B-20.wav with label: 20\n"
          ]
        },
        {
          "output_type": "stream",
          "name": "stderr",
          "text": [
            "\n",
            "1591it [05:12,  3.25it/s]\u001b[A\n",
            "1592it [05:12,  2.63it/s]\u001b[A\n",
            "1593it [05:13,  2.37it/s]\u001b[A\n",
            "1594it [05:13,  2.42it/s]\u001b[A\n",
            "1595it [05:14,  2.06it/s]\u001b[A\n",
            "1596it [05:14,  2.14it/s]\u001b[A\n",
            "1597it [05:14,  2.52it/s]\u001b[A\n",
            "1598it [05:15,  2.76it/s]\u001b[A\n",
            "1599it [05:15,  3.16it/s]\u001b[A\n",
            "1600it [05:15,  3.28it/s]\u001b[A"
          ]
        },
        {
          "output_type": "stream",
          "name": "stdout",
          "text": [
            "\n",
            "1599: Processed and saved: shift_4-99644-D-4.wav with label: 4\n",
            "1599: Processed and saved: stretch_4-99644-D-4.wav with label: 4\n"
          ]
        },
        {
          "output_type": "stream",
          "name": "stderr",
          "text": [
            "\n",
            "1601it [05:15,  3.45it/s]\u001b[A\n",
            "1602it [05:16,  3.51it/s]\u001b[A\n",
            "1603it [05:16,  3.70it/s]\u001b[A\n",
            "1604it [05:16,  3.95it/s]\u001b[A\n",
            "1605it [05:16,  4.01it/s]\u001b[A\n",
            "1606it [05:17,  4.04it/s]\u001b[A\n",
            "1607it [05:17,  3.86it/s]\u001b[A\n",
            "1608it [05:17,  4.31it/s]\u001b[A\n",
            "1609it [05:17,  4.68it/s]\u001b[A\n",
            "1610it [05:17,  4.91it/s]\u001b[A\n",
            "1611it [05:18,  5.11it/s]\u001b[A"
          ]
        },
        {
          "output_type": "stream",
          "name": "stdout",
          "text": [
            "\n",
            "1609: Processed and saved: shift_5-117250-A-2.wav with label: 2\n",
            "1609: Processed and saved: stretch_5-117250-A-2.wav with label: 2\n"
          ]
        },
        {
          "output_type": "stream",
          "name": "stderr",
          "text": [
            "\n",
            "1612it [05:18,  5.31it/s]\u001b[A\n",
            "1613it [05:18,  5.38it/s]\u001b[A\n",
            "1614it [05:18,  5.47it/s]\u001b[A\n",
            "1615it [05:18,  5.51it/s]\u001b[A\n",
            "1616it [05:18,  5.53it/s]\u001b[A\n",
            "1617it [05:19,  5.34it/s]\u001b[A\n",
            "1618it [05:19,  5.57it/s]\u001b[A\n",
            "1619it [05:19,  5.84it/s]\u001b[A\n",
            "1620it [05:19,  5.77it/s]\u001b[A\n",
            "1621it [05:19,  5.65it/s]\u001b[A"
          ]
        },
        {
          "output_type": "stream",
          "name": "stdout",
          "text": [
            "\n",
            "1619: Processed and saved: shift_5-156026-B-4.wav with label: 4\n",
            "1619: Processed and saved: stretch_5-156026-B-4.wav with label: 4\n"
          ]
        },
        {
          "output_type": "stream",
          "name": "stderr",
          "text": [
            "\n",
            "1622it [05:20,  5.78it/s]\u001b[A\n",
            "1623it [05:20,  5.64it/s]\u001b[A\n",
            "1624it [05:20,  5.86it/s]\u001b[A\n",
            "1625it [05:20,  5.54it/s]\u001b[A\n",
            "1626it [05:20,  5.55it/s]\u001b[A\n",
            "1627it [05:20,  5.59it/s]\u001b[A\n",
            "1628it [05:21,  5.49it/s]\u001b[A\n",
            "1629it [05:21,  5.45it/s]\u001b[A\n",
            "1630it [05:21,  5.33it/s]\u001b[A\n",
            "1631it [05:21,  5.38it/s]\u001b[A"
          ]
        },
        {
          "output_type": "stream",
          "name": "stdout",
          "text": [
            "\n",
            "1629: Processed and saved: shift_5-157204-B-16.wav with label: 16\n",
            "1629: Processed and saved: stretch_5-157204-B-16.wav with label: 16\n"
          ]
        },
        {
          "output_type": "stream",
          "name": "stderr",
          "text": [
            "\n",
            "1632it [05:21,  5.13it/s]\u001b[A\n",
            "1633it [05:22,  5.16it/s]\u001b[A\n",
            "1634it [05:22,  5.40it/s]\u001b[A\n",
            "1635it [05:22,  5.20it/s]\u001b[A\n",
            "1636it [05:22,  4.19it/s]\u001b[A\n",
            "1637it [05:22,  4.48it/s]\u001b[A\n",
            "1638it [05:23,  4.75it/s]\u001b[A\n",
            "1639it [05:23,  5.11it/s]\u001b[A\n",
            "1640it [05:23,  5.32it/s]\u001b[A"
          ]
        },
        {
          "output_type": "stream",
          "name": "stdout",
          "text": [
            "\n",
            "1639: Processed and saved: shift_5-161270-A-33.wav with label: 33\n",
            "1639: Processed and saved: stretch_5-161270-A-33.wav with label: 33\n"
          ]
        },
        {
          "output_type": "stream",
          "name": "stderr",
          "text": [
            "\n",
            "1641it [05:23,  5.11it/s]\u001b[A\n",
            "1642it [05:23,  5.34it/s]\u001b[A\n",
            "1643it [05:24,  5.34it/s]\u001b[A\n",
            "1644it [05:24,  5.59it/s]\u001b[A\n",
            "1645it [05:24,  5.77it/s]\u001b[A\n",
            "1646it [05:24,  5.50it/s]\u001b[A\n",
            "1647it [05:24,  5.63it/s]\u001b[A\n",
            "1648it [05:24,  5.57it/s]\u001b[A\n",
            "1649it [05:25,  5.82it/s]\u001b[A\n",
            "1650it [05:25,  5.83it/s]\u001b[A\n",
            "1651it [05:25,  5.73it/s]\u001b[A"
          ]
        },
        {
          "output_type": "stream",
          "name": "stdout",
          "text": [
            "\n",
            "1649: Processed and saved: shift_5-177034-A-18.wav with label: 18\n",
            "1649: Processed and saved: stretch_5-177034-A-18.wav with label: 18\n"
          ]
        },
        {
          "output_type": "stream",
          "name": "stderr",
          "text": [
            "\n",
            "1652it [05:25,  5.70it/s]\u001b[A\n",
            "1653it [05:25,  5.72it/s]\u001b[A\n",
            "1654it [05:26,  5.44it/s]\u001b[A\n",
            "1655it [05:26,  5.52it/s]\u001b[A\n",
            "1656it [05:26,  5.45it/s]\u001b[A\n",
            "1657it [05:26,  5.18it/s]\u001b[A\n",
            "1658it [05:26,  5.32it/s]\u001b[A\n",
            "1659it [05:26,  5.55it/s]\u001b[A\n",
            "1660it [05:27,  5.50it/s]\u001b[A\n",
            "1661it [05:27,  5.38it/s]"
          ]
        },
        {
          "output_type": "stream",
          "name": "stdout",
          "text": [
            "\n",
            "1659: Processed and saved: shift_5-179496-A-16.wav with label: 16\n",
            "1659: Processed and saved: stretch_5-179496-A-16.wav with label: 16\n"
          ]
        },
        {
          "output_type": "stream",
          "name": "stderr",
          "text": [
            "\u001b[A\n",
            "1662it [05:27,  5.14it/s]\u001b[A\n",
            "1663it [05:27,  5.05it/s]\u001b[A\n",
            "1664it [05:27,  4.76it/s]\u001b[A\n",
            "1665it [05:28,  4.27it/s]\u001b[A\n",
            "1666it [05:28,  4.16it/s]\u001b[A\n",
            "1667it [05:28,  4.18it/s]\u001b[A\n",
            "1668it [05:28,  4.13it/s]\u001b[A\n",
            "1669it [05:29,  4.06it/s]\u001b[A\n",
            "1670it [05:29,  4.11it/s]\u001b[A"
          ]
        },
        {
          "output_type": "stream",
          "name": "stdout",
          "text": [
            "\n",
            "1669: Processed and saved: shift_5-180229-A-27.wav with label: 27\n",
            "1669: Processed and saved: stretch_5-180229-A-27.wav with label: 27\n"
          ]
        },
        {
          "output_type": "stream",
          "name": "stderr",
          "text": [
            "\n",
            "1671it [05:29,  4.23it/s]\u001b[A\n",
            "1672it [05:29,  3.98it/s]\u001b[A\n",
            "1673it [05:30,  3.98it/s]\u001b[A\n",
            "1674it [05:30,  3.92it/s]\u001b[A\n",
            "1675it [05:30,  4.03it/s]\u001b[A\n",
            "1676it [05:30,  4.08it/s]\u001b[A\n",
            "1677it [05:31,  3.99it/s]\u001b[A\n",
            "1678it [05:31,  3.78it/s]\u001b[A\n",
            "1679it [05:31,  4.15it/s]\u001b[A\n",
            "1680it [05:31,  4.66it/s]\u001b[A\n",
            "1681it [05:32,  4.98it/s]\u001b[A"
          ]
        },
        {
          "output_type": "stream",
          "name": "stdout",
          "text": [
            "\n",
            "1679: Processed and saved: shift_5-185516-A-27.wav with label: 27\n",
            "1679: Processed and saved: stretch_5-185516-A-27.wav with label: 27\n"
          ]
        },
        {
          "output_type": "stream",
          "name": "stderr",
          "text": [
            "\n",
            "1682it [05:32,  5.24it/s]\u001b[A\n",
            "1683it [05:32,  5.41it/s]\u001b[A\n",
            "1684it [05:32,  5.22it/s]\u001b[A\n",
            "1685it [05:33,  2.98it/s]\u001b[A\n",
            "1686it [05:33,  3.47it/s]\u001b[A\n",
            "1687it [05:33,  3.91it/s]\u001b[A\n",
            "1688it [05:33,  4.19it/s]\u001b[A\n",
            "1689it [05:34,  4.47it/s]\u001b[A\n",
            "1690it [05:34,  4.75it/s]\u001b[A\n",
            "1691it [05:34,  5.02it/s]\u001b[A"
          ]
        },
        {
          "output_type": "stream",
          "name": "stdout",
          "text": [
            "\n",
            "1689: Processed and saved: shift_5-188495-A-19.wav with label: 19\n",
            "1689: Processed and saved: stretch_5-188495-A-19.wav with label: 19\n"
          ]
        },
        {
          "output_type": "stream",
          "name": "stderr",
          "text": [
            "\n",
            "1692it [05:34,  5.13it/s]\u001b[A\n",
            "1693it [05:34,  5.12it/s]\u001b[A\n",
            "1694it [05:34,  5.35it/s]\u001b[A\n",
            "1695it [05:35,  4.93it/s]\u001b[A\n",
            "1696it [05:35,  4.74it/s]\u001b[A\n",
            "1697it [05:35,  4.84it/s]\u001b[A\n",
            "1698it [05:35,  5.08it/s]\u001b[A\n",
            "1699it [05:35,  5.19it/s]\u001b[A\n",
            "1700it [05:36,  5.45it/s]\u001b[A"
          ]
        },
        {
          "output_type": "stream",
          "name": "stdout",
          "text": [
            "\n",
            "1699: Processed and saved: shift_5-191497-A-33.wav with label: 33\n",
            "1699: Processed and saved: stretch_5-191497-A-33.wav with label: 33\n"
          ]
        },
        {
          "output_type": "stream",
          "name": "stderr",
          "text": [
            "\n",
            "1701it [05:36,  5.04it/s]\u001b[A\n",
            "1702it [05:36,  5.04it/s]\u001b[A\n",
            "1703it [05:36,  5.13it/s]\u001b[A\n",
            "1704it [05:36,  5.26it/s]\u001b[A\n",
            "1705it [05:37,  5.47it/s]\u001b[A\n",
            "1706it [05:37,  5.44it/s]\u001b[A\n",
            "1707it [05:37,  5.15it/s]\u001b[A\n",
            "1708it [05:37,  4.47it/s]\u001b[A\n",
            "1709it [05:37,  4.53it/s]\u001b[A\n",
            "1710it [05:38,  4.89it/s]\u001b[A\n",
            "1711it [05:38,  5.08it/s]\u001b[A"
          ]
        },
        {
          "output_type": "stream",
          "name": "stdout",
          "text": [
            "\n",
            "1709: Processed and saved: shift_5-194899-D-3.wav with label: 3\n",
            "1709: Processed and saved: stretch_5-194899-D-3.wav with label: 3\n"
          ]
        },
        {
          "output_type": "stream",
          "name": "stderr",
          "text": [
            "\n",
            "1712it [05:38,  5.07it/s]\u001b[A\n",
            "1713it [05:38,  5.08it/s]\u001b[A\n",
            "1714it [05:38,  5.24it/s]\u001b[A\n",
            "1715it [05:39,  5.42it/s]\u001b[A\n",
            "1716it [05:39,  5.30it/s]\u001b[A\n",
            "1717it [05:39,  4.79it/s]\u001b[A\n",
            "1718it [05:39,  5.01it/s]\u001b[A\n",
            "1719it [05:39,  5.23it/s]\u001b[A\n",
            "1720it [05:40,  5.26it/s]\u001b[A"
          ]
        },
        {
          "output_type": "stream",
          "name": "stdout",
          "text": [
            "\n",
            "1719: Processed and saved: shift_5-197121-B-45.wav with label: 45\n",
            "1719: Processed and saved: stretch_5-197121-B-45.wav with label: 45\n"
          ]
        },
        {
          "output_type": "stream",
          "name": "stderr",
          "text": [
            "\n",
            "1721it [05:40,  5.19it/s]\u001b[A\n",
            "1722it [05:40,  5.29it/s]\u001b[A\n",
            "1723it [05:40,  5.43it/s]\u001b[A\n",
            "1724it [05:40,  5.63it/s]\u001b[A\n",
            "1725it [05:40,  5.76it/s]\u001b[A\n",
            "1726it [05:41,  5.95it/s]\u001b[A\n",
            "1727it [05:41,  5.84it/s]\u001b[A\n",
            "1728it [05:41,  5.61it/s]\u001b[A\n",
            "1729it [05:41,  5.37it/s]\u001b[A\n",
            "1730it [05:41,  4.99it/s]\u001b[A"
          ]
        },
        {
          "output_type": "stream",
          "name": "stdout",
          "text": [
            "\n",
            "1729: Processed and saved: shift_5-198411-B-20.wav with label: 20\n",
            "1729: Processed and saved: stretch_5-198411-B-20.wav with label: 20\n"
          ]
        },
        {
          "output_type": "stream",
          "name": "stderr",
          "text": [
            "\n",
            "1731it [05:42,  4.68it/s]\u001b[A\n",
            "1732it [05:42,  4.53it/s]\u001b[A\n",
            "1733it [05:42,  4.31it/s]\u001b[A\n",
            "1734it [05:42,  4.43it/s]\u001b[A\n",
            "1735it [05:43,  4.16it/s]\u001b[A\n",
            "1736it [05:43,  4.01it/s]\u001b[A\n",
            "1737it [05:43,  3.96it/s]\u001b[A\n",
            "1738it [05:43,  3.91it/s]\u001b[A\n",
            "1739it [05:44,  3.83it/s]\u001b[A\n",
            "1740it [05:44,  3.94it/s]\u001b[A"
          ]
        },
        {
          "output_type": "stream",
          "name": "stdout",
          "text": [
            "\n",
            "1739: Processed and saved: shift_5-198891-D-8.wav with label: 8\n",
            "1739: Processed and saved: stretch_5-198891-D-8.wav with label: 8\n"
          ]
        },
        {
          "output_type": "stream",
          "name": "stderr",
          "text": [
            "\n",
            "1741it [05:44,  4.06it/s]\u001b[A\n",
            "1742it [05:44,  4.14it/s]\u001b[A\n",
            "1743it [05:45,  4.15it/s]\u001b[A\n",
            "1744it [05:45,  4.18it/s]\u001b[A\n",
            "1745it [05:45,  4.10it/s]\u001b[A\n",
            "1746it [05:45,  3.73it/s]\u001b[A\n",
            "1747it [05:46,  3.71it/s]\u001b[A\n",
            "1748it [05:46,  3.33it/s]\u001b[A\n",
            "1749it [05:46,  3.63it/s]\u001b[A\n",
            "1750it [05:46,  4.05it/s]\u001b[A"
          ]
        },
        {
          "output_type": "stream",
          "name": "stdout",
          "text": [
            "\n",
            "1749: Processed and saved: shift_5-200461-B-11.wav with label: 11\n",
            "1749: Processed and saved: stretch_5-200461-B-11.wav with label: 11\n"
          ]
        },
        {
          "output_type": "stream",
          "name": "stderr",
          "text": [
            "\n",
            "1751it [05:47,  4.22it/s]\u001b[A\n",
            "1752it [05:47,  4.59it/s]\u001b[A\n",
            "1753it [05:47,  4.86it/s]\u001b[A\n",
            "1754it [05:47,  5.11it/s]\u001b[A\n",
            "1755it [05:47,  5.22it/s]\u001b[A\n",
            "1756it [05:48,  5.15it/s]\u001b[A\n",
            "1757it [05:48,  5.27it/s]\u001b[A\n",
            "1758it [05:48,  5.49it/s]\u001b[A\n",
            "1759it [05:48,  5.17it/s]\u001b[A\n",
            "1760it [05:48,  5.23it/s]\u001b[A\n",
            "1761it [05:49,  5.25it/s]\u001b[A"
          ]
        },
        {
          "output_type": "stream",
          "name": "stdout",
          "text": [
            "\n",
            "1759: Processed and saved: shift_5-202898-A-10.wav with label: 10\n",
            "1759: Processed and saved: stretch_5-202898-A-10.wav with label: 10\n"
          ]
        },
        {
          "output_type": "stream",
          "name": "stderr",
          "text": [
            "\n",
            "1762it [05:49,  5.49it/s]\u001b[A\n",
            "1763it [05:49,  5.61it/s]\u001b[A\n",
            "1764it [05:49,  5.64it/s]\u001b[A\n",
            "1765it [05:49,  5.32it/s]\u001b[A\n",
            "1766it [05:50,  4.69it/s]\u001b[A\n",
            "1767it [05:50,  4.18it/s]\u001b[A\n",
            "1768it [05:50,  4.45it/s]\u001b[A\n",
            "1769it [05:50,  4.46it/s]\u001b[A\n",
            "1770it [05:51,  3.85it/s]\u001b[A"
          ]
        },
        {
          "output_type": "stream",
          "name": "stdout",
          "text": [
            "\n",
            "1769: Processed and saved: shift_5-205589-A-17.wav with label: 17\n",
            "1769: Processed and saved: stretch_5-205589-A-17.wav with label: 17\n"
          ]
        },
        {
          "output_type": "stream",
          "name": "stderr",
          "text": [
            "\n",
            "1771it [05:51,  2.85it/s]\u001b[A\n",
            "1772it [05:51,  3.30it/s]\u001b[A\n",
            "1773it [05:52,  3.08it/s]\u001b[A\n",
            "1774it [05:52,  3.41it/s]\u001b[A\n",
            "1775it [05:52,  3.74it/s]\u001b[A\n",
            "1776it [05:52,  4.16it/s]\u001b[A\n",
            "1777it [05:53,  4.16it/s]\u001b[A\n",
            "1778it [05:53,  4.48it/s]\u001b[A\n",
            "1779it [05:53,  4.75it/s]\u001b[A\n",
            "1780it [05:53,  4.03it/s]\u001b[A\n",
            "1781it [05:53,  4.33it/s]"
          ]
        },
        {
          "output_type": "stream",
          "name": "stdout",
          "text": [
            "\n",
            "1779: Processed and saved: shift_5-207836-D-29.wav with label: 29\n",
            "1779: Processed and saved: stretch_5-207836-D-29.wav with label: 29\n"
          ]
        },
        {
          "output_type": "stream",
          "name": "stderr",
          "text": [
            "\u001b[A\n",
            "1782it [05:54,  3.86it/s]\u001b[A\n",
            "1783it [05:54,  3.75it/s]\u001b[A\n",
            "1784it [05:55,  2.57it/s]\u001b[A\n",
            "1785it [05:55,  2.82it/s]\u001b[A\n",
            "1786it [05:55,  3.09it/s]\u001b[A\n",
            "1787it [05:55,  3.69it/s]\u001b[A\n",
            "1788it [05:56,  2.58it/s]\u001b[A\n",
            "1789it [05:56,  2.52it/s]\u001b[A\n",
            "1790it [05:57,  2.76it/s]\u001b[A"
          ]
        },
        {
          "output_type": "stream",
          "name": "stdout",
          "text": [
            "\n",
            "1789: Processed and saved: shift_5-209992-A-44.wav with label: 44\n",
            "1789: Processed and saved: stretch_5-209992-A-44.wav with label: 44\n"
          ]
        },
        {
          "output_type": "stream",
          "name": "stderr",
          "text": [
            "\n",
            "1791it [05:57,  3.01it/s]\u001b[A\n",
            "1792it [05:57,  3.39it/s]\u001b[A\n",
            "1793it [05:57,  3.63it/s]\u001b[A\n",
            "1794it [05:58,  3.02it/s]\u001b[A\n",
            "1795it [05:58,  2.89it/s]\u001b[A\n",
            "1796it [05:59,  2.18it/s]\u001b[A\n",
            "1797it [05:59,  2.54it/s]\u001b[A\n",
            "1798it [05:59,  2.91it/s]\u001b[A\n",
            "1799it [06:00,  3.22it/s]\u001b[A\n",
            "1800it [06:00,  3.40it/s]\u001b[A"
          ]
        },
        {
          "output_type": "stream",
          "name": "stdout",
          "text": [
            "\n",
            "1799: Processed and saved: shift_5-212181-A-38.wav with label: 38\n",
            "1799: Processed and saved: stretch_5-212181-A-38.wav with label: 38\n"
          ]
        },
        {
          "output_type": "stream",
          "name": "stderr",
          "text": [
            "\n",
            "1801it [06:00,  3.53it/s]\u001b[A\n",
            "1802it [06:00,  3.86it/s]\u001b[A\n",
            "1803it [06:01,  4.26it/s]\u001b[A\n",
            "1804it [06:01,  4.51it/s]\u001b[A\n",
            "1805it [06:01,  4.88it/s]\u001b[A\n",
            "1806it [06:01,  5.17it/s]\u001b[A\n",
            "1807it [06:01,  5.32it/s]\u001b[A\n",
            "1808it [06:01,  5.47it/s]\u001b[A\n",
            "1809it [06:02,  5.63it/s]\u001b[A\n",
            "1810it [06:02,  5.48it/s]\u001b[A\n",
            "1811it [06:02,  5.52it/s]\u001b[A"
          ]
        },
        {
          "output_type": "stream",
          "name": "stdout",
          "text": [
            "\n",
            "1809: Processed and saved: shift_5-213836-C-9.wav with label: 9\n",
            "1809: Processed and saved: stretch_5-213836-C-9.wav with label: 9\n"
          ]
        },
        {
          "output_type": "stream",
          "name": "stderr",
          "text": [
            "\n",
            "1812it [06:02,  5.22it/s]\u001b[A\n",
            "1813it [06:02,  5.35it/s]\u001b[A\n",
            "1814it [06:03,  5.38it/s]\u001b[A\n",
            "1815it [06:03,  5.12it/s]\u001b[A\n",
            "1816it [06:03,  5.30it/s]\u001b[A\n",
            "1817it [06:03,  4.13it/s]\u001b[A\n",
            "1818it [06:04,  4.52it/s]\u001b[A\n",
            "1819it [06:04,  4.60it/s]\u001b[A\n",
            "1820it [06:04,  4.92it/s]\u001b[A\n",
            "1821it [06:04,  5.05it/s]\u001b[A"
          ]
        },
        {
          "output_type": "stream",
          "name": "stdout",
          "text": [
            "\n",
            "1819: Processed and saved: shift_5-215445-A-47.wav with label: 47\n",
            "1819: Processed and saved: stretch_5-215445-A-47.wav with label: 47\n"
          ]
        },
        {
          "output_type": "stream",
          "name": "stderr",
          "text": [
            "\n",
            "1822it [06:04,  5.01it/s]\u001b[A\n",
            "1823it [06:04,  5.07it/s]\u001b[A\n",
            "1824it [06:05,  5.23it/s]\u001b[A\n",
            "1825it [06:05,  5.19it/s]\u001b[A\n",
            "1826it [06:05,  5.28it/s]\u001b[A\n",
            "1827it [06:05,  5.14it/s]\u001b[A\n",
            "1828it [06:05,  5.33it/s]\u001b[A\n",
            "1829it [06:06,  5.38it/s]\u001b[A\n",
            "1830it [06:06,  5.43it/s]\u001b[A\n",
            "1831it [06:06,  5.44it/s]\u001b[A"
          ]
        },
        {
          "output_type": "stream",
          "name": "stdout",
          "text": [
            "\n",
            "1829: Processed and saved: shift_5-216368-A-28.wav with label: 28\n",
            "1829: Processed and saved: stretch_5-216368-A-28.wav with label: 28\n"
          ]
        },
        {
          "output_type": "stream",
          "name": "stderr",
          "text": [
            "\n",
            "1832it [06:06,  5.09it/s]\u001b[A\n",
            "1833it [06:06,  5.31it/s]\u001b[A\n",
            "1834it [06:07,  5.42it/s]\u001b[A\n",
            "1835it [06:07,  5.48it/s]\u001b[A\n",
            "1836it [06:07,  5.66it/s]\u001b[A\n",
            "1837it [06:07,  5.66it/s]\u001b[A\n",
            "1838it [06:07,  5.57it/s]\u001b[A\n",
            "1839it [06:07,  5.70it/s]\u001b[A\n",
            "1840it [06:08,  5.66it/s]\u001b[A\n",
            "1841it [06:08,  5.69it/s]\u001b[A"
          ]
        },
        {
          "output_type": "stream",
          "name": "stdout",
          "text": [
            "\n",
            "1839: Processed and saved: shift_5-218980-A-30.wav with label: 30\n",
            "1839: Processed and saved: stretch_5-218980-A-30.wav with label: 30\n"
          ]
        },
        {
          "output_type": "stream",
          "name": "stderr",
          "text": [
            "\n",
            "1842it [06:08,  5.29it/s]\u001b[A\n",
            "1843it [06:08,  5.55it/s]\u001b[A\n",
            "1844it [06:08,  5.31it/s]\u001b[A\n",
            "1845it [06:09,  5.43it/s]\u001b[A\n",
            "1846it [06:09,  5.37it/s]\u001b[A\n",
            "1847it [06:09,  5.14it/s]\u001b[A\n",
            "1848it [06:09,  5.32it/s]\u001b[A\n",
            "1849it [06:09,  4.08it/s]\u001b[A\n",
            "1850it [06:10,  3.94it/s]\u001b[A\n",
            "1851it [06:10,  4.41it/s]\u001b[A"
          ]
        },
        {
          "output_type": "stream",
          "name": "stdout",
          "text": [
            "\n",
            "1849: Processed and saved: shift_5-220026-A-21.wav with label: 21\n",
            "1849: Processed and saved: stretch_5-220026-A-21.wav with label: 21\n"
          ]
        },
        {
          "output_type": "stream",
          "name": "stderr",
          "text": [
            "\n",
            "1852it [06:10,  4.69it/s]\u001b[A\n",
            "1853it [06:10,  4.95it/s]\u001b[A\n",
            "1854it [06:10,  5.06it/s]\u001b[A\n",
            "1855it [06:11,  4.97it/s]\u001b[A\n",
            "1856it [06:11,  4.70it/s]\u001b[A\n",
            "1857it [06:11,  4.52it/s]\u001b[A\n",
            "1858it [06:11,  4.26it/s]\u001b[A\n",
            "1859it [06:12,  4.39it/s]\u001b[A\n",
            "1860it [06:12,  4.56it/s]\u001b[A"
          ]
        },
        {
          "output_type": "stream",
          "name": "stdout",
          "text": [
            "\n",
            "1859: Processed and saved: shift_5-221878-A-34.wav with label: 34\n",
            "1859: Processed and saved: stretch_5-221878-A-34.wav with label: 34\n"
          ]
        },
        {
          "output_type": "stream",
          "name": "stderr",
          "text": [
            "\n",
            "1861it [06:12,  4.37it/s]\u001b[A\n",
            "1862it [06:12,  4.37it/s]\u001b[A\n",
            "1863it [06:13,  4.09it/s]\u001b[A\n",
            "1864it [06:13,  4.05it/s]\u001b[A\n",
            "1865it [06:13,  4.08it/s]\u001b[A\n",
            "1866it [06:13,  4.14it/s]\u001b[A\n",
            "1867it [06:14,  4.13it/s]\u001b[A\n",
            "1868it [06:14,  4.04it/s]\u001b[A\n",
            "1869it [06:14,  3.96it/s]\u001b[A\n",
            "1870it [06:14,  3.52it/s]\u001b[A"
          ]
        },
        {
          "output_type": "stream",
          "name": "stdout",
          "text": [
            "\n",
            "1869: Processed and saved: shift_5-223810-A-35.wav with label: 35\n",
            "1869: Processed and saved: stretch_5-223810-A-35.wav with label: 35\n"
          ]
        },
        {
          "output_type": "stream",
          "name": "stderr",
          "text": [
            "\n",
            "1871it [06:15,  3.58it/s]\u001b[A\n",
            "1872it [06:15,  3.97it/s]\u001b[A\n",
            "1873it [06:15,  4.30it/s]\u001b[A\n",
            "1874it [06:15,  4.73it/s]\u001b[A\n",
            "1875it [06:17,  1.72it/s]\u001b[A\n",
            "1876it [06:17,  2.19it/s]\u001b[A\n",
            "1877it [06:17,  2.71it/s]\u001b[A\n",
            "1878it [06:17,  3.13it/s]\u001b[A\n",
            "1879it [06:17,  3.62it/s]\u001b[A\n",
            "1880it [06:18,  4.22it/s]\u001b[A\n",
            "1881it [06:18,  4.67it/s]\u001b[A"
          ]
        },
        {
          "output_type": "stream",
          "name": "stdout",
          "text": [
            "\n",
            "1879: Processed and saved: shift_5-233605-A-39.wav with label: 39\n",
            "1879: Processed and saved: stretch_5-233605-A-39.wav with label: 39\n"
          ]
        },
        {
          "output_type": "stream",
          "name": "stderr",
          "text": [
            "\n",
            "1882it [06:18,  4.99it/s]\u001b[A\n",
            "1883it [06:18,  5.32it/s]\u001b[A\n",
            "1884it [06:18,  5.25it/s]\u001b[A\n",
            "1885it [06:18,  5.26it/s]\u001b[A\n",
            "1886it [06:19,  5.78it/s]\u001b[A\n",
            "1887it [06:19,  5.80it/s]\u001b[A\n",
            "1888it [06:19,  5.71it/s]\u001b[A\n",
            "1889it [06:19,  5.65it/s]\u001b[A\n",
            "1890it [06:19,  5.64it/s]\u001b[A\n",
            "1891it [06:19,  5.59it/s]\u001b[A"
          ]
        },
        {
          "output_type": "stream",
          "name": "stdout",
          "text": [
            "\n",
            "1889: Processed and saved: shift_5-234879-B-1.wav with label: 1\n",
            "1889: Processed and saved: stretch_5-234879-B-1.wav with label: 1\n"
          ]
        },
        {
          "output_type": "stream",
          "name": "stderr",
          "text": [
            "\n",
            "1892it [06:20,  5.21it/s]\u001b[A\n",
            "1893it [06:20,  5.09it/s]\u001b[A\n",
            "1894it [06:20,  5.40it/s]\u001b[A\n",
            "1895it [06:20,  5.47it/s]\u001b[A\n",
            "1896it [06:20,  5.32it/s]\u001b[A\n",
            "1897it [06:21,  5.47it/s]\u001b[A\n",
            "1898it [06:21,  5.12it/s]\u001b[A\n",
            "1899it [06:21,  5.26it/s]\u001b[A\n",
            "1900it [06:21,  5.65it/s]\u001b[A\n",
            "1901it [06:21,  5.66it/s]\u001b[A"
          ]
        },
        {
          "output_type": "stream",
          "name": "stdout",
          "text": [
            "\n",
            "1899: Processed and saved: shift_5-236299-A-34.wav with label: 34\n",
            "1899: Processed and saved: stretch_5-236299-A-34.wav with label: 34\n"
          ]
        },
        {
          "output_type": "stream",
          "name": "stderr",
          "text": [
            "\n",
            "1902it [06:21,  5.59it/s]\u001b[A\n",
            "1903it [06:22,  5.87it/s]\u001b[A\n",
            "1904it [06:22,  5.50it/s]\u001b[A\n",
            "1905it [06:22,  5.77it/s]\u001b[A\n",
            "1906it [06:22,  5.67it/s]\u001b[A\n",
            "1907it [06:22,  5.60it/s]\u001b[A\n",
            "1908it [06:23,  5.57it/s]\u001b[A\n",
            "1909it [06:23,  5.29it/s]\u001b[A\n",
            "1910it [06:23,  5.58it/s]\u001b[A\n",
            "1911it [06:23,  5.60it/s]\u001b[A"
          ]
        },
        {
          "output_type": "stream",
          "name": "stdout",
          "text": [
            "\n",
            "1909: Processed and saved: shift_5-242490-A-14.wav with label: 14\n",
            "1909: Processed and saved: stretch_5-242490-A-14.wav with label: 14\n"
          ]
        },
        {
          "output_type": "stream",
          "name": "stderr",
          "text": [
            "\n",
            "1912it [06:23,  5.66it/s]\u001b[A\n",
            "1913it [06:23,  5.79it/s]\u001b[A\n",
            "1914it [06:24,  5.77it/s]\u001b[A\n",
            "1915it [06:24,  5.61it/s]\u001b[A\n",
            "1916it [06:24,  5.80it/s]\u001b[A\n",
            "1917it [06:24,  5.42it/s]\u001b[A\n",
            "1918it [06:24,  5.51it/s]\u001b[A\n",
            "1919it [06:25,  5.57it/s]\u001b[A\n",
            "1920it [06:25,  4.61it/s]\u001b[A"
          ]
        },
        {
          "output_type": "stream",
          "name": "stdout",
          "text": [
            "\n",
            "1919: Processed and saved: shift_5-243450-A-14.wav with label: 14\n",
            "1919: Processed and saved: stretch_5-243450-A-14.wav with label: 14\n"
          ]
        },
        {
          "output_type": "stream",
          "name": "stderr",
          "text": [
            "\n",
            "1921it [06:25,  4.38it/s]\u001b[A\n",
            "1922it [06:25,  4.35it/s]\u001b[A\n",
            "1923it [06:26,  4.52it/s]\u001b[A\n",
            "1924it [06:26,  4.34it/s]\u001b[A\n",
            "1925it [06:26,  4.31it/s]\u001b[A\n",
            "1926it [06:26,  4.25it/s]\u001b[A\n",
            "1927it [06:26,  4.22it/s]\u001b[A\n",
            "1928it [06:27,  4.21it/s]\u001b[A\n",
            "1929it [06:28,  2.28it/s]\u001b[A\n",
            "1930it [06:28,  2.31it/s]\u001b[A"
          ]
        },
        {
          "output_type": "stream",
          "name": "stdout",
          "text": [
            "\n",
            "1929: Processed and saved: shift_5-244315-B-6.wav with label: 6\n",
            "1929: Processed and saved: stretch_5-244315-B-6.wav with label: 6\n"
          ]
        },
        {
          "output_type": "stream",
          "name": "stderr",
          "text": [
            "\n",
            "1931it [06:29,  2.12it/s]\u001b[A\n",
            "1932it [06:29,  2.48it/s]\u001b[A\n",
            "1933it [06:29,  2.80it/s]\u001b[A\n",
            "1934it [06:29,  3.10it/s]\u001b[A\n",
            "1935it [06:30,  3.39it/s]\u001b[A\n",
            "1936it [06:30,  3.90it/s]\u001b[A\n",
            "1937it [06:30,  4.19it/s]\u001b[A\n",
            "1938it [06:30,  4.50it/s]\u001b[A\n",
            "1939it [06:30,  4.73it/s]\u001b[A\n",
            "1940it [06:30,  4.98it/s]\u001b[A\n",
            "1941it [06:31,  5.34it/s]\u001b[A"
          ]
        },
        {
          "output_type": "stream",
          "name": "stdout",
          "text": [
            "\n",
            "1939: Processed and saved: shift_5-248341-C-6.wav with label: 6\n",
            "1939: Processed and saved: stretch_5-248341-C-6.wav with label: 6\n"
          ]
        },
        {
          "output_type": "stream",
          "name": "stderr",
          "text": [
            "\n",
            "1942it [06:31,  5.26it/s]\u001b[A\n",
            "1943it [06:31,  5.43it/s]\u001b[A\n",
            "1944it [06:31,  5.50it/s]\u001b[A\n",
            "1945it [06:31,  5.54it/s]\u001b[A\n",
            "1946it [06:32,  5.71it/s]\u001b[A\n",
            "1947it [06:32,  5.54it/s]\u001b[A\n",
            "1948it [06:32,  5.57it/s]\u001b[A\n",
            "1949it [06:32,  5.69it/s]\u001b[A\n",
            "1950it [06:32,  5.24it/s]\u001b[A\n",
            "1951it [06:32,  5.43it/s]\u001b[A"
          ]
        },
        {
          "output_type": "stream",
          "name": "stdout",
          "text": [
            "\n",
            "1949: Processed and saved: shift_5-251489-A-24.wav with label: 24\n",
            "1949: Processed and saved: stretch_5-251489-A-24.wav with label: 24\n"
          ]
        },
        {
          "output_type": "stream",
          "name": "stderr",
          "text": [
            "\n",
            "1952it [06:33,  4.03it/s]\u001b[A\n",
            "1953it [06:33,  4.31it/s]\u001b[A\n",
            "1954it [06:33,  4.43it/s]\u001b[A\n",
            "1955it [06:34,  3.98it/s]\u001b[A\n",
            "1956it [06:34,  4.22it/s]\u001b[A\n",
            "1957it [06:34,  4.41it/s]\u001b[A\n",
            "1958it [06:34,  4.69it/s]\u001b[A\n",
            "1959it [06:34,  4.91it/s]\u001b[A\n",
            "1960it [06:35,  4.82it/s]\u001b[A\n",
            "1961it [06:35,  4.92it/s]\u001b[A"
          ]
        },
        {
          "output_type": "stream",
          "name": "stdout",
          "text": [
            "\n",
            "1959: Processed and saved: shift_5-253094-C-49.wav with label: 49\n",
            "1959: Processed and saved: stretch_5-253094-C-49.wav with label: 49\n"
          ]
        },
        {
          "output_type": "stream",
          "name": "stderr",
          "text": [
            "\n",
            "1962it [06:35,  5.31it/s]\u001b[A\n",
            "1963it [06:35,  5.42it/s]\u001b[A\n",
            "1964it [06:35,  5.59it/s]\u001b[A\n",
            "1965it [06:35,  5.66it/s]\u001b[A\n",
            "1966it [06:36,  5.29it/s]\u001b[A\n",
            "1967it [06:36,  5.42it/s]\u001b[A\n",
            "1968it [06:36,  5.71it/s]\u001b[A\n",
            "1969it [06:36,  5.90it/s]\u001b[A\n",
            "1970it [06:36,  5.88it/s]\u001b[A"
          ]
        },
        {
          "output_type": "stream",
          "name": "stdout",
          "text": [
            "\n",
            "1969: Processed and saved: shift_5-256512-A-30.wav with label: 30\n",
            "1969: Processed and saved: stretch_5-256512-A-30.wav with label: 30\n"
          ]
        },
        {
          "output_type": "stream",
          "name": "stderr",
          "text": [
            "\n",
            "1971it [06:37,  5.51it/s]\u001b[A\n",
            "1972it [06:37,  5.64it/s]\u001b[A\n",
            "1973it [06:37,  5.60it/s]\u001b[A\n",
            "1974it [06:37,  5.90it/s]\u001b[A\n",
            "1975it [06:37,  6.24it/s]\u001b[A\n",
            "1976it [06:37,  5.59it/s]\u001b[A\n",
            "1977it [06:38,  5.75it/s]\u001b[A\n",
            "1978it [06:38,  5.95it/s]\u001b[A\n",
            "1979it [06:38,  5.64it/s]\u001b[A\n",
            "1980it [06:38,  6.01it/s]\u001b[A\n",
            "1981it [06:38,  5.95it/s]\u001b[A"
          ]
        },
        {
          "output_type": "stream",
          "name": "stdout",
          "text": [
            "\n",
            "1979: Processed and saved: shift_5-260432-A-39.wav with label: 39\n",
            "1979: Processed and saved: stretch_5-260432-A-39.wav with label: 39\n"
          ]
        },
        {
          "output_type": "stream",
          "name": "stderr",
          "text": [
            "\n",
            "1982it [06:38,  5.92it/s]\u001b[A\n",
            "1983it [06:39,  5.79it/s]\u001b[A\n",
            "1984it [06:39,  5.91it/s]\u001b[A\n",
            "1985it [06:39,  6.05it/s]\u001b[A\n",
            "1986it [06:39,  5.45it/s]\u001b[A\n",
            "1987it [06:39,  4.61it/s]\u001b[A\n",
            "1988it [06:40,  4.32it/s]\u001b[A\n",
            "1989it [06:40,  4.28it/s]\u001b[A\n",
            "1990it [06:40,  4.13it/s]\u001b[A"
          ]
        },
        {
          "output_type": "stream",
          "name": "stdout",
          "text": [
            "\n",
            "1989: Processed and saved: shift_5-263490-A-25.wav with label: 25\n",
            "1989: Processed and saved: stretch_5-263490-A-25.wav with label: 25\n"
          ]
        },
        {
          "output_type": "stream",
          "name": "stderr",
          "text": [
            "\n",
            "1991it [06:40,  4.13it/s]\u001b[A\n",
            "1992it [06:41,  4.14it/s]\u001b[A\n",
            "1993it [06:41,  4.32it/s]\u001b[A\n",
            "1994it [06:41,  4.19it/s]\u001b[A\n",
            "1995it [06:41,  4.15it/s]\u001b[A\n",
            "1996it [06:42,  4.12it/s]\u001b[A\n",
            "1997it [06:42,  4.37it/s]\u001b[A\n",
            "1998it [06:42,  4.56it/s]\u001b[A\n",
            "1999it [06:42,  4.46it/s]\u001b[A\n",
            "2000it [06:42,  4.96it/s]"
          ]
        },
        {
          "output_type": "stream",
          "name": "stdout",
          "text": [
            "\n",
            "1999: Processed and saved: shift_5-9032-A-0.wav with label: 0\n",
            "1999: Processed and saved: stretch_5-9032-A-0.wav with label: 0\n"
          ]
        },
        {
          "output_type": "stream",
          "name": "stderr",
          "text": [
            "\n"
          ]
        }
      ]
    },
    {
      "cell_type": "code",
      "source": [
        "audio_files_directory = '/content/drive/My Drive/UCL/ML_Y3/Project/audio'\n",
        "output_directory = '/content/drive/My Drive/UCL/ML_Y3/Project/audio/synthetic_audio_V2'\n",
        "\n",
        "# Checking the number of files that were saved in the output directory\n",
        "num_files = len([f for f in os.listdir(output_directory) if os.path.isfile(os.path.join(output_directory, f))])\n",
        "print(f'There were {num_files} number of .wav files saved in the folder')"
      ],
      "metadata": {
        "colab": {
          "base_uri": "https://localhost:8080/"
        },
        "id": "drGsuY-euoz-",
        "outputId": "fcf13990-5c4d-48c9-f360-969393768ae3"
      },
      "execution_count": null,
      "outputs": [
        {
          "output_type": "stream",
          "name": "stdout",
          "text": [
            "There were 3990 number of .wav files saved in the folder\n"
          ]
        }
      ]
    },
    {
      "cell_type": "markdown",
      "source": [
        "Should be 4000. So, some of the files were not saved onto the file path. We will find the missing files and not use them for training...\n",
        "\n",
        "##### Debugging"
      ],
      "metadata": {
        "id": "n9Xix95HvJW6"
      }
    },
    {
      "cell_type": "code",
      "source": [
        "original_files = os.listdir(audio_files_directory)\n",
        "\n",
        "expected_files = set()\n",
        "for filename in original_files:\n",
        "    expected_files.add(f\"stretch_{filename}\")\n",
        "    expected_files.add(f\"shift_{filename}\")\n",
        "\n",
        "# Create a set of actual generated file names in the output directory\n",
        "actual_files = set(os.listdir(output_directory))\n",
        "\n",
        "# Find the difference - files that were expected but not found\n",
        "missing_files = expected_files - actual_files\n",
        "\n",
        "# Removing folders that were displayed in the directory\n",
        "missing_files = missing_files - set(['shift_synthetic_audio','shift_synthetic_audio_V2',\n",
        "                                     'stretch_synthetic_audio_V2', 'stretch_synthetic_audio_V2',\n",
        "                                     'stretch_synthetic_audio', 'shift_synthetic_audio_V3',\n",
        "                                     'stretch_synthetic_audio_V3'])\n",
        "\n",
        "\n",
        "missing_shift_files = {file for file in missing_files if file.startswith('shift_')}\n",
        "missing_stretch_files = {file for file in missing_files if file.startswith('stretch_')}\n",
        "\n",
        "print(f\"Missing pitch shifted files ({len(missing_shift_files)}):\")\n",
        "print(missing_shift_files)\n",
        "print(f\"\\nMissing time stretched files ({len(missing_shift_files)}):\")\n",
        "print(f'{missing_stretch_files}')"
      ],
      "metadata": {
        "colab": {
          "base_uri": "https://localhost:8080/"
        },
        "id": "mIRkNrIOxoRJ",
        "outputId": "1d3c0c4d-c94c-4a43-86a4-79b71037ed9e"
      },
      "execution_count": null,
      "outputs": [
        {
          "output_type": "stream",
          "name": "stdout",
          "text": [
            "Missing pitch shifted files (5):\n",
            "{'shift_1-115545-B-48.wav', 'shift_1-115545-C-48.wav', 'shift_1-115546-A-48.wav', 'shift_1-115521-A-19.wav', 'shift_1-115545-A-48.wav'}\n",
            "\n",
            "Missing time stretched files (5):\n",
            "{'stretch_1-115521-A-19.wav', 'stretch_1-115545-B-48.wav', 'stretch_1-115545-C-48.wav', 'stretch_1-110537-A-22.wav', 'stretch_1-115545-A-48.wav'}\n"
          ]
        }
      ]
    },
    {
      "cell_type": "markdown",
      "source": [
        "### Saving Files"
      ],
      "metadata": {
        "id": "HaqgwPXuqbd9"
      }
    },
    {
      "cell_type": "markdown",
      "source": [
        "#### Creating pandas dfs to store .wav files\n",
        "\n",
        "Creating a df to store the correct filename metadata for pitch shifted .wav files, by altering the filenames"
      ],
      "metadata": {
        "id": "_HRlkgxIDwgS"
      }
    },
    {
      "cell_type": "code",
      "source": [
        "# Generating a df for pitch shifted data\n",
        "meta_shift = getMeta()\n",
        "meta_shift['filename'] = \"shift_\" + meta_shift['filename']\n",
        "\n",
        "# Checking which files are missin (4 fireworks and 1 thunderstorm)\n",
        "meta_shift[meta_shift['filename'].isin(missing_shift_files)] # Displaying df"
      ],
      "metadata": {
        "colab": {
          "base_uri": "https://localhost:8080/",
          "height": 206
        },
        "id": "jdvrN6Din2CD",
        "outputId": "cf7ffebe-9a59-4da6-992b-785d1572bd43"
      },
      "execution_count": null,
      "outputs": [
        {
          "output_type": "execute_result",
          "data": {
            "text/plain": [
              "                   filename  fold  target      category  esc10  src_file take\n",
              "16  shift_1-115521-A-19.wav     1      19  thunderstorm  False    115521    A\n",
              "17  shift_1-115545-A-48.wav     1      48     fireworks  False    115545    A\n",
              "18  shift_1-115545-B-48.wav     1      48     fireworks  False    115545    B\n",
              "19  shift_1-115545-C-48.wav     1      48     fireworks  False    115545    C\n",
              "20  shift_1-115546-A-48.wav     1      48     fireworks  False    115546    A"
            ],
            "text/html": [
              "\n",
              "  <div id=\"df-c4bc35da-bae1-4dab-a71e-4ce1fb6f65ef\" class=\"colab-df-container\">\n",
              "    <div>\n",
              "<style scoped>\n",
              "    .dataframe tbody tr th:only-of-type {\n",
              "        vertical-align: middle;\n",
              "    }\n",
              "\n",
              "    .dataframe tbody tr th {\n",
              "        vertical-align: top;\n",
              "    }\n",
              "\n",
              "    .dataframe thead th {\n",
              "        text-align: right;\n",
              "    }\n",
              "</style>\n",
              "<table border=\"1\" class=\"dataframe\">\n",
              "  <thead>\n",
              "    <tr style=\"text-align: right;\">\n",
              "      <th></th>\n",
              "      <th>filename</th>\n",
              "      <th>fold</th>\n",
              "      <th>target</th>\n",
              "      <th>category</th>\n",
              "      <th>esc10</th>\n",
              "      <th>src_file</th>\n",
              "      <th>take</th>\n",
              "    </tr>\n",
              "  </thead>\n",
              "  <tbody>\n",
              "    <tr>\n",
              "      <th>16</th>\n",
              "      <td>shift_1-115521-A-19.wav</td>\n",
              "      <td>1</td>\n",
              "      <td>19</td>\n",
              "      <td>thunderstorm</td>\n",
              "      <td>False</td>\n",
              "      <td>115521</td>\n",
              "      <td>A</td>\n",
              "    </tr>\n",
              "    <tr>\n",
              "      <th>17</th>\n",
              "      <td>shift_1-115545-A-48.wav</td>\n",
              "      <td>1</td>\n",
              "      <td>48</td>\n",
              "      <td>fireworks</td>\n",
              "      <td>False</td>\n",
              "      <td>115545</td>\n",
              "      <td>A</td>\n",
              "    </tr>\n",
              "    <tr>\n",
              "      <th>18</th>\n",
              "      <td>shift_1-115545-B-48.wav</td>\n",
              "      <td>1</td>\n",
              "      <td>48</td>\n",
              "      <td>fireworks</td>\n",
              "      <td>False</td>\n",
              "      <td>115545</td>\n",
              "      <td>B</td>\n",
              "    </tr>\n",
              "    <tr>\n",
              "      <th>19</th>\n",
              "      <td>shift_1-115545-C-48.wav</td>\n",
              "      <td>1</td>\n",
              "      <td>48</td>\n",
              "      <td>fireworks</td>\n",
              "      <td>False</td>\n",
              "      <td>115545</td>\n",
              "      <td>C</td>\n",
              "    </tr>\n",
              "    <tr>\n",
              "      <th>20</th>\n",
              "      <td>shift_1-115546-A-48.wav</td>\n",
              "      <td>1</td>\n",
              "      <td>48</td>\n",
              "      <td>fireworks</td>\n",
              "      <td>False</td>\n",
              "      <td>115546</td>\n",
              "      <td>A</td>\n",
              "    </tr>\n",
              "  </tbody>\n",
              "</table>\n",
              "</div>\n",
              "    <div class=\"colab-df-buttons\">\n",
              "\n",
              "  <div class=\"colab-df-container\">\n",
              "    <button class=\"colab-df-convert\" onclick=\"convertToInteractive('df-c4bc35da-bae1-4dab-a71e-4ce1fb6f65ef')\"\n",
              "            title=\"Convert this dataframe to an interactive table.\"\n",
              "            style=\"display:none;\">\n",
              "\n",
              "  <svg xmlns=\"http://www.w3.org/2000/svg\" height=\"24px\" viewBox=\"0 -960 960 960\">\n",
              "    <path d=\"M120-120v-720h720v720H120Zm60-500h600v-160H180v160Zm220 220h160v-160H400v160Zm0 220h160v-160H400v160ZM180-400h160v-160H180v160Zm440 0h160v-160H620v160ZM180-180h160v-160H180v160Zm440 0h160v-160H620v160Z\"/>\n",
              "  </svg>\n",
              "    </button>\n",
              "\n",
              "  <style>\n",
              "    .colab-df-container {\n",
              "      display:flex;\n",
              "      gap: 12px;\n",
              "    }\n",
              "\n",
              "    .colab-df-convert {\n",
              "      background-color: #E8F0FE;\n",
              "      border: none;\n",
              "      border-radius: 50%;\n",
              "      cursor: pointer;\n",
              "      display: none;\n",
              "      fill: #1967D2;\n",
              "      height: 32px;\n",
              "      padding: 0 0 0 0;\n",
              "      width: 32px;\n",
              "    }\n",
              "\n",
              "    .colab-df-convert:hover {\n",
              "      background-color: #E2EBFA;\n",
              "      box-shadow: 0px 1px 2px rgba(60, 64, 67, 0.3), 0px 1px 3px 1px rgba(60, 64, 67, 0.15);\n",
              "      fill: #174EA6;\n",
              "    }\n",
              "\n",
              "    .colab-df-buttons div {\n",
              "      margin-bottom: 4px;\n",
              "    }\n",
              "\n",
              "    [theme=dark] .colab-df-convert {\n",
              "      background-color: #3B4455;\n",
              "      fill: #D2E3FC;\n",
              "    }\n",
              "\n",
              "    [theme=dark] .colab-df-convert:hover {\n",
              "      background-color: #434B5C;\n",
              "      box-shadow: 0px 1px 3px 1px rgba(0, 0, 0, 0.15);\n",
              "      filter: drop-shadow(0px 1px 2px rgba(0, 0, 0, 0.3));\n",
              "      fill: #FFFFFF;\n",
              "    }\n",
              "  </style>\n",
              "\n",
              "    <script>\n",
              "      const buttonEl =\n",
              "        document.querySelector('#df-c4bc35da-bae1-4dab-a71e-4ce1fb6f65ef button.colab-df-convert');\n",
              "      buttonEl.style.display =\n",
              "        google.colab.kernel.accessAllowed ? 'block' : 'none';\n",
              "\n",
              "      async function convertToInteractive(key) {\n",
              "        const element = document.querySelector('#df-c4bc35da-bae1-4dab-a71e-4ce1fb6f65ef');\n",
              "        const dataTable =\n",
              "          await google.colab.kernel.invokeFunction('convertToInteractive',\n",
              "                                                    [key], {});\n",
              "        if (!dataTable) return;\n",
              "\n",
              "        const docLinkHtml = 'Like what you see? Visit the ' +\n",
              "          '<a target=\"_blank\" href=https://colab.research.google.com/notebooks/data_table.ipynb>data table notebook</a>'\n",
              "          + ' to learn more about interactive tables.';\n",
              "        element.innerHTML = '';\n",
              "        dataTable['output_type'] = 'display_data';\n",
              "        await google.colab.output.renderOutput(dataTable, element);\n",
              "        const docLink = document.createElement('div');\n",
              "        docLink.innerHTML = docLinkHtml;\n",
              "        element.appendChild(docLink);\n",
              "      }\n",
              "    </script>\n",
              "  </div>\n",
              "\n",
              "\n",
              "<div id=\"df-6464aa60-77a9-4d71-b294-18b5cf7cc2b2\">\n",
              "  <button class=\"colab-df-quickchart\" onclick=\"quickchart('df-6464aa60-77a9-4d71-b294-18b5cf7cc2b2')\"\n",
              "            title=\"Suggest charts\"\n",
              "            style=\"display:none;\">\n",
              "\n",
              "<svg xmlns=\"http://www.w3.org/2000/svg\" height=\"24px\"viewBox=\"0 0 24 24\"\n",
              "     width=\"24px\">\n",
              "    <g>\n",
              "        <path d=\"M19 3H5c-1.1 0-2 .9-2 2v14c0 1.1.9 2 2 2h14c1.1 0 2-.9 2-2V5c0-1.1-.9-2-2-2zM9 17H7v-7h2v7zm4 0h-2V7h2v10zm4 0h-2v-4h2v4z\"/>\n",
              "    </g>\n",
              "</svg>\n",
              "  </button>\n",
              "\n",
              "<style>\n",
              "  .colab-df-quickchart {\n",
              "      --bg-color: #E8F0FE;\n",
              "      --fill-color: #1967D2;\n",
              "      --hover-bg-color: #E2EBFA;\n",
              "      --hover-fill-color: #174EA6;\n",
              "      --disabled-fill-color: #AAA;\n",
              "      --disabled-bg-color: #DDD;\n",
              "  }\n",
              "\n",
              "  [theme=dark] .colab-df-quickchart {\n",
              "      --bg-color: #3B4455;\n",
              "      --fill-color: #D2E3FC;\n",
              "      --hover-bg-color: #434B5C;\n",
              "      --hover-fill-color: #FFFFFF;\n",
              "      --disabled-bg-color: #3B4455;\n",
              "      --disabled-fill-color: #666;\n",
              "  }\n",
              "\n",
              "  .colab-df-quickchart {\n",
              "    background-color: var(--bg-color);\n",
              "    border: none;\n",
              "    border-radius: 50%;\n",
              "    cursor: pointer;\n",
              "    display: none;\n",
              "    fill: var(--fill-color);\n",
              "    height: 32px;\n",
              "    padding: 0;\n",
              "    width: 32px;\n",
              "  }\n",
              "\n",
              "  .colab-df-quickchart:hover {\n",
              "    background-color: var(--hover-bg-color);\n",
              "    box-shadow: 0 1px 2px rgba(60, 64, 67, 0.3), 0 1px 3px 1px rgba(60, 64, 67, 0.15);\n",
              "    fill: var(--button-hover-fill-color);\n",
              "  }\n",
              "\n",
              "  .colab-df-quickchart-complete:disabled,\n",
              "  .colab-df-quickchart-complete:disabled:hover {\n",
              "    background-color: var(--disabled-bg-color);\n",
              "    fill: var(--disabled-fill-color);\n",
              "    box-shadow: none;\n",
              "  }\n",
              "\n",
              "  .colab-df-spinner {\n",
              "    border: 2px solid var(--fill-color);\n",
              "    border-color: transparent;\n",
              "    border-bottom-color: var(--fill-color);\n",
              "    animation:\n",
              "      spin 1s steps(1) infinite;\n",
              "  }\n",
              "\n",
              "  @keyframes spin {\n",
              "    0% {\n",
              "      border-color: transparent;\n",
              "      border-bottom-color: var(--fill-color);\n",
              "      border-left-color: var(--fill-color);\n",
              "    }\n",
              "    20% {\n",
              "      border-color: transparent;\n",
              "      border-left-color: var(--fill-color);\n",
              "      border-top-color: var(--fill-color);\n",
              "    }\n",
              "    30% {\n",
              "      border-color: transparent;\n",
              "      border-left-color: var(--fill-color);\n",
              "      border-top-color: var(--fill-color);\n",
              "      border-right-color: var(--fill-color);\n",
              "    }\n",
              "    40% {\n",
              "      border-color: transparent;\n",
              "      border-right-color: var(--fill-color);\n",
              "      border-top-color: var(--fill-color);\n",
              "    }\n",
              "    60% {\n",
              "      border-color: transparent;\n",
              "      border-right-color: var(--fill-color);\n",
              "    }\n",
              "    80% {\n",
              "      border-color: transparent;\n",
              "      border-right-color: var(--fill-color);\n",
              "      border-bottom-color: var(--fill-color);\n",
              "    }\n",
              "    90% {\n",
              "      border-color: transparent;\n",
              "      border-bottom-color: var(--fill-color);\n",
              "    }\n",
              "  }\n",
              "</style>\n",
              "\n",
              "  <script>\n",
              "    async function quickchart(key) {\n",
              "      const quickchartButtonEl =\n",
              "        document.querySelector('#' + key + ' button');\n",
              "      quickchartButtonEl.disabled = true;  // To prevent multiple clicks.\n",
              "      quickchartButtonEl.classList.add('colab-df-spinner');\n",
              "      try {\n",
              "        const charts = await google.colab.kernel.invokeFunction(\n",
              "            'suggestCharts', [key], {});\n",
              "      } catch (error) {\n",
              "        console.error('Error during call to suggestCharts:', error);\n",
              "      }\n",
              "      quickchartButtonEl.classList.remove('colab-df-spinner');\n",
              "      quickchartButtonEl.classList.add('colab-df-quickchart-complete');\n",
              "    }\n",
              "    (() => {\n",
              "      let quickchartButtonEl =\n",
              "        document.querySelector('#df-6464aa60-77a9-4d71-b294-18b5cf7cc2b2 button');\n",
              "      quickchartButtonEl.style.display =\n",
              "        google.colab.kernel.accessAllowed ? 'block' : 'none';\n",
              "    })();\n",
              "  </script>\n",
              "</div>\n",
              "    </div>\n",
              "  </div>\n"
            ],
            "application/vnd.google.colaboratory.intrinsic+json": {
              "type": "dataframe",
              "summary": "{\n  \"name\": \"meta_shift[meta_shift['filename']\",\n  \"rows\": 5,\n  \"fields\": [\n    {\n      \"column\": \"filename\",\n      \"properties\": {\n        \"dtype\": \"string\",\n        \"num_unique_values\": 5,\n        \"samples\": [\n          \"shift_1-115545-A-48.wav\",\n          \"shift_1-115546-A-48.wav\",\n          \"shift_1-115545-B-48.wav\"\n        ],\n        \"semantic_type\": \"\",\n        \"description\": \"\"\n      }\n    },\n    {\n      \"column\": \"fold\",\n      \"properties\": {\n        \"dtype\": \"number\",\n        \"std\": 0,\n        \"min\": 1,\n        \"max\": 1,\n        \"num_unique_values\": 1,\n        \"samples\": [\n          1\n        ],\n        \"semantic_type\": \"\",\n        \"description\": \"\"\n      }\n    },\n    {\n      \"column\": \"target\",\n      \"properties\": {\n        \"dtype\": \"number\",\n        \"std\": 12,\n        \"min\": 19,\n        \"max\": 48,\n        \"num_unique_values\": 2,\n        \"samples\": [\n          48\n        ],\n        \"semantic_type\": \"\",\n        \"description\": \"\"\n      }\n    },\n    {\n      \"column\": \"category\",\n      \"properties\": {\n        \"dtype\": \"category\",\n        \"num_unique_values\": 2,\n        \"samples\": [\n          \"fireworks\"\n        ],\n        \"semantic_type\": \"\",\n        \"description\": \"\"\n      }\n    },\n    {\n      \"column\": \"esc10\",\n      \"properties\": {\n        \"dtype\": \"boolean\",\n        \"num_unique_values\": 1,\n        \"samples\": [\n          false\n        ],\n        \"semantic_type\": \"\",\n        \"description\": \"\"\n      }\n    },\n    {\n      \"column\": \"src_file\",\n      \"properties\": {\n        \"dtype\": \"number\",\n        \"std\": 10,\n        \"min\": 115521,\n        \"max\": 115546,\n        \"num_unique_values\": 3,\n        \"samples\": [\n          115521\n        ],\n        \"semantic_type\": \"\",\n        \"description\": \"\"\n      }\n    },\n    {\n      \"column\": \"take\",\n      \"properties\": {\n        \"dtype\": \"string\",\n        \"num_unique_values\": 3,\n        \"samples\": [\n          \"A\"\n        ],\n        \"semantic_type\": \"\",\n        \"description\": \"\"\n      }\n    }\n  ]\n}"
            }
          },
          "metadata": {},
          "execution_count": 31
        }
      ]
    },
    {
      "cell_type": "code",
      "source": [
        "# Pruning the data frame\n",
        "meta_shift = meta_shift[~meta_shift['filename'].isin(missing_shift_files)]\n",
        "meta_shift.reset_index(drop=True, inplace=True) # Reseting the indeces\n",
        "meta_shift"
      ],
      "metadata": {
        "colab": {
          "base_uri": "https://localhost:8080/",
          "height": 423
        },
        "id": "Xzqgxwbk1ZxR",
        "outputId": "52e06706-679b-4758-92f3-62ceb442fb44"
      },
      "execution_count": null,
      "outputs": [
        {
          "output_type": "execute_result",
          "data": {
            "text/plain": [
              "                     filename  fold  target        category  esc10  src_file  \\\n",
              "0      shift_1-100032-A-0.wav     1       0             dog   True    100032   \n",
              "1     shift_1-100038-A-14.wav     1      14  chirping_birds  False    100038   \n",
              "2     shift_1-100210-A-36.wav     1      36  vacuum_cleaner  False    100210   \n",
              "3     shift_1-100210-B-36.wav     1      36  vacuum_cleaner  False    100210   \n",
              "4     shift_1-101296-A-19.wav     1      19    thunderstorm  False    101296   \n",
              "...                       ...   ...     ...             ...    ...       ...   \n",
              "1990   shift_5-263831-B-6.wav     5       6             hen  False    263831   \n",
              "1991  shift_5-263902-A-36.wav     5      36  vacuum_cleaner  False    263902   \n",
              "1992   shift_5-51149-A-25.wav     5      25       footsteps  False     51149   \n",
              "1993    shift_5-61635-A-8.wav     5       8           sheep  False     61635   \n",
              "1994     shift_5-9032-A-0.wav     5       0             dog   True      9032   \n",
              "\n",
              "     take  \n",
              "0       A  \n",
              "1       A  \n",
              "2       A  \n",
              "3       B  \n",
              "4       A  \n",
              "...   ...  \n",
              "1990    B  \n",
              "1991    A  \n",
              "1992    A  \n",
              "1993    A  \n",
              "1994    A  \n",
              "\n",
              "[1995 rows x 7 columns]"
            ],
            "text/html": [
              "\n",
              "  <div id=\"df-da593554-62c1-4565-a118-a478bafae01b\" class=\"colab-df-container\">\n",
              "    <div>\n",
              "<style scoped>\n",
              "    .dataframe tbody tr th:only-of-type {\n",
              "        vertical-align: middle;\n",
              "    }\n",
              "\n",
              "    .dataframe tbody tr th {\n",
              "        vertical-align: top;\n",
              "    }\n",
              "\n",
              "    .dataframe thead th {\n",
              "        text-align: right;\n",
              "    }\n",
              "</style>\n",
              "<table border=\"1\" class=\"dataframe\">\n",
              "  <thead>\n",
              "    <tr style=\"text-align: right;\">\n",
              "      <th></th>\n",
              "      <th>filename</th>\n",
              "      <th>fold</th>\n",
              "      <th>target</th>\n",
              "      <th>category</th>\n",
              "      <th>esc10</th>\n",
              "      <th>src_file</th>\n",
              "      <th>take</th>\n",
              "    </tr>\n",
              "  </thead>\n",
              "  <tbody>\n",
              "    <tr>\n",
              "      <th>0</th>\n",
              "      <td>shift_1-100032-A-0.wav</td>\n",
              "      <td>1</td>\n",
              "      <td>0</td>\n",
              "      <td>dog</td>\n",
              "      <td>True</td>\n",
              "      <td>100032</td>\n",
              "      <td>A</td>\n",
              "    </tr>\n",
              "    <tr>\n",
              "      <th>1</th>\n",
              "      <td>shift_1-100038-A-14.wav</td>\n",
              "      <td>1</td>\n",
              "      <td>14</td>\n",
              "      <td>chirping_birds</td>\n",
              "      <td>False</td>\n",
              "      <td>100038</td>\n",
              "      <td>A</td>\n",
              "    </tr>\n",
              "    <tr>\n",
              "      <th>2</th>\n",
              "      <td>shift_1-100210-A-36.wav</td>\n",
              "      <td>1</td>\n",
              "      <td>36</td>\n",
              "      <td>vacuum_cleaner</td>\n",
              "      <td>False</td>\n",
              "      <td>100210</td>\n",
              "      <td>A</td>\n",
              "    </tr>\n",
              "    <tr>\n",
              "      <th>3</th>\n",
              "      <td>shift_1-100210-B-36.wav</td>\n",
              "      <td>1</td>\n",
              "      <td>36</td>\n",
              "      <td>vacuum_cleaner</td>\n",
              "      <td>False</td>\n",
              "      <td>100210</td>\n",
              "      <td>B</td>\n",
              "    </tr>\n",
              "    <tr>\n",
              "      <th>4</th>\n",
              "      <td>shift_1-101296-A-19.wav</td>\n",
              "      <td>1</td>\n",
              "      <td>19</td>\n",
              "      <td>thunderstorm</td>\n",
              "      <td>False</td>\n",
              "      <td>101296</td>\n",
              "      <td>A</td>\n",
              "    </tr>\n",
              "    <tr>\n",
              "      <th>...</th>\n",
              "      <td>...</td>\n",
              "      <td>...</td>\n",
              "      <td>...</td>\n",
              "      <td>...</td>\n",
              "      <td>...</td>\n",
              "      <td>...</td>\n",
              "      <td>...</td>\n",
              "    </tr>\n",
              "    <tr>\n",
              "      <th>1990</th>\n",
              "      <td>shift_5-263831-B-6.wav</td>\n",
              "      <td>5</td>\n",
              "      <td>6</td>\n",
              "      <td>hen</td>\n",
              "      <td>False</td>\n",
              "      <td>263831</td>\n",
              "      <td>B</td>\n",
              "    </tr>\n",
              "    <tr>\n",
              "      <th>1991</th>\n",
              "      <td>shift_5-263902-A-36.wav</td>\n",
              "      <td>5</td>\n",
              "      <td>36</td>\n",
              "      <td>vacuum_cleaner</td>\n",
              "      <td>False</td>\n",
              "      <td>263902</td>\n",
              "      <td>A</td>\n",
              "    </tr>\n",
              "    <tr>\n",
              "      <th>1992</th>\n",
              "      <td>shift_5-51149-A-25.wav</td>\n",
              "      <td>5</td>\n",
              "      <td>25</td>\n",
              "      <td>footsteps</td>\n",
              "      <td>False</td>\n",
              "      <td>51149</td>\n",
              "      <td>A</td>\n",
              "    </tr>\n",
              "    <tr>\n",
              "      <th>1993</th>\n",
              "      <td>shift_5-61635-A-8.wav</td>\n",
              "      <td>5</td>\n",
              "      <td>8</td>\n",
              "      <td>sheep</td>\n",
              "      <td>False</td>\n",
              "      <td>61635</td>\n",
              "      <td>A</td>\n",
              "    </tr>\n",
              "    <tr>\n",
              "      <th>1994</th>\n",
              "      <td>shift_5-9032-A-0.wav</td>\n",
              "      <td>5</td>\n",
              "      <td>0</td>\n",
              "      <td>dog</td>\n",
              "      <td>True</td>\n",
              "      <td>9032</td>\n",
              "      <td>A</td>\n",
              "    </tr>\n",
              "  </tbody>\n",
              "</table>\n",
              "<p>1995 rows × 7 columns</p>\n",
              "</div>\n",
              "    <div class=\"colab-df-buttons\">\n",
              "\n",
              "  <div class=\"colab-df-container\">\n",
              "    <button class=\"colab-df-convert\" onclick=\"convertToInteractive('df-da593554-62c1-4565-a118-a478bafae01b')\"\n",
              "            title=\"Convert this dataframe to an interactive table.\"\n",
              "            style=\"display:none;\">\n",
              "\n",
              "  <svg xmlns=\"http://www.w3.org/2000/svg\" height=\"24px\" viewBox=\"0 -960 960 960\">\n",
              "    <path d=\"M120-120v-720h720v720H120Zm60-500h600v-160H180v160Zm220 220h160v-160H400v160Zm0 220h160v-160H400v160ZM180-400h160v-160H180v160Zm440 0h160v-160H620v160ZM180-180h160v-160H180v160Zm440 0h160v-160H620v160Z\"/>\n",
              "  </svg>\n",
              "    </button>\n",
              "\n",
              "  <style>\n",
              "    .colab-df-container {\n",
              "      display:flex;\n",
              "      gap: 12px;\n",
              "    }\n",
              "\n",
              "    .colab-df-convert {\n",
              "      background-color: #E8F0FE;\n",
              "      border: none;\n",
              "      border-radius: 50%;\n",
              "      cursor: pointer;\n",
              "      display: none;\n",
              "      fill: #1967D2;\n",
              "      height: 32px;\n",
              "      padding: 0 0 0 0;\n",
              "      width: 32px;\n",
              "    }\n",
              "\n",
              "    .colab-df-convert:hover {\n",
              "      background-color: #E2EBFA;\n",
              "      box-shadow: 0px 1px 2px rgba(60, 64, 67, 0.3), 0px 1px 3px 1px rgba(60, 64, 67, 0.15);\n",
              "      fill: #174EA6;\n",
              "    }\n",
              "\n",
              "    .colab-df-buttons div {\n",
              "      margin-bottom: 4px;\n",
              "    }\n",
              "\n",
              "    [theme=dark] .colab-df-convert {\n",
              "      background-color: #3B4455;\n",
              "      fill: #D2E3FC;\n",
              "    }\n",
              "\n",
              "    [theme=dark] .colab-df-convert:hover {\n",
              "      background-color: #434B5C;\n",
              "      box-shadow: 0px 1px 3px 1px rgba(0, 0, 0, 0.15);\n",
              "      filter: drop-shadow(0px 1px 2px rgba(0, 0, 0, 0.3));\n",
              "      fill: #FFFFFF;\n",
              "    }\n",
              "  </style>\n",
              "\n",
              "    <script>\n",
              "      const buttonEl =\n",
              "        document.querySelector('#df-da593554-62c1-4565-a118-a478bafae01b button.colab-df-convert');\n",
              "      buttonEl.style.display =\n",
              "        google.colab.kernel.accessAllowed ? 'block' : 'none';\n",
              "\n",
              "      async function convertToInteractive(key) {\n",
              "        const element = document.querySelector('#df-da593554-62c1-4565-a118-a478bafae01b');\n",
              "        const dataTable =\n",
              "          await google.colab.kernel.invokeFunction('convertToInteractive',\n",
              "                                                    [key], {});\n",
              "        if (!dataTable) return;\n",
              "\n",
              "        const docLinkHtml = 'Like what you see? Visit the ' +\n",
              "          '<a target=\"_blank\" href=https://colab.research.google.com/notebooks/data_table.ipynb>data table notebook</a>'\n",
              "          + ' to learn more about interactive tables.';\n",
              "        element.innerHTML = '';\n",
              "        dataTable['output_type'] = 'display_data';\n",
              "        await google.colab.output.renderOutput(dataTable, element);\n",
              "        const docLink = document.createElement('div');\n",
              "        docLink.innerHTML = docLinkHtml;\n",
              "        element.appendChild(docLink);\n",
              "      }\n",
              "    </script>\n",
              "  </div>\n",
              "\n",
              "\n",
              "<div id=\"df-2cfe97d3-ba38-4fb5-80fa-c343931c7a99\">\n",
              "  <button class=\"colab-df-quickchart\" onclick=\"quickchart('df-2cfe97d3-ba38-4fb5-80fa-c343931c7a99')\"\n",
              "            title=\"Suggest charts\"\n",
              "            style=\"display:none;\">\n",
              "\n",
              "<svg xmlns=\"http://www.w3.org/2000/svg\" height=\"24px\"viewBox=\"0 0 24 24\"\n",
              "     width=\"24px\">\n",
              "    <g>\n",
              "        <path d=\"M19 3H5c-1.1 0-2 .9-2 2v14c0 1.1.9 2 2 2h14c1.1 0 2-.9 2-2V5c0-1.1-.9-2-2-2zM9 17H7v-7h2v7zm4 0h-2V7h2v10zm4 0h-2v-4h2v4z\"/>\n",
              "    </g>\n",
              "</svg>\n",
              "  </button>\n",
              "\n",
              "<style>\n",
              "  .colab-df-quickchart {\n",
              "      --bg-color: #E8F0FE;\n",
              "      --fill-color: #1967D2;\n",
              "      --hover-bg-color: #E2EBFA;\n",
              "      --hover-fill-color: #174EA6;\n",
              "      --disabled-fill-color: #AAA;\n",
              "      --disabled-bg-color: #DDD;\n",
              "  }\n",
              "\n",
              "  [theme=dark] .colab-df-quickchart {\n",
              "      --bg-color: #3B4455;\n",
              "      --fill-color: #D2E3FC;\n",
              "      --hover-bg-color: #434B5C;\n",
              "      --hover-fill-color: #FFFFFF;\n",
              "      --disabled-bg-color: #3B4455;\n",
              "      --disabled-fill-color: #666;\n",
              "  }\n",
              "\n",
              "  .colab-df-quickchart {\n",
              "    background-color: var(--bg-color);\n",
              "    border: none;\n",
              "    border-radius: 50%;\n",
              "    cursor: pointer;\n",
              "    display: none;\n",
              "    fill: var(--fill-color);\n",
              "    height: 32px;\n",
              "    padding: 0;\n",
              "    width: 32px;\n",
              "  }\n",
              "\n",
              "  .colab-df-quickchart:hover {\n",
              "    background-color: var(--hover-bg-color);\n",
              "    box-shadow: 0 1px 2px rgba(60, 64, 67, 0.3), 0 1px 3px 1px rgba(60, 64, 67, 0.15);\n",
              "    fill: var(--button-hover-fill-color);\n",
              "  }\n",
              "\n",
              "  .colab-df-quickchart-complete:disabled,\n",
              "  .colab-df-quickchart-complete:disabled:hover {\n",
              "    background-color: var(--disabled-bg-color);\n",
              "    fill: var(--disabled-fill-color);\n",
              "    box-shadow: none;\n",
              "  }\n",
              "\n",
              "  .colab-df-spinner {\n",
              "    border: 2px solid var(--fill-color);\n",
              "    border-color: transparent;\n",
              "    border-bottom-color: var(--fill-color);\n",
              "    animation:\n",
              "      spin 1s steps(1) infinite;\n",
              "  }\n",
              "\n",
              "  @keyframes spin {\n",
              "    0% {\n",
              "      border-color: transparent;\n",
              "      border-bottom-color: var(--fill-color);\n",
              "      border-left-color: var(--fill-color);\n",
              "    }\n",
              "    20% {\n",
              "      border-color: transparent;\n",
              "      border-left-color: var(--fill-color);\n",
              "      border-top-color: var(--fill-color);\n",
              "    }\n",
              "    30% {\n",
              "      border-color: transparent;\n",
              "      border-left-color: var(--fill-color);\n",
              "      border-top-color: var(--fill-color);\n",
              "      border-right-color: var(--fill-color);\n",
              "    }\n",
              "    40% {\n",
              "      border-color: transparent;\n",
              "      border-right-color: var(--fill-color);\n",
              "      border-top-color: var(--fill-color);\n",
              "    }\n",
              "    60% {\n",
              "      border-color: transparent;\n",
              "      border-right-color: var(--fill-color);\n",
              "    }\n",
              "    80% {\n",
              "      border-color: transparent;\n",
              "      border-right-color: var(--fill-color);\n",
              "      border-bottom-color: var(--fill-color);\n",
              "    }\n",
              "    90% {\n",
              "      border-color: transparent;\n",
              "      border-bottom-color: var(--fill-color);\n",
              "    }\n",
              "  }\n",
              "</style>\n",
              "\n",
              "  <script>\n",
              "    async function quickchart(key) {\n",
              "      const quickchartButtonEl =\n",
              "        document.querySelector('#' + key + ' button');\n",
              "      quickchartButtonEl.disabled = true;  // To prevent multiple clicks.\n",
              "      quickchartButtonEl.classList.add('colab-df-spinner');\n",
              "      try {\n",
              "        const charts = await google.colab.kernel.invokeFunction(\n",
              "            'suggestCharts', [key], {});\n",
              "      } catch (error) {\n",
              "        console.error('Error during call to suggestCharts:', error);\n",
              "      }\n",
              "      quickchartButtonEl.classList.remove('colab-df-spinner');\n",
              "      quickchartButtonEl.classList.add('colab-df-quickchart-complete');\n",
              "    }\n",
              "    (() => {\n",
              "      let quickchartButtonEl =\n",
              "        document.querySelector('#df-2cfe97d3-ba38-4fb5-80fa-c343931c7a99 button');\n",
              "      quickchartButtonEl.style.display =\n",
              "        google.colab.kernel.accessAllowed ? 'block' : 'none';\n",
              "    })();\n",
              "  </script>\n",
              "</div>\n",
              "    </div>\n",
              "  </div>\n"
            ],
            "application/vnd.google.colaboratory.intrinsic+json": {
              "type": "dataframe",
              "variable_name": "meta_shift",
              "summary": "{\n  \"name\": \"meta_shift\",\n  \"rows\": 1995,\n  \"fields\": [\n    {\n      \"column\": \"filename\",\n      \"properties\": {\n        \"dtype\": \"string\",\n        \"num_unique_values\": 1995,\n        \"samples\": [\n          \"shift_3-126391-B-27.wav\",\n          \"shift_5-184871-A-24.wav\",\n          \"shift_2-103423-A-3.wav\"\n        ],\n        \"semantic_type\": \"\",\n        \"description\": \"\"\n      }\n    },\n    {\n      \"column\": \"fold\",\n      \"properties\": {\n        \"dtype\": \"number\",\n        \"std\": 1,\n        \"min\": 1,\n        \"max\": 5,\n        \"num_unique_values\": 5,\n        \"samples\": [\n          2,\n          5,\n          3\n        ],\n        \"semantic_type\": \"\",\n        \"description\": \"\"\n      }\n    },\n    {\n      \"column\": \"target\",\n      \"properties\": {\n        \"dtype\": \"number\",\n        \"std\": 14,\n        \"min\": 0,\n        \"max\": 49,\n        \"num_unique_values\": 50,\n        \"samples\": [\n          8,\n          18,\n          26\n        ],\n        \"semantic_type\": \"\",\n        \"description\": \"\"\n      }\n    },\n    {\n      \"column\": \"category\",\n      \"properties\": {\n        \"dtype\": \"category\",\n        \"num_unique_values\": 50,\n        \"samples\": [\n          \"sheep\",\n          \"toilet_flush\",\n          \"laughing\"\n        ],\n        \"semantic_type\": \"\",\n        \"description\": \"\"\n      }\n    },\n    {\n      \"column\": \"esc10\",\n      \"properties\": {\n        \"dtype\": \"boolean\",\n        \"num_unique_values\": 2,\n        \"samples\": [\n          false,\n          true\n        ],\n        \"semantic_type\": \"\",\n        \"description\": \"\"\n      }\n    },\n    {\n      \"column\": \"src_file\",\n      \"properties\": {\n        \"dtype\": \"number\",\n        \"std\": 64954,\n        \"min\": 137,\n        \"max\": 264453,\n        \"num_unique_values\": 1521,\n        \"samples\": [\n          82538,\n          186936\n        ],\n        \"semantic_type\": \"\",\n        \"description\": \"\"\n      }\n    },\n    {\n      \"column\": \"take\",\n      \"properties\": {\n        \"dtype\": \"category\",\n        \"num_unique_values\": 8,\n        \"samples\": [\n          \"B\",\n          \"F\"\n        ],\n        \"semantic_type\": \"\",\n        \"description\": \"\"\n      }\n    }\n  ]\n}"
            }
          },
          "metadata": {},
          "execution_count": 42
        }
      ]
    },
    {
      "cell_type": "code",
      "source": [
        "# For time stretched data\n",
        "meta_stretch = getMeta()\n",
        "meta_stretch['filename'] = \"stretch_\" + meta_stretch['filename']\n",
        "\n",
        "# Missing 3 fireworks, 1 thunderstorm and 1 clapping\n",
        "meta_stretch[meta_stretch['filename'].isin(missing_stretch_files)]"
      ],
      "metadata": {
        "colab": {
          "base_uri": "https://localhost:8080/",
          "height": 206
        },
        "id": "KPjeIzuiqEAz",
        "outputId": "d3116e37-be85-4fec-962b-44f6318029bf"
      },
      "execution_count": null,
      "outputs": [
        {
          "output_type": "execute_result",
          "data": {
            "text/plain": [
              "                     filename  fold  target      category  esc10  src_file  \\\n",
              "15  stretch_1-110537-A-22.wav     1      22      clapping  False    110537   \n",
              "16  stretch_1-115521-A-19.wav     1      19  thunderstorm  False    115521   \n",
              "17  stretch_1-115545-A-48.wav     1      48     fireworks  False    115545   \n",
              "18  stretch_1-115545-B-48.wav     1      48     fireworks  False    115545   \n",
              "19  stretch_1-115545-C-48.wav     1      48     fireworks  False    115545   \n",
              "\n",
              "   take  \n",
              "15    A  \n",
              "16    A  \n",
              "17    A  \n",
              "18    B  \n",
              "19    C  "
            ],
            "text/html": [
              "\n",
              "  <div id=\"df-54ae08d8-8872-453f-a6f7-8213002322d0\" class=\"colab-df-container\">\n",
              "    <div>\n",
              "<style scoped>\n",
              "    .dataframe tbody tr th:only-of-type {\n",
              "        vertical-align: middle;\n",
              "    }\n",
              "\n",
              "    .dataframe tbody tr th {\n",
              "        vertical-align: top;\n",
              "    }\n",
              "\n",
              "    .dataframe thead th {\n",
              "        text-align: right;\n",
              "    }\n",
              "</style>\n",
              "<table border=\"1\" class=\"dataframe\">\n",
              "  <thead>\n",
              "    <tr style=\"text-align: right;\">\n",
              "      <th></th>\n",
              "      <th>filename</th>\n",
              "      <th>fold</th>\n",
              "      <th>target</th>\n",
              "      <th>category</th>\n",
              "      <th>esc10</th>\n",
              "      <th>src_file</th>\n",
              "      <th>take</th>\n",
              "    </tr>\n",
              "  </thead>\n",
              "  <tbody>\n",
              "    <tr>\n",
              "      <th>15</th>\n",
              "      <td>stretch_1-110537-A-22.wav</td>\n",
              "      <td>1</td>\n",
              "      <td>22</td>\n",
              "      <td>clapping</td>\n",
              "      <td>False</td>\n",
              "      <td>110537</td>\n",
              "      <td>A</td>\n",
              "    </tr>\n",
              "    <tr>\n",
              "      <th>16</th>\n",
              "      <td>stretch_1-115521-A-19.wav</td>\n",
              "      <td>1</td>\n",
              "      <td>19</td>\n",
              "      <td>thunderstorm</td>\n",
              "      <td>False</td>\n",
              "      <td>115521</td>\n",
              "      <td>A</td>\n",
              "    </tr>\n",
              "    <tr>\n",
              "      <th>17</th>\n",
              "      <td>stretch_1-115545-A-48.wav</td>\n",
              "      <td>1</td>\n",
              "      <td>48</td>\n",
              "      <td>fireworks</td>\n",
              "      <td>False</td>\n",
              "      <td>115545</td>\n",
              "      <td>A</td>\n",
              "    </tr>\n",
              "    <tr>\n",
              "      <th>18</th>\n",
              "      <td>stretch_1-115545-B-48.wav</td>\n",
              "      <td>1</td>\n",
              "      <td>48</td>\n",
              "      <td>fireworks</td>\n",
              "      <td>False</td>\n",
              "      <td>115545</td>\n",
              "      <td>B</td>\n",
              "    </tr>\n",
              "    <tr>\n",
              "      <th>19</th>\n",
              "      <td>stretch_1-115545-C-48.wav</td>\n",
              "      <td>1</td>\n",
              "      <td>48</td>\n",
              "      <td>fireworks</td>\n",
              "      <td>False</td>\n",
              "      <td>115545</td>\n",
              "      <td>C</td>\n",
              "    </tr>\n",
              "  </tbody>\n",
              "</table>\n",
              "</div>\n",
              "    <div class=\"colab-df-buttons\">\n",
              "\n",
              "  <div class=\"colab-df-container\">\n",
              "    <button class=\"colab-df-convert\" onclick=\"convertToInteractive('df-54ae08d8-8872-453f-a6f7-8213002322d0')\"\n",
              "            title=\"Convert this dataframe to an interactive table.\"\n",
              "            style=\"display:none;\">\n",
              "\n",
              "  <svg xmlns=\"http://www.w3.org/2000/svg\" height=\"24px\" viewBox=\"0 -960 960 960\">\n",
              "    <path d=\"M120-120v-720h720v720H120Zm60-500h600v-160H180v160Zm220 220h160v-160H400v160Zm0 220h160v-160H400v160ZM180-400h160v-160H180v160Zm440 0h160v-160H620v160ZM180-180h160v-160H180v160Zm440 0h160v-160H620v160Z\"/>\n",
              "  </svg>\n",
              "    </button>\n",
              "\n",
              "  <style>\n",
              "    .colab-df-container {\n",
              "      display:flex;\n",
              "      gap: 12px;\n",
              "    }\n",
              "\n",
              "    .colab-df-convert {\n",
              "      background-color: #E8F0FE;\n",
              "      border: none;\n",
              "      border-radius: 50%;\n",
              "      cursor: pointer;\n",
              "      display: none;\n",
              "      fill: #1967D2;\n",
              "      height: 32px;\n",
              "      padding: 0 0 0 0;\n",
              "      width: 32px;\n",
              "    }\n",
              "\n",
              "    .colab-df-convert:hover {\n",
              "      background-color: #E2EBFA;\n",
              "      box-shadow: 0px 1px 2px rgba(60, 64, 67, 0.3), 0px 1px 3px 1px rgba(60, 64, 67, 0.15);\n",
              "      fill: #174EA6;\n",
              "    }\n",
              "\n",
              "    .colab-df-buttons div {\n",
              "      margin-bottom: 4px;\n",
              "    }\n",
              "\n",
              "    [theme=dark] .colab-df-convert {\n",
              "      background-color: #3B4455;\n",
              "      fill: #D2E3FC;\n",
              "    }\n",
              "\n",
              "    [theme=dark] .colab-df-convert:hover {\n",
              "      background-color: #434B5C;\n",
              "      box-shadow: 0px 1px 3px 1px rgba(0, 0, 0, 0.15);\n",
              "      filter: drop-shadow(0px 1px 2px rgba(0, 0, 0, 0.3));\n",
              "      fill: #FFFFFF;\n",
              "    }\n",
              "  </style>\n",
              "\n",
              "    <script>\n",
              "      const buttonEl =\n",
              "        document.querySelector('#df-54ae08d8-8872-453f-a6f7-8213002322d0 button.colab-df-convert');\n",
              "      buttonEl.style.display =\n",
              "        google.colab.kernel.accessAllowed ? 'block' : 'none';\n",
              "\n",
              "      async function convertToInteractive(key) {\n",
              "        const element = document.querySelector('#df-54ae08d8-8872-453f-a6f7-8213002322d0');\n",
              "        const dataTable =\n",
              "          await google.colab.kernel.invokeFunction('convertToInteractive',\n",
              "                                                    [key], {});\n",
              "        if (!dataTable) return;\n",
              "\n",
              "        const docLinkHtml = 'Like what you see? Visit the ' +\n",
              "          '<a target=\"_blank\" href=https://colab.research.google.com/notebooks/data_table.ipynb>data table notebook</a>'\n",
              "          + ' to learn more about interactive tables.';\n",
              "        element.innerHTML = '';\n",
              "        dataTable['output_type'] = 'display_data';\n",
              "        await google.colab.output.renderOutput(dataTable, element);\n",
              "        const docLink = document.createElement('div');\n",
              "        docLink.innerHTML = docLinkHtml;\n",
              "        element.appendChild(docLink);\n",
              "      }\n",
              "    </script>\n",
              "  </div>\n",
              "\n",
              "\n",
              "<div id=\"df-995a444d-7048-41cb-884e-e49a97fa13e3\">\n",
              "  <button class=\"colab-df-quickchart\" onclick=\"quickchart('df-995a444d-7048-41cb-884e-e49a97fa13e3')\"\n",
              "            title=\"Suggest charts\"\n",
              "            style=\"display:none;\">\n",
              "\n",
              "<svg xmlns=\"http://www.w3.org/2000/svg\" height=\"24px\"viewBox=\"0 0 24 24\"\n",
              "     width=\"24px\">\n",
              "    <g>\n",
              "        <path d=\"M19 3H5c-1.1 0-2 .9-2 2v14c0 1.1.9 2 2 2h14c1.1 0 2-.9 2-2V5c0-1.1-.9-2-2-2zM9 17H7v-7h2v7zm4 0h-2V7h2v10zm4 0h-2v-4h2v4z\"/>\n",
              "    </g>\n",
              "</svg>\n",
              "  </button>\n",
              "\n",
              "<style>\n",
              "  .colab-df-quickchart {\n",
              "      --bg-color: #E8F0FE;\n",
              "      --fill-color: #1967D2;\n",
              "      --hover-bg-color: #E2EBFA;\n",
              "      --hover-fill-color: #174EA6;\n",
              "      --disabled-fill-color: #AAA;\n",
              "      --disabled-bg-color: #DDD;\n",
              "  }\n",
              "\n",
              "  [theme=dark] .colab-df-quickchart {\n",
              "      --bg-color: #3B4455;\n",
              "      --fill-color: #D2E3FC;\n",
              "      --hover-bg-color: #434B5C;\n",
              "      --hover-fill-color: #FFFFFF;\n",
              "      --disabled-bg-color: #3B4455;\n",
              "      --disabled-fill-color: #666;\n",
              "  }\n",
              "\n",
              "  .colab-df-quickchart {\n",
              "    background-color: var(--bg-color);\n",
              "    border: none;\n",
              "    border-radius: 50%;\n",
              "    cursor: pointer;\n",
              "    display: none;\n",
              "    fill: var(--fill-color);\n",
              "    height: 32px;\n",
              "    padding: 0;\n",
              "    width: 32px;\n",
              "  }\n",
              "\n",
              "  .colab-df-quickchart:hover {\n",
              "    background-color: var(--hover-bg-color);\n",
              "    box-shadow: 0 1px 2px rgba(60, 64, 67, 0.3), 0 1px 3px 1px rgba(60, 64, 67, 0.15);\n",
              "    fill: var(--button-hover-fill-color);\n",
              "  }\n",
              "\n",
              "  .colab-df-quickchart-complete:disabled,\n",
              "  .colab-df-quickchart-complete:disabled:hover {\n",
              "    background-color: var(--disabled-bg-color);\n",
              "    fill: var(--disabled-fill-color);\n",
              "    box-shadow: none;\n",
              "  }\n",
              "\n",
              "  .colab-df-spinner {\n",
              "    border: 2px solid var(--fill-color);\n",
              "    border-color: transparent;\n",
              "    border-bottom-color: var(--fill-color);\n",
              "    animation:\n",
              "      spin 1s steps(1) infinite;\n",
              "  }\n",
              "\n",
              "  @keyframes spin {\n",
              "    0% {\n",
              "      border-color: transparent;\n",
              "      border-bottom-color: var(--fill-color);\n",
              "      border-left-color: var(--fill-color);\n",
              "    }\n",
              "    20% {\n",
              "      border-color: transparent;\n",
              "      border-left-color: var(--fill-color);\n",
              "      border-top-color: var(--fill-color);\n",
              "    }\n",
              "    30% {\n",
              "      border-color: transparent;\n",
              "      border-left-color: var(--fill-color);\n",
              "      border-top-color: var(--fill-color);\n",
              "      border-right-color: var(--fill-color);\n",
              "    }\n",
              "    40% {\n",
              "      border-color: transparent;\n",
              "      border-right-color: var(--fill-color);\n",
              "      border-top-color: var(--fill-color);\n",
              "    }\n",
              "    60% {\n",
              "      border-color: transparent;\n",
              "      border-right-color: var(--fill-color);\n",
              "    }\n",
              "    80% {\n",
              "      border-color: transparent;\n",
              "      border-right-color: var(--fill-color);\n",
              "      border-bottom-color: var(--fill-color);\n",
              "    }\n",
              "    90% {\n",
              "      border-color: transparent;\n",
              "      border-bottom-color: var(--fill-color);\n",
              "    }\n",
              "  }\n",
              "</style>\n",
              "\n",
              "  <script>\n",
              "    async function quickchart(key) {\n",
              "      const quickchartButtonEl =\n",
              "        document.querySelector('#' + key + ' button');\n",
              "      quickchartButtonEl.disabled = true;  // To prevent multiple clicks.\n",
              "      quickchartButtonEl.classList.add('colab-df-spinner');\n",
              "      try {\n",
              "        const charts = await google.colab.kernel.invokeFunction(\n",
              "            'suggestCharts', [key], {});\n",
              "      } catch (error) {\n",
              "        console.error('Error during call to suggestCharts:', error);\n",
              "      }\n",
              "      quickchartButtonEl.classList.remove('colab-df-spinner');\n",
              "      quickchartButtonEl.classList.add('colab-df-quickchart-complete');\n",
              "    }\n",
              "    (() => {\n",
              "      let quickchartButtonEl =\n",
              "        document.querySelector('#df-995a444d-7048-41cb-884e-e49a97fa13e3 button');\n",
              "      quickchartButtonEl.style.display =\n",
              "        google.colab.kernel.accessAllowed ? 'block' : 'none';\n",
              "    })();\n",
              "  </script>\n",
              "</div>\n",
              "    </div>\n",
              "  </div>\n"
            ],
            "application/vnd.google.colaboratory.intrinsic+json": {
              "type": "dataframe",
              "summary": "{\n  \"name\": \"meta_stretch[meta_stretch['filename']\",\n  \"rows\": 5,\n  \"fields\": [\n    {\n      \"column\": \"filename\",\n      \"properties\": {\n        \"dtype\": \"string\",\n        \"num_unique_values\": 5,\n        \"samples\": [\n          \"stretch_1-115521-A-19.wav\",\n          \"stretch_1-115545-C-48.wav\",\n          \"stretch_1-115545-A-48.wav\"\n        ],\n        \"semantic_type\": \"\",\n        \"description\": \"\"\n      }\n    },\n    {\n      \"column\": \"fold\",\n      \"properties\": {\n        \"dtype\": \"number\",\n        \"std\": 0,\n        \"min\": 1,\n        \"max\": 1,\n        \"num_unique_values\": 1,\n        \"samples\": [\n          1\n        ],\n        \"semantic_type\": \"\",\n        \"description\": \"\"\n      }\n    },\n    {\n      \"column\": \"target\",\n      \"properties\": {\n        \"dtype\": \"number\",\n        \"std\": 15,\n        \"min\": 19,\n        \"max\": 48,\n        \"num_unique_values\": 3,\n        \"samples\": [\n          22\n        ],\n        \"semantic_type\": \"\",\n        \"description\": \"\"\n      }\n    },\n    {\n      \"column\": \"category\",\n      \"properties\": {\n        \"dtype\": \"string\",\n        \"num_unique_values\": 3,\n        \"samples\": [\n          \"clapping\"\n        ],\n        \"semantic_type\": \"\",\n        \"description\": \"\"\n      }\n    },\n    {\n      \"column\": \"esc10\",\n      \"properties\": {\n        \"dtype\": \"boolean\",\n        \"num_unique_values\": 1,\n        \"samples\": [\n          false\n        ],\n        \"semantic_type\": \"\",\n        \"description\": \"\"\n      }\n    },\n    {\n      \"column\": \"src_file\",\n      \"properties\": {\n        \"dtype\": \"number\",\n        \"std\": 2236,\n        \"min\": 110537,\n        \"max\": 115545,\n        \"num_unique_values\": 3,\n        \"samples\": [\n          110537\n        ],\n        \"semantic_type\": \"\",\n        \"description\": \"\"\n      }\n    },\n    {\n      \"column\": \"take\",\n      \"properties\": {\n        \"dtype\": \"string\",\n        \"num_unique_values\": 3,\n        \"samples\": [\n          \"A\"\n        ],\n        \"semantic_type\": \"\",\n        \"description\": \"\"\n      }\n    }\n  ]\n}"
            }
          },
          "metadata": {},
          "execution_count": 39
        }
      ]
    },
    {
      "cell_type": "code",
      "source": [
        "# Pruning the dataframe\n",
        "meta_stretch = meta_stretch[~meta_stretch['filename'].isin(missing_stretch_files)]\n",
        "meta_stretch.reset_index(drop=True, inplace=True) # Reseting the indeces\n",
        "meta_stretch"
      ],
      "metadata": {
        "colab": {
          "base_uri": "https://localhost:8080/",
          "height": 423
        },
        "id": "hrbGGbCq2cnN",
        "outputId": "7e40a77b-4d40-40e5-a786-fe2fd2fc10db"
      },
      "execution_count": null,
      "outputs": [
        {
          "output_type": "execute_result",
          "data": {
            "text/plain": [
              "                       filename  fold  target        category  esc10  \\\n",
              "0      stretch_1-100032-A-0.wav     1       0             dog   True   \n",
              "1     stretch_1-100038-A-14.wav     1      14  chirping_birds  False   \n",
              "2     stretch_1-100210-A-36.wav     1      36  vacuum_cleaner  False   \n",
              "3     stretch_1-100210-B-36.wav     1      36  vacuum_cleaner  False   \n",
              "4     stretch_1-101296-A-19.wav     1      19    thunderstorm  False   \n",
              "...                         ...   ...     ...             ...    ...   \n",
              "1990   stretch_5-263831-B-6.wav     5       6             hen  False   \n",
              "1991  stretch_5-263902-A-36.wav     5      36  vacuum_cleaner  False   \n",
              "1992   stretch_5-51149-A-25.wav     5      25       footsteps  False   \n",
              "1993    stretch_5-61635-A-8.wav     5       8           sheep  False   \n",
              "1994     stretch_5-9032-A-0.wav     5       0             dog   True   \n",
              "\n",
              "      src_file take  \n",
              "0       100032    A  \n",
              "1       100038    A  \n",
              "2       100210    A  \n",
              "3       100210    B  \n",
              "4       101296    A  \n",
              "...        ...  ...  \n",
              "1990    263831    B  \n",
              "1991    263902    A  \n",
              "1992     51149    A  \n",
              "1993     61635    A  \n",
              "1994      9032    A  \n",
              "\n",
              "[1995 rows x 7 columns]"
            ],
            "text/html": [
              "\n",
              "  <div id=\"df-a3f139a1-35a3-411e-a894-c0d65a6f65e9\" class=\"colab-df-container\">\n",
              "    <div>\n",
              "<style scoped>\n",
              "    .dataframe tbody tr th:only-of-type {\n",
              "        vertical-align: middle;\n",
              "    }\n",
              "\n",
              "    .dataframe tbody tr th {\n",
              "        vertical-align: top;\n",
              "    }\n",
              "\n",
              "    .dataframe thead th {\n",
              "        text-align: right;\n",
              "    }\n",
              "</style>\n",
              "<table border=\"1\" class=\"dataframe\">\n",
              "  <thead>\n",
              "    <tr style=\"text-align: right;\">\n",
              "      <th></th>\n",
              "      <th>filename</th>\n",
              "      <th>fold</th>\n",
              "      <th>target</th>\n",
              "      <th>category</th>\n",
              "      <th>esc10</th>\n",
              "      <th>src_file</th>\n",
              "      <th>take</th>\n",
              "    </tr>\n",
              "  </thead>\n",
              "  <tbody>\n",
              "    <tr>\n",
              "      <th>0</th>\n",
              "      <td>stretch_1-100032-A-0.wav</td>\n",
              "      <td>1</td>\n",
              "      <td>0</td>\n",
              "      <td>dog</td>\n",
              "      <td>True</td>\n",
              "      <td>100032</td>\n",
              "      <td>A</td>\n",
              "    </tr>\n",
              "    <tr>\n",
              "      <th>1</th>\n",
              "      <td>stretch_1-100038-A-14.wav</td>\n",
              "      <td>1</td>\n",
              "      <td>14</td>\n",
              "      <td>chirping_birds</td>\n",
              "      <td>False</td>\n",
              "      <td>100038</td>\n",
              "      <td>A</td>\n",
              "    </tr>\n",
              "    <tr>\n",
              "      <th>2</th>\n",
              "      <td>stretch_1-100210-A-36.wav</td>\n",
              "      <td>1</td>\n",
              "      <td>36</td>\n",
              "      <td>vacuum_cleaner</td>\n",
              "      <td>False</td>\n",
              "      <td>100210</td>\n",
              "      <td>A</td>\n",
              "    </tr>\n",
              "    <tr>\n",
              "      <th>3</th>\n",
              "      <td>stretch_1-100210-B-36.wav</td>\n",
              "      <td>1</td>\n",
              "      <td>36</td>\n",
              "      <td>vacuum_cleaner</td>\n",
              "      <td>False</td>\n",
              "      <td>100210</td>\n",
              "      <td>B</td>\n",
              "    </tr>\n",
              "    <tr>\n",
              "      <th>4</th>\n",
              "      <td>stretch_1-101296-A-19.wav</td>\n",
              "      <td>1</td>\n",
              "      <td>19</td>\n",
              "      <td>thunderstorm</td>\n",
              "      <td>False</td>\n",
              "      <td>101296</td>\n",
              "      <td>A</td>\n",
              "    </tr>\n",
              "    <tr>\n",
              "      <th>...</th>\n",
              "      <td>...</td>\n",
              "      <td>...</td>\n",
              "      <td>...</td>\n",
              "      <td>...</td>\n",
              "      <td>...</td>\n",
              "      <td>...</td>\n",
              "      <td>...</td>\n",
              "    </tr>\n",
              "    <tr>\n",
              "      <th>1990</th>\n",
              "      <td>stretch_5-263831-B-6.wav</td>\n",
              "      <td>5</td>\n",
              "      <td>6</td>\n",
              "      <td>hen</td>\n",
              "      <td>False</td>\n",
              "      <td>263831</td>\n",
              "      <td>B</td>\n",
              "    </tr>\n",
              "    <tr>\n",
              "      <th>1991</th>\n",
              "      <td>stretch_5-263902-A-36.wav</td>\n",
              "      <td>5</td>\n",
              "      <td>36</td>\n",
              "      <td>vacuum_cleaner</td>\n",
              "      <td>False</td>\n",
              "      <td>263902</td>\n",
              "      <td>A</td>\n",
              "    </tr>\n",
              "    <tr>\n",
              "      <th>1992</th>\n",
              "      <td>stretch_5-51149-A-25.wav</td>\n",
              "      <td>5</td>\n",
              "      <td>25</td>\n",
              "      <td>footsteps</td>\n",
              "      <td>False</td>\n",
              "      <td>51149</td>\n",
              "      <td>A</td>\n",
              "    </tr>\n",
              "    <tr>\n",
              "      <th>1993</th>\n",
              "      <td>stretch_5-61635-A-8.wav</td>\n",
              "      <td>5</td>\n",
              "      <td>8</td>\n",
              "      <td>sheep</td>\n",
              "      <td>False</td>\n",
              "      <td>61635</td>\n",
              "      <td>A</td>\n",
              "    </tr>\n",
              "    <tr>\n",
              "      <th>1994</th>\n",
              "      <td>stretch_5-9032-A-0.wav</td>\n",
              "      <td>5</td>\n",
              "      <td>0</td>\n",
              "      <td>dog</td>\n",
              "      <td>True</td>\n",
              "      <td>9032</td>\n",
              "      <td>A</td>\n",
              "    </tr>\n",
              "  </tbody>\n",
              "</table>\n",
              "<p>1995 rows × 7 columns</p>\n",
              "</div>\n",
              "    <div class=\"colab-df-buttons\">\n",
              "\n",
              "  <div class=\"colab-df-container\">\n",
              "    <button class=\"colab-df-convert\" onclick=\"convertToInteractive('df-a3f139a1-35a3-411e-a894-c0d65a6f65e9')\"\n",
              "            title=\"Convert this dataframe to an interactive table.\"\n",
              "            style=\"display:none;\">\n",
              "\n",
              "  <svg xmlns=\"http://www.w3.org/2000/svg\" height=\"24px\" viewBox=\"0 -960 960 960\">\n",
              "    <path d=\"M120-120v-720h720v720H120Zm60-500h600v-160H180v160Zm220 220h160v-160H400v160Zm0 220h160v-160H400v160ZM180-400h160v-160H180v160Zm440 0h160v-160H620v160ZM180-180h160v-160H180v160Zm440 0h160v-160H620v160Z\"/>\n",
              "  </svg>\n",
              "    </button>\n",
              "\n",
              "  <style>\n",
              "    .colab-df-container {\n",
              "      display:flex;\n",
              "      gap: 12px;\n",
              "    }\n",
              "\n",
              "    .colab-df-convert {\n",
              "      background-color: #E8F0FE;\n",
              "      border: none;\n",
              "      border-radius: 50%;\n",
              "      cursor: pointer;\n",
              "      display: none;\n",
              "      fill: #1967D2;\n",
              "      height: 32px;\n",
              "      padding: 0 0 0 0;\n",
              "      width: 32px;\n",
              "    }\n",
              "\n",
              "    .colab-df-convert:hover {\n",
              "      background-color: #E2EBFA;\n",
              "      box-shadow: 0px 1px 2px rgba(60, 64, 67, 0.3), 0px 1px 3px 1px rgba(60, 64, 67, 0.15);\n",
              "      fill: #174EA6;\n",
              "    }\n",
              "\n",
              "    .colab-df-buttons div {\n",
              "      margin-bottom: 4px;\n",
              "    }\n",
              "\n",
              "    [theme=dark] .colab-df-convert {\n",
              "      background-color: #3B4455;\n",
              "      fill: #D2E3FC;\n",
              "    }\n",
              "\n",
              "    [theme=dark] .colab-df-convert:hover {\n",
              "      background-color: #434B5C;\n",
              "      box-shadow: 0px 1px 3px 1px rgba(0, 0, 0, 0.15);\n",
              "      filter: drop-shadow(0px 1px 2px rgba(0, 0, 0, 0.3));\n",
              "      fill: #FFFFFF;\n",
              "    }\n",
              "  </style>\n",
              "\n",
              "    <script>\n",
              "      const buttonEl =\n",
              "        document.querySelector('#df-a3f139a1-35a3-411e-a894-c0d65a6f65e9 button.colab-df-convert');\n",
              "      buttonEl.style.display =\n",
              "        google.colab.kernel.accessAllowed ? 'block' : 'none';\n",
              "\n",
              "      async function convertToInteractive(key) {\n",
              "        const element = document.querySelector('#df-a3f139a1-35a3-411e-a894-c0d65a6f65e9');\n",
              "        const dataTable =\n",
              "          await google.colab.kernel.invokeFunction('convertToInteractive',\n",
              "                                                    [key], {});\n",
              "        if (!dataTable) return;\n",
              "\n",
              "        const docLinkHtml = 'Like what you see? Visit the ' +\n",
              "          '<a target=\"_blank\" href=https://colab.research.google.com/notebooks/data_table.ipynb>data table notebook</a>'\n",
              "          + ' to learn more about interactive tables.';\n",
              "        element.innerHTML = '';\n",
              "        dataTable['output_type'] = 'display_data';\n",
              "        await google.colab.output.renderOutput(dataTable, element);\n",
              "        const docLink = document.createElement('div');\n",
              "        docLink.innerHTML = docLinkHtml;\n",
              "        element.appendChild(docLink);\n",
              "      }\n",
              "    </script>\n",
              "  </div>\n",
              "\n",
              "\n",
              "<div id=\"df-2e7f54f7-b76a-48cf-8a59-d3fc8d6af775\">\n",
              "  <button class=\"colab-df-quickchart\" onclick=\"quickchart('df-2e7f54f7-b76a-48cf-8a59-d3fc8d6af775')\"\n",
              "            title=\"Suggest charts\"\n",
              "            style=\"display:none;\">\n",
              "\n",
              "<svg xmlns=\"http://www.w3.org/2000/svg\" height=\"24px\"viewBox=\"0 0 24 24\"\n",
              "     width=\"24px\">\n",
              "    <g>\n",
              "        <path d=\"M19 3H5c-1.1 0-2 .9-2 2v14c0 1.1.9 2 2 2h14c1.1 0 2-.9 2-2V5c0-1.1-.9-2-2-2zM9 17H7v-7h2v7zm4 0h-2V7h2v10zm4 0h-2v-4h2v4z\"/>\n",
              "    </g>\n",
              "</svg>\n",
              "  </button>\n",
              "\n",
              "<style>\n",
              "  .colab-df-quickchart {\n",
              "      --bg-color: #E8F0FE;\n",
              "      --fill-color: #1967D2;\n",
              "      --hover-bg-color: #E2EBFA;\n",
              "      --hover-fill-color: #174EA6;\n",
              "      --disabled-fill-color: #AAA;\n",
              "      --disabled-bg-color: #DDD;\n",
              "  }\n",
              "\n",
              "  [theme=dark] .colab-df-quickchart {\n",
              "      --bg-color: #3B4455;\n",
              "      --fill-color: #D2E3FC;\n",
              "      --hover-bg-color: #434B5C;\n",
              "      --hover-fill-color: #FFFFFF;\n",
              "      --disabled-bg-color: #3B4455;\n",
              "      --disabled-fill-color: #666;\n",
              "  }\n",
              "\n",
              "  .colab-df-quickchart {\n",
              "    background-color: var(--bg-color);\n",
              "    border: none;\n",
              "    border-radius: 50%;\n",
              "    cursor: pointer;\n",
              "    display: none;\n",
              "    fill: var(--fill-color);\n",
              "    height: 32px;\n",
              "    padding: 0;\n",
              "    width: 32px;\n",
              "  }\n",
              "\n",
              "  .colab-df-quickchart:hover {\n",
              "    background-color: var(--hover-bg-color);\n",
              "    box-shadow: 0 1px 2px rgba(60, 64, 67, 0.3), 0 1px 3px 1px rgba(60, 64, 67, 0.15);\n",
              "    fill: var(--button-hover-fill-color);\n",
              "  }\n",
              "\n",
              "  .colab-df-quickchart-complete:disabled,\n",
              "  .colab-df-quickchart-complete:disabled:hover {\n",
              "    background-color: var(--disabled-bg-color);\n",
              "    fill: var(--disabled-fill-color);\n",
              "    box-shadow: none;\n",
              "  }\n",
              "\n",
              "  .colab-df-spinner {\n",
              "    border: 2px solid var(--fill-color);\n",
              "    border-color: transparent;\n",
              "    border-bottom-color: var(--fill-color);\n",
              "    animation:\n",
              "      spin 1s steps(1) infinite;\n",
              "  }\n",
              "\n",
              "  @keyframes spin {\n",
              "    0% {\n",
              "      border-color: transparent;\n",
              "      border-bottom-color: var(--fill-color);\n",
              "      border-left-color: var(--fill-color);\n",
              "    }\n",
              "    20% {\n",
              "      border-color: transparent;\n",
              "      border-left-color: var(--fill-color);\n",
              "      border-top-color: var(--fill-color);\n",
              "    }\n",
              "    30% {\n",
              "      border-color: transparent;\n",
              "      border-left-color: var(--fill-color);\n",
              "      border-top-color: var(--fill-color);\n",
              "      border-right-color: var(--fill-color);\n",
              "    }\n",
              "    40% {\n",
              "      border-color: transparent;\n",
              "      border-right-color: var(--fill-color);\n",
              "      border-top-color: var(--fill-color);\n",
              "    }\n",
              "    60% {\n",
              "      border-color: transparent;\n",
              "      border-right-color: var(--fill-color);\n",
              "    }\n",
              "    80% {\n",
              "      border-color: transparent;\n",
              "      border-right-color: var(--fill-color);\n",
              "      border-bottom-color: var(--fill-color);\n",
              "    }\n",
              "    90% {\n",
              "      border-color: transparent;\n",
              "      border-bottom-color: var(--fill-color);\n",
              "    }\n",
              "  }\n",
              "</style>\n",
              "\n",
              "  <script>\n",
              "    async function quickchart(key) {\n",
              "      const quickchartButtonEl =\n",
              "        document.querySelector('#' + key + ' button');\n",
              "      quickchartButtonEl.disabled = true;  // To prevent multiple clicks.\n",
              "      quickchartButtonEl.classList.add('colab-df-spinner');\n",
              "      try {\n",
              "        const charts = await google.colab.kernel.invokeFunction(\n",
              "            'suggestCharts', [key], {});\n",
              "      } catch (error) {\n",
              "        console.error('Error during call to suggestCharts:', error);\n",
              "      }\n",
              "      quickchartButtonEl.classList.remove('colab-df-spinner');\n",
              "      quickchartButtonEl.classList.add('colab-df-quickchart-complete');\n",
              "    }\n",
              "    (() => {\n",
              "      let quickchartButtonEl =\n",
              "        document.querySelector('#df-2e7f54f7-b76a-48cf-8a59-d3fc8d6af775 button');\n",
              "      quickchartButtonEl.style.display =\n",
              "        google.colab.kernel.accessAllowed ? 'block' : 'none';\n",
              "    })();\n",
              "  </script>\n",
              "</div>\n",
              "    </div>\n",
              "  </div>\n"
            ],
            "application/vnd.google.colaboratory.intrinsic+json": {
              "type": "dataframe",
              "variable_name": "meta_stretch",
              "summary": "{\n  \"name\": \"meta_stretch\",\n  \"rows\": 1995,\n  \"fields\": [\n    {\n      \"column\": \"filename\",\n      \"properties\": {\n        \"dtype\": \"string\",\n        \"num_unique_values\": 1995,\n        \"samples\": [\n          \"stretch_3-126391-B-27.wav\",\n          \"stretch_5-184871-A-24.wav\",\n          \"stretch_2-103423-A-3.wav\"\n        ],\n        \"semantic_type\": \"\",\n        \"description\": \"\"\n      }\n    },\n    {\n      \"column\": \"fold\",\n      \"properties\": {\n        \"dtype\": \"number\",\n        \"std\": 1,\n        \"min\": 1,\n        \"max\": 5,\n        \"num_unique_values\": 5,\n        \"samples\": [\n          2,\n          5,\n          3\n        ],\n        \"semantic_type\": \"\",\n        \"description\": \"\"\n      }\n    },\n    {\n      \"column\": \"target\",\n      \"properties\": {\n        \"dtype\": \"number\",\n        \"std\": 14,\n        \"min\": 0,\n        \"max\": 49,\n        \"num_unique_values\": 50,\n        \"samples\": [\n          45,\n          18,\n          26\n        ],\n        \"semantic_type\": \"\",\n        \"description\": \"\"\n      }\n    },\n    {\n      \"column\": \"category\",\n      \"properties\": {\n        \"dtype\": \"category\",\n        \"num_unique_values\": 50,\n        \"samples\": [\n          \"train\",\n          \"toilet_flush\",\n          \"laughing\"\n        ],\n        \"semantic_type\": \"\",\n        \"description\": \"\"\n      }\n    },\n    {\n      \"column\": \"esc10\",\n      \"properties\": {\n        \"dtype\": \"boolean\",\n        \"num_unique_values\": 2,\n        \"samples\": [\n          false,\n          true\n        ],\n        \"semantic_type\": \"\",\n        \"description\": \"\"\n      }\n    },\n    {\n      \"column\": \"src_file\",\n      \"properties\": {\n        \"dtype\": \"number\",\n        \"std\": 64953,\n        \"min\": 137,\n        \"max\": 264453,\n        \"num_unique_values\": 1521,\n        \"samples\": [\n          82538,\n          186936\n        ],\n        \"semantic_type\": \"\",\n        \"description\": \"\"\n      }\n    },\n    {\n      \"column\": \"take\",\n      \"properties\": {\n        \"dtype\": \"category\",\n        \"num_unique_values\": 8,\n        \"samples\": [\n          \"B\",\n          \"F\"\n        ],\n        \"semantic_type\": \"\",\n        \"description\": \"\"\n      }\n    }\n  ]\n}"
            }
          },
          "metadata": {},
          "execution_count": 43
        }
      ]
    },
    {
      "cell_type": "markdown",
      "source": [
        "#### Saving as .npy arrays in Google Drive\n",
        "\n",
        "Before pruning we were getting errors here. **DO NOT RERUN** if you rerun, delete filies in the directory."
      ],
      "metadata": {
        "id": "Lo7go3xvq83u"
      }
    },
    {
      "cell_type": "markdown",
      "source": [
        "##### Saving Pitch Shifted files"
      ],
      "metadata": {
        "id": "htqfB6gHBfxp"
      }
    },
    {
      "cell_type": "code",
      "source": [
        "data_shift = np.zeros((1995,128,500)) # we have 1995 shifted spectrograms\n",
        "\n",
        "# sr is the same for the augmented images\n",
        "sr = 44100\n",
        "\n",
        "for i in tqdm(range(0, 1995)):\n",
        "    spec = normalize(getSignalSpectSynth(meta_shift, i, ver = 2)[1]) # Looping through only the shifted files\n",
        "    spec = fix_audio_length(spec, sr) # Keeping the audio length 500\n",
        "    data_shift[i] = spec\n",
        "\n",
        "\n",
        "# Saving it on google drive so we don't have to re-run the code\n",
        "save_shift_file_path = '/content/drive/My Drive/UCL/ML_Y3/Project/images/Data_Arrays/shifted_spectogram_data_array.npy'\n",
        "np.save(save_shift_file_path, data_shift)"
      ],
      "metadata": {
        "colab": {
          "base_uri": "https://localhost:8080/"
        },
        "id": "lbcw05A-rawX",
        "outputId": "9b628170-1a10-41ae-f61f-84dd4b5cdc30"
      },
      "execution_count": null,
      "outputs": [
        {
          "output_type": "stream",
          "name": "stderr",
          "text": [
            "100%|██████████| 1995/1995 [07:35<00:00,  4.38it/s]\n"
          ]
        }
      ]
    },
    {
      "cell_type": "markdown",
      "source": [
        "##### Saving Pitch Stretched files"
      ],
      "metadata": {
        "id": "U3pueog_Bkmf"
      }
    },
    {
      "cell_type": "code",
      "source": [
        "data_stretch = np.zeros((1995,128,500))\n",
        "\n",
        "# sr is the same for the augmented images\n",
        "sr = 44100\n",
        "\n",
        "for i in tqdm(range(0, 1995)):\n",
        "    spec = normalize(getSignalSpectSynth(meta_stretch, i, ver = 2)[1])\n",
        "    spec = fix_audio_length(spec, sr) # Keeping the audio length 500\n",
        "    data_stretch[i] = spec\n",
        "\n",
        "\n",
        "# Saving it on google drive so we don't have to re-run the code\n",
        "save_stretch_file_path = '/content/drive/My Drive/UCL/ML_Y3/Project/images/Data_Arrays/stretched_spectogram_data_array.npy'\n",
        "np.save(save_stretch_file_path, data_shift)"
      ],
      "metadata": {
        "colab": {
          "base_uri": "https://localhost:8080/"
        },
        "id": "wu0Tn2RpsNGM",
        "outputId": "bc3134b3-dfd5-4cbf-f195-0d75567ad620"
      },
      "execution_count": null,
      "outputs": [
        {
          "output_type": "stream",
          "name": "stderr",
          "text": [
            "100%|██████████| 1995/1995 [11:52<00:00,  2.80it/s]\n"
          ]
        }
      ]
    },
    {
      "cell_type": "markdown",
      "source": [
        "#### Debugging again\n",
        "**When re-running the data generation code after several days, it seems that i am now missing different files..**\n",
        "The method of debuggin i.e pruning away the augmented data was not effective because we ran into a seperate problem. The size mismatch between the augmented data and the original dataset does not allow us to split the data sets in the same way.This means that when we are training the models we are using the augmented version of the test data in our training data, superflously overexagerating our model accuracy..."
      ],
      "metadata": {
        "id": "PunFjeM6C-Nw"
      }
    },
    {
      "cell_type": "code",
      "source": [
        "audio_files_directory = '/content/drive/My Drive/UCL/ML_Y3/Project/audio'\n",
        "output_directory = '/content/drive/My Drive/UCL/ML_Y3/Project/audio/synthetic_audio_V2/missing files'\n",
        "audio_files = os.listdir(audio_files_directory)\n",
        "\n",
        "meta = getMeta()\n",
        "\n",
        "# It was noticed that only indices from 14 to 21 were missing\n",
        "# for both the stretched and the shifted datasets.\n",
        "# So we will only generate these specific sounds.\n",
        "\n",
        "for index, row in meta[['filename', 'target']].iterrows(): # tqdm was not necessary...\n",
        "    # Identifying a specific sound file which will be augmented\n",
        "    if 20 <= index <= 36:\n",
        "        filename = row['filename']\n",
        "        label = row['target']\n",
        "        audio_path = os.path.join(audio_files_directory, filename)\n",
        "\n",
        "        # Applying the augmentations\n",
        "        signal, sr, shift_filename, stretch_filename = apply_stretch_shift(audio_path, output_directory, filename)\n",
        "    else:\n",
        "        # If the index is greater than 21, break the loop\n",
        "        if index > 36:\n",
        "            break\n",
        "        # Continue to the next iteration for indices less than 15\n",
        "        continue\n",
        "\n",
        "  # The relevant ones were chosen\n",
        "  # And moved back to the main directory in order to extract .npy files\n"
      ],
      "metadata": {
        "id": "U9sBvTy-DaVM"
      },
      "execution_count": null,
      "outputs": []
    },
    {
      "cell_type": "code",
      "source": [
        "# we will save the files again as before but add back the 5 missing\n",
        "# data points to each of the .npy files\n",
        "meta_shift = getMeta()\n",
        "meta_shift['filename'] = \"shift_\" + meta_shift['filename']\n",
        "\n",
        "data_shift = np.zeros((2000,128,500)) # we have 2000 shifted spectrograms\n",
        "\n",
        "# sr is the same for the augmented images\n",
        "sr = 44100\n",
        "\n",
        "for i in tqdm(range(0, 2000)):\n",
        "    spec = normalize(getSignalSpectSynth(meta_shift, i, ver = 2)[1]) # Looping through only the shifted files\n",
        "    spec = fix_audio_length(spec, sr) # Keeping the audio length 500\n",
        "    data_shift[i] = spec\n",
        "\n",
        "\n",
        "# Saving it on google drive so we don't have to re-run the code\n",
        "save_shift_file_path = '/content/drive/My Drive/UCL/ML_Y3/Project/images/Data_Arrays/FULL_shifted_spectogram_data_array.npy'\n",
        "np.save(save_shift_file_path, data_shift)"
      ],
      "metadata": {
        "colab": {
          "base_uri": "https://localhost:8080/"
        },
        "id": "V5a3Dh3nDvRY",
        "outputId": "4f337410-e517-425e-a35e-715695c13f4a"
      },
      "execution_count": null,
      "outputs": [
        {
          "output_type": "stream",
          "name": "stderr",
          "text": [
            "100%|██████████| 2000/2000 [11:02<00:00,  3.02it/s]\n"
          ]
        }
      ]
    },
    {
      "cell_type": "code",
      "source": [
        "audio_files_directory = '/content/drive/My Drive/UCL/ML_Y3/Project/audio'\n",
        "output_directory = '/content/drive/My Drive/UCL/ML_Y3/Project/audio/synthetic_audio_V2'\n",
        "\n",
        "# Checking the number of files that were saved in the output directory\n",
        "num_files = len([f for f in os.listdir(output_directory) if os.path.isfile(os.path.join(output_directory, f))])\n",
        "print(f'There were {num_files} number of .wav files saved in the folder')\n",
        "\n",
        "original_files = os.listdir(audio_files_directory)\n",
        "\n",
        "expected_files = set()\n",
        "for filename in original_files:\n",
        "    expected_files.add(f\"stretch_{filename}\")\n",
        "    expected_files.add(f\"shift_{filename}\")\n",
        "\n",
        "# Create a set of actual generated file names in the output directory\n",
        "actual_files = set(os.listdir(output_directory))\n",
        "\n",
        "# Find the difference - files that were expected but not found\n",
        "missing_files = expected_files - actual_files\n",
        "\n",
        "# Removing folders that were displayed in the directory\n",
        "missing_files = missing_files - set(['shift_synthetic_audio','shift_synthetic_audio_V2',\n",
        "                                     'stretch_synthetic_audio_V2', 'stretch_synthetic_audio_V2',\n",
        "                                     'stretch_synthetic_audio', 'shift_synthetic_audio_V3',\n",
        "                                     'stretch_synthetic_audio_V3'])\n",
        "\n",
        "\n",
        "missing_shift_files = {file for file in missing_files if file.startswith('shift_')}\n",
        "missing_stretch_files = {file for file in missing_files if file.startswith('stretch_')}\n",
        "\n",
        "print(f\"Missing pitch shifted files ({len(missing_shift_files)}):\")\n",
        "print(missing_shift_files)\n",
        "print(f\"\\nMissing time stretched files ({len(missing_stretch_files)}):\")\n",
        "print(f'{missing_stretch_files}')"
      ],
      "metadata": {
        "colab": {
          "base_uri": "https://localhost:8080/"
        },
        "id": "VBrgzz8oLwyF",
        "outputId": "c7b72bf6-9eda-437b-ded6-208ec8be99b5"
      },
      "execution_count": null,
      "outputs": [
        {
          "output_type": "stream",
          "name": "stdout",
          "text": [
            "There were 3975 number of .wav files saved in the folder\n",
            "Missing pitch shifted files (10):\n",
            "{'shift_1-13571-A-46.wav', 'shift_1-137-A-32.wav', 'shift_1-13613-A-37.wav', 'shift_1-118559-A-17.wav', 'shift_1-121951-A-8.wav', 'shift_1-12654-A-15.wav', 'shift_1-12654-B-15.wav', 'shift_1-12653-A-15.wav', 'shift_1-119125-A-45.wav', 'shift_1-13572-A-46.wav'}\n",
            "\n",
            "Missing time stretched files (16):\n",
            "{'stretch_1-13572-A-46.wav', 'stretch_1-12654-B-15.wav', 'stretch_1-118206-A-31.wav', 'stretch_1-12654-A-15.wav', 'stretch_1-116765-A-41.wav', 'stretch_1-115921-A-22.wav', 'stretch_1-118559-A-17.wav', 'stretch_1-13613-A-37.wav', 'stretch_1-13571-A-46.wav', 'stretch_1-115546-A-48.wav', 'stretch_1-121951-A-8.wav', 'stretch_1-115920-B-22.wav', 'stretch_1-115920-A-22.wav', 'stretch_1-11687-A-47.wav', 'stretch_1-12653-A-15.wav', 'stretch_1-119125-A-45.wav'}\n"
          ]
        }
      ]
    },
    {
      "cell_type": "code",
      "source": [
        "# For time stretched data\n",
        "meta_stretch = getMeta()\n",
        "meta_stretch['filename'] = \"stretch_\" + meta_stretch['filename']\n",
        "\n",
        "# Missing 3 fireworks, 1 thunderstorm and 1 clapping\n",
        "meta_stretch[meta_stretch['filename'].isin(missing_stretch_files)]"
      ],
      "metadata": {
        "colab": {
          "base_uri": "https://localhost:8080/",
          "height": 551
        },
        "id": "1JMVgyhvJR0j",
        "outputId": "8c08a8fe-de1d-4be4-8483-e75b69ba77c8"
      },
      "execution_count": null,
      "outputs": [
        {
          "output_type": "execute_result",
          "data": {
            "text/plain": [
              "                     filename  fold  target       category  esc10  src_file  \\\n",
              "20  stretch_1-115546-A-48.wav     1      48      fireworks  False    115546   \n",
              "21  stretch_1-115920-A-22.wav     1      22       clapping  False    115920   \n",
              "22  stretch_1-115920-B-22.wav     1      22       clapping  False    115920   \n",
              "23  stretch_1-115921-A-22.wav     1      22       clapping  False    115921   \n",
              "24  stretch_1-116765-A-41.wav     1      41       chainsaw   True    116765   \n",
              "25   stretch_1-11687-A-47.wav     1      47       airplane  False     11687   \n",
              "26  stretch_1-118206-A-31.wav     1      31    mouse_click  False    118206   \n",
              "27  stretch_1-118559-A-17.wav     1      17  pouring_water  False    118559   \n",
              "28  stretch_1-119125-A-45.wav     1      45          train  False    119125   \n",
              "29   stretch_1-121951-A-8.wav     1       8          sheep  False    121951   \n",
              "30   stretch_1-12653-A-15.wav     1      15    water_drops  False     12653   \n",
              "31   stretch_1-12654-A-15.wav     1      15    water_drops  False     12654   \n",
              "32   stretch_1-12654-B-15.wav     1      15    water_drops  False     12654   \n",
              "33   stretch_1-13571-A-46.wav     1      46   church_bells  False     13571   \n",
              "34   stretch_1-13572-A-46.wav     1      46   church_bells  False     13572   \n",
              "35   stretch_1-13613-A-37.wav     1      37    clock_alarm  False     13613   \n",
              "\n",
              "   take  \n",
              "20    A  \n",
              "21    A  \n",
              "22    B  \n",
              "23    A  \n",
              "24    A  \n",
              "25    A  \n",
              "26    A  \n",
              "27    A  \n",
              "28    A  \n",
              "29    A  \n",
              "30    A  \n",
              "31    A  \n",
              "32    B  \n",
              "33    A  \n",
              "34    A  \n",
              "35    A  "
            ],
            "text/html": [
              "\n",
              "  <div id=\"df-41d01860-c338-4637-bd46-731f0924eb4c\" class=\"colab-df-container\">\n",
              "    <div>\n",
              "<style scoped>\n",
              "    .dataframe tbody tr th:only-of-type {\n",
              "        vertical-align: middle;\n",
              "    }\n",
              "\n",
              "    .dataframe tbody tr th {\n",
              "        vertical-align: top;\n",
              "    }\n",
              "\n",
              "    .dataframe thead th {\n",
              "        text-align: right;\n",
              "    }\n",
              "</style>\n",
              "<table border=\"1\" class=\"dataframe\">\n",
              "  <thead>\n",
              "    <tr style=\"text-align: right;\">\n",
              "      <th></th>\n",
              "      <th>filename</th>\n",
              "      <th>fold</th>\n",
              "      <th>target</th>\n",
              "      <th>category</th>\n",
              "      <th>esc10</th>\n",
              "      <th>src_file</th>\n",
              "      <th>take</th>\n",
              "    </tr>\n",
              "  </thead>\n",
              "  <tbody>\n",
              "    <tr>\n",
              "      <th>20</th>\n",
              "      <td>stretch_1-115546-A-48.wav</td>\n",
              "      <td>1</td>\n",
              "      <td>48</td>\n",
              "      <td>fireworks</td>\n",
              "      <td>False</td>\n",
              "      <td>115546</td>\n",
              "      <td>A</td>\n",
              "    </tr>\n",
              "    <tr>\n",
              "      <th>21</th>\n",
              "      <td>stretch_1-115920-A-22.wav</td>\n",
              "      <td>1</td>\n",
              "      <td>22</td>\n",
              "      <td>clapping</td>\n",
              "      <td>False</td>\n",
              "      <td>115920</td>\n",
              "      <td>A</td>\n",
              "    </tr>\n",
              "    <tr>\n",
              "      <th>22</th>\n",
              "      <td>stretch_1-115920-B-22.wav</td>\n",
              "      <td>1</td>\n",
              "      <td>22</td>\n",
              "      <td>clapping</td>\n",
              "      <td>False</td>\n",
              "      <td>115920</td>\n",
              "      <td>B</td>\n",
              "    </tr>\n",
              "    <tr>\n",
              "      <th>23</th>\n",
              "      <td>stretch_1-115921-A-22.wav</td>\n",
              "      <td>1</td>\n",
              "      <td>22</td>\n",
              "      <td>clapping</td>\n",
              "      <td>False</td>\n",
              "      <td>115921</td>\n",
              "      <td>A</td>\n",
              "    </tr>\n",
              "    <tr>\n",
              "      <th>24</th>\n",
              "      <td>stretch_1-116765-A-41.wav</td>\n",
              "      <td>1</td>\n",
              "      <td>41</td>\n",
              "      <td>chainsaw</td>\n",
              "      <td>True</td>\n",
              "      <td>116765</td>\n",
              "      <td>A</td>\n",
              "    </tr>\n",
              "    <tr>\n",
              "      <th>25</th>\n",
              "      <td>stretch_1-11687-A-47.wav</td>\n",
              "      <td>1</td>\n",
              "      <td>47</td>\n",
              "      <td>airplane</td>\n",
              "      <td>False</td>\n",
              "      <td>11687</td>\n",
              "      <td>A</td>\n",
              "    </tr>\n",
              "    <tr>\n",
              "      <th>26</th>\n",
              "      <td>stretch_1-118206-A-31.wav</td>\n",
              "      <td>1</td>\n",
              "      <td>31</td>\n",
              "      <td>mouse_click</td>\n",
              "      <td>False</td>\n",
              "      <td>118206</td>\n",
              "      <td>A</td>\n",
              "    </tr>\n",
              "    <tr>\n",
              "      <th>27</th>\n",
              "      <td>stretch_1-118559-A-17.wav</td>\n",
              "      <td>1</td>\n",
              "      <td>17</td>\n",
              "      <td>pouring_water</td>\n",
              "      <td>False</td>\n",
              "      <td>118559</td>\n",
              "      <td>A</td>\n",
              "    </tr>\n",
              "    <tr>\n",
              "      <th>28</th>\n",
              "      <td>stretch_1-119125-A-45.wav</td>\n",
              "      <td>1</td>\n",
              "      <td>45</td>\n",
              "      <td>train</td>\n",
              "      <td>False</td>\n",
              "      <td>119125</td>\n",
              "      <td>A</td>\n",
              "    </tr>\n",
              "    <tr>\n",
              "      <th>29</th>\n",
              "      <td>stretch_1-121951-A-8.wav</td>\n",
              "      <td>1</td>\n",
              "      <td>8</td>\n",
              "      <td>sheep</td>\n",
              "      <td>False</td>\n",
              "      <td>121951</td>\n",
              "      <td>A</td>\n",
              "    </tr>\n",
              "    <tr>\n",
              "      <th>30</th>\n",
              "      <td>stretch_1-12653-A-15.wav</td>\n",
              "      <td>1</td>\n",
              "      <td>15</td>\n",
              "      <td>water_drops</td>\n",
              "      <td>False</td>\n",
              "      <td>12653</td>\n",
              "      <td>A</td>\n",
              "    </tr>\n",
              "    <tr>\n",
              "      <th>31</th>\n",
              "      <td>stretch_1-12654-A-15.wav</td>\n",
              "      <td>1</td>\n",
              "      <td>15</td>\n",
              "      <td>water_drops</td>\n",
              "      <td>False</td>\n",
              "      <td>12654</td>\n",
              "      <td>A</td>\n",
              "    </tr>\n",
              "    <tr>\n",
              "      <th>32</th>\n",
              "      <td>stretch_1-12654-B-15.wav</td>\n",
              "      <td>1</td>\n",
              "      <td>15</td>\n",
              "      <td>water_drops</td>\n",
              "      <td>False</td>\n",
              "      <td>12654</td>\n",
              "      <td>B</td>\n",
              "    </tr>\n",
              "    <tr>\n",
              "      <th>33</th>\n",
              "      <td>stretch_1-13571-A-46.wav</td>\n",
              "      <td>1</td>\n",
              "      <td>46</td>\n",
              "      <td>church_bells</td>\n",
              "      <td>False</td>\n",
              "      <td>13571</td>\n",
              "      <td>A</td>\n",
              "    </tr>\n",
              "    <tr>\n",
              "      <th>34</th>\n",
              "      <td>stretch_1-13572-A-46.wav</td>\n",
              "      <td>1</td>\n",
              "      <td>46</td>\n",
              "      <td>church_bells</td>\n",
              "      <td>False</td>\n",
              "      <td>13572</td>\n",
              "      <td>A</td>\n",
              "    </tr>\n",
              "    <tr>\n",
              "      <th>35</th>\n",
              "      <td>stretch_1-13613-A-37.wav</td>\n",
              "      <td>1</td>\n",
              "      <td>37</td>\n",
              "      <td>clock_alarm</td>\n",
              "      <td>False</td>\n",
              "      <td>13613</td>\n",
              "      <td>A</td>\n",
              "    </tr>\n",
              "  </tbody>\n",
              "</table>\n",
              "</div>\n",
              "    <div class=\"colab-df-buttons\">\n",
              "\n",
              "  <div class=\"colab-df-container\">\n",
              "    <button class=\"colab-df-convert\" onclick=\"convertToInteractive('df-41d01860-c338-4637-bd46-731f0924eb4c')\"\n",
              "            title=\"Convert this dataframe to an interactive table.\"\n",
              "            style=\"display:none;\">\n",
              "\n",
              "  <svg xmlns=\"http://www.w3.org/2000/svg\" height=\"24px\" viewBox=\"0 -960 960 960\">\n",
              "    <path d=\"M120-120v-720h720v720H120Zm60-500h600v-160H180v160Zm220 220h160v-160H400v160Zm0 220h160v-160H400v160ZM180-400h160v-160H180v160Zm440 0h160v-160H620v160ZM180-180h160v-160H180v160Zm440 0h160v-160H620v160Z\"/>\n",
              "  </svg>\n",
              "    </button>\n",
              "\n",
              "  <style>\n",
              "    .colab-df-container {\n",
              "      display:flex;\n",
              "      gap: 12px;\n",
              "    }\n",
              "\n",
              "    .colab-df-convert {\n",
              "      background-color: #E8F0FE;\n",
              "      border: none;\n",
              "      border-radius: 50%;\n",
              "      cursor: pointer;\n",
              "      display: none;\n",
              "      fill: #1967D2;\n",
              "      height: 32px;\n",
              "      padding: 0 0 0 0;\n",
              "      width: 32px;\n",
              "    }\n",
              "\n",
              "    .colab-df-convert:hover {\n",
              "      background-color: #E2EBFA;\n",
              "      box-shadow: 0px 1px 2px rgba(60, 64, 67, 0.3), 0px 1px 3px 1px rgba(60, 64, 67, 0.15);\n",
              "      fill: #174EA6;\n",
              "    }\n",
              "\n",
              "    .colab-df-buttons div {\n",
              "      margin-bottom: 4px;\n",
              "    }\n",
              "\n",
              "    [theme=dark] .colab-df-convert {\n",
              "      background-color: #3B4455;\n",
              "      fill: #D2E3FC;\n",
              "    }\n",
              "\n",
              "    [theme=dark] .colab-df-convert:hover {\n",
              "      background-color: #434B5C;\n",
              "      box-shadow: 0px 1px 3px 1px rgba(0, 0, 0, 0.15);\n",
              "      filter: drop-shadow(0px 1px 2px rgba(0, 0, 0, 0.3));\n",
              "      fill: #FFFFFF;\n",
              "    }\n",
              "  </style>\n",
              "\n",
              "    <script>\n",
              "      const buttonEl =\n",
              "        document.querySelector('#df-41d01860-c338-4637-bd46-731f0924eb4c button.colab-df-convert');\n",
              "      buttonEl.style.display =\n",
              "        google.colab.kernel.accessAllowed ? 'block' : 'none';\n",
              "\n",
              "      async function convertToInteractive(key) {\n",
              "        const element = document.querySelector('#df-41d01860-c338-4637-bd46-731f0924eb4c');\n",
              "        const dataTable =\n",
              "          await google.colab.kernel.invokeFunction('convertToInteractive',\n",
              "                                                    [key], {});\n",
              "        if (!dataTable) return;\n",
              "\n",
              "        const docLinkHtml = 'Like what you see? Visit the ' +\n",
              "          '<a target=\"_blank\" href=https://colab.research.google.com/notebooks/data_table.ipynb>data table notebook</a>'\n",
              "          + ' to learn more about interactive tables.';\n",
              "        element.innerHTML = '';\n",
              "        dataTable['output_type'] = 'display_data';\n",
              "        await google.colab.output.renderOutput(dataTable, element);\n",
              "        const docLink = document.createElement('div');\n",
              "        docLink.innerHTML = docLinkHtml;\n",
              "        element.appendChild(docLink);\n",
              "      }\n",
              "    </script>\n",
              "  </div>\n",
              "\n",
              "\n",
              "<div id=\"df-abf8ef57-2dcb-43d0-93f6-d936f179a21a\">\n",
              "  <button class=\"colab-df-quickchart\" onclick=\"quickchart('df-abf8ef57-2dcb-43d0-93f6-d936f179a21a')\"\n",
              "            title=\"Suggest charts\"\n",
              "            style=\"display:none;\">\n",
              "\n",
              "<svg xmlns=\"http://www.w3.org/2000/svg\" height=\"24px\"viewBox=\"0 0 24 24\"\n",
              "     width=\"24px\">\n",
              "    <g>\n",
              "        <path d=\"M19 3H5c-1.1 0-2 .9-2 2v14c0 1.1.9 2 2 2h14c1.1 0 2-.9 2-2V5c0-1.1-.9-2-2-2zM9 17H7v-7h2v7zm4 0h-2V7h2v10zm4 0h-2v-4h2v4z\"/>\n",
              "    </g>\n",
              "</svg>\n",
              "  </button>\n",
              "\n",
              "<style>\n",
              "  .colab-df-quickchart {\n",
              "      --bg-color: #E8F0FE;\n",
              "      --fill-color: #1967D2;\n",
              "      --hover-bg-color: #E2EBFA;\n",
              "      --hover-fill-color: #174EA6;\n",
              "      --disabled-fill-color: #AAA;\n",
              "      --disabled-bg-color: #DDD;\n",
              "  }\n",
              "\n",
              "  [theme=dark] .colab-df-quickchart {\n",
              "      --bg-color: #3B4455;\n",
              "      --fill-color: #D2E3FC;\n",
              "      --hover-bg-color: #434B5C;\n",
              "      --hover-fill-color: #FFFFFF;\n",
              "      --disabled-bg-color: #3B4455;\n",
              "      --disabled-fill-color: #666;\n",
              "  }\n",
              "\n",
              "  .colab-df-quickchart {\n",
              "    background-color: var(--bg-color);\n",
              "    border: none;\n",
              "    border-radius: 50%;\n",
              "    cursor: pointer;\n",
              "    display: none;\n",
              "    fill: var(--fill-color);\n",
              "    height: 32px;\n",
              "    padding: 0;\n",
              "    width: 32px;\n",
              "  }\n",
              "\n",
              "  .colab-df-quickchart:hover {\n",
              "    background-color: var(--hover-bg-color);\n",
              "    box-shadow: 0 1px 2px rgba(60, 64, 67, 0.3), 0 1px 3px 1px rgba(60, 64, 67, 0.15);\n",
              "    fill: var(--button-hover-fill-color);\n",
              "  }\n",
              "\n",
              "  .colab-df-quickchart-complete:disabled,\n",
              "  .colab-df-quickchart-complete:disabled:hover {\n",
              "    background-color: var(--disabled-bg-color);\n",
              "    fill: var(--disabled-fill-color);\n",
              "    box-shadow: none;\n",
              "  }\n",
              "\n",
              "  .colab-df-spinner {\n",
              "    border: 2px solid var(--fill-color);\n",
              "    border-color: transparent;\n",
              "    border-bottom-color: var(--fill-color);\n",
              "    animation:\n",
              "      spin 1s steps(1) infinite;\n",
              "  }\n",
              "\n",
              "  @keyframes spin {\n",
              "    0% {\n",
              "      border-color: transparent;\n",
              "      border-bottom-color: var(--fill-color);\n",
              "      border-left-color: var(--fill-color);\n",
              "    }\n",
              "    20% {\n",
              "      border-color: transparent;\n",
              "      border-left-color: var(--fill-color);\n",
              "      border-top-color: var(--fill-color);\n",
              "    }\n",
              "    30% {\n",
              "      border-color: transparent;\n",
              "      border-left-color: var(--fill-color);\n",
              "      border-top-color: var(--fill-color);\n",
              "      border-right-color: var(--fill-color);\n",
              "    }\n",
              "    40% {\n",
              "      border-color: transparent;\n",
              "      border-right-color: var(--fill-color);\n",
              "      border-top-color: var(--fill-color);\n",
              "    }\n",
              "    60% {\n",
              "      border-color: transparent;\n",
              "      border-right-color: var(--fill-color);\n",
              "    }\n",
              "    80% {\n",
              "      border-color: transparent;\n",
              "      border-right-color: var(--fill-color);\n",
              "      border-bottom-color: var(--fill-color);\n",
              "    }\n",
              "    90% {\n",
              "      border-color: transparent;\n",
              "      border-bottom-color: var(--fill-color);\n",
              "    }\n",
              "  }\n",
              "</style>\n",
              "\n",
              "  <script>\n",
              "    async function quickchart(key) {\n",
              "      const quickchartButtonEl =\n",
              "        document.querySelector('#' + key + ' button');\n",
              "      quickchartButtonEl.disabled = true;  // To prevent multiple clicks.\n",
              "      quickchartButtonEl.classList.add('colab-df-spinner');\n",
              "      try {\n",
              "        const charts = await google.colab.kernel.invokeFunction(\n",
              "            'suggestCharts', [key], {});\n",
              "      } catch (error) {\n",
              "        console.error('Error during call to suggestCharts:', error);\n",
              "      }\n",
              "      quickchartButtonEl.classList.remove('colab-df-spinner');\n",
              "      quickchartButtonEl.classList.add('colab-df-quickchart-complete');\n",
              "    }\n",
              "    (() => {\n",
              "      let quickchartButtonEl =\n",
              "        document.querySelector('#df-abf8ef57-2dcb-43d0-93f6-d936f179a21a button');\n",
              "      quickchartButtonEl.style.display =\n",
              "        google.colab.kernel.accessAllowed ? 'block' : 'none';\n",
              "    })();\n",
              "  </script>\n",
              "</div>\n",
              "    </div>\n",
              "  </div>\n"
            ],
            "application/vnd.google.colaboratory.intrinsic+json": {
              "type": "dataframe",
              "summary": "{\n  \"name\": \"meta_stretch[meta_stretch['filename']\",\n  \"rows\": 16,\n  \"fields\": [\n    {\n      \"column\": \"filename\",\n      \"properties\": {\n        \"dtype\": \"string\",\n        \"num_unique_values\": 16,\n        \"samples\": [\n          \"stretch_1-115546-A-48.wav\",\n          \"stretch_1-115920-A-22.wav\",\n          \"stretch_1-11687-A-47.wav\"\n        ],\n        \"semantic_type\": \"\",\n        \"description\": \"\"\n      }\n    },\n    {\n      \"column\": \"fold\",\n      \"properties\": {\n        \"dtype\": \"number\",\n        \"std\": 0,\n        \"min\": 1,\n        \"max\": 1,\n        \"num_unique_values\": 1,\n        \"samples\": [\n          1\n        ],\n        \"semantic_type\": \"\",\n        \"description\": \"\"\n      }\n    },\n    {\n      \"column\": \"target\",\n      \"properties\": {\n        \"dtype\": \"number\",\n        \"std\": 14,\n        \"min\": 8,\n        \"max\": 48,\n        \"num_unique_values\": 11,\n        \"samples\": [\n          17\n        ],\n        \"semantic_type\": \"\",\n        \"description\": \"\"\n      }\n    },\n    {\n      \"column\": \"category\",\n      \"properties\": {\n        \"dtype\": \"string\",\n        \"num_unique_values\": 11,\n        \"samples\": [\n          \"pouring_water\"\n        ],\n        \"semantic_type\": \"\",\n        \"description\": \"\"\n      }\n    },\n    {\n      \"column\": \"esc10\",\n      \"properties\": {\n        \"dtype\": \"boolean\",\n        \"num_unique_values\": 2,\n        \"samples\": [\n          true\n        ],\n        \"semantic_type\": \"\",\n        \"description\": \"\"\n      }\n    },\n    {\n      \"column\": \"src_file\",\n      \"properties\": {\n        \"dtype\": \"number\",\n        \"std\": 53631,\n        \"min\": 11687,\n        \"max\": 121951,\n        \"num_unique_values\": 14,\n        \"samples\": [\n          12653\n        ],\n        \"semantic_type\": \"\",\n        \"description\": \"\"\n      }\n    },\n    {\n      \"column\": \"take\",\n      \"properties\": {\n        \"dtype\": \"category\",\n        \"num_unique_values\": 2,\n        \"samples\": [\n          \"B\"\n        ],\n        \"semantic_type\": \"\",\n        \"description\": \"\"\n      }\n    }\n  ]\n}"
            }
          },
          "metadata": {},
          "execution_count": 58
        }
      ]
    },
    {
      "cell_type": "code",
      "source": [
        "# Generating a df for pitch shifted data\n",
        "meta_shift = getMeta()\n",
        "meta_shift['filename'] = \"shift_\" + meta_shift['filename']\n",
        "\n",
        "# Checking which files are missin (4 fireworks and 1 thunderstorm)\n",
        "meta_shift[meta_shift['filename'].isin(missing_shift_files)] # Displaying df"
      ],
      "metadata": {
        "colab": {
          "base_uri": "https://localhost:8080/",
          "height": 363
        },
        "id": "1Ub59CEkMfQU",
        "outputId": "799595fd-e82e-45b9-dd7f-f9ccdc8b1f7c"
      },
      "execution_count": null,
      "outputs": [
        {
          "output_type": "execute_result",
          "data": {
            "text/plain": [
              "                   filename  fold  target         category  esc10  src_file  \\\n",
              "27  shift_1-118559-A-17.wav     1      17    pouring_water  False    118559   \n",
              "28  shift_1-119125-A-45.wav     1      45            train  False    119125   \n",
              "29   shift_1-121951-A-8.wav     1       8            sheep  False    121951   \n",
              "30   shift_1-12653-A-15.wav     1      15      water_drops  False     12653   \n",
              "31   shift_1-12654-A-15.wav     1      15      water_drops  False     12654   \n",
              "32   shift_1-12654-B-15.wav     1      15      water_drops  False     12654   \n",
              "33   shift_1-13571-A-46.wav     1      46     church_bells  False     13571   \n",
              "34   shift_1-13572-A-46.wav     1      46     church_bells  False     13572   \n",
              "35   shift_1-13613-A-37.wav     1      37      clock_alarm  False     13613   \n",
              "36     shift_1-137-A-32.wav     1      32  keyboard_typing  False       137   \n",
              "\n",
              "   take  \n",
              "27    A  \n",
              "28    A  \n",
              "29    A  \n",
              "30    A  \n",
              "31    A  \n",
              "32    B  \n",
              "33    A  \n",
              "34    A  \n",
              "35    A  \n",
              "36    A  "
            ],
            "text/html": [
              "\n",
              "  <div id=\"df-79373027-2b48-4a3b-8e3c-f70b0a8405dd\" class=\"colab-df-container\">\n",
              "    <div>\n",
              "<style scoped>\n",
              "    .dataframe tbody tr th:only-of-type {\n",
              "        vertical-align: middle;\n",
              "    }\n",
              "\n",
              "    .dataframe tbody tr th {\n",
              "        vertical-align: top;\n",
              "    }\n",
              "\n",
              "    .dataframe thead th {\n",
              "        text-align: right;\n",
              "    }\n",
              "</style>\n",
              "<table border=\"1\" class=\"dataframe\">\n",
              "  <thead>\n",
              "    <tr style=\"text-align: right;\">\n",
              "      <th></th>\n",
              "      <th>filename</th>\n",
              "      <th>fold</th>\n",
              "      <th>target</th>\n",
              "      <th>category</th>\n",
              "      <th>esc10</th>\n",
              "      <th>src_file</th>\n",
              "      <th>take</th>\n",
              "    </tr>\n",
              "  </thead>\n",
              "  <tbody>\n",
              "    <tr>\n",
              "      <th>27</th>\n",
              "      <td>shift_1-118559-A-17.wav</td>\n",
              "      <td>1</td>\n",
              "      <td>17</td>\n",
              "      <td>pouring_water</td>\n",
              "      <td>False</td>\n",
              "      <td>118559</td>\n",
              "      <td>A</td>\n",
              "    </tr>\n",
              "    <tr>\n",
              "      <th>28</th>\n",
              "      <td>shift_1-119125-A-45.wav</td>\n",
              "      <td>1</td>\n",
              "      <td>45</td>\n",
              "      <td>train</td>\n",
              "      <td>False</td>\n",
              "      <td>119125</td>\n",
              "      <td>A</td>\n",
              "    </tr>\n",
              "    <tr>\n",
              "      <th>29</th>\n",
              "      <td>shift_1-121951-A-8.wav</td>\n",
              "      <td>1</td>\n",
              "      <td>8</td>\n",
              "      <td>sheep</td>\n",
              "      <td>False</td>\n",
              "      <td>121951</td>\n",
              "      <td>A</td>\n",
              "    </tr>\n",
              "    <tr>\n",
              "      <th>30</th>\n",
              "      <td>shift_1-12653-A-15.wav</td>\n",
              "      <td>1</td>\n",
              "      <td>15</td>\n",
              "      <td>water_drops</td>\n",
              "      <td>False</td>\n",
              "      <td>12653</td>\n",
              "      <td>A</td>\n",
              "    </tr>\n",
              "    <tr>\n",
              "      <th>31</th>\n",
              "      <td>shift_1-12654-A-15.wav</td>\n",
              "      <td>1</td>\n",
              "      <td>15</td>\n",
              "      <td>water_drops</td>\n",
              "      <td>False</td>\n",
              "      <td>12654</td>\n",
              "      <td>A</td>\n",
              "    </tr>\n",
              "    <tr>\n",
              "      <th>32</th>\n",
              "      <td>shift_1-12654-B-15.wav</td>\n",
              "      <td>1</td>\n",
              "      <td>15</td>\n",
              "      <td>water_drops</td>\n",
              "      <td>False</td>\n",
              "      <td>12654</td>\n",
              "      <td>B</td>\n",
              "    </tr>\n",
              "    <tr>\n",
              "      <th>33</th>\n",
              "      <td>shift_1-13571-A-46.wav</td>\n",
              "      <td>1</td>\n",
              "      <td>46</td>\n",
              "      <td>church_bells</td>\n",
              "      <td>False</td>\n",
              "      <td>13571</td>\n",
              "      <td>A</td>\n",
              "    </tr>\n",
              "    <tr>\n",
              "      <th>34</th>\n",
              "      <td>shift_1-13572-A-46.wav</td>\n",
              "      <td>1</td>\n",
              "      <td>46</td>\n",
              "      <td>church_bells</td>\n",
              "      <td>False</td>\n",
              "      <td>13572</td>\n",
              "      <td>A</td>\n",
              "    </tr>\n",
              "    <tr>\n",
              "      <th>35</th>\n",
              "      <td>shift_1-13613-A-37.wav</td>\n",
              "      <td>1</td>\n",
              "      <td>37</td>\n",
              "      <td>clock_alarm</td>\n",
              "      <td>False</td>\n",
              "      <td>13613</td>\n",
              "      <td>A</td>\n",
              "    </tr>\n",
              "    <tr>\n",
              "      <th>36</th>\n",
              "      <td>shift_1-137-A-32.wav</td>\n",
              "      <td>1</td>\n",
              "      <td>32</td>\n",
              "      <td>keyboard_typing</td>\n",
              "      <td>False</td>\n",
              "      <td>137</td>\n",
              "      <td>A</td>\n",
              "    </tr>\n",
              "  </tbody>\n",
              "</table>\n",
              "</div>\n",
              "    <div class=\"colab-df-buttons\">\n",
              "\n",
              "  <div class=\"colab-df-container\">\n",
              "    <button class=\"colab-df-convert\" onclick=\"convertToInteractive('df-79373027-2b48-4a3b-8e3c-f70b0a8405dd')\"\n",
              "            title=\"Convert this dataframe to an interactive table.\"\n",
              "            style=\"display:none;\">\n",
              "\n",
              "  <svg xmlns=\"http://www.w3.org/2000/svg\" height=\"24px\" viewBox=\"0 -960 960 960\">\n",
              "    <path d=\"M120-120v-720h720v720H120Zm60-500h600v-160H180v160Zm220 220h160v-160H400v160Zm0 220h160v-160H400v160ZM180-400h160v-160H180v160Zm440 0h160v-160H620v160ZM180-180h160v-160H180v160Zm440 0h160v-160H620v160Z\"/>\n",
              "  </svg>\n",
              "    </button>\n",
              "\n",
              "  <style>\n",
              "    .colab-df-container {\n",
              "      display:flex;\n",
              "      gap: 12px;\n",
              "    }\n",
              "\n",
              "    .colab-df-convert {\n",
              "      background-color: #E8F0FE;\n",
              "      border: none;\n",
              "      border-radius: 50%;\n",
              "      cursor: pointer;\n",
              "      display: none;\n",
              "      fill: #1967D2;\n",
              "      height: 32px;\n",
              "      padding: 0 0 0 0;\n",
              "      width: 32px;\n",
              "    }\n",
              "\n",
              "    .colab-df-convert:hover {\n",
              "      background-color: #E2EBFA;\n",
              "      box-shadow: 0px 1px 2px rgba(60, 64, 67, 0.3), 0px 1px 3px 1px rgba(60, 64, 67, 0.15);\n",
              "      fill: #174EA6;\n",
              "    }\n",
              "\n",
              "    .colab-df-buttons div {\n",
              "      margin-bottom: 4px;\n",
              "    }\n",
              "\n",
              "    [theme=dark] .colab-df-convert {\n",
              "      background-color: #3B4455;\n",
              "      fill: #D2E3FC;\n",
              "    }\n",
              "\n",
              "    [theme=dark] .colab-df-convert:hover {\n",
              "      background-color: #434B5C;\n",
              "      box-shadow: 0px 1px 3px 1px rgba(0, 0, 0, 0.15);\n",
              "      filter: drop-shadow(0px 1px 2px rgba(0, 0, 0, 0.3));\n",
              "      fill: #FFFFFF;\n",
              "    }\n",
              "  </style>\n",
              "\n",
              "    <script>\n",
              "      const buttonEl =\n",
              "        document.querySelector('#df-79373027-2b48-4a3b-8e3c-f70b0a8405dd button.colab-df-convert');\n",
              "      buttonEl.style.display =\n",
              "        google.colab.kernel.accessAllowed ? 'block' : 'none';\n",
              "\n",
              "      async function convertToInteractive(key) {\n",
              "        const element = document.querySelector('#df-79373027-2b48-4a3b-8e3c-f70b0a8405dd');\n",
              "        const dataTable =\n",
              "          await google.colab.kernel.invokeFunction('convertToInteractive',\n",
              "                                                    [key], {});\n",
              "        if (!dataTable) return;\n",
              "\n",
              "        const docLinkHtml = 'Like what you see? Visit the ' +\n",
              "          '<a target=\"_blank\" href=https://colab.research.google.com/notebooks/data_table.ipynb>data table notebook</a>'\n",
              "          + ' to learn more about interactive tables.';\n",
              "        element.innerHTML = '';\n",
              "        dataTable['output_type'] = 'display_data';\n",
              "        await google.colab.output.renderOutput(dataTable, element);\n",
              "        const docLink = document.createElement('div');\n",
              "        docLink.innerHTML = docLinkHtml;\n",
              "        element.appendChild(docLink);\n",
              "      }\n",
              "    </script>\n",
              "  </div>\n",
              "\n",
              "\n",
              "<div id=\"df-7f84044f-9433-446d-a842-8482cd8f0ca1\">\n",
              "  <button class=\"colab-df-quickchart\" onclick=\"quickchart('df-7f84044f-9433-446d-a842-8482cd8f0ca1')\"\n",
              "            title=\"Suggest charts\"\n",
              "            style=\"display:none;\">\n",
              "\n",
              "<svg xmlns=\"http://www.w3.org/2000/svg\" height=\"24px\"viewBox=\"0 0 24 24\"\n",
              "     width=\"24px\">\n",
              "    <g>\n",
              "        <path d=\"M19 3H5c-1.1 0-2 .9-2 2v14c0 1.1.9 2 2 2h14c1.1 0 2-.9 2-2V5c0-1.1-.9-2-2-2zM9 17H7v-7h2v7zm4 0h-2V7h2v10zm4 0h-2v-4h2v4z\"/>\n",
              "    </g>\n",
              "</svg>\n",
              "  </button>\n",
              "\n",
              "<style>\n",
              "  .colab-df-quickchart {\n",
              "      --bg-color: #E8F0FE;\n",
              "      --fill-color: #1967D2;\n",
              "      --hover-bg-color: #E2EBFA;\n",
              "      --hover-fill-color: #174EA6;\n",
              "      --disabled-fill-color: #AAA;\n",
              "      --disabled-bg-color: #DDD;\n",
              "  }\n",
              "\n",
              "  [theme=dark] .colab-df-quickchart {\n",
              "      --bg-color: #3B4455;\n",
              "      --fill-color: #D2E3FC;\n",
              "      --hover-bg-color: #434B5C;\n",
              "      --hover-fill-color: #FFFFFF;\n",
              "      --disabled-bg-color: #3B4455;\n",
              "      --disabled-fill-color: #666;\n",
              "  }\n",
              "\n",
              "  .colab-df-quickchart {\n",
              "    background-color: var(--bg-color);\n",
              "    border: none;\n",
              "    border-radius: 50%;\n",
              "    cursor: pointer;\n",
              "    display: none;\n",
              "    fill: var(--fill-color);\n",
              "    height: 32px;\n",
              "    padding: 0;\n",
              "    width: 32px;\n",
              "  }\n",
              "\n",
              "  .colab-df-quickchart:hover {\n",
              "    background-color: var(--hover-bg-color);\n",
              "    box-shadow: 0 1px 2px rgba(60, 64, 67, 0.3), 0 1px 3px 1px rgba(60, 64, 67, 0.15);\n",
              "    fill: var(--button-hover-fill-color);\n",
              "  }\n",
              "\n",
              "  .colab-df-quickchart-complete:disabled,\n",
              "  .colab-df-quickchart-complete:disabled:hover {\n",
              "    background-color: var(--disabled-bg-color);\n",
              "    fill: var(--disabled-fill-color);\n",
              "    box-shadow: none;\n",
              "  }\n",
              "\n",
              "  .colab-df-spinner {\n",
              "    border: 2px solid var(--fill-color);\n",
              "    border-color: transparent;\n",
              "    border-bottom-color: var(--fill-color);\n",
              "    animation:\n",
              "      spin 1s steps(1) infinite;\n",
              "  }\n",
              "\n",
              "  @keyframes spin {\n",
              "    0% {\n",
              "      border-color: transparent;\n",
              "      border-bottom-color: var(--fill-color);\n",
              "      border-left-color: var(--fill-color);\n",
              "    }\n",
              "    20% {\n",
              "      border-color: transparent;\n",
              "      border-left-color: var(--fill-color);\n",
              "      border-top-color: var(--fill-color);\n",
              "    }\n",
              "    30% {\n",
              "      border-color: transparent;\n",
              "      border-left-color: var(--fill-color);\n",
              "      border-top-color: var(--fill-color);\n",
              "      border-right-color: var(--fill-color);\n",
              "    }\n",
              "    40% {\n",
              "      border-color: transparent;\n",
              "      border-right-color: var(--fill-color);\n",
              "      border-top-color: var(--fill-color);\n",
              "    }\n",
              "    60% {\n",
              "      border-color: transparent;\n",
              "      border-right-color: var(--fill-color);\n",
              "    }\n",
              "    80% {\n",
              "      border-color: transparent;\n",
              "      border-right-color: var(--fill-color);\n",
              "      border-bottom-color: var(--fill-color);\n",
              "    }\n",
              "    90% {\n",
              "      border-color: transparent;\n",
              "      border-bottom-color: var(--fill-color);\n",
              "    }\n",
              "  }\n",
              "</style>\n",
              "\n",
              "  <script>\n",
              "    async function quickchart(key) {\n",
              "      const quickchartButtonEl =\n",
              "        document.querySelector('#' + key + ' button');\n",
              "      quickchartButtonEl.disabled = true;  // To prevent multiple clicks.\n",
              "      quickchartButtonEl.classList.add('colab-df-spinner');\n",
              "      try {\n",
              "        const charts = await google.colab.kernel.invokeFunction(\n",
              "            'suggestCharts', [key], {});\n",
              "      } catch (error) {\n",
              "        console.error('Error during call to suggestCharts:', error);\n",
              "      }\n",
              "      quickchartButtonEl.classList.remove('colab-df-spinner');\n",
              "      quickchartButtonEl.classList.add('colab-df-quickchart-complete');\n",
              "    }\n",
              "    (() => {\n",
              "      let quickchartButtonEl =\n",
              "        document.querySelector('#df-7f84044f-9433-446d-a842-8482cd8f0ca1 button');\n",
              "      quickchartButtonEl.style.display =\n",
              "        google.colab.kernel.accessAllowed ? 'block' : 'none';\n",
              "    })();\n",
              "  </script>\n",
              "</div>\n",
              "    </div>\n",
              "  </div>\n"
            ],
            "application/vnd.google.colaboratory.intrinsic+json": {
              "type": "dataframe",
              "summary": "{\n  \"name\": \"meta_shift[meta_shift['filename']\",\n  \"rows\": 10,\n  \"fields\": [\n    {\n      \"column\": \"filename\",\n      \"properties\": {\n        \"dtype\": \"string\",\n        \"num_unique_values\": 10,\n        \"samples\": [\n          \"shift_1-13613-A-37.wav\",\n          \"shift_1-119125-A-45.wav\",\n          \"shift_1-12654-B-15.wav\"\n        ],\n        \"semantic_type\": \"\",\n        \"description\": \"\"\n      }\n    },\n    {\n      \"column\": \"fold\",\n      \"properties\": {\n        \"dtype\": \"number\",\n        \"std\": 0,\n        \"min\": 1,\n        \"max\": 1,\n        \"num_unique_values\": 1,\n        \"samples\": [\n          1\n        ],\n        \"semantic_type\": \"\",\n        \"description\": \"\"\n      }\n    },\n    {\n      \"column\": \"target\",\n      \"properties\": {\n        \"dtype\": \"number\",\n        \"std\": 15,\n        \"min\": 8,\n        \"max\": 46,\n        \"num_unique_values\": 7,\n        \"samples\": [\n          17\n        ],\n        \"semantic_type\": \"\",\n        \"description\": \"\"\n      }\n    },\n    {\n      \"column\": \"category\",\n      \"properties\": {\n        \"dtype\": \"string\",\n        \"num_unique_values\": 7,\n        \"samples\": [\n          \"pouring_water\"\n        ],\n        \"semantic_type\": \"\",\n        \"description\": \"\"\n      }\n    },\n    {\n      \"column\": \"esc10\",\n      \"properties\": {\n        \"dtype\": \"boolean\",\n        \"num_unique_values\": 1,\n        \"samples\": [\n          false\n        ],\n        \"semantic_type\": \"\",\n        \"description\": \"\"\n      }\n    },\n    {\n      \"column\": \"src_file\",\n      \"properties\": {\n        \"dtype\": \"number\",\n        \"std\": 52626,\n        \"min\": 137,\n        \"max\": 121951,\n        \"num_unique_values\": 9,\n        \"samples\": [\n          13613\n        ],\n        \"semantic_type\": \"\",\n        \"description\": \"\"\n      }\n    },\n    {\n      \"column\": \"take\",\n      \"properties\": {\n        \"dtype\": \"category\",\n        \"num_unique_values\": 2,\n        \"samples\": [\n          \"B\"\n        ],\n        \"semantic_type\": \"\",\n        \"description\": \"\"\n      }\n    }\n  ]\n}"
            }
          },
          "metadata": {},
          "execution_count": 59
        }
      ]
    },
    {
      "cell_type": "code",
      "source": [
        "# For time stretched data\n",
        "meta_stretch = getMeta()\n",
        "meta_stretch['filename'] = \"stretch_\" + meta_stretch['filename']\n",
        "\n",
        "\n",
        "data_stretch = np.zeros((2000,128,500))\n",
        "\n",
        "# sr is the same for the augmented images\n",
        "sr = 44100\n",
        "\n",
        "for i in tqdm(range(0, 2000)):\n",
        "    spec = normalize(getSignalSpectSynth(meta_stretch, i, ver = 2)[1])\n",
        "    spec = fix_audio_length(spec, sr) # Keeping the audio length 500\n",
        "    data_stretch[i] = spec\n",
        "\n",
        "\n",
        "# Saving it on google drive so we don't have to re-run the code\n",
        "save_stretch_file_path = '/content/drive/My Drive/UCL/ML_Y3/Project/images/Data_Arrays/FULL_stretched_spectogram_data_array.npy'\n",
        "np.save(save_stretch_file_path, data_shift)"
      ],
      "metadata": {
        "id": "21P2FO8fEO2F",
        "colab": {
          "base_uri": "https://localhost:8080/"
        },
        "outputId": "db660e67-31d5-4747-a345-f85359d3f869"
      },
      "execution_count": null,
      "outputs": [
        {
          "output_type": "stream",
          "name": "stderr",
          "text": [
            "100%|██████████| 2000/2000 [01:57<00:00, 17.07it/s]\n"
          ]
        }
      ]
    },
    {
      "cell_type": "markdown",
      "source": [
        "## Method 3\n",
        "\n",
        "Now we will try to add augmentations which add white and pink noise onto our dataset.\n",
        "\n",
        "We chose the SNR ratios by examining papers.\n",
        "\n",
        "https://www.ncbi.nlm.nih.gov/pmc/articles/PMC5824438/"
      ],
      "metadata": {
        "id": "oxpMrsEDbrRT"
      }
    },
    {
      "cell_type": "markdown",
      "source": [
        "### Defining Functions\n",
        "\n",
        "1. White\n",
        "2. Pink noises\n",
        "3. To adjust their SNR\n",
        "\n",
        "So that the noise applied is roughly of the same level depending on the signal."
      ],
      "metadata": {
        "id": "GH2h9plKCQ5O"
      }
    },
    {
      "cell_type": "code",
      "source": [
        "# We considered adding brown noise, however it has features very simillar to\n",
        "# pink noise (it just falls of faster).\n",
        "\n",
        "def adjust_SNR(signal, noise, snr=[10,17]):\n",
        "    '''\n",
        "    Parameters:\n",
        "        signal (ndarray): The input signal to which noise is added.\n",
        "        noise (ndarray): The noise to be added to the signal\n",
        "        snr (float): range of Possible signal to noise ratios\n",
        "\n",
        "    Returns:\n",
        "        ndarray: The signal with pink noise added.\n",
        "    '''\n",
        "    snr = np.random.uniform(*snr)  # Use asterik to unpack the values into single elements\n",
        "\n",
        "    # Ensuring SNR does not lead to overflow\n",
        "    snr_val = 10**(snr / 20)\n",
        "    if np.isinf(snr_val) or np.isnan(snr_val):\n",
        "        # Handle extreme SNR values or set to a default\n",
        "        snr_val = 10**(10.5 / 20)  # Example: default to 7 dB\n",
        "\n",
        "    # Calculate rms and rms noise\n",
        "    rms_signal = np.sqrt(np.mean(signal**2))\n",
        "    rms_noise = rms_signal / (10**(snr_val / 20))\n",
        "\n",
        "    noise *= rms_noise / np.sqrt(np.mean(noise**2))\n",
        "    return noise\n",
        "\n",
        "                        ##############\n",
        "\n",
        "def add_pink_noise(signal): #snr=[10,17]\n",
        "    \"\"\"\n",
        "    Add pink noise to the input signal.\n",
        "\n",
        "    Parameters:\n",
        "        signal (ndarray): The input signal to which pink noise will be added.\n",
        "        snr (float): The desired Signal-to-Noise Ratio (SNR) in decibels.\n",
        "\n",
        "    Returns:\n",
        "        ndarray: The signal with pink noise added.\n",
        "    \"\"\"\n",
        "\n",
        "    # Generating white noise as an array of size=signal\n",
        "    white_noise = np.random.normal(0, 1, len(signal))\n",
        "\n",
        "    # Transforming white noise into fourier domain\n",
        "    white_noise_fft = np.fft.fft(white_noise)\n",
        "\n",
        "    # Creating frequency bins\n",
        "    freqs = np.fft.fftfreq(len(white_noise))\n",
        "\n",
        "    # Adjusting amplitude in frequency domain for pink noise\n",
        "    white_noise_fft[freqs != 0] /= np.abs(freqs[freqs != 0])**0.5 # The ratio between larger freqs and their denominators is larger\n",
        "    white_noise_fft[freqs == 0] = 0\n",
        "\n",
        "    # Converting back to the time domain and taking the real components\n",
        "    pink_noise = np.fft.ifft(white_noise_fft).real\n",
        "\n",
        "    # Adjusting amplitude in time domain for desired SNR\n",
        "    pink_noise = adjust_SNR(signal, pink_noise)\n",
        "    return signal + pink_noise\n",
        "\n",
        "                      #################\n",
        "\n",
        "def add_white_noise(signal): #snr=[10,17]\n",
        "    \"\"\"\n",
        "    Add white noise to the input signal.\n",
        "\n",
        "    Parameters:\n",
        "        signal (ndarray): The input signal to which white noise will be added.\n",
        "        snr (float): The desired Signal-to-Noise Ratio.\n",
        "\n",
        "    Returns:\n",
        "        ndarray: The signal with white noise added.\n",
        "    \"\"\"\n",
        "    # Generating white noise array from Gaussian distribution\n",
        "    white_noise = np.random.normal(0, 1, len(signal))\n",
        "\n",
        "    # Adjusting amplitude in time domain for desired SNR\n",
        "    white_noise = adjust_SNR(signal,white_noise)\n",
        "\n",
        "    return signal + white_noise"
      ],
      "metadata": {
        "id": "m9W_ZRz9Uq5J"
      },
      "execution_count": null,
      "outputs": []
    },
    {
      "cell_type": "markdown",
      "source": [
        "____________\n",
        "##### Defining the function for adding noise."
      ],
      "metadata": {
        "id": "GRtjWxc0zKhJ"
      }
    },
    {
      "cell_type": "code",
      "source": [
        "def apply_noise(audio_path, output_path, filename, sr=44100):\n",
        "    \"\"\"\n",
        "    Apply white and pink noises to an audio file.\n",
        "\n",
        "    Parameters:\n",
        "        audio_path (str): Path to the input audio file.\n",
        "        output_path (str): Directory to save the augmented audio files.\n",
        "        filename (str): Name of the input audio file.\n",
        "        sr (int, optional): Sampling rate of the audio file. Default is 44100.\n",
        "\n",
        "    Returns:\n",
        "        tuple: Original signal, sampling rate,\n",
        "               filenames of augmented white noise audio, and\n",
        "               filenames of augmented pink noise audio.\n",
        "    \"\"\"\n",
        "\n",
        "    # Load the file\n",
        "    signal, sr = librosa.load(audio_path, sr=sr, mono=True)\n",
        "\n",
        "    # Add Noises\n",
        "    sig_white_noise = add_white_noise(signal)\n",
        "    sig_pink_noise = add_pink_noise(signal)\n",
        "\n",
        "\n",
        "    # Setting up the the output paths for the .wav files\n",
        "    # White_noise\n",
        "    white_filename = f\"white_{filename}\"\n",
        "    white_path = os.path.join(output_directory, white_filename)\n",
        "\n",
        "    # Pink_noise\n",
        "    pink_filename = f\"pink_{filename}\"\n",
        "    pink_path = os.path.join(output_directory, pink_filename)\n",
        "\n",
        "    # Save the augmented audio\n",
        "    sf.write(white_path, sig_white_noise, sr)\n",
        "    sf.write(pink_path, sig_pink_noise, sr)\n",
        "\n",
        "    return signal, sr, white_filename, pink_filename"
      ],
      "metadata": {
        "id": "36AkruJauII0"
      },
      "execution_count": null,
      "outputs": []
    },
    {
      "cell_type": "markdown",
      "source": [
        "________________\n",
        "### Saving the Files"
      ],
      "metadata": {
        "id": "8PQ8yh6b0iYK"
      }
    },
    {
      "cell_type": "markdown",
      "source": [
        "#### Saving Audio Augmented with Noise"
      ],
      "metadata": {
        "id": "ZQWEgDmJEUGN"
      }
    },
    {
      "cell_type": "code",
      "source": [
        "audio_files_directory = '/content/drive/My Drive/UCL/ML_Y3/Project/audio'\n",
        "output_directory = '/content/drive/My Drive/UCL/ML_Y3/Project/audio/synthetic_audio_V3' # Changing to V3\n",
        "audio_files = os.listdir(audio_files_directory)\n",
        "\n",
        "meta = getMeta()\n",
        "\n",
        "for index, row in meta[['filename', 'target']].iterrows():\n",
        "    filename = row['filename']\n",
        "    label = row['target']\n",
        "    # Identifying a specific sound file which will be augmented\n",
        "    audio_path = os.path.join(audio_files_directory, filename)\n",
        "\n",
        "    # Applying the augmentaitons\n",
        "    signal, sr, white_filename, pink_filename = apply_noise(audio_path, output_directory, filename)\n",
        "\n",
        "    if index % 50 == 49: # Printing to check progress\n",
        "      print(f\"\\n{index}: Processed and saved: {white_filename} with label: {label}\")\n",
        "      print(f\"{index}: Processed and saved: {pink_filename} with label: {label}\")"
      ],
      "metadata": {
        "colab": {
          "base_uri": "https://localhost:8080/"
        },
        "id": "jVKlmwe50mB4",
        "outputId": "7a4f23fc-84bb-4af9-f1a7-3bc35deec7c6"
      },
      "execution_count": null,
      "outputs": [
        {
          "output_type": "stream",
          "name": "stdout",
          "text": [
            "\n",
            "49: Processed and saved: white_1-16568-A-3.wav with label: 3\n",
            "49: Processed and saved: pink_1-16568-A-3.wav with label: 3\n",
            "\n",
            "99: Processed and saved: white_1-208757-A-2.wav with label: 2\n",
            "99: Processed and saved: pink_1-208757-A-2.wav with label: 2\n",
            "\n",
            "149: Processed and saved: white_1-28135-B-11.wav with label: 11\n",
            "149: Processed and saved: pink_1-28135-B-11.wav with label: 11\n",
            "\n",
            "199: Processed and saved: white_1-40154-A-46.wav with label: 46\n",
            "199: Processed and saved: pink_1-40154-A-46.wav with label: 46\n",
            "\n",
            "249: Processed and saved: white_1-51170-A-18.wav with label: 18\n",
            "249: Processed and saved: pink_1-51170-A-18.wav with label: 18\n",
            "\n",
            "299: Processed and saved: white_1-60676-A-34.wav with label: 34\n",
            "299: Processed and saved: pink_1-60676-A-34.wav with label: 34\n",
            "\n",
            "349: Processed and saved: white_1-77160-A-3.wav with label: 3\n",
            "349: Processed and saved: pink_1-77160-A-3.wav with label: 3\n",
            "\n",
            "399: Processed and saved: white_1-99958-A-31.wav with label: 31\n",
            "399: Processed and saved: pink_1-99958-A-31.wav with label: 31\n",
            "\n",
            "449: Processed and saved: white_2-108760-B-14.wav with label: 14\n",
            "449: Processed and saved: pink_2-108760-B-14.wav with label: 14\n",
            "\n",
            "499: Processed and saved: white_2-118459-B-32.wav with label: 32\n",
            "499: Processed and saved: pink_2-118459-B-32.wav with label: 32\n",
            "\n",
            "549: Processed and saved: white_2-133863-A-11.wav with label: 11\n",
            "549: Processed and saved: pink_2-133863-A-11.wav with label: 11\n",
            "\n",
            "599: Processed and saved: white_2-184077-A-49.wav with label: 49\n",
            "599: Processed and saved: pink_2-184077-A-49.wav with label: 49\n",
            "\n",
            "649: Processed and saved: white_2-50774-A-23.wav with label: 23\n",
            "649: Processed and saved: pink_2-50774-A-23.wav with label: 23\n",
            "\n",
            "699: Processed and saved: white_2-70936-A-42.wav with label: 42\n",
            "699: Processed and saved: pink_2-70936-A-42.wav with label: 42\n",
            "\n",
            "749: Processed and saved: white_2-82367-A-10.wav with label: 10\n",
            "749: Processed and saved: pink_2-82367-A-10.wav with label: 10\n",
            "\n",
            "799: Processed and saved: white_2-99955-C-7.wav with label: 7\n",
            "799: Processed and saved: pink_2-99955-C-7.wav with label: 7\n",
            "\n",
            "849: Processed and saved: white_3-115387-C-47.wav with label: 47\n",
            "849: Processed and saved: pink_3-115387-C-47.wav with label: 47\n",
            "\n",
            "899: Processed and saved: white_3-128160-A-44.wav with label: 44\n",
            "899: Processed and saved: pink_3-128160-A-44.wav with label: 44\n",
            "\n",
            "949: Processed and saved: white_3-143119-A-21.wav with label: 21\n",
            "949: Processed and saved: pink_3-143119-A-21.wav with label: 21\n",
            "\n",
            "999: Processed and saved: white_3-151206-A-23.wav with label: 23\n",
            "999: Processed and saved: pink_3-151206-A-23.wav with label: 23\n",
            "\n",
            "1049: Processed and saved: white_3-156907-A-15.wav with label: 15\n",
            "1049: Processed and saved: pink_3-156907-A-15.wav with label: 15\n",
            "\n",
            "1099: Processed and saved: white_3-170377-A-38.wav with label: 38\n",
            "1099: Processed and saved: pink_3-170377-A-38.wav with label: 38\n",
            "\n",
            "1149: Processed and saved: white_3-246513-A-16.wav with label: 16\n",
            "1149: Processed and saved: pink_3-246513-A-16.wav with label: 16\n",
            "\n",
            "1199: Processed and saved: white_3-98869-A-46.wav with label: 46\n",
            "1199: Processed and saved: pink_3-98869-A-46.wav with label: 46\n",
            "\n",
            "1249: Processed and saved: white_4-138344-A-9.wav with label: 9\n",
            "1249: Processed and saved: pink_4-138344-A-9.wav with label: 9\n",
            "\n",
            "1299: Processed and saved: white_4-161099-A-47.wav with label: 47\n",
            "1299: Processed and saved: pink_4-161099-A-47.wav with label: 47\n",
            "\n",
            "1349: Processed and saved: white_4-169127-A-41.wav with label: 41\n",
            "1349: Processed and saved: pink_4-169127-A-41.wav with label: 41\n",
            "\n",
            "1399: Processed and saved: white_4-179984-A-38.wav with label: 38\n",
            "1399: Processed and saved: pink_4-179984-A-38.wav with label: 38\n",
            "\n",
            "1449: Processed and saved: white_4-187284-A-30.wav with label: 30\n",
            "1449: Processed and saved: pink_4-187284-A-30.wav with label: 30\n",
            "\n",
            "1499: Processed and saved: white_4-195805-A-13.wav with label: 13\n",
            "1499: Processed and saved: pink_4-195805-A-13.wav with label: 13\n",
            "\n",
            "1549: Processed and saved: white_4-212604-A-15.wav with label: 15\n",
            "1549: Processed and saved: pink_4-212604-A-15.wav with label: 15\n",
            "\n",
            "1599: Processed and saved: white_4-99644-D-4.wav with label: 4\n",
            "1599: Processed and saved: pink_4-99644-D-4.wav with label: 4\n",
            "\n",
            "1649: Processed and saved: white_5-177034-A-18.wav with label: 18\n",
            "1649: Processed and saved: pink_5-177034-A-18.wav with label: 18\n",
            "\n",
            "1699: Processed and saved: white_5-191497-A-33.wav with label: 33\n",
            "1699: Processed and saved: pink_5-191497-A-33.wav with label: 33\n",
            "\n",
            "1749: Processed and saved: white_5-200461-B-11.wav with label: 11\n",
            "1749: Processed and saved: pink_5-200461-B-11.wav with label: 11\n",
            "\n",
            "1799: Processed and saved: white_5-212181-A-38.wav with label: 38\n",
            "1799: Processed and saved: pink_5-212181-A-38.wav with label: 38\n",
            "\n",
            "1849: Processed and saved: white_5-220026-A-21.wav with label: 21\n",
            "1849: Processed and saved: pink_5-220026-A-21.wav with label: 21\n",
            "\n",
            "1899: Processed and saved: white_5-236299-A-34.wav with label: 34\n",
            "1899: Processed and saved: pink_5-236299-A-34.wav with label: 34\n",
            "\n",
            "1949: Processed and saved: white_5-251489-A-24.wav with label: 24\n",
            "1949: Processed and saved: pink_5-251489-A-24.wav with label: 24\n",
            "\n",
            "1999: Processed and saved: white_5-9032-A-0.wav with label: 0\n",
            "1999: Processed and saved: pink_5-9032-A-0.wav with label: 0\n"
          ]
        }
      ]
    },
    {
      "cell_type": "markdown",
      "source": [
        "##### Debugging the data"
      ],
      "metadata": {
        "id": "7qhVsd7HFIEK"
      }
    },
    {
      "cell_type": "code",
      "source": [
        "audio_files_directory = '/content/drive/My Drive/UCL/ML_Y3/Project/audio'\n",
        "output_directory = '/content/drive/My Drive/UCL/ML_Y3/Project/audio/synthetic_audio_V3'\n",
        "\n",
        "# Checking the number of files that were saved in the output directory\n",
        "num_files = len([f for f in os.listdir(output_directory) if os.path.isfile(os.path.join(output_directory, f))])\n",
        "print(f'There were {num_files} number of .wav files saved in the folder')"
      ],
      "metadata": {
        "colab": {
          "base_uri": "https://localhost:8080/"
        },
        "id": "01B6Bd8fFKwT",
        "outputId": "51f925fb-19f2-41d6-a77f-8435286011f4"
      },
      "execution_count": null,
      "outputs": [
        {
          "output_type": "stream",
          "name": "stdout",
          "text": [
            "There were 4000 number of .wav files saved in the folder\n"
          ]
        }
      ]
    },
    {
      "cell_type": "markdown",
      "source": [
        "There seems to be no missing files. Because we are not applying any complex operations to the sound files. We are only adding noise."
      ],
      "metadata": {
        "id": "YUFdaG4JFRZ_"
      }
    },
    {
      "cell_type": "markdown",
      "source": [
        "#### Creating dfs\n",
        "\n",
        "In order to loop through files in my directory."
      ],
      "metadata": {
        "id": "jRqsSiZ1EmuR"
      }
    },
    {
      "cell_type": "code",
      "source": [
        "# Generating a df for white noised data\n",
        "meta_white = getMeta()\n",
        "meta_white['filename'] = \"white_\" + meta_white['filename']\n",
        "\n",
        "# Displaying df\n",
        "meta_white"
      ],
      "metadata": {
        "id": "XgeBruJz15F9",
        "colab": {
          "base_uri": "https://localhost:8080/",
          "height": 423
        },
        "outputId": "eb18988b-91a0-4485-cbb2-3a51e5e436c4"
      },
      "execution_count": null,
      "outputs": [
        {
          "output_type": "execute_result",
          "data": {
            "text/plain": [
              "                     filename  fold  target        category  esc10  src_file  \\\n",
              "0      white_1-100032-A-0.wav     1       0             dog   True    100032   \n",
              "1     white_1-100038-A-14.wav     1      14  chirping_birds  False    100038   \n",
              "2     white_1-100210-A-36.wav     1      36  vacuum_cleaner  False    100210   \n",
              "3     white_1-100210-B-36.wav     1      36  vacuum_cleaner  False    100210   \n",
              "4     white_1-101296-A-19.wav     1      19    thunderstorm  False    101296   \n",
              "...                       ...   ...     ...             ...    ...       ...   \n",
              "1995   white_5-263831-B-6.wav     5       6             hen  False    263831   \n",
              "1996  white_5-263902-A-36.wav     5      36  vacuum_cleaner  False    263902   \n",
              "1997   white_5-51149-A-25.wav     5      25       footsteps  False     51149   \n",
              "1998    white_5-61635-A-8.wav     5       8           sheep  False     61635   \n",
              "1999     white_5-9032-A-0.wav     5       0             dog   True      9032   \n",
              "\n",
              "     take  \n",
              "0       A  \n",
              "1       A  \n",
              "2       A  \n",
              "3       B  \n",
              "4       A  \n",
              "...   ...  \n",
              "1995    B  \n",
              "1996    A  \n",
              "1997    A  \n",
              "1998    A  \n",
              "1999    A  \n",
              "\n",
              "[2000 rows x 7 columns]"
            ],
            "text/html": [
              "\n",
              "  <div id=\"df-998b5558-01e3-4b10-aca1-c2fb9b70c642\" class=\"colab-df-container\">\n",
              "    <div>\n",
              "<style scoped>\n",
              "    .dataframe tbody tr th:only-of-type {\n",
              "        vertical-align: middle;\n",
              "    }\n",
              "\n",
              "    .dataframe tbody tr th {\n",
              "        vertical-align: top;\n",
              "    }\n",
              "\n",
              "    .dataframe thead th {\n",
              "        text-align: right;\n",
              "    }\n",
              "</style>\n",
              "<table border=\"1\" class=\"dataframe\">\n",
              "  <thead>\n",
              "    <tr style=\"text-align: right;\">\n",
              "      <th></th>\n",
              "      <th>filename</th>\n",
              "      <th>fold</th>\n",
              "      <th>target</th>\n",
              "      <th>category</th>\n",
              "      <th>esc10</th>\n",
              "      <th>src_file</th>\n",
              "      <th>take</th>\n",
              "    </tr>\n",
              "  </thead>\n",
              "  <tbody>\n",
              "    <tr>\n",
              "      <th>0</th>\n",
              "      <td>white_1-100032-A-0.wav</td>\n",
              "      <td>1</td>\n",
              "      <td>0</td>\n",
              "      <td>dog</td>\n",
              "      <td>True</td>\n",
              "      <td>100032</td>\n",
              "      <td>A</td>\n",
              "    </tr>\n",
              "    <tr>\n",
              "      <th>1</th>\n",
              "      <td>white_1-100038-A-14.wav</td>\n",
              "      <td>1</td>\n",
              "      <td>14</td>\n",
              "      <td>chirping_birds</td>\n",
              "      <td>False</td>\n",
              "      <td>100038</td>\n",
              "      <td>A</td>\n",
              "    </tr>\n",
              "    <tr>\n",
              "      <th>2</th>\n",
              "      <td>white_1-100210-A-36.wav</td>\n",
              "      <td>1</td>\n",
              "      <td>36</td>\n",
              "      <td>vacuum_cleaner</td>\n",
              "      <td>False</td>\n",
              "      <td>100210</td>\n",
              "      <td>A</td>\n",
              "    </tr>\n",
              "    <tr>\n",
              "      <th>3</th>\n",
              "      <td>white_1-100210-B-36.wav</td>\n",
              "      <td>1</td>\n",
              "      <td>36</td>\n",
              "      <td>vacuum_cleaner</td>\n",
              "      <td>False</td>\n",
              "      <td>100210</td>\n",
              "      <td>B</td>\n",
              "    </tr>\n",
              "    <tr>\n",
              "      <th>4</th>\n",
              "      <td>white_1-101296-A-19.wav</td>\n",
              "      <td>1</td>\n",
              "      <td>19</td>\n",
              "      <td>thunderstorm</td>\n",
              "      <td>False</td>\n",
              "      <td>101296</td>\n",
              "      <td>A</td>\n",
              "    </tr>\n",
              "    <tr>\n",
              "      <th>...</th>\n",
              "      <td>...</td>\n",
              "      <td>...</td>\n",
              "      <td>...</td>\n",
              "      <td>...</td>\n",
              "      <td>...</td>\n",
              "      <td>...</td>\n",
              "      <td>...</td>\n",
              "    </tr>\n",
              "    <tr>\n",
              "      <th>1995</th>\n",
              "      <td>white_5-263831-B-6.wav</td>\n",
              "      <td>5</td>\n",
              "      <td>6</td>\n",
              "      <td>hen</td>\n",
              "      <td>False</td>\n",
              "      <td>263831</td>\n",
              "      <td>B</td>\n",
              "    </tr>\n",
              "    <tr>\n",
              "      <th>1996</th>\n",
              "      <td>white_5-263902-A-36.wav</td>\n",
              "      <td>5</td>\n",
              "      <td>36</td>\n",
              "      <td>vacuum_cleaner</td>\n",
              "      <td>False</td>\n",
              "      <td>263902</td>\n",
              "      <td>A</td>\n",
              "    </tr>\n",
              "    <tr>\n",
              "      <th>1997</th>\n",
              "      <td>white_5-51149-A-25.wav</td>\n",
              "      <td>5</td>\n",
              "      <td>25</td>\n",
              "      <td>footsteps</td>\n",
              "      <td>False</td>\n",
              "      <td>51149</td>\n",
              "      <td>A</td>\n",
              "    </tr>\n",
              "    <tr>\n",
              "      <th>1998</th>\n",
              "      <td>white_5-61635-A-8.wav</td>\n",
              "      <td>5</td>\n",
              "      <td>8</td>\n",
              "      <td>sheep</td>\n",
              "      <td>False</td>\n",
              "      <td>61635</td>\n",
              "      <td>A</td>\n",
              "    </tr>\n",
              "    <tr>\n",
              "      <th>1999</th>\n",
              "      <td>white_5-9032-A-0.wav</td>\n",
              "      <td>5</td>\n",
              "      <td>0</td>\n",
              "      <td>dog</td>\n",
              "      <td>True</td>\n",
              "      <td>9032</td>\n",
              "      <td>A</td>\n",
              "    </tr>\n",
              "  </tbody>\n",
              "</table>\n",
              "<p>2000 rows × 7 columns</p>\n",
              "</div>\n",
              "    <div class=\"colab-df-buttons\">\n",
              "\n",
              "  <div class=\"colab-df-container\">\n",
              "    <button class=\"colab-df-convert\" onclick=\"convertToInteractive('df-998b5558-01e3-4b10-aca1-c2fb9b70c642')\"\n",
              "            title=\"Convert this dataframe to an interactive table.\"\n",
              "            style=\"display:none;\">\n",
              "\n",
              "  <svg xmlns=\"http://www.w3.org/2000/svg\" height=\"24px\" viewBox=\"0 -960 960 960\">\n",
              "    <path d=\"M120-120v-720h720v720H120Zm60-500h600v-160H180v160Zm220 220h160v-160H400v160Zm0 220h160v-160H400v160ZM180-400h160v-160H180v160Zm440 0h160v-160H620v160ZM180-180h160v-160H180v160Zm440 0h160v-160H620v160Z\"/>\n",
              "  </svg>\n",
              "    </button>\n",
              "\n",
              "  <style>\n",
              "    .colab-df-container {\n",
              "      display:flex;\n",
              "      gap: 12px;\n",
              "    }\n",
              "\n",
              "    .colab-df-convert {\n",
              "      background-color: #E8F0FE;\n",
              "      border: none;\n",
              "      border-radius: 50%;\n",
              "      cursor: pointer;\n",
              "      display: none;\n",
              "      fill: #1967D2;\n",
              "      height: 32px;\n",
              "      padding: 0 0 0 0;\n",
              "      width: 32px;\n",
              "    }\n",
              "\n",
              "    .colab-df-convert:hover {\n",
              "      background-color: #E2EBFA;\n",
              "      box-shadow: 0px 1px 2px rgba(60, 64, 67, 0.3), 0px 1px 3px 1px rgba(60, 64, 67, 0.15);\n",
              "      fill: #174EA6;\n",
              "    }\n",
              "\n",
              "    .colab-df-buttons div {\n",
              "      margin-bottom: 4px;\n",
              "    }\n",
              "\n",
              "    [theme=dark] .colab-df-convert {\n",
              "      background-color: #3B4455;\n",
              "      fill: #D2E3FC;\n",
              "    }\n",
              "\n",
              "    [theme=dark] .colab-df-convert:hover {\n",
              "      background-color: #434B5C;\n",
              "      box-shadow: 0px 1px 3px 1px rgba(0, 0, 0, 0.15);\n",
              "      filter: drop-shadow(0px 1px 2px rgba(0, 0, 0, 0.3));\n",
              "      fill: #FFFFFF;\n",
              "    }\n",
              "  </style>\n",
              "\n",
              "    <script>\n",
              "      const buttonEl =\n",
              "        document.querySelector('#df-998b5558-01e3-4b10-aca1-c2fb9b70c642 button.colab-df-convert');\n",
              "      buttonEl.style.display =\n",
              "        google.colab.kernel.accessAllowed ? 'block' : 'none';\n",
              "\n",
              "      async function convertToInteractive(key) {\n",
              "        const element = document.querySelector('#df-998b5558-01e3-4b10-aca1-c2fb9b70c642');\n",
              "        const dataTable =\n",
              "          await google.colab.kernel.invokeFunction('convertToInteractive',\n",
              "                                                    [key], {});\n",
              "        if (!dataTable) return;\n",
              "\n",
              "        const docLinkHtml = 'Like what you see? Visit the ' +\n",
              "          '<a target=\"_blank\" href=https://colab.research.google.com/notebooks/data_table.ipynb>data table notebook</a>'\n",
              "          + ' to learn more about interactive tables.';\n",
              "        element.innerHTML = '';\n",
              "        dataTable['output_type'] = 'display_data';\n",
              "        await google.colab.output.renderOutput(dataTable, element);\n",
              "        const docLink = document.createElement('div');\n",
              "        docLink.innerHTML = docLinkHtml;\n",
              "        element.appendChild(docLink);\n",
              "      }\n",
              "    </script>\n",
              "  </div>\n",
              "\n",
              "\n",
              "<div id=\"df-2f1362eb-0d55-40e7-ac52-e756fab1cc3c\">\n",
              "  <button class=\"colab-df-quickchart\" onclick=\"quickchart('df-2f1362eb-0d55-40e7-ac52-e756fab1cc3c')\"\n",
              "            title=\"Suggest charts\"\n",
              "            style=\"display:none;\">\n",
              "\n",
              "<svg xmlns=\"http://www.w3.org/2000/svg\" height=\"24px\"viewBox=\"0 0 24 24\"\n",
              "     width=\"24px\">\n",
              "    <g>\n",
              "        <path d=\"M19 3H5c-1.1 0-2 .9-2 2v14c0 1.1.9 2 2 2h14c1.1 0 2-.9 2-2V5c0-1.1-.9-2-2-2zM9 17H7v-7h2v7zm4 0h-2V7h2v10zm4 0h-2v-4h2v4z\"/>\n",
              "    </g>\n",
              "</svg>\n",
              "  </button>\n",
              "\n",
              "<style>\n",
              "  .colab-df-quickchart {\n",
              "      --bg-color: #E8F0FE;\n",
              "      --fill-color: #1967D2;\n",
              "      --hover-bg-color: #E2EBFA;\n",
              "      --hover-fill-color: #174EA6;\n",
              "      --disabled-fill-color: #AAA;\n",
              "      --disabled-bg-color: #DDD;\n",
              "  }\n",
              "\n",
              "  [theme=dark] .colab-df-quickchart {\n",
              "      --bg-color: #3B4455;\n",
              "      --fill-color: #D2E3FC;\n",
              "      --hover-bg-color: #434B5C;\n",
              "      --hover-fill-color: #FFFFFF;\n",
              "      --disabled-bg-color: #3B4455;\n",
              "      --disabled-fill-color: #666;\n",
              "  }\n",
              "\n",
              "  .colab-df-quickchart {\n",
              "    background-color: var(--bg-color);\n",
              "    border: none;\n",
              "    border-radius: 50%;\n",
              "    cursor: pointer;\n",
              "    display: none;\n",
              "    fill: var(--fill-color);\n",
              "    height: 32px;\n",
              "    padding: 0;\n",
              "    width: 32px;\n",
              "  }\n",
              "\n",
              "  .colab-df-quickchart:hover {\n",
              "    background-color: var(--hover-bg-color);\n",
              "    box-shadow: 0 1px 2px rgba(60, 64, 67, 0.3), 0 1px 3px 1px rgba(60, 64, 67, 0.15);\n",
              "    fill: var(--button-hover-fill-color);\n",
              "  }\n",
              "\n",
              "  .colab-df-quickchart-complete:disabled,\n",
              "  .colab-df-quickchart-complete:disabled:hover {\n",
              "    background-color: var(--disabled-bg-color);\n",
              "    fill: var(--disabled-fill-color);\n",
              "    box-shadow: none;\n",
              "  }\n",
              "\n",
              "  .colab-df-spinner {\n",
              "    border: 2px solid var(--fill-color);\n",
              "    border-color: transparent;\n",
              "    border-bottom-color: var(--fill-color);\n",
              "    animation:\n",
              "      spin 1s steps(1) infinite;\n",
              "  }\n",
              "\n",
              "  @keyframes spin {\n",
              "    0% {\n",
              "      border-color: transparent;\n",
              "      border-bottom-color: var(--fill-color);\n",
              "      border-left-color: var(--fill-color);\n",
              "    }\n",
              "    20% {\n",
              "      border-color: transparent;\n",
              "      border-left-color: var(--fill-color);\n",
              "      border-top-color: var(--fill-color);\n",
              "    }\n",
              "    30% {\n",
              "      border-color: transparent;\n",
              "      border-left-color: var(--fill-color);\n",
              "      border-top-color: var(--fill-color);\n",
              "      border-right-color: var(--fill-color);\n",
              "    }\n",
              "    40% {\n",
              "      border-color: transparent;\n",
              "      border-right-color: var(--fill-color);\n",
              "      border-top-color: var(--fill-color);\n",
              "    }\n",
              "    60% {\n",
              "      border-color: transparent;\n",
              "      border-right-color: var(--fill-color);\n",
              "    }\n",
              "    80% {\n",
              "      border-color: transparent;\n",
              "      border-right-color: var(--fill-color);\n",
              "      border-bottom-color: var(--fill-color);\n",
              "    }\n",
              "    90% {\n",
              "      border-color: transparent;\n",
              "      border-bottom-color: var(--fill-color);\n",
              "    }\n",
              "  }\n",
              "</style>\n",
              "\n",
              "  <script>\n",
              "    async function quickchart(key) {\n",
              "      const quickchartButtonEl =\n",
              "        document.querySelector('#' + key + ' button');\n",
              "      quickchartButtonEl.disabled = true;  // To prevent multiple clicks.\n",
              "      quickchartButtonEl.classList.add('colab-df-spinner');\n",
              "      try {\n",
              "        const charts = await google.colab.kernel.invokeFunction(\n",
              "            'suggestCharts', [key], {});\n",
              "      } catch (error) {\n",
              "        console.error('Error during call to suggestCharts:', error);\n",
              "      }\n",
              "      quickchartButtonEl.classList.remove('colab-df-spinner');\n",
              "      quickchartButtonEl.classList.add('colab-df-quickchart-complete');\n",
              "    }\n",
              "    (() => {\n",
              "      let quickchartButtonEl =\n",
              "        document.querySelector('#df-2f1362eb-0d55-40e7-ac52-e756fab1cc3c button');\n",
              "      quickchartButtonEl.style.display =\n",
              "        google.colab.kernel.accessAllowed ? 'block' : 'none';\n",
              "    })();\n",
              "  </script>\n",
              "</div>\n",
              "    </div>\n",
              "  </div>\n"
            ],
            "application/vnd.google.colaboratory.intrinsic+json": {
              "type": "dataframe",
              "variable_name": "meta_white",
              "summary": "{\n  \"name\": \"meta_white\",\n  \"rows\": 2000,\n  \"fields\": [\n    {\n      \"column\": \"filename\",\n      \"properties\": {\n        \"dtype\": \"string\",\n        \"num_unique_values\": 2000,\n        \"samples\": [\n          \"white_5-221950-A-22.wav\",\n          \"white_1-79220-A-17.wav\",\n          \"white_4-165845-A-45.wav\"\n        ],\n        \"semantic_type\": \"\",\n        \"description\": \"\"\n      }\n    },\n    {\n      \"column\": \"fold\",\n      \"properties\": {\n        \"dtype\": \"number\",\n        \"std\": 1,\n        \"min\": 1,\n        \"max\": 5,\n        \"num_unique_values\": 5,\n        \"samples\": [\n          2,\n          5,\n          3\n        ],\n        \"semantic_type\": \"\",\n        \"description\": \"\"\n      }\n    },\n    {\n      \"column\": \"target\",\n      \"properties\": {\n        \"dtype\": \"number\",\n        \"std\": 14,\n        \"min\": 0,\n        \"max\": 49,\n        \"num_unique_values\": 50,\n        \"samples\": [\n          45,\n          18,\n          26\n        ],\n        \"semantic_type\": \"\",\n        \"description\": \"\"\n      }\n    },\n    {\n      \"column\": \"category\",\n      \"properties\": {\n        \"dtype\": \"category\",\n        \"num_unique_values\": 50,\n        \"samples\": [\n          \"train\",\n          \"toilet_flush\",\n          \"laughing\"\n        ],\n        \"semantic_type\": \"\",\n        \"description\": \"\"\n      }\n    },\n    {\n      \"column\": \"esc10\",\n      \"properties\": {\n        \"dtype\": \"boolean\",\n        \"num_unique_values\": 2,\n        \"samples\": [\n          false,\n          true\n        ],\n        \"semantic_type\": \"\",\n        \"description\": \"\"\n      }\n    },\n    {\n      \"column\": \"src_file\",\n      \"properties\": {\n        \"dtype\": \"number\",\n        \"std\": 64882,\n        \"min\": 137,\n        \"max\": 264453,\n        \"num_unique_values\": 1524,\n        \"samples\": [\n          155130,\n          21935\n        ],\n        \"semantic_type\": \"\",\n        \"description\": \"\"\n      }\n    },\n    {\n      \"column\": \"take\",\n      \"properties\": {\n        \"dtype\": \"category\",\n        \"num_unique_values\": 8,\n        \"samples\": [\n          \"B\",\n          \"F\"\n        ],\n        \"semantic_type\": \"\",\n        \"description\": \"\"\n      }\n    }\n  ]\n}"
            }
          },
          "metadata": {},
          "execution_count": 48
        }
      ]
    },
    {
      "cell_type": "code",
      "source": [
        "# Generating a df for pink noised data\n",
        "meta_pink = getMeta()\n",
        "meta_pink['filename'] = \"pink_\" + meta_pink['filename']\n",
        "\n",
        "# Displaying df\n",
        "meta_pink"
      ],
      "metadata": {
        "colab": {
          "base_uri": "https://localhost:8080/",
          "height": 423
        },
        "id": "jRQRiQdTFc0x",
        "outputId": "57775c9d-f843-4111-a205-df311c49261e"
      },
      "execution_count": null,
      "outputs": [
        {
          "output_type": "execute_result",
          "data": {
            "text/plain": [
              "                    filename  fold  target        category  esc10  src_file  \\\n",
              "0      pink_1-100032-A-0.wav     1       0             dog   True    100032   \n",
              "1     pink_1-100038-A-14.wav     1      14  chirping_birds  False    100038   \n",
              "2     pink_1-100210-A-36.wav     1      36  vacuum_cleaner  False    100210   \n",
              "3     pink_1-100210-B-36.wav     1      36  vacuum_cleaner  False    100210   \n",
              "4     pink_1-101296-A-19.wav     1      19    thunderstorm  False    101296   \n",
              "...                      ...   ...     ...             ...    ...       ...   \n",
              "1995   pink_5-263831-B-6.wav     5       6             hen  False    263831   \n",
              "1996  pink_5-263902-A-36.wav     5      36  vacuum_cleaner  False    263902   \n",
              "1997   pink_5-51149-A-25.wav     5      25       footsteps  False     51149   \n",
              "1998    pink_5-61635-A-8.wav     5       8           sheep  False     61635   \n",
              "1999     pink_5-9032-A-0.wav     5       0             dog   True      9032   \n",
              "\n",
              "     take  \n",
              "0       A  \n",
              "1       A  \n",
              "2       A  \n",
              "3       B  \n",
              "4       A  \n",
              "...   ...  \n",
              "1995    B  \n",
              "1996    A  \n",
              "1997    A  \n",
              "1998    A  \n",
              "1999    A  \n",
              "\n",
              "[2000 rows x 7 columns]"
            ],
            "text/html": [
              "\n",
              "  <div id=\"df-dc34af31-38e6-4350-bf13-554ae12802d4\" class=\"colab-df-container\">\n",
              "    <div>\n",
              "<style scoped>\n",
              "    .dataframe tbody tr th:only-of-type {\n",
              "        vertical-align: middle;\n",
              "    }\n",
              "\n",
              "    .dataframe tbody tr th {\n",
              "        vertical-align: top;\n",
              "    }\n",
              "\n",
              "    .dataframe thead th {\n",
              "        text-align: right;\n",
              "    }\n",
              "</style>\n",
              "<table border=\"1\" class=\"dataframe\">\n",
              "  <thead>\n",
              "    <tr style=\"text-align: right;\">\n",
              "      <th></th>\n",
              "      <th>filename</th>\n",
              "      <th>fold</th>\n",
              "      <th>target</th>\n",
              "      <th>category</th>\n",
              "      <th>esc10</th>\n",
              "      <th>src_file</th>\n",
              "      <th>take</th>\n",
              "    </tr>\n",
              "  </thead>\n",
              "  <tbody>\n",
              "    <tr>\n",
              "      <th>0</th>\n",
              "      <td>pink_1-100032-A-0.wav</td>\n",
              "      <td>1</td>\n",
              "      <td>0</td>\n",
              "      <td>dog</td>\n",
              "      <td>True</td>\n",
              "      <td>100032</td>\n",
              "      <td>A</td>\n",
              "    </tr>\n",
              "    <tr>\n",
              "      <th>1</th>\n",
              "      <td>pink_1-100038-A-14.wav</td>\n",
              "      <td>1</td>\n",
              "      <td>14</td>\n",
              "      <td>chirping_birds</td>\n",
              "      <td>False</td>\n",
              "      <td>100038</td>\n",
              "      <td>A</td>\n",
              "    </tr>\n",
              "    <tr>\n",
              "      <th>2</th>\n",
              "      <td>pink_1-100210-A-36.wav</td>\n",
              "      <td>1</td>\n",
              "      <td>36</td>\n",
              "      <td>vacuum_cleaner</td>\n",
              "      <td>False</td>\n",
              "      <td>100210</td>\n",
              "      <td>A</td>\n",
              "    </tr>\n",
              "    <tr>\n",
              "      <th>3</th>\n",
              "      <td>pink_1-100210-B-36.wav</td>\n",
              "      <td>1</td>\n",
              "      <td>36</td>\n",
              "      <td>vacuum_cleaner</td>\n",
              "      <td>False</td>\n",
              "      <td>100210</td>\n",
              "      <td>B</td>\n",
              "    </tr>\n",
              "    <tr>\n",
              "      <th>4</th>\n",
              "      <td>pink_1-101296-A-19.wav</td>\n",
              "      <td>1</td>\n",
              "      <td>19</td>\n",
              "      <td>thunderstorm</td>\n",
              "      <td>False</td>\n",
              "      <td>101296</td>\n",
              "      <td>A</td>\n",
              "    </tr>\n",
              "    <tr>\n",
              "      <th>...</th>\n",
              "      <td>...</td>\n",
              "      <td>...</td>\n",
              "      <td>...</td>\n",
              "      <td>...</td>\n",
              "      <td>...</td>\n",
              "      <td>...</td>\n",
              "      <td>...</td>\n",
              "    </tr>\n",
              "    <tr>\n",
              "      <th>1995</th>\n",
              "      <td>pink_5-263831-B-6.wav</td>\n",
              "      <td>5</td>\n",
              "      <td>6</td>\n",
              "      <td>hen</td>\n",
              "      <td>False</td>\n",
              "      <td>263831</td>\n",
              "      <td>B</td>\n",
              "    </tr>\n",
              "    <tr>\n",
              "      <th>1996</th>\n",
              "      <td>pink_5-263902-A-36.wav</td>\n",
              "      <td>5</td>\n",
              "      <td>36</td>\n",
              "      <td>vacuum_cleaner</td>\n",
              "      <td>False</td>\n",
              "      <td>263902</td>\n",
              "      <td>A</td>\n",
              "    </tr>\n",
              "    <tr>\n",
              "      <th>1997</th>\n",
              "      <td>pink_5-51149-A-25.wav</td>\n",
              "      <td>5</td>\n",
              "      <td>25</td>\n",
              "      <td>footsteps</td>\n",
              "      <td>False</td>\n",
              "      <td>51149</td>\n",
              "      <td>A</td>\n",
              "    </tr>\n",
              "    <tr>\n",
              "      <th>1998</th>\n",
              "      <td>pink_5-61635-A-8.wav</td>\n",
              "      <td>5</td>\n",
              "      <td>8</td>\n",
              "      <td>sheep</td>\n",
              "      <td>False</td>\n",
              "      <td>61635</td>\n",
              "      <td>A</td>\n",
              "    </tr>\n",
              "    <tr>\n",
              "      <th>1999</th>\n",
              "      <td>pink_5-9032-A-0.wav</td>\n",
              "      <td>5</td>\n",
              "      <td>0</td>\n",
              "      <td>dog</td>\n",
              "      <td>True</td>\n",
              "      <td>9032</td>\n",
              "      <td>A</td>\n",
              "    </tr>\n",
              "  </tbody>\n",
              "</table>\n",
              "<p>2000 rows × 7 columns</p>\n",
              "</div>\n",
              "    <div class=\"colab-df-buttons\">\n",
              "\n",
              "  <div class=\"colab-df-container\">\n",
              "    <button class=\"colab-df-convert\" onclick=\"convertToInteractive('df-dc34af31-38e6-4350-bf13-554ae12802d4')\"\n",
              "            title=\"Convert this dataframe to an interactive table.\"\n",
              "            style=\"display:none;\">\n",
              "\n",
              "  <svg xmlns=\"http://www.w3.org/2000/svg\" height=\"24px\" viewBox=\"0 -960 960 960\">\n",
              "    <path d=\"M120-120v-720h720v720H120Zm60-500h600v-160H180v160Zm220 220h160v-160H400v160Zm0 220h160v-160H400v160ZM180-400h160v-160H180v160Zm440 0h160v-160H620v160ZM180-180h160v-160H180v160Zm440 0h160v-160H620v160Z\"/>\n",
              "  </svg>\n",
              "    </button>\n",
              "\n",
              "  <style>\n",
              "    .colab-df-container {\n",
              "      display:flex;\n",
              "      gap: 12px;\n",
              "    }\n",
              "\n",
              "    .colab-df-convert {\n",
              "      background-color: #E8F0FE;\n",
              "      border: none;\n",
              "      border-radius: 50%;\n",
              "      cursor: pointer;\n",
              "      display: none;\n",
              "      fill: #1967D2;\n",
              "      height: 32px;\n",
              "      padding: 0 0 0 0;\n",
              "      width: 32px;\n",
              "    }\n",
              "\n",
              "    .colab-df-convert:hover {\n",
              "      background-color: #E2EBFA;\n",
              "      box-shadow: 0px 1px 2px rgba(60, 64, 67, 0.3), 0px 1px 3px 1px rgba(60, 64, 67, 0.15);\n",
              "      fill: #174EA6;\n",
              "    }\n",
              "\n",
              "    .colab-df-buttons div {\n",
              "      margin-bottom: 4px;\n",
              "    }\n",
              "\n",
              "    [theme=dark] .colab-df-convert {\n",
              "      background-color: #3B4455;\n",
              "      fill: #D2E3FC;\n",
              "    }\n",
              "\n",
              "    [theme=dark] .colab-df-convert:hover {\n",
              "      background-color: #434B5C;\n",
              "      box-shadow: 0px 1px 3px 1px rgba(0, 0, 0, 0.15);\n",
              "      filter: drop-shadow(0px 1px 2px rgba(0, 0, 0, 0.3));\n",
              "      fill: #FFFFFF;\n",
              "    }\n",
              "  </style>\n",
              "\n",
              "    <script>\n",
              "      const buttonEl =\n",
              "        document.querySelector('#df-dc34af31-38e6-4350-bf13-554ae12802d4 button.colab-df-convert');\n",
              "      buttonEl.style.display =\n",
              "        google.colab.kernel.accessAllowed ? 'block' : 'none';\n",
              "\n",
              "      async function convertToInteractive(key) {\n",
              "        const element = document.querySelector('#df-dc34af31-38e6-4350-bf13-554ae12802d4');\n",
              "        const dataTable =\n",
              "          await google.colab.kernel.invokeFunction('convertToInteractive',\n",
              "                                                    [key], {});\n",
              "        if (!dataTable) return;\n",
              "\n",
              "        const docLinkHtml = 'Like what you see? Visit the ' +\n",
              "          '<a target=\"_blank\" href=https://colab.research.google.com/notebooks/data_table.ipynb>data table notebook</a>'\n",
              "          + ' to learn more about interactive tables.';\n",
              "        element.innerHTML = '';\n",
              "        dataTable['output_type'] = 'display_data';\n",
              "        await google.colab.output.renderOutput(dataTable, element);\n",
              "        const docLink = document.createElement('div');\n",
              "        docLink.innerHTML = docLinkHtml;\n",
              "        element.appendChild(docLink);\n",
              "      }\n",
              "    </script>\n",
              "  </div>\n",
              "\n",
              "\n",
              "<div id=\"df-cbfa9292-483b-455d-9d17-e93b4262ae7b\">\n",
              "  <button class=\"colab-df-quickchart\" onclick=\"quickchart('df-cbfa9292-483b-455d-9d17-e93b4262ae7b')\"\n",
              "            title=\"Suggest charts\"\n",
              "            style=\"display:none;\">\n",
              "\n",
              "<svg xmlns=\"http://www.w3.org/2000/svg\" height=\"24px\"viewBox=\"0 0 24 24\"\n",
              "     width=\"24px\">\n",
              "    <g>\n",
              "        <path d=\"M19 3H5c-1.1 0-2 .9-2 2v14c0 1.1.9 2 2 2h14c1.1 0 2-.9 2-2V5c0-1.1-.9-2-2-2zM9 17H7v-7h2v7zm4 0h-2V7h2v10zm4 0h-2v-4h2v4z\"/>\n",
              "    </g>\n",
              "</svg>\n",
              "  </button>\n",
              "\n",
              "<style>\n",
              "  .colab-df-quickchart {\n",
              "      --bg-color: #E8F0FE;\n",
              "      --fill-color: #1967D2;\n",
              "      --hover-bg-color: #E2EBFA;\n",
              "      --hover-fill-color: #174EA6;\n",
              "      --disabled-fill-color: #AAA;\n",
              "      --disabled-bg-color: #DDD;\n",
              "  }\n",
              "\n",
              "  [theme=dark] .colab-df-quickchart {\n",
              "      --bg-color: #3B4455;\n",
              "      --fill-color: #D2E3FC;\n",
              "      --hover-bg-color: #434B5C;\n",
              "      --hover-fill-color: #FFFFFF;\n",
              "      --disabled-bg-color: #3B4455;\n",
              "      --disabled-fill-color: #666;\n",
              "  }\n",
              "\n",
              "  .colab-df-quickchart {\n",
              "    background-color: var(--bg-color);\n",
              "    border: none;\n",
              "    border-radius: 50%;\n",
              "    cursor: pointer;\n",
              "    display: none;\n",
              "    fill: var(--fill-color);\n",
              "    height: 32px;\n",
              "    padding: 0;\n",
              "    width: 32px;\n",
              "  }\n",
              "\n",
              "  .colab-df-quickchart:hover {\n",
              "    background-color: var(--hover-bg-color);\n",
              "    box-shadow: 0 1px 2px rgba(60, 64, 67, 0.3), 0 1px 3px 1px rgba(60, 64, 67, 0.15);\n",
              "    fill: var(--button-hover-fill-color);\n",
              "  }\n",
              "\n",
              "  .colab-df-quickchart-complete:disabled,\n",
              "  .colab-df-quickchart-complete:disabled:hover {\n",
              "    background-color: var(--disabled-bg-color);\n",
              "    fill: var(--disabled-fill-color);\n",
              "    box-shadow: none;\n",
              "  }\n",
              "\n",
              "  .colab-df-spinner {\n",
              "    border: 2px solid var(--fill-color);\n",
              "    border-color: transparent;\n",
              "    border-bottom-color: var(--fill-color);\n",
              "    animation:\n",
              "      spin 1s steps(1) infinite;\n",
              "  }\n",
              "\n",
              "  @keyframes spin {\n",
              "    0% {\n",
              "      border-color: transparent;\n",
              "      border-bottom-color: var(--fill-color);\n",
              "      border-left-color: var(--fill-color);\n",
              "    }\n",
              "    20% {\n",
              "      border-color: transparent;\n",
              "      border-left-color: var(--fill-color);\n",
              "      border-top-color: var(--fill-color);\n",
              "    }\n",
              "    30% {\n",
              "      border-color: transparent;\n",
              "      border-left-color: var(--fill-color);\n",
              "      border-top-color: var(--fill-color);\n",
              "      border-right-color: var(--fill-color);\n",
              "    }\n",
              "    40% {\n",
              "      border-color: transparent;\n",
              "      border-right-color: var(--fill-color);\n",
              "      border-top-color: var(--fill-color);\n",
              "    }\n",
              "    60% {\n",
              "      border-color: transparent;\n",
              "      border-right-color: var(--fill-color);\n",
              "    }\n",
              "    80% {\n",
              "      border-color: transparent;\n",
              "      border-right-color: var(--fill-color);\n",
              "      border-bottom-color: var(--fill-color);\n",
              "    }\n",
              "    90% {\n",
              "      border-color: transparent;\n",
              "      border-bottom-color: var(--fill-color);\n",
              "    }\n",
              "  }\n",
              "</style>\n",
              "\n",
              "  <script>\n",
              "    async function quickchart(key) {\n",
              "      const quickchartButtonEl =\n",
              "        document.querySelector('#' + key + ' button');\n",
              "      quickchartButtonEl.disabled = true;  // To prevent multiple clicks.\n",
              "      quickchartButtonEl.classList.add('colab-df-spinner');\n",
              "      try {\n",
              "        const charts = await google.colab.kernel.invokeFunction(\n",
              "            'suggestCharts', [key], {});\n",
              "      } catch (error) {\n",
              "        console.error('Error during call to suggestCharts:', error);\n",
              "      }\n",
              "      quickchartButtonEl.classList.remove('colab-df-spinner');\n",
              "      quickchartButtonEl.classList.add('colab-df-quickchart-complete');\n",
              "    }\n",
              "    (() => {\n",
              "      let quickchartButtonEl =\n",
              "        document.querySelector('#df-cbfa9292-483b-455d-9d17-e93b4262ae7b button');\n",
              "      quickchartButtonEl.style.display =\n",
              "        google.colab.kernel.accessAllowed ? 'block' : 'none';\n",
              "    })();\n",
              "  </script>\n",
              "</div>\n",
              "    </div>\n",
              "  </div>\n"
            ],
            "application/vnd.google.colaboratory.intrinsic+json": {
              "type": "dataframe",
              "variable_name": "meta_pink",
              "summary": "{\n  \"name\": \"meta_pink\",\n  \"rows\": 2000,\n  \"fields\": [\n    {\n      \"column\": \"filename\",\n      \"properties\": {\n        \"dtype\": \"string\",\n        \"num_unique_values\": 2000,\n        \"samples\": [\n          \"pink_5-221950-A-22.wav\",\n          \"pink_1-79220-A-17.wav\",\n          \"pink_4-165845-A-45.wav\"\n        ],\n        \"semantic_type\": \"\",\n        \"description\": \"\"\n      }\n    },\n    {\n      \"column\": \"fold\",\n      \"properties\": {\n        \"dtype\": \"number\",\n        \"std\": 1,\n        \"min\": 1,\n        \"max\": 5,\n        \"num_unique_values\": 5,\n        \"samples\": [\n          2,\n          5,\n          3\n        ],\n        \"semantic_type\": \"\",\n        \"description\": \"\"\n      }\n    },\n    {\n      \"column\": \"target\",\n      \"properties\": {\n        \"dtype\": \"number\",\n        \"std\": 14,\n        \"min\": 0,\n        \"max\": 49,\n        \"num_unique_values\": 50,\n        \"samples\": [\n          45,\n          18,\n          26\n        ],\n        \"semantic_type\": \"\",\n        \"description\": \"\"\n      }\n    },\n    {\n      \"column\": \"category\",\n      \"properties\": {\n        \"dtype\": \"category\",\n        \"num_unique_values\": 50,\n        \"samples\": [\n          \"train\",\n          \"toilet_flush\",\n          \"laughing\"\n        ],\n        \"semantic_type\": \"\",\n        \"description\": \"\"\n      }\n    },\n    {\n      \"column\": \"esc10\",\n      \"properties\": {\n        \"dtype\": \"boolean\",\n        \"num_unique_values\": 2,\n        \"samples\": [\n          false,\n          true\n        ],\n        \"semantic_type\": \"\",\n        \"description\": \"\"\n      }\n    },\n    {\n      \"column\": \"src_file\",\n      \"properties\": {\n        \"dtype\": \"number\",\n        \"std\": 64882,\n        \"min\": 137,\n        \"max\": 264453,\n        \"num_unique_values\": 1524,\n        \"samples\": [\n          155130,\n          21935\n        ],\n        \"semantic_type\": \"\",\n        \"description\": \"\"\n      }\n    },\n    {\n      \"column\": \"take\",\n      \"properties\": {\n        \"dtype\": \"category\",\n        \"num_unique_values\": 8,\n        \"samples\": [\n          \"B\",\n          \"F\"\n        ],\n        \"semantic_type\": \"\",\n        \"description\": \"\"\n      }\n    }\n  ]\n}"
            }
          },
          "metadata": {},
          "execution_count": 49
        }
      ]
    },
    {
      "cell_type": "markdown",
      "source": [
        "##### Saving White Noised Files"
      ],
      "metadata": {
        "id": "S4GywKTnGIqt"
      }
    },
    {
      "cell_type": "code",
      "source": [
        "data_white = np.zeros((2000,128,500)) # we have 1995 white spectrograms\n",
        "\n",
        "# sr is the same for the augmented images\n",
        "sr = 44100\n",
        "\n",
        "for i in tqdm(range(0, 2000)):\n",
        "    spec = normalize(getSignalSpectSynth(meta_white, i, ver = 3)[1]) # Looping through only the white files\n",
        "    spec = fix_audio_length(spec, sr) # Keeping the audio length 500\n",
        "    data_white[i] = spec\n",
        "\n",
        "\n",
        "# Saving it on google drive so we don't have to re-run the code\n",
        "save_file_path = '/content/drive/My Drive/UCL/ML_Y3/Project/images/Data_Arrays/white_spectogram_data_array.npy'\n",
        "np.save(save_file_path, data_white)"
      ],
      "metadata": {
        "colab": {
          "base_uri": "https://localhost:8080/"
        },
        "id": "DByUzqdvFj9I",
        "outputId": "04f8fd28-bf58-43e4-a25c-c6808c084e17"
      },
      "execution_count": null,
      "outputs": [
        {
          "output_type": "stream",
          "name": "stderr",
          "text": [
            "100%|██████████| 2000/2000 [12:08<00:00,  2.75it/s]\n"
          ]
        }
      ]
    },
    {
      "cell_type": "markdown",
      "source": [
        "##### Saving Pink Noised Files"
      ],
      "metadata": {
        "id": "E84VxuWgGbqn"
      }
    },
    {
      "cell_type": "code",
      "source": [
        "data_pink = np.zeros((2000,128,500)) # we have 1995 white spectrograms\n",
        "\n",
        "# sr is the same for the augmented images\n",
        "sr = 44100\n",
        "\n",
        "for i in tqdm(range(0, 2000)):\n",
        "    spec = normalize(getSignalSpectSynth(meta_pink, i, ver = 3)[1]) # Looping through only the white files\n",
        "    spec = fix_audio_length(spec, sr) # Keeping the audio length constant\n",
        "    data_pink[i] = spec\n",
        "\n",
        "\n",
        "# Saving it on google drive so we don't have to re-run the code\n",
        "save_file_path = '/content/drive/My Drive/UCL/ML_Y3/Project/images/Data_Arrays/pink_spectogram_data_array.npy'\n",
        "np.save(save_file_path, data_pink)"
      ],
      "metadata": {
        "colab": {
          "base_uri": "https://localhost:8080/"
        },
        "id": "XBNIk-WZGbED",
        "outputId": "6f57d4ec-1a29-4ed0-98b4-21b54fe31aa5"
      },
      "execution_count": null,
      "outputs": [
        {
          "output_type": "stream",
          "name": "stderr",
          "text": [
            "100%|██████████| 2000/2000 [13:48<00:00,  2.41it/s]\n"
          ]
        }
      ]
    },
    {
      "cell_type": "markdown",
      "source": [
        "# Generating Audio for Task 2"
      ],
      "metadata": {
        "id": "wsaxRdUA41Wv"
      }
    },
    {
      "cell_type": "code",
      "source": [
        "save_file_path = '/content/drive/My Drive/UCL/ML_Y3/Project/images/Data_Arrays/waveform_signal.npy'\n",
        "signal_array = np.load(save_file_path) # Already normalized between -1 and 1"
      ],
      "metadata": {
        "id": "AcJxY0HM44ce"
      },
      "execution_count": null,
      "outputs": []
    },
    {
      "cell_type": "code",
      "source": [
        "save_file_path = '/content/drive/My Drive/UCL/ML_Y3/Project/images/Data_Arrays/waveform_signal.npy'\n",
        "signal_array = np.load(save_file_path) # Already normalized between -1 and 1\n",
        "\n",
        "def remove_silence(audio, threshold=0.02):\n",
        "    # Identify indices where audio is above the threshold\n",
        "    for i in range(2000):\n",
        "        non_silent_indices = np.where(np.abs(audio[i,:]) > threshold)\n",
        "\n",
        "        # Select only those parts of the audio where it is not silent\n",
        "        audio_non_silent = audio[i,non_silent_indices]\n",
        "\n",
        "    return audio_non_silent\n",
        "\n",
        "signal_array_non_silent = remove_silence(signal_array, threshold=0.02)"
      ],
      "metadata": {
        "id": "AozjA-Ri5fuY"
      },
      "execution_count": null,
      "outputs": []
    },
    {
      "cell_type": "code",
      "source": [],
      "metadata": {
        "id": "NXttYi_25tt3"
      },
      "execution_count": null,
      "outputs": []
    },
    {
      "cell_type": "code",
      "source": [
        "signal_array_non_silent.shape"
      ],
      "metadata": {
        "colab": {
          "base_uri": "https://localhost:8080/"
        },
        "id": "U6g-NnJk7cZI",
        "outputId": "98ee610b-4518-4e5b-9df9-bdd46d3e60ce"
      },
      "execution_count": null,
      "outputs": [
        {
          "output_type": "execute_result",
          "data": {
            "text/plain": [
              "(1, 23755)"
            ]
          },
          "metadata": {},
          "execution_count": 16
        }
      ]
    },
    {
      "cell_type": "code",
      "source": [],
      "metadata": {
        "id": "CBKB4GuV7qPp"
      },
      "execution_count": null,
      "outputs": []
    }
  ]
}